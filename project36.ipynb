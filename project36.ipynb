{
 "cells": [
  {
   "cell_type": "markdown",
   "metadata": {
    "toc": true
   },
   "source": [
    "<h1>Содержание<span class=\"tocSkip\"></span></h1>\n",
    "<div class=\"toc\"><ul class=\"toc-item\"><li><span><a href=\"#Изучение-данных-из-файла\" data-toc-modified-id=\"Изучение-данных-из-файла-1\"><span class=\"toc-item-num\">1&nbsp;&nbsp;</span>Изучение данных из файла</a></span><ul class=\"toc-item\"><li><span><a href=\"#Изучаем-на-данные\" data-toc-modified-id=\"Изучаем-на-данные-1.1\"><span class=\"toc-item-num\">1.1&nbsp;&nbsp;</span>Изучаем на данные</a></span></li><li><span><a href=\"#Вывод\" data-toc-modified-id=\"Вывод-1.2\"><span class=\"toc-item-num\">1.2&nbsp;&nbsp;</span>Вывод</a></span><ul class=\"toc-item\"><li><span><a href=\"#Предоставленных-данные-имеют-пропуски-в-следуюших-полях:\" data-toc-modified-id=\"Предоставленных-данные-имеют-пропуски-в-следуюших-полях:-1.2.1\"><span class=\"toc-item-num\">1.2.1&nbsp;&nbsp;</span>Предоставленных данные имеют пропуски в следуюших полях:</a></span></li></ul></li></ul></li><li><span><a href=\"#Предобработка-данных\" data-toc-modified-id=\"Предобработка-данных-2\"><span class=\"toc-item-num\">2&nbsp;&nbsp;</span>Предобработка данных</a></span><ul class=\"toc-item\"><li><span><a href=\"#Заполненение-пропусков\" data-toc-modified-id=\"Заполненение-пропусков-2.1\"><span class=\"toc-item-num\">2.1&nbsp;&nbsp;</span>Заполненение пропусков</a></span></li><li><span><a href=\"#Поиск-и-удаление-дубикатов\" data-toc-modified-id=\"Поиск-и-удаление-дубикатов-2.2\"><span class=\"toc-item-num\">2.2&nbsp;&nbsp;</span>Поиск и удаление дубикатов</a></span></li><li><span><a href=\"#Замена-типа-данных\" data-toc-modified-id=\"Замена-типа-данных-2.3\"><span class=\"toc-item-num\">2.3&nbsp;&nbsp;</span>Замена типа данных</a></span></li></ul></li><li><span><a href=\"#Расчёты-и-добавление-результатов-в-таблицу\" data-toc-modified-id=\"Расчёты-и-добавление-результатов-в-таблицу-3\"><span class=\"toc-item-num\">3&nbsp;&nbsp;</span>Расчёты и добавление результатов в таблицу</a></span><ul class=\"toc-item\"><li><span><a href=\"#Расчет-стоимости-1-кв.м.\" data-toc-modified-id=\"Расчет-стоимости-1-кв.м.-3.1\"><span class=\"toc-item-num\">3.1&nbsp;&nbsp;</span>Расчет стоимости 1 кв.м.</a></span></li><li><span><a href=\"#Создание-столбцов-с-годом,-месяцем-и-днем-недели-публикации-объявления\" data-toc-modified-id=\"Создание-столбцов-с-годом,-месяцем-и-днем-недели-публикации-объявления-3.2\"><span class=\"toc-item-num\">3.2&nbsp;&nbsp;</span>Создание столбцов с годом, месяцем и днем недели публикации объявления</a></span></li><li><span><a href=\"#Создание-столбца-с-этажом-расположения-квартиры\" data-toc-modified-id=\"Создание-столбца-с-этажом-расположения-квартиры-3.3\"><span class=\"toc-item-num\">3.3&nbsp;&nbsp;</span>Создание столбца с этажом расположения квартиры</a></span></li><li><span><a href=\"#Расчет-отношения-жилой-и-общей-площади,-площади-кухни-к-общей\" data-toc-modified-id=\"Расчет-отношения-жилой-и-общей-площади,-площади-кухни-к-общей-3.4\"><span class=\"toc-item-num\">3.4&nbsp;&nbsp;</span>Расчет отношения жилой и общей площади, площади кухни к общей</a></span></li></ul></li><li><span><a href=\"#Исследовательский-анализ-данных\" data-toc-modified-id=\"Исследовательский-анализ-данных-4\"><span class=\"toc-item-num\">4&nbsp;&nbsp;</span>Исследовательский анализ данных</a></span><ul class=\"toc-item\"><li><span><a href=\"#Изучение-параметра-общая-площадь\" data-toc-modified-id=\"Изучение-параметра-общая-площадь-4.1\"><span class=\"toc-item-num\">4.1&nbsp;&nbsp;</span>Изучение параметра общая площадь</a></span></li><li><span><a href=\"#Изучение-параметра-цена.\" data-toc-modified-id=\"Изучение-параметра-цена.-4.2\"><span class=\"toc-item-num\">4.2&nbsp;&nbsp;</span>Изучение параметра цена.</a></span></li><li><span><a href=\"#Изучение-параметра-колиество-комнат\" data-toc-modified-id=\"Изучение-параметра-колиество-комнат-4.3\"><span class=\"toc-item-num\">4.3&nbsp;&nbsp;</span>Изучение параметра колиество комнат</a></span></li><li><span><a href=\"#Изучение-параметра-высота-потолков\" data-toc-modified-id=\"Изучение-параметра-высота-потолков-4.4\"><span class=\"toc-item-num\">4.4&nbsp;&nbsp;</span>Изучение параметра высота потолков</a></span></li><li><span><a href=\"#Изучение-параметра:-время-продажи-квартиры\" data-toc-modified-id=\"Изучение-параметра:-время-продажи-квартиры-4.5\"><span class=\"toc-item-num\">4.5&nbsp;&nbsp;</span>Изучение параметра: время продажи квартиры</a></span></li><li><span><a href=\"#Убираем-редкие--и-выбивающиеся-значения.\" data-toc-modified-id=\"Убираем-редкие--и-выбивающиеся-значения.-4.6\"><span class=\"toc-item-num\">4.6&nbsp;&nbsp;</span>Убираем редкие  и выбивающиеся значения.</a></span><ul class=\"toc-item\"><li><span><a href=\"#Определяем-выбросы-в-столбце-days_exposition\" data-toc-modified-id=\"Определяем-выбросы-в-столбце-days_exposition-4.6.1\"><span class=\"toc-item-num\">4.6.1&nbsp;&nbsp;</span>Определяем выбросы в столбце days_exposition</a></span></li><li><span><a href=\"#Определяем-выбросы-в-столбце-total_area\" data-toc-modified-id=\"Определяем-выбросы-в-столбце-total_area-4.6.2\"><span class=\"toc-item-num\">4.6.2&nbsp;&nbsp;</span>Определяем выбросы в столбце total_area</a></span></li><li><span><a href=\"#Определяем-выбросы-в-столбце-last_price\" data-toc-modified-id=\"Определяем-выбросы-в-столбце-last_price-4.6.3\"><span class=\"toc-item-num\">4.6.3&nbsp;&nbsp;</span>Определяем выбросы в столбце last_price</a></span></li><li><span><a href=\"#Определяем-выбросы-в-столбце-rooms\" data-toc-modified-id=\"Определяем-выбросы-в-столбце-rooms-4.6.4\"><span class=\"toc-item-num\">4.6.4&nbsp;&nbsp;</span>Определяем выбросы в столбце rooms</a></span></li><li><span><a href=\"#Определяем-выбросы-в-столбце-ceiling_height\" data-toc-modified-id=\"Определяем-выбросы-в-столбце-ceiling_height-4.6.5\"><span class=\"toc-item-num\">4.6.5&nbsp;&nbsp;</span>Определяем выбросы в столбце ceiling_height</a></span></li><li><span><a href=\"#Убираем-выбросы\" data-toc-modified-id=\"Убираем-выбросы-4.6.6\"><span class=\"toc-item-num\">4.6.6&nbsp;&nbsp;</span>Убираем выбросы</a></span></li></ul></li><li><span><a href=\"#Влияние-на-стоимость-различных-факторов\" data-toc-modified-id=\"Влияние-на-стоимость-различных-факторов-4.7\"><span class=\"toc-item-num\">4.7&nbsp;&nbsp;</span>Влияние на стоимость различных факторов</a></span><ul class=\"toc-item\"><li><span><a href=\"#Влияние-на-стоимость-общей-площади\" data-toc-modified-id=\"Влияние-на-стоимость-общей-площади-4.7.1\"><span class=\"toc-item-num\">4.7.1&nbsp;&nbsp;</span>Влияние на стоимость общей площади</a></span></li><li><span><a href=\"#Влияние-количества-комнат-на-стоимость-квартиры-различных-параметров\" data-toc-modified-id=\"Влияние-количества-комнат-на-стоимость-квартиры-различных-параметров-4.7.2\"><span class=\"toc-item-num\">4.7.2&nbsp;&nbsp;</span>Влияние количества комнат на стоимость квартиры различных параметров</a></span></li><li><span><a href=\"#Влияние-удаленности-от-центра-на-стоимость-квартиры\" data-toc-modified-id=\"Влияние-удаленности-от-центра-на-стоимость-квартиры-4.7.3\"><span class=\"toc-item-num\">4.7.3&nbsp;&nbsp;</span>Влияние удаленности от центра на стоимость квартиры</a></span></li><li><span><a href=\"#Влияние-на-стоимость-квартиры-этаж-расположения-квартиры-(первый,-последний,-другой)\" data-toc-modified-id=\"Влияние-на-стоимость-квартиры-этаж-расположения-квартиры-(первый,-последний,-другой)-4.7.4\"><span class=\"toc-item-num\">4.7.4&nbsp;&nbsp;</span>Влияние на стоимость квартиры этаж расположения квартиры (первый, последний, другой)</a></span></li><li><span><a href=\"#Влияние-на-стоимость-дня-недели-размещения\" data-toc-modified-id=\"Влияние-на-стоимость-дня-недели-размещения-4.7.5\"><span class=\"toc-item-num\">4.7.5&nbsp;&nbsp;</span>Влияние на стоимость дня недели размещения</a></span></li><li><span><a href=\"#Влияние-на-стоимость-месяца-размещения\" data-toc-modified-id=\"Влияние-на-стоимость-месяца-размещения-4.7.6\"><span class=\"toc-item-num\">4.7.6&nbsp;&nbsp;</span>Влияние на стоимость месяца размещения</a></span></li><li><span><a href=\"#Влияние-на-стоимость-года-размещения\" data-toc-modified-id=\"Влияние-на-стоимость-года-размещения-4.7.7\"><span class=\"toc-item-num\">4.7.7&nbsp;&nbsp;</span>Влияние на стоимость года размещения</a></span></li></ul></li><li><span><a href=\"#Исследование-10-населенных-пунктов-с-наибольшим-числом-объявлений\" data-toc-modified-id=\"Исследование-10-населенных-пунктов-с-наибольшим-числом-объявлений-4.8\"><span class=\"toc-item-num\">4.8&nbsp;&nbsp;</span>Исследование 10 населенных пунктов с наибольшим числом объявлений</a></span></li></ul></li><li><span><a href=\"#Общий-вывод\" data-toc-modified-id=\"Общий-вывод-5\"><span class=\"toc-item-num\">5&nbsp;&nbsp;</span>Общий вывод</a></span></li><li><span><a href=\"#Чек-лист-готовности-проекта\" data-toc-modified-id=\"Чек-лист-готовности-проекта-6\"><span class=\"toc-item-num\">6&nbsp;&nbsp;</span>Чек-лист готовности проекта</a></span></li></ul></div>"
   ]
  },
  {
   "cell_type": "markdown",
   "metadata": {},
   "source": [
    "# Исследование объявлений о продаже квартир\n",
    "\n",
    "В вашем распоряжении данные сервиса Яндекc Недвижимость — архив объявлений о продаже квартир в Санкт-Петербурге и соседних населённых пунктах за несколько лет. Нужно научиться определять рыночную стоимость объектов недвижимости. Ваша задача — установить параметры. Это позволит построить автоматизированную систему: она отследит аномалии и мошенническую деятельность. \n",
    "\n",
    "По каждой квартире на продажу доступны два вида данных. Первые вписаны пользователем, вторые получены автоматически на основе картографических данных. Например, расстояние до центра, аэропорта, ближайшего парка и водоёма. "
   ]
  },
  {
   "cell_type": "markdown",
   "metadata": {},
   "source": [
    "## Изучение данных из файла"
   ]
  },
  {
   "cell_type": "code",
   "execution_count": null,
   "metadata": {},
   "outputs": [],
   "source": [
    "import pandas as pd\n",
    "import numpy as np\n",
    "\n",
    "import matplotlib.pyplot as plt\n",
    "import plotly.express as px\n",
    "\n",
    "from datetime import datetime as dt"
   ]
  },
  {
   "cell_type": "code",
   "execution_count": null,
   "metadata": {},
   "outputs": [],
   "source": [
    "try:\n",
    "    df = pd.read_csv('/datasets/real_estate_data.csv', sep='\\t') # Yandex path\n",
    "except:\n",
    "    df = pd.read_csv('\\datasets\\real_estate_data', sep='\\t') # personal path"
   ]
  },
  {
   "cell_type": "code",
   "execution_count": null,
   "metadata": {},
   "outputs": [],
   "source": [
    "pd.options.display.max_columns = 50\n",
    "display(df.head()) # просмотр таблицы"
   ]
  },
  {
   "cell_type": "markdown",
   "metadata": {},
   "source": [
    "### Изучаем на данные"
   ]
  },
  {
   "cell_type": "markdown",
   "metadata": {},
   "source": [
    "airports_nearest — расстояние до ближайшего аэропорта в метрах (м)\n",
    "balcony — число балконов\n",
    "ceiling_height — высота потолков (м)\n",
    "cityCenters_nearest — расстояние до центра города (м)\n",
    "days_exposition — сколько дней было размещено объявление (от публикации до снятия)\n",
    "first_day_exposition — дата публикации\n",
    "floor — этаж\n",
    "floors_total — всего этажей в доме\n",
    "is_apartment — апартаменты (булев тип)\n",
    "kitchen_area — площадь кухни в квадратных метрах (м²)\n",
    "last_price — цена на момент снятия с публикации\n",
    "living_area — жилая площадь в квадратных метрах (м²)\n",
    "locality_name — название населённого пункта\n",
    "open_plan — свободная планировка (булев тип)\n",
    "parks_around3000 — число парков в радиусе 3 км\n",
    "parks_nearest — расстояние до ближайшего парка (м)\n",
    "ponds_around3000 — число водоёмов в радиусе 3 км\n",
    "ponds_nearest — расстояние до ближайшего водоёма (м)\n",
    "rooms — число комнат\n",
    "studio — квартира-студия (булев тип)\n",
    "total_area — площадь квартиры в квадратных метрах (м²)\n",
    "total_images — число фотографий квартиры в объявлении"
   ]
  },
  {
   "cell_type": "code",
   "execution_count": null,
   "metadata": {
    "scrolled": true
   },
   "outputs": [],
   "source": [
    "df.info() # информация о таблице"
   ]
  },
  {
   "cell_type": "markdown",
   "metadata": {},
   "source": [
    "### Вывод"
   ]
  },
  {
   "cell_type": "markdown",
   "metadata": {},
   "source": [
    "#### Предоставленных данные имеют пропуски в следуюших полях:\n",
    "\n",
    "ceiling_height — высота потолков (м)\n",
    "floors_total — всего этажей в доме\n",
    "living_area — жилая площадь в квадратных метрах (м²)\n",
    "is_apartment — апартаменты (булев тип)\n",
    "kitchen_area — площадь кухни в квадратных метрах (м²)\n",
    "balcony — число балконов\n",
    "locality_name — название населённого пункта\n",
    "airports_nearest — расстояние до ближайшего аэропорта в метрах (м)\n",
    "cityCenters_nearest — расстояние до центра города (м)\n",
    "parks_around3000 - число парков в радиусе 3 км\n",
    "parks_nearest — расстояние до ближайшего парка (м)\n",
    "ponds_around3000 — число водоёмов в радиусе 3 км\n",
    "ponds_nearest — расстояние до ближайшего водоёма (м)\n",
    "days_exposition — сколько дней было размещено объявление (от публикации до снятия)"
   ]
  },
  {
   "cell_type": "markdown",
   "metadata": {},
   "source": [
    "## Предобработка данных"
   ]
  },
  {
   "cell_type": "markdown",
   "metadata": {},
   "source": [
    "### Заполненение пропусков "
   ]
  },
  {
   "cell_type": "code",
   "execution_count": null,
   "metadata": {
    "scrolled": true
   },
   "outputs": [],
   "source": [
    "df.isna().sum() # определяем количиество пропущенных значений в столбцах"
   ]
  },
  {
   "cell_type": "code",
   "execution_count": null,
   "metadata": {
    "scrolled": false
   },
   "outputs": [],
   "source": [
    "round(df.isna().sum() * 100 / len(df), 2) # определяем долю пропущенных значений  "
   ]
  },
  {
   "cell_type": "code",
   "execution_count": null,
   "metadata": {
    "scrolled": true
   },
   "outputs": [],
   "source": [
    "df = df.fillna({'balcony':0})\n",
    "# замена пропусков в столбце balcony на 0. Предполагаем, что пропущенное значение - это значит балкон отсутствует т.е. 0"
   ]
  },
  {
   "cell_type": "code",
   "execution_count": null,
   "metadata": {
    "scrolled": true
   },
   "outputs": [],
   "source": [
    "df['is_apartment'].value_counts(dropna=False)\n",
    "# проверяем уникальные значения в столбце is_appartment"
   ]
  },
  {
   "cell_type": "code",
   "execution_count": null,
   "metadata": {},
   "outputs": [],
   "source": [
    "df = df.fillna({'is_apartment':False})\n",
    "# замена пропущенных значений столбце is_apartment на False. Предполагаем, что отсутствие значение подразумевает,\n",
    "#что это не аппартаменты "
   ]
  },
  {
   "cell_type": "code",
   "execution_count": null,
   "metadata": {},
   "outputs": [],
   "source": [
    "df['ceiling_height'] = df['ceiling_height'].fillna((df['ceiling_height'].median()))\n",
    "# проводим заменену отстутствующих значений в столбце celling_height на медианное значение по столбцу"
   ]
  },
  {
   "cell_type": "code",
   "execution_count": null,
   "metadata": {},
   "outputs": [],
   "source": [
    "df['ceiling_height'].value_counts(dropna=False)"
   ]
  },
  {
   "cell_type": "code",
   "execution_count": null,
   "metadata": {
    "scrolled": true
   },
   "outputs": [],
   "source": [
    "df['living_area'].value_counts() # обозреваем уникальные значения в столбце living_area"
   ]
  },
  {
   "cell_type": "code",
   "execution_count": null,
   "metadata": {},
   "outputs": [],
   "source": [
    "df['living_area'] = df['living_area'].fillna(0) # производим замену пропущенных значений в столбце living_area на 0"
   ]
  },
  {
   "cell_type": "code",
   "execution_count": null,
   "metadata": {},
   "outputs": [],
   "source": [
    "# Заменяем нулевые значения в livivng_area произведением коэффициента 0,7 на total_area \n",
    "df.loc[df['living_area'] == 0, 'living_area'] = df['total_area'] * 0.7       "
   ]
  },
  {
   "cell_type": "code",
   "execution_count": null,
   "metadata": {},
   "outputs": [],
   "source": [
    "df['kitchen_area'] = df['kitchen_area'].fillna(0) # производим замену пропущенных значений в столбце kitchen_area на 0"
   ]
  },
  {
   "cell_type": "code",
   "execution_count": null,
   "metadata": {},
   "outputs": [],
   "source": [
    "df.loc[((df['kitchen_area'] == 0) & (df['studio'] != True)), 'kitchen_area'] = df['total_area'] * 0.15\n",
    "# в квартирах и аппартаментах, которые не являются студиями принимаем значение kitchen_area равное 0,15 от total_area\n",
    "# в студиях значение kitchen_area оставляем равным 0 "
   ]
  },
  {
   "cell_type": "code",
   "execution_count": null,
   "metadata": {},
   "outputs": [],
   "source": [
    "df_kitchen = df.loc[:, ['total_area', 'rooms', 'floors_total', 'living_area', 'is_apartment',\n",
    "                        'kitchen_area', 'studio', 'balcony']]\n",
    "# созадаем таблицу df_kitchen_area c целью вывода на экран в читаемом виде"
   ]
  },
  {
   "cell_type": "code",
   "execution_count": null,
   "metadata": {
    "scrolled": true
   },
   "outputs": [],
   "source": [
    "display(df_kitchen.loc[(df['kitchen_area'] == 0) & (df['studio'] == True)].tail())\n",
    "# проверяем как выполняется условие kitchen_area == 0 для studio == True "
   ]
  },
  {
   "cell_type": "code",
   "execution_count": null,
   "metadata": {},
   "outputs": [],
   "source": [
    "df = df.dropna(subset = ['floors_total','locality_name', 'airports_nearest', 'cityCenters_nearest','parks_around3000','parks_nearest',\\\n",
    "                         'ponds_around3000', 'ponds_nearest','days_exposition']).reset_index(drop=True)\n",
    "#удаляем строки c пропущенными занчениями в остальных столбцах, так считаем, что найти им замену невозможно"
   ]
  },
  {
   "cell_type": "code",
   "execution_count": null,
   "metadata": {
    "scrolled": false
   },
   "outputs": [],
   "source": [
    "df.isna().sum() # определяем количиество пропущенных значений в столбцах"
   ]
  },
  {
   "cell_type": "markdown",
   "metadata": {},
   "source": [
    "Вывод: В результате проведенной работы по заполнению пропусков и удалению строк с отстутствующими значениями имеем данные в которых отстутствуют пропуски."
   ]
  },
  {
   "cell_type": "markdown",
   "metadata": {},
   "source": [
    "### Поиск и удаление дубикатов"
   ]
  },
  {
   "cell_type": "code",
   "execution_count": null,
   "metadata": {},
   "outputs": [],
   "source": [
    "display(df.duplicated().sum()) #поиск явных дубликатов"
   ]
  },
  {
   "cell_type": "code",
   "execution_count": null,
   "metadata": {
    "scrolled": true
   },
   "outputs": [],
   "source": [
    "display(df['locality_name'].unique()) #поиск неявных дубликатов"
   ]
  },
  {
   "cell_type": "markdown",
   "metadata": {},
   "source": [
    "Вывод: Дубликаты в данных не обнаружены"
   ]
  },
  {
   "cell_type": "markdown",
   "metadata": {},
   "source": [
    "### Замена типа данных "
   ]
  },
  {
   "cell_type": "code",
   "execution_count": null,
   "metadata": {},
   "outputs": [],
   "source": [
    "df['is_apartment'].astype(bool) #замена типа данных на bool"
   ]
  },
  {
   "cell_type": "code",
   "execution_count": null,
   "metadata": {
    "scrolled": false
   },
   "outputs": [],
   "source": [
    "df['balcony'].astype(int) #замена типа данных на int"
   ]
  },
  {
   "cell_type": "code",
   "execution_count": null,
   "metadata": {
    "scrolled": true
   },
   "outputs": [],
   "source": [
    "df['days_exposition'].astype(int)"
   ]
  },
  {
   "cell_type": "code",
   "execution_count": null,
   "metadata": {},
   "outputs": [],
   "source": [
    "df['first_day_exposition'] = pd.to_datetime(\n",
    "    df['first_day_exposition'], format='%Y%m%dT'\n",
    ")\n",
    "#преобразовываем в формат даты"
   ]
  },
  {
   "cell_type": "code",
   "execution_count": null,
   "metadata": {
    "scrolled": true
   },
   "outputs": [],
   "source": [
    "df.info() #информация о таблице"
   ]
  },
  {
   "cell_type": "markdown",
   "metadata": {},
   "source": [
    "Вывод: Проведена замена типа данных на int, bool и datetime "
   ]
  },
  {
   "cell_type": "markdown",
   "metadata": {},
   "source": [
    "## Расчёты и добавление результатов в таблицу"
   ]
  },
  {
   "cell_type": "markdown",
   "metadata": {},
   "source": [
    "### Расчет стоимости 1 кв.м."
   ]
  },
  {
   "cell_type": "code",
   "execution_count": null,
   "metadata": {
    "scrolled": true
   },
   "outputs": [],
   "source": [
    "df['cost_sq_m'] = round((df['last_price'] / df['total_area']), 0)\n",
    "\n",
    "display(df.head())\n",
    "# вычисляем стоимость 1 квадратного метра и добавляем данные в столбец cost_sq_m"
   ]
  },
  {
   "cell_type": "markdown",
   "metadata": {},
   "source": [
    "### Создание столбцов с годом, месяцем и днем недели публикации объявления"
   ]
  },
  {
   "cell_type": "code",
   "execution_count": null,
   "metadata": {
    "scrolled": true
   },
   "outputs": [],
   "source": [
    "# день недели, месяц и год публикации объявления\n",
    "df['day_of_week'] = df['first_day_exposition'].dt.dayofweek\n",
    "df['month'] = df['first_day_exposition'].dt.month\n",
    "df['year'] = df['first_day_exposition'].dt.year\n",
    "display(df.head())"
   ]
  },
  {
   "cell_type": "markdown",
   "metadata": {},
   "source": [
    "### Создание столбца с этажом расположения квартиры"
   ]
  },
  {
   "cell_type": "code",
   "execution_count": null,
   "metadata": {
    "scrolled": false
   },
   "outputs": [],
   "source": [
    "#создаем столбец с этажом располежения квартиры; варианты — первый, последний, другой\n",
    "def floor_grp(row):\n",
    "    if row['floor'] == 1:\n",
    "        return 'первый'\n",
    "    elif row['floor'] == row['floors_total']:\n",
    "        return 'последний'\n",
    "    return 'другой'\n",
    "\n",
    "df['floor_group'] = df.apply(floor_grp, axis = 1)\n",
    "display(df.head())\n"
   ]
  },
  {
   "cell_type": "markdown",
   "metadata": {},
   "source": [
    "### Расчет отношения жилой и общей площади, площади кухни к общей"
   ]
  },
  {
   "cell_type": "code",
   "execution_count": null,
   "metadata": {},
   "outputs": [],
   "source": [
    "#соотношение жилой и общей площади, а также отношение площади кухни к общей\n",
    "df['ratio_living_total'] = round((df['living_area']/df['total_area']), 2)\n",
    "df['ratio_kitchen_total'] = round((df['kitchen_area']/df['total_area']), 2)\n",
    "display(df.head())"
   ]
  },
  {
   "cell_type": "markdown",
   "metadata": {},
   "source": [
    "## Исследовательский анализ данных"
   ]
  },
  {
   "cell_type": "markdown",
   "metadata": {},
   "source": [
    "### Изучение параметра общая площадь"
   ]
  },
  {
   "cell_type": "code",
   "execution_count": null,
   "metadata": {
    "scrolled": true
   },
   "outputs": [],
   "source": [
    "#Изучите следующие параметры: площадь, цена, число комнат, высота потолков. Постройте гистограммы для каждого параметра\n",
    "df['total_area'].describe() # описание данных"
   ]
  },
  {
   "cell_type": "code",
   "execution_count": null,
   "metadata": {
    "scrolled": true
   },
   "outputs": [],
   "source": [
    "df['total_area'].value_counts() #просмотр уникальных значений в отсортированном порядке"
   ]
  },
  {
   "cell_type": "code",
   "execution_count": null,
   "metadata": {
    "scrolled": false
   },
   "outputs": [],
   "source": [
    "df['total_area'].hist( bins=500) # построение гистограммы\n",
    "plt. show()"
   ]
  },
  {
   "cell_type": "markdown",
   "metadata": {},
   "source": [
    "### Изучение параметра цена."
   ]
  },
  {
   "cell_type": "code",
   "execution_count": null,
   "metadata": {
    "scrolled": true
   },
   "outputs": [],
   "source": [
    "df['last_price'].describe() # описание данных"
   ]
  },
  {
   "cell_type": "code",
   "execution_count": null,
   "metadata": {},
   "outputs": [],
   "source": [
    "df['last_price'].value_counts() #просмотр уникальных значений в отсортированном порядке"
   ]
  },
  {
   "cell_type": "code",
   "execution_count": null,
   "metadata": {
    "scrolled": false
   },
   "outputs": [],
   "source": [
    "df['last_price'].hist( bins=100) # построение гистограммы\n",
    "plt. show()"
   ]
  },
  {
   "cell_type": "markdown",
   "metadata": {},
   "source": [
    "### Изучение параметра колиество комнат"
   ]
  },
  {
   "cell_type": "code",
   "execution_count": null,
   "metadata": {},
   "outputs": [],
   "source": [
    "df['rooms'].describe() # описание данных"
   ]
  },
  {
   "cell_type": "code",
   "execution_count": null,
   "metadata": {
    "scrolled": true
   },
   "outputs": [],
   "source": [
    "df['rooms'].value_counts() #просмотр уникальных значений в отсортированном порядке"
   ]
  },
  {
   "cell_type": "code",
   "execution_count": null,
   "metadata": {
    "scrolled": true
   },
   "outputs": [],
   "source": [
    "df['rooms'].hist( bins=50) # построение гистограммы\n",
    "plt. show()"
   ]
  },
  {
   "cell_type": "markdown",
   "metadata": {},
   "source": [
    "### Изучение параметра высота потолков"
   ]
  },
  {
   "cell_type": "code",
   "execution_count": null,
   "metadata": {
    "scrolled": true
   },
   "outputs": [],
   "source": [
    "df['ceiling_height'].describe() # описание данных"
   ]
  },
  {
   "cell_type": "code",
   "execution_count": null,
   "metadata": {
    "scrolled": true
   },
   "outputs": [],
   "source": [
    "df['ceiling_height'].value_counts() #просмотр уникальных значений в отсортированном порядке"
   ]
  },
  {
   "cell_type": "code",
   "execution_count": null,
   "metadata": {},
   "outputs": [],
   "source": [
    "df['ceiling_height'].hist( bins=200, range=( 0, 5)) # построение гистограммы\n",
    "plt. show()"
   ]
  },
  {
   "cell_type": "markdown",
   "metadata": {},
   "source": [
    "### Изучение параметра: время продажи квартиры"
   ]
  },
  {
   "cell_type": "code",
   "execution_count": null,
   "metadata": {},
   "outputs": [],
   "source": [
    "#Изучите время продажи квартиры. Постройте гистограмму. Посчитайте среднее и медиану.\n",
    "#Опишите, сколько обычно занимает продажа. Когда можно считать, что продажи прошли очень быстро, а когда необычно долго?\n",
    "\n",
    "df['days_exposition'].describe() # описание данных"
   ]
  },
  {
   "cell_type": "code",
   "execution_count": null,
   "metadata": {},
   "outputs": [],
   "source": [
    "df['days_exposition'].value_counts() #просмотр уникальных значений в отсортированном порядке"
   ]
  },
  {
   "cell_type": "code",
   "execution_count": null,
   "metadata": {
    "scrolled": true
   },
   "outputs": [],
   "source": [
    "df['days_exposition'].hist( bins=100, range=( 0, 1000)) # построение гистограммы\n",
    "plt. show()"
   ]
  },
  {
   "cell_type": "code",
   "execution_count": null,
   "metadata": {},
   "outputs": [],
   "source": [
    "display(round(df['days_exposition'].mean())) # расчет среднего количества дней реализации"
   ]
  },
  {
   "cell_type": "code",
   "execution_count": null,
   "metadata": {
    "scrolled": true
   },
   "outputs": [],
   "source": [
    "display(round(df['days_exposition'].median())) # расчет медианного значения реализации"
   ]
  },
  {
   "cell_type": "markdown",
   "metadata": {},
   "source": [
    "Вывод: Меданное значение продажи квартиры равно 110 дням. Можно считать, что если продажа квартиры прошла раньше - то это быстрая продажа."
   ]
  },
  {
   "cell_type": "markdown",
   "metadata": {},
   "source": [
    "### Убираем редкие  и выбивающиеся значения."
   ]
  },
  {
   "cell_type": "markdown",
   "metadata": {},
   "source": [
    "#### Определяем выбросы в столбце days_exposition"
   ]
  },
  {
   "cell_type": "code",
   "execution_count": null,
   "metadata": {},
   "outputs": [],
   "source": [
    "# определяем выбросы в столбце days_exposition\n",
    "df.boxplot(column='days_exposition')\n",
    "plt.ylim(0, 600)\n",
    "plt.show()"
   ]
  },
  {
   "cell_type": "markdown",
   "metadata": {},
   "source": [
    "Вывод: В столбце days_exposition выбросами явяляются значения > 590"
   ]
  },
  {
   "cell_type": "markdown",
   "metadata": {},
   "source": [
    "#### Определяем выбросы в столбце total_area"
   ]
  },
  {
   "cell_type": "code",
   "execution_count": null,
   "metadata": {},
   "outputs": [],
   "source": [
    "# определяем выбросы в столбце total_area\n",
    "df.boxplot(column='total_area')\n",
    "plt.ylim(0, 150)\n",
    "plt.show()"
   ]
  },
  {
   "cell_type": "markdown",
   "metadata": {},
   "source": [
    "Вывод: В столбце total_area выбросами явяляются значения <12 и  значения > 140"
   ]
  },
  {
   "cell_type": "markdown",
   "metadata": {},
   "source": [
    "#### Определяем выбросы в столбце last_price"
   ]
  },
  {
   "cell_type": "code",
   "execution_count": null,
   "metadata": {},
   "outputs": [],
   "source": [
    "# определяем выбросы в столбце last_price\n",
    "df.boxplot(column='last_price')\n",
    "plt.ylim(1000000, 20000000)\n",
    "plt.show()"
   ]
  },
  {
   "cell_type": "markdown",
   "metadata": {},
   "source": [
    "Вывод: В столбце last_price выбросами явяляются значения <1600000 и  значения > 17000000"
   ]
  },
  {
   "cell_type": "markdown",
   "metadata": {},
   "source": [
    "#### Определяем выбросы в столбце rooms"
   ]
  },
  {
   "cell_type": "code",
   "execution_count": null,
   "metadata": {},
   "outputs": [],
   "source": [
    "# определяем выбросы в столбце rooms\n",
    "df.boxplot(column='rooms')\n",
    "plt.ylim(0, 15)\n",
    "plt.show()"
   ]
  },
  {
   "cell_type": "markdown",
   "metadata": {},
   "source": [
    "Вывод: В столбце rooms выбросами явяляются значения > 6"
   ]
  },
  {
   "cell_type": "markdown",
   "metadata": {},
   "source": [
    "#### Определяем выбросы в столбце ceiling_height"
   ]
  },
  {
   "cell_type": "code",
   "execution_count": null,
   "metadata": {},
   "outputs": [],
   "source": [
    "# определяем выбросы в столбце ceiling_height\n",
    "df.boxplot(column='ceiling_height')\n",
    "plt.ylim(2, 5)\n",
    "plt.show()"
   ]
  },
  {
   "cell_type": "markdown",
   "metadata": {},
   "source": [
    "Вывод: В столбце ceiling_height выбросами явяляются значения <2.5 и  значения > 3"
   ]
  },
  {
   "cell_type": "markdown",
   "metadata": {},
   "source": [
    "#### Убираем выбросы"
   ]
  },
  {
   "cell_type": "code",
   "execution_count": null,
   "metadata": {
    "scrolled": true
   },
   "outputs": [],
   "source": [
    "#убираем определенные ранее выбросы, сохраняем в таблицу df_filtered и выводим на экран\n",
    "df_filtered = df.query('days_exposition <= 590 and 12 <= total_area and total_area <= 140 and 1600000 <= last_price and last_price <= 17000000 and rooms <= 6 and 2.5 <= ceiling_height and ceiling_height <= 3').reset_index(drop=True)  \n",
    "display(df_filtered.head(15))"
   ]
  },
  {
   "cell_type": "markdown",
   "metadata": {},
   "source": [
    "### Влияние на стоимость различных факторов"
   ]
  },
  {
   "cell_type": "markdown",
   "metadata": {},
   "source": [
    "#### Влияние на стоимость общей площади"
   ]
  },
  {
   "cell_type": "code",
   "execution_count": null,
   "metadata": {
    "scrolled": true
   },
   "outputs": [],
   "source": [
    "df_filtered.plot(x='total_area', y='last_price', kind='scatter'); # Строим диаграмму рассеяния"
   ]
  },
  {
   "cell_type": "code",
   "execution_count": null,
   "metadata": {},
   "outputs": [],
   "source": [
    "#Какие факторы больше всего влияют на стоимость квартиры?\n",
    "#Изучите, зависит ли цена от площади, числа комнат, удалённости от центра.\n",
    "#Изучите зависимость цены от того, на каком этаже расположена квартира: первом, последнем или другом. \n",
    "#Также изучите зависимость от даты размещения: дня недели, месяца и года.\n",
    "\n",
    "\n",
    "display(df_filtered['last_price'].corr(df_filtered['total_area'])) # зависимость цены от площади"
   ]
  },
  {
   "cell_type": "markdown",
   "metadata": {},
   "source": [
    "Вывод: Высокая положительная корреляция. Цена сильно зависит от площади. Чем больше площадь тем больше цена."
   ]
  },
  {
   "cell_type": "markdown",
   "metadata": {},
   "source": [
    "#### Влияние количества комнат на стоимость квартиры различных параметров"
   ]
  },
  {
   "cell_type": "code",
   "execution_count": null,
   "metadata": {},
   "outputs": [],
   "source": [
    "df_filtered.plot(x='rooms', y='last_price', kind='scatter'); # Строим диаграмму рассеяния"
   ]
  },
  {
   "cell_type": "code",
   "execution_count": null,
   "metadata": {
    "scrolled": true
   },
   "outputs": [],
   "source": [
    "display(df_filtered['last_price'].corr(df_filtered['rooms'])) # зависимость цены от количества комнат"
   ]
  },
  {
   "cell_type": "markdown",
   "metadata": {},
   "source": [
    "Вывод: Положительная корреляция. Но цена не очень сильно зависит от количества комнат. "
   ]
  },
  {
   "cell_type": "markdown",
   "metadata": {},
   "source": [
    "#### Влияние удаленности от центра на стоимость квартиры"
   ]
  },
  {
   "cell_type": "code",
   "execution_count": null,
   "metadata": {},
   "outputs": [],
   "source": [
    "df_filtered.plot(x='cityCenters_nearest', y='last_price', kind='scatter'); # Строим диаграмму рассеяния"
   ]
  },
  {
   "cell_type": "code",
   "execution_count": null,
   "metadata": {},
   "outputs": [],
   "source": [
    "display(df_filtered['last_price'].corr(df_filtered['cityCenters_nearest'])) # зависимость цены от удаленности от центра"
   ]
  },
  {
   "cell_type": "markdown",
   "metadata": {},
   "source": [
    "Вывод: Отрицательная корреляция. Чем дальше от центра тем меньше цена. Но зависимость не очень сильная."
   ]
  },
  {
   "cell_type": "markdown",
   "metadata": {},
   "source": [
    "#### Влияние на стоимость квартиры этаж расположения квартиры (первый, последний, другой)"
   ]
  },
  {
   "cell_type": "code",
   "execution_count": null,
   "metadata": {
    "scrolled": true
   },
   "outputs": [],
   "source": [
    "#добавляем столбец и присваем в нем следующие значения в зависимости от этажа расположения:\n",
    "# первый - 1, последний - 2, другой - 3\n",
    "def floor_grp_num(row):\n",
    "    if row['floor_group'] == 'первый':\n",
    "        return 1\n",
    "    elif row['floor_group'] == 'последний':\n",
    "        return 2\n",
    "    return 3\n",
    "\n",
    "df_filtered['floor_group_new'] = df_filtered.apply(floor_grp_num, axis = 1)\n",
    "display(df_filtered.head())"
   ]
  },
  {
   "cell_type": "code",
   "execution_count": null,
   "metadata": {},
   "outputs": [],
   "source": [
    "df_filtered.plot(x='floor_group_new', y='last_price', kind='scatter'); # Строим диаграмму рассеяния"
   ]
  },
  {
   "cell_type": "code",
   "execution_count": null,
   "metadata": {},
   "outputs": [],
   "source": [
    "display(df_filtered['last_price'].corr(df_filtered['floor_group_new'])) # зависимость цены от этажа"
   ]
  },
  {
   "cell_type": "markdown",
   "metadata": {},
   "source": [
    "Вывод: Положительная корреляция. Цена возрастает в зависимости от расположения квартиры\n",
    "    на этаже в последовательности - первый, последний, другой. Но зависимость почти незаметная."
   ]
  },
  {
   "cell_type": "markdown",
   "metadata": {},
   "source": [
    "#### Влияние на стоимость дня недели размещения"
   ]
  },
  {
   "cell_type": "code",
   "execution_count": null,
   "metadata": {},
   "outputs": [],
   "source": [
    "df_filtered.plot(x='day_of_week', y='last_price', kind='scatter'); # Строим диаграмму рассеяния"
   ]
  },
  {
   "cell_type": "code",
   "execution_count": null,
   "metadata": {},
   "outputs": [],
   "source": [
    "display(df_filtered['last_price'].corr(df_filtered['day_of_week'])) # зависимость цены от дня размещения"
   ]
  },
  {
   "cell_type": "markdown",
   "metadata": {},
   "source": [
    "Вывод: Нулевая корреляция. Цена не зависит от дня размещения."
   ]
  },
  {
   "cell_type": "markdown",
   "metadata": {},
   "source": [
    "#### Влияние на стоимость месяца размещения"
   ]
  },
  {
   "cell_type": "code",
   "execution_count": null,
   "metadata": {},
   "outputs": [],
   "source": [
    "df_filtered.plot(x='month', y='last_price', kind='scatter'); # Строим диаграмму рассеяния"
   ]
  },
  {
   "cell_type": "code",
   "execution_count": null,
   "metadata": {
    "scrolled": true
   },
   "outputs": [],
   "source": [
    "display(df_filtered['last_price'].corr(df_filtered['month'])) # зависимость цены от месяца размещения"
   ]
  },
  {
   "cell_type": "markdown",
   "metadata": {},
   "source": [
    "Вывод: Нулевая корреляция. Цена не зависит от месяца размещения."
   ]
  },
  {
   "cell_type": "markdown",
   "metadata": {},
   "source": [
    "#### Влияние на стоимость года размещения "
   ]
  },
  {
   "cell_type": "code",
   "execution_count": null,
   "metadata": {},
   "outputs": [],
   "source": [
    "df_filtered.plot(x='year', y='last_price', kind='scatter'); # Строим диаграмму рассеяния"
   ]
  },
  {
   "cell_type": "code",
   "execution_count": null,
   "metadata": {},
   "outputs": [],
   "source": [
    "display(df_filtered['last_price'].corr(df_filtered['year'])) # зависимость цены от года размещения"
   ]
  },
  {
   "cell_type": "markdown",
   "metadata": {},
   "source": [
    "Вывод: Нулевая корреляция. Цена не зависит от года размещения."
   ]
  },
  {
   "cell_type": "markdown",
   "metadata": {},
   "source": [
    "Вывод: на стоимость положительно влияет общая площадь, в меньшей мере - количество комнат\n",
    "    (это связано с тем что часто бывает квартиры с меньшим количество комнат и большей площадью),\n",
    "    незначительно отрицательно влияет удаленность от центра\n",
    "    (объясняется тем, что бывают районы с высокой ценовой категорией, но расположенных не в центре),\n",
    "    практически не влияет день, месяц и год размещения (можно потому, что в выборку попали\n",
    "    в основном данные за 2015 - 2019 года в течение которых на рынке недвижимости отсутствовал рост цен)"
   ]
  },
  {
   "cell_type": "markdown",
   "metadata": {},
   "source": [
    "### Исследование 10 населенных пунктов с наибольшим числом объявлений"
   ]
  },
  {
   "cell_type": "markdown",
   "metadata": {},
   "source": [
    "Выберите 10 населённых пунктов с наибольшим числом объявлений. \n",
    "Посчитайте среднюю цену квадратного метра в этих населённых пунктах.\n",
    "Выделите населённые пункты с самой высокой и низкой стоимостью жилья.\n",
    "Эти данные можно найти по имени в столбце locality_name."
   ]
  },
  {
   "cell_type": "code",
   "execution_count": null,
   "metadata": {
    "scrolled": true
   },
   "outputs": [],
   "source": [
    "df_filtered.groupby('locality_name')['cost_sq_m'].agg(['count', 'mean']).sort_values(by='count')[::-1].head(10).sort_values(by='mean')[::-1]\n",
    "\n",
    "#df_filtered_ten_big = df_filtered.pivot_table(index='locality_name', values='first_day_exposition', aggfunc='count')\n",
    "#display(df_filtered_ten_big.sort_values(by ='first_day_exposition', ascending=False).head(15))\n",
    "#выбираем 10 населенных пунктов с наибольшим количеством объявлений"
   ]
  },
  {
   "cell_type": "code",
   "execution_count": null,
   "metadata": {
    "scrolled": true
   },
   "outputs": [],
   "source": [
    "big_city = df_filtered_ten_big.query('first_day_exposition >= 10')\n",
    "display(big_city)"
   ]
  },
  {
   "cell_type": "code",
   "execution_count": null,
   "metadata": {
    "scrolled": false
   },
   "outputs": [],
   "source": [
    "df_filtered['big_city'] = (\n",
    "    df_filtered['locality_name']\n",
    "    .where(df_filtered['locality_name'].isin(big_city.index), 'другие'))\n",
    "display(df_filtered.head())"
   ]
  },
  {
   "cell_type": "code",
   "execution_count": null,
   "metadata": {},
   "outputs": [],
   "source": [
    "df_filtered_big_city = df_filtered.query('big_city != \"другие\"')\n",
    "display(df_filtered_big_city.head(50))"
   ]
  },
  {
   "cell_type": "code",
   "execution_count": null,
   "metadata": {},
   "outputs": [],
   "source": [
    "df_filtered_big_city['big_city'].unique()\n",
    "                     "
   ]
  },
  {
   "cell_type": "code",
   "execution_count": null,
   "metadata": {},
   "outputs": [],
   "source": [
    "df_filtered_big_city_mean = round(df_filtered.pivot_table(index='big_city', values='cost_sq_m', aggfunc='mean'))\n",
    "display(df_filtered_big_city_mean.sort_values(by = 'cost_sq_m', ascending = False))\n",
    "#определяем среднюю стоимость 1 кв.м."
   ]
  },
  {
   "cell_type": "code",
   "execution_count": null,
   "metadata": {
    "scrolled": true
   },
   "outputs": [],
   "source": [
    "display(df_filtered_big_city_mean.max())"
   ]
  },
  {
   "cell_type": "code",
   "execution_count": null,
   "metadata": {},
   "outputs": [],
   "source": [
    "df_filtered_big_city_mean.min()"
   ]
  },
  {
   "cell_type": "markdown",
   "metadata": {},
   "source": [
    "Изучите предложения квартир: для каждой квартиры есть информация о расстоянии до центра. Выделите квартиры в Санкт-Петербурге (locality_name). Ваша задача — выяснить, какая область входит в центр. Создайте столбец с расстоянием до центра в километрах: округлите до целых значений. После этого посчитайте среднюю цену для каждого километра. Постройте график: он должен показывать, как цена зависит от удалённости от центра. Определите границу, где график сильно меняется, — это и будет центральная зона."
   ]
  },
  {
   "cell_type": "code",
   "execution_count": null,
   "metadata": {},
   "outputs": [],
   "source": [
    "df_filtered_spb = df_filtered.query('locality_name == \"Санкт-Петербург\"').reset_index(drop=True)\n",
    "display(df_filtered_spb.head())"
   ]
  },
  {
   "cell_type": "code",
   "execution_count": null,
   "metadata": {},
   "outputs": [],
   "source": [
    "display(df_filtered_spb['locality_name'].unique())"
   ]
  },
  {
   "cell_type": "code",
   "execution_count": null,
   "metadata": {},
   "outputs": [],
   "source": [
    "df_filtered_spb['cityCenters_nearest_km'] = round(df_filtered_spb['cityCenters_nearest']/1000)\n",
    "display(df_filtered_spb.head())"
   ]
  },
  {
   "cell_type": "code",
   "execution_count": null,
   "metadata": {},
   "outputs": [],
   "source": [
    "df_filtered_spb_km = df_filtered_spb.pivot_table(index='cityCenters_nearest_km', values='cost_sq_m', aggfunc='mean').round()\n",
    "display(df_filtered_spb_km)"
   ]
  },
  {
   "cell_type": "code",
   "execution_count": null,
   "metadata": {},
   "outputs": [],
   "source": [
    "df_filtered_spb_km.plot(y='cost_sq_m' , kind='bar')"
   ]
  },
  {
   "cell_type": "markdown",
   "metadata": {},
   "source": [
    "Вывод: Средняя цена 1 кв.м. резко меняется после 6 км."
   ]
  },
  {
   "cell_type": "markdown",
   "metadata": {},
   "source": [
    "Выделите сегмент квартир в центре. Проанализируйте эту территорию и изучите следующие параметры: площадь, цена, число комнат, высота потолков. Также выделите факторы, которые влияют на стоимость квартиры (число комнат, этаж, удалённость от центра, дата размещения объявления). Сделайте выводы. Отличаются ли они от общих выводов по всей базе?"
   ]
  },
  {
   "cell_type": "code",
   "execution_count": null,
   "metadata": {},
   "outputs": [],
   "source": [
    "df_filtered_spb_centre = df_filtered_spb.query('cityCenters_nearest_km <= 6')\n",
    "display(df_filtered_spb_centre.head())"
   ]
  },
  {
   "cell_type": "code",
   "execution_count": null,
   "metadata": {},
   "outputs": [],
   "source": [
    "df_filtered_spb_centre['total_area'].describe() # описание данных"
   ]
  },
  {
   "cell_type": "code",
   "execution_count": null,
   "metadata": {},
   "outputs": [],
   "source": [
    "df_filtered_spb_centre['total_area'].value_counts() # подсчет количества значений"
   ]
  },
  {
   "cell_type": "code",
   "execution_count": null,
   "metadata": {},
   "outputs": [],
   "source": [
    "df_filtered_spb_centre['total_area'].unique() # вывод уникальных значений"
   ]
  },
  {
   "cell_type": "code",
   "execution_count": null,
   "metadata": {},
   "outputs": [],
   "source": [
    "df_filtered_spb_centre['total_area'].hist( bins=14)\n",
    "plt. show()\n",
    "# построение гистограммы "
   ]
  },
  {
   "cell_type": "code",
   "execution_count": null,
   "metadata": {
    "scrolled": true
   },
   "outputs": [],
   "source": [
    "ax = df_filtered.plot(kind='hist', y='total_area', histtype='step', range=(0, 500) , bins=14,\n",
    "linewidth=5, alpha=0.7, label='spb')\n",
    "df_filtered_spb_centre.plot(kind='hist', y='total_area' , histtype='step' , range=(0, 500) , bins=14,\n",
    "linewidth=5, alpha=0.7, label='spb_centre' , ax=ax, grid=True, legend=True)\n",
    "# отображаем две гистограммы на одном графике для сравнения. Одна - для центра СПБ, вторая для СПБ и области  "
   ]
  },
  {
   "cell_type": "markdown",
   "metadata": {},
   "source": [
    "Вывод: Характер графиков построенных по значениям total_area для СПБ и центра СПБ одинаковый. "
   ]
  },
  {
   "cell_type": "code",
   "execution_count": null,
   "metadata": {},
   "outputs": [],
   "source": [
    "df_filtered_spb_centre['last_price'].describe() # описание данных "
   ]
  },
  {
   "cell_type": "code",
   "execution_count": null,
   "metadata": {},
   "outputs": [],
   "source": [
    "df_filtered_spb_centre['last_price'].value_counts() # подсчет количества уникальных значений"
   ]
  },
  {
   "cell_type": "code",
   "execution_count": null,
   "metadata": {},
   "outputs": [],
   "source": [
    "df_filtered_spb_centre['last_price'].unique() # вывод уникальных значений"
   ]
  },
  {
   "cell_type": "code",
   "execution_count": null,
   "metadata": {},
   "outputs": [],
   "source": [
    "df_filtered_spb_centre['last_price'].hist( bins=14)\n",
    "plt. show()\n",
    "# построение гистограммы"
   ]
  },
  {
   "cell_type": "code",
   "execution_count": null,
   "metadata": {},
   "outputs": [],
   "source": [
    "ax = df_filtered.plot(kind='hist', y='total_area', histtype='step', range=(0, 500) , bins=14,\n",
    "linewidth=5, alpha=0.7, label='spb')\n",
    "df_filtered_spb_centre.plot(kind='hist', y='total_area' , histtype='step' , range=(0, 500) , bins=14,\n",
    "linewidth=5, alpha=0.7, label='spb_centre' , ax=ax, grid=True, legend=True)\n",
    "# отображаем две гистограммы на одном графике для сравнения. Одна - для центра СПБ, вторая для СПБ и области"
   ]
  },
  {
   "cell_type": "markdown",
   "metadata": {},
   "source": []
  },
  {
   "cell_type": "code",
   "execution_count": null,
   "metadata": {},
   "outputs": [],
   "source": [
    "df_filtered_spb_centre['rooms'].describe() # описание данных"
   ]
  },
  {
   "cell_type": "code",
   "execution_count": null,
   "metadata": {},
   "outputs": [],
   "source": [
    "df_filtered_spb_centre['rooms'].value_counts() # подсчет количества уникальных значений"
   ]
  },
  {
   "cell_type": "code",
   "execution_count": null,
   "metadata": {},
   "outputs": [],
   "source": [
    "df_filtered_spb_centre['rooms'].unique() # вывод уникальных значений"
   ]
  },
  {
   "cell_type": "code",
   "execution_count": null,
   "metadata": {},
   "outputs": [],
   "source": [
    "df_filtered_spb_centre['rooms'].hist( bins=14)\n",
    "plt. show()\n",
    "# построение гистограммы"
   ]
  },
  {
   "cell_type": "code",
   "execution_count": null,
   "metadata": {},
   "outputs": [],
   "source": [
    "ax = df_filtered.plot(kind='hist', y='rooms', histtype='step', range=(0, 10) , bins=14,\n",
    "linewidth=5, alpha=0.7, label='spb')\n",
    "df_filtered_spb_centre.plot(kind='hist', y='rooms' , histtype='step' , range=(0, 10) , bins=14,\n",
    "linewidth=5, alpha=0.7, label='spb_centre' , ax=ax, grid=True, legend=True)\n",
    "# отображаем две гистограммы на одном графике для сравнения. Одна - для центра СПБ, вторая для СПБ и области"
   ]
  },
  {
   "cell_type": "code",
   "execution_count": null,
   "metadata": {},
   "outputs": [],
   "source": []
  },
  {
   "cell_type": "code",
   "execution_count": null,
   "metadata": {},
   "outputs": [],
   "source": [
    "df_filtered_spb_centre['ceiling_height'].describe() # описание данных"
   ]
  },
  {
   "cell_type": "code",
   "execution_count": null,
   "metadata": {},
   "outputs": [],
   "source": [
    "df_filtered_spb_centre['ceiling_height'].value_counts() # подсчет количества уникальных значений"
   ]
  },
  {
   "cell_type": "code",
   "execution_count": null,
   "metadata": {},
   "outputs": [],
   "source": [
    "df_filtered_spb_centre['ceiling_height'].unique() # вывод уникальных значений"
   ]
  },
  {
   "cell_type": "code",
   "execution_count": null,
   "metadata": {},
   "outputs": [],
   "source": [
    "df_filtered_spb_centre['ceiling_height'].hist( bins=10)\n",
    "plt. show()\n",
    "# построение гистограммы"
   ]
  },
  {
   "cell_type": "code",
   "execution_count": null,
   "metadata": {},
   "outputs": [],
   "source": [
    "ax = df_filtered.plot(kind='hist', y='ceiling_height', histtype='step', range=(0, 5) , bins=10,\n",
    "linewidth=5, alpha=0.7, label='spb')\n",
    "df_filtered_spb_centre.plot(kind='hist', y='ceiling_height' , histtype='step' , range=(0, 5) , bins=10,\n",
    "linewidth=5, alpha=0.7, label='spb_centre' , ax=ax, grid=True, legend=True)\n",
    "# отображаем две гистограммы на одном графике для сравнения. Одна - для центра СПБ, вторая для СПБ и области"
   ]
  },
  {
   "cell_type": "code",
   "execution_count": null,
   "metadata": {},
   "outputs": [],
   "source": []
  },
  {
   "cell_type": "code",
   "execution_count": null,
   "metadata": {},
   "outputs": [],
   "source": []
  },
  {
   "cell_type": "code",
   "execution_count": null,
   "metadata": {},
   "outputs": [],
   "source": []
  },
  {
   "cell_type": "code",
   "execution_count": null,
   "metadata": {},
   "outputs": [],
   "source": []
  },
  {
   "cell_type": "code",
   "execution_count": null,
   "metadata": {},
   "outputs": [],
   "source": []
  },
  {
   "cell_type": "code",
   "execution_count": null,
   "metadata": {},
   "outputs": [],
   "source": []
  },
  {
   "cell_type": "markdown",
   "metadata": {},
   "source": [
    "## Общий вывод"
   ]
  },
  {
   "cell_type": "markdown",
   "metadata": {},
   "source": []
  },
  {
   "cell_type": "markdown",
   "metadata": {},
   "source": [
    "## Чек-лист готовности проекта\n",
    "\n",
    "Поставьте 'x' в выполненных пунктах. Далее нажмите Shift+Enter."
   ]
  },
  {
   "cell_type": "markdown",
   "metadata": {},
   "source": [
    "- [x]  открыт файл\n",
    "- [x]  файлы изучены (выведены первые строки, метод `info()`)\n",
    "- [x]  определены пропущенные значения\n",
    "- [x]  заполнены пропущенные значения\n",
    "- [ ]  есть пояснение, какие пропущенные значения обнаружены\n",
    "- [x]  изменены типы данных\n",
    "- [ ]  есть пояснение, в каких столбцах изменены типы и почему\n",
    "- [x]  посчитано и добавлено в таблицу: цена квадратного метра\n",
    "- [x]  посчитано и добавлено в таблицу: день недели, месяц и год публикации объявления\n",
    "- [x]  посчитано и добавлено в таблицу: этаж квартиры; варианты — первый, последний, другой\n",
    "- [x]  посчитано и добавлено в таблицу: соотношение жилой и общей площади, а также отношение площади кухни к общей\n",
    "- [x]  изучены следующие параметры: площадь, цена, число комнат, высота потолков\n",
    "- [x]  построены гистограммы для каждого параметра\n",
    "- [ ]  выполнено задание: «Изучите время продажи квартиры. Постройте гистограмму. Посчитайте среднее и медиану. Опишите, сколько обычно занимает продажа. Когда можно считать, что продажи прошли очень быстро, а когда необычно долго?»\n",
    "- [ ]  выполнено задание: «Уберите редкие и выбивающиеся значения. Опишите, какие особенности обнаружили».\n",
    "- [ ]  выполнено задание: «Какие факторы больше всего влияют на стоимость квартиры? Изучите, зависит ли цена от квадратного метра, числа комнат, этажа (первого или последнего), удалённости от центра. Также изучите зависимость от даты размещения: дня недели, месяца и года». \n",
    "- [ ]  выполнено задание: «Выберите 10 населённых пунктов с наибольшим числом объявлений. Посчитайте среднюю цену квадратного метра в этих населённых пунктах. Выделите населённые пункты с самой высокой и низкой стоимостью жилья. Эти данные можно найти по имени в столбце `locality_name`».\n",
    "- [ ]  выполнено задание: «Изучите предложения квартир: для каждой квартиры есть информация о расстоянии до центра. Выделите квартиры в Санкт-Петербурге (`locality_name`). Ваша задача — выяснить, какая область входит в центр. Создайте столбец с расстоянием до центра в километрах: округлите до целых значений. После этого посчитайте среднюю цену для каждого километра. Постройте график: он должен показывать, как цена зависит от удалённости от центра. Определите границу, где график сильно меняется — это и будет центральная зона».\n",
    "- [ ]  выполнено задание: «Выделите сегмент квартир в центре. Проанализируйте эту территорию и изучите следующие параметры: площадь, цена, число комнат, высота потолков. Также выделите факторы, которые влияют на стоимость квартиры (число комнат, этаж, удалённость от центра, дата размещения объявления). Сделайте выводы. Отличаются ли они от общих выводов по всей базе?»\n",
    "- [ ]  в каждом этапе есть выводы\n",
    "- [ ]  есть общий вывод"
   ]
  },
  {
   "cell_type": "code",
   "execution_count": null,
   "metadata": {},
   "outputs": [],
   "source": []
  }
 ],
 "metadata": {
  "ExecuteTimeLog": [
   {
    "duration": 416,
    "start_time": "2022-04-19T18:40:28.231Z"
   },
   {
    "duration": 66,
    "start_time": "2022-04-19T18:40:28.649Z"
   },
   {
    "duration": 3,
    "start_time": "2022-04-19T18:40:28.716Z"
   },
   {
    "duration": 19,
    "start_time": "2022-04-19T18:40:28.720Z"
   },
   {
    "duration": 2,
    "start_time": "2022-04-19T18:43:48.691Z"
   },
   {
    "duration": 81,
    "start_time": "2022-04-19T18:43:48.695Z"
   },
   {
    "duration": 5,
    "start_time": "2022-04-19T18:43:48.778Z"
   },
   {
    "duration": 24,
    "start_time": "2022-04-19T18:43:48.784Z"
   },
   {
    "duration": 14,
    "start_time": "2022-04-19T18:47:52.556Z"
   },
   {
    "duration": 9,
    "start_time": "2022-04-19T18:48:45.668Z"
   },
   {
    "duration": 12,
    "start_time": "2022-04-19T18:49:24.722Z"
   },
   {
    "duration": 66,
    "start_time": "2022-04-19T19:20:40.514Z"
   },
   {
    "duration": 3,
    "start_time": "2022-04-19T19:20:51.084Z"
   },
   {
    "duration": 118,
    "start_time": "2022-04-19T19:20:51.090Z"
   },
   {
    "duration": 4,
    "start_time": "2022-04-19T19:20:51.211Z"
   },
   {
    "duration": 33,
    "start_time": "2022-04-19T19:20:51.217Z"
   },
   {
    "duration": 15,
    "start_time": "2022-04-19T19:20:51.303Z"
   },
   {
    "duration": 8,
    "start_time": "2022-04-19T19:20:51.320Z"
   },
   {
    "duration": 10,
    "start_time": "2022-04-19T19:20:51.330Z"
   },
   {
    "duration": 10,
    "start_time": "2022-04-19T19:20:51.342Z"
   },
   {
    "duration": 2,
    "start_time": "2022-04-19T19:22:28.363Z"
   },
   {
    "duration": 72,
    "start_time": "2022-04-19T19:22:29.199Z"
   },
   {
    "duration": 4,
    "start_time": "2022-04-19T19:22:29.770Z"
   },
   {
    "duration": 22,
    "start_time": "2022-04-19T19:22:30.715Z"
   },
   {
    "duration": 15,
    "start_time": "2022-04-19T19:22:37.084Z"
   },
   {
    "duration": 11,
    "start_time": "2022-04-19T19:22:39.034Z"
   },
   {
    "duration": 10,
    "start_time": "2022-04-19T19:22:39.848Z"
   },
   {
    "duration": 13,
    "start_time": "2022-04-19T19:23:02.284Z"
   },
   {
    "duration": 11,
    "start_time": "2022-04-19T19:23:14.995Z"
   },
   {
    "duration": 11,
    "start_time": "2022-04-19T19:25:54.431Z"
   },
   {
    "duration": 55,
    "start_time": "2022-04-19T19:27:43.172Z"
   },
   {
    "duration": 7,
    "start_time": "2022-04-19T19:30:39.127Z"
   },
   {
    "duration": 1720,
    "start_time": "2022-04-19T19:33:12.375Z"
   },
   {
    "duration": 4,
    "start_time": "2022-04-19T19:33:28.775Z"
   },
   {
    "duration": 5,
    "start_time": "2022-04-19T19:33:57.557Z"
   },
   {
    "duration": 51,
    "start_time": "2022-04-20T09:01:24.007Z"
   },
   {
    "duration": 8,
    "start_time": "2022-04-20T09:01:45.212Z"
   },
   {
    "duration": 7,
    "start_time": "2022-04-20T09:02:42.782Z"
   },
   {
    "duration": 6,
    "start_time": "2022-04-20T09:03:12.032Z"
   },
   {
    "duration": 425,
    "start_time": "2022-04-20T09:03:20.665Z"
   },
   {
    "duration": 74,
    "start_time": "2022-04-20T09:03:21.092Z"
   },
   {
    "duration": 4,
    "start_time": "2022-04-20T09:03:21.167Z"
   },
   {
    "duration": 70,
    "start_time": "2022-04-20T09:03:21.172Z"
   },
   {
    "duration": 29,
    "start_time": "2022-04-20T09:03:21.244Z"
   },
   {
    "duration": 9,
    "start_time": "2022-04-20T09:03:21.275Z"
   },
   {
    "duration": 12,
    "start_time": "2022-04-20T09:03:21.285Z"
   },
   {
    "duration": 7,
    "start_time": "2022-04-20T09:03:21.299Z"
   },
   {
    "duration": 218,
    "start_time": "2022-04-20T09:03:21.308Z"
   },
   {
    "duration": 236,
    "start_time": "2022-04-20T09:05:56.756Z"
   },
   {
    "duration": 8,
    "start_time": "2022-04-20T09:06:49.323Z"
   },
   {
    "duration": 239,
    "start_time": "2022-04-20T09:08:21.278Z"
   },
   {
    "duration": 81,
    "start_time": "2022-04-20T09:09:22.680Z"
   },
   {
    "duration": 10,
    "start_time": "2022-04-20T09:12:52.659Z"
   },
   {
    "duration": 60,
    "start_time": "2022-04-20T09:16:33.781Z"
   },
   {
    "duration": 47,
    "start_time": "2022-04-20T15:57:39.801Z"
   },
   {
    "duration": 6,
    "start_time": "2022-04-20T15:59:39.854Z"
   },
   {
    "duration": 44,
    "start_time": "2022-04-20T18:12:32.892Z"
   },
   {
    "duration": 374,
    "start_time": "2022-04-20T18:12:39.316Z"
   },
   {
    "duration": 76,
    "start_time": "2022-04-20T18:12:39.692Z"
   },
   {
    "duration": 3,
    "start_time": "2022-04-20T18:12:39.770Z"
   },
   {
    "duration": 61,
    "start_time": "2022-04-20T18:12:39.775Z"
   },
   {
    "duration": 15,
    "start_time": "2022-04-20T18:12:39.837Z"
   },
   {
    "duration": 8,
    "start_time": "2022-04-20T18:12:39.854Z"
   },
   {
    "duration": 40,
    "start_time": "2022-04-20T18:12:39.864Z"
   },
   {
    "duration": 3034,
    "start_time": "2022-04-20T18:12:39.906Z"
   },
   {
    "duration": 0,
    "start_time": "2022-04-20T18:12:42.942Z"
   },
   {
    "duration": 0,
    "start_time": "2022-04-20T18:12:42.943Z"
   },
   {
    "duration": 0,
    "start_time": "2022-04-20T18:12:42.944Z"
   },
   {
    "duration": 0,
    "start_time": "2022-04-20T18:12:42.945Z"
   },
   {
    "duration": 0,
    "start_time": "2022-04-20T18:12:42.945Z"
   },
   {
    "duration": 3,
    "start_time": "2022-04-20T18:13:10.088Z"
   },
   {
    "duration": 10,
    "start_time": "2022-04-20T18:13:13.184Z"
   },
   {
    "duration": 2,
    "start_time": "2022-04-20T18:13:21.735Z"
   },
   {
    "duration": 83,
    "start_time": "2022-04-20T18:13:21.739Z"
   },
   {
    "duration": 5,
    "start_time": "2022-04-20T18:13:21.824Z"
   },
   {
    "duration": 56,
    "start_time": "2022-04-20T18:13:21.830Z"
   },
   {
    "duration": 25,
    "start_time": "2022-04-20T18:13:21.888Z"
   },
   {
    "duration": 9,
    "start_time": "2022-04-20T18:13:21.914Z"
   },
   {
    "duration": 10,
    "start_time": "2022-04-20T18:13:21.925Z"
   },
   {
    "duration": 2,
    "start_time": "2022-04-20T18:13:21.937Z"
   },
   {
    "duration": 10,
    "start_time": "2022-04-20T18:13:21.941Z"
   },
   {
    "duration": 0,
    "start_time": "2022-04-20T18:13:21.952Z"
   },
   {
    "duration": 0,
    "start_time": "2022-04-20T18:13:21.953Z"
   },
   {
    "duration": 0,
    "start_time": "2022-04-20T18:13:21.954Z"
   },
   {
    "duration": 0,
    "start_time": "2022-04-20T18:13:21.955Z"
   },
   {
    "duration": 5,
    "start_time": "2022-04-20T18:13:52.211Z"
   },
   {
    "duration": 4,
    "start_time": "2022-04-20T18:14:17.647Z"
   },
   {
    "duration": 9,
    "start_time": "2022-04-20T18:14:25.996Z"
   },
   {
    "duration": 3,
    "start_time": "2022-04-20T18:14:31.699Z"
   },
   {
    "duration": 93,
    "start_time": "2022-04-20T18:14:31.704Z"
   },
   {
    "duration": 4,
    "start_time": "2022-04-20T18:14:31.799Z"
   },
   {
    "duration": 61,
    "start_time": "2022-04-20T18:14:31.805Z"
   },
   {
    "duration": 15,
    "start_time": "2022-04-20T18:14:31.868Z"
   },
   {
    "duration": 17,
    "start_time": "2022-04-20T18:14:31.884Z"
   },
   {
    "duration": 9,
    "start_time": "2022-04-20T18:14:31.903Z"
   },
   {
    "duration": 6,
    "start_time": "2022-04-20T18:14:31.914Z"
   },
   {
    "duration": 10,
    "start_time": "2022-04-20T18:14:31.921Z"
   },
   {
    "duration": 15,
    "start_time": "2022-04-20T18:14:31.932Z"
   },
   {
    "duration": 0,
    "start_time": "2022-04-20T18:14:31.948Z"
   },
   {
    "duration": 0,
    "start_time": "2022-04-20T18:14:31.949Z"
   },
   {
    "duration": 0,
    "start_time": "2022-04-20T18:14:31.950Z"
   },
   {
    "duration": 0,
    "start_time": "2022-04-20T18:14:31.951Z"
   },
   {
    "duration": 5,
    "start_time": "2022-04-20T18:15:08.607Z"
   },
   {
    "duration": 3,
    "start_time": "2022-04-20T18:15:26.386Z"
   },
   {
    "duration": 72,
    "start_time": "2022-04-20T18:15:27.069Z"
   },
   {
    "duration": 4,
    "start_time": "2022-04-20T18:15:27.700Z"
   },
   {
    "duration": 54,
    "start_time": "2022-04-20T18:15:29.480Z"
   },
   {
    "duration": 12,
    "start_time": "2022-04-20T18:15:38.477Z"
   },
   {
    "duration": 9,
    "start_time": "2022-04-20T18:15:40.162Z"
   },
   {
    "duration": 10,
    "start_time": "2022-04-20T18:15:43.492Z"
   },
   {
    "duration": 3,
    "start_time": "2022-04-20T18:15:45.604Z"
   },
   {
    "duration": 4,
    "start_time": "2022-04-20T18:16:26.511Z"
   },
   {
    "duration": 7,
    "start_time": "2022-04-20T18:18:13.630Z"
   },
   {
    "duration": 10,
    "start_time": "2022-04-20T18:18:14.235Z"
   },
   {
    "duration": 12,
    "start_time": "2022-04-20T18:18:14.301Z"
   },
   {
    "duration": 10,
    "start_time": "2022-04-20T18:19:00.876Z"
   },
   {
    "duration": 12,
    "start_time": "2022-04-20T18:19:07.433Z"
   },
   {
    "duration": 9,
    "start_time": "2022-04-20T18:19:30.943Z"
   },
   {
    "duration": 9,
    "start_time": "2022-04-20T18:22:14.866Z"
   },
   {
    "duration": 9,
    "start_time": "2022-04-20T18:22:43.041Z"
   },
   {
    "duration": 6,
    "start_time": "2022-04-20T18:24:47.209Z"
   },
   {
    "duration": 4,
    "start_time": "2022-04-20T18:25:54.962Z"
   },
   {
    "duration": 5,
    "start_time": "2022-04-20T18:26:01.101Z"
   },
   {
    "duration": 4,
    "start_time": "2022-04-20T18:26:02.310Z"
   },
   {
    "duration": 3,
    "start_time": "2022-04-20T18:26:12.000Z"
   },
   {
    "duration": 85,
    "start_time": "2022-04-20T18:26:12.739Z"
   },
   {
    "duration": 4,
    "start_time": "2022-04-20T18:26:13.458Z"
   },
   {
    "duration": 88,
    "start_time": "2022-04-20T18:26:14.317Z"
   },
   {
    "duration": 13,
    "start_time": "2022-04-20T18:26:19.354Z"
   },
   {
    "duration": 8,
    "start_time": "2022-04-20T18:26:20.376Z"
   },
   {
    "duration": 11,
    "start_time": "2022-04-20T18:26:21.954Z"
   },
   {
    "duration": 5,
    "start_time": "2022-04-20T18:26:22.978Z"
   },
   {
    "duration": 8,
    "start_time": "2022-04-20T18:26:26.554Z"
   },
   {
    "duration": 14,
    "start_time": "2022-04-20T18:48:46.332Z"
   },
   {
    "duration": 6,
    "start_time": "2022-04-20T18:53:26.672Z"
   },
   {
    "duration": 8,
    "start_time": "2022-04-20T18:55:37.744Z"
   },
   {
    "duration": 9,
    "start_time": "2022-04-20T18:56:17.538Z"
   },
   {
    "duration": 5,
    "start_time": "2022-04-20T19:07:05.057Z"
   },
   {
    "duration": 10,
    "start_time": "2022-04-20T19:07:31.533Z"
   },
   {
    "duration": 8,
    "start_time": "2022-04-20T19:07:46.679Z"
   },
   {
    "duration": 5,
    "start_time": "2022-04-20T19:07:55.753Z"
   },
   {
    "duration": 10,
    "start_time": "2022-04-20T19:07:59.248Z"
   },
   {
    "duration": 12,
    "start_time": "2022-04-20T19:08:06.686Z"
   },
   {
    "duration": 3,
    "start_time": "2022-04-20T19:08:11.346Z"
   },
   {
    "duration": 111,
    "start_time": "2022-04-20T19:08:11.365Z"
   },
   {
    "duration": 4,
    "start_time": "2022-04-20T19:08:11.479Z"
   },
   {
    "duration": 66,
    "start_time": "2022-04-20T19:08:11.485Z"
   },
   {
    "duration": 13,
    "start_time": "2022-04-20T19:08:11.553Z"
   },
   {
    "duration": 33,
    "start_time": "2022-04-20T19:08:11.568Z"
   },
   {
    "duration": 11,
    "start_time": "2022-04-20T19:08:11.602Z"
   },
   {
    "duration": 7,
    "start_time": "2022-04-20T19:08:11.614Z"
   },
   {
    "duration": 9,
    "start_time": "2022-04-20T19:08:11.623Z"
   },
   {
    "duration": 8,
    "start_time": "2022-04-20T19:08:11.634Z"
   },
   {
    "duration": 11,
    "start_time": "2022-04-20T19:08:11.644Z"
   },
   {
    "duration": 8,
    "start_time": "2022-04-20T19:08:11.656Z"
   },
   {
    "duration": 37,
    "start_time": "2022-04-20T19:08:11.666Z"
   },
   {
    "duration": 13,
    "start_time": "2022-04-20T19:08:11.705Z"
   },
   {
    "duration": 0,
    "start_time": "2022-04-20T19:08:11.720Z"
   },
   {
    "duration": 0,
    "start_time": "2022-04-20T19:08:11.721Z"
   },
   {
    "duration": 0,
    "start_time": "2022-04-20T19:08:11.722Z"
   },
   {
    "duration": 4,
    "start_time": "2022-04-20T19:08:46.753Z"
   },
   {
    "duration": 10,
    "start_time": "2022-04-20T19:09:41.613Z"
   },
   {
    "duration": 3,
    "start_time": "2022-04-20T19:09:48.697Z"
   },
   {
    "duration": 90,
    "start_time": "2022-04-20T19:09:48.702Z"
   },
   {
    "duration": 5,
    "start_time": "2022-04-20T19:09:48.799Z"
   },
   {
    "duration": 55,
    "start_time": "2022-04-20T19:09:48.806Z"
   },
   {
    "duration": 37,
    "start_time": "2022-04-20T19:09:48.863Z"
   },
   {
    "duration": 13,
    "start_time": "2022-04-20T19:09:48.902Z"
   },
   {
    "duration": 15,
    "start_time": "2022-04-20T19:09:48.916Z"
   },
   {
    "duration": 4,
    "start_time": "2022-04-20T19:09:48.933Z"
   },
   {
    "duration": 10,
    "start_time": "2022-04-20T19:09:48.940Z"
   },
   {
    "duration": 9,
    "start_time": "2022-04-20T19:09:48.952Z"
   },
   {
    "duration": 38,
    "start_time": "2022-04-20T19:09:48.964Z"
   },
   {
    "duration": 12,
    "start_time": "2022-04-20T19:09:49.004Z"
   },
   {
    "duration": 4,
    "start_time": "2022-04-20T19:09:49.018Z"
   },
   {
    "duration": 12,
    "start_time": "2022-04-20T19:09:49.024Z"
   },
   {
    "duration": 14,
    "start_time": "2022-04-20T19:09:49.037Z"
   },
   {
    "duration": 0,
    "start_time": "2022-04-20T19:09:49.053Z"
   },
   {
    "duration": 0,
    "start_time": "2022-04-20T19:09:49.056Z"
   },
   {
    "duration": 0,
    "start_time": "2022-04-20T19:09:49.058Z"
   },
   {
    "duration": 5,
    "start_time": "2022-04-20T19:09:55.326Z"
   },
   {
    "duration": 11,
    "start_time": "2022-04-20T19:12:27.543Z"
   },
   {
    "duration": 2,
    "start_time": "2022-04-20T19:12:34.758Z"
   },
   {
    "duration": 75,
    "start_time": "2022-04-20T19:12:34.763Z"
   },
   {
    "duration": 4,
    "start_time": "2022-04-20T19:12:34.840Z"
   },
   {
    "duration": 66,
    "start_time": "2022-04-20T19:12:34.846Z"
   },
   {
    "duration": 13,
    "start_time": "2022-04-20T19:12:34.914Z"
   },
   {
    "duration": 8,
    "start_time": "2022-04-20T19:12:34.929Z"
   },
   {
    "duration": 13,
    "start_time": "2022-04-20T19:12:34.939Z"
   },
   {
    "duration": 4,
    "start_time": "2022-04-20T19:12:34.954Z"
   },
   {
    "duration": 48,
    "start_time": "2022-04-20T19:12:34.960Z"
   },
   {
    "duration": 7,
    "start_time": "2022-04-20T19:12:35.009Z"
   },
   {
    "duration": 7,
    "start_time": "2022-04-20T19:12:35.018Z"
   },
   {
    "duration": 8,
    "start_time": "2022-04-20T19:12:35.027Z"
   },
   {
    "duration": 3,
    "start_time": "2022-04-20T19:12:35.037Z"
   },
   {
    "duration": 12,
    "start_time": "2022-04-20T19:12:35.042Z"
   },
   {
    "duration": 7,
    "start_time": "2022-04-20T19:12:35.055Z"
   },
   {
    "duration": 175,
    "start_time": "2022-04-20T19:12:35.099Z"
   },
   {
    "duration": 12,
    "start_time": "2022-04-20T19:12:35.276Z"
   },
   {
    "duration": 102,
    "start_time": "2022-04-20T19:12:35.300Z"
   },
   {
    "duration": 22,
    "start_time": "2022-04-20T19:13:47.564Z"
   },
   {
    "duration": 5,
    "start_time": "2022-04-20T19:19:18.272Z"
   },
   {
    "duration": 9,
    "start_time": "2022-04-20T19:19:46.317Z"
   },
   {
    "duration": 7,
    "start_time": "2022-04-20T19:38:51.817Z"
   },
   {
    "duration": 10,
    "start_time": "2022-04-20T19:58:53.561Z"
   },
   {
    "duration": 14,
    "start_time": "2022-04-20T19:59:57.794Z"
   },
   {
    "duration": 11,
    "start_time": "2022-04-20T20:02:59.744Z"
   },
   {
    "duration": 7,
    "start_time": "2022-04-20T20:05:39.111Z"
   },
   {
    "duration": 8,
    "start_time": "2022-04-20T20:06:33.135Z"
   },
   {
    "duration": 7,
    "start_time": "2022-04-20T20:07:54.541Z"
   },
   {
    "duration": 6,
    "start_time": "2022-04-20T20:08:23.348Z"
   },
   {
    "duration": 3,
    "start_time": "2022-04-20T20:10:43.270Z"
   },
   {
    "duration": 8,
    "start_time": "2022-04-20T20:11:12.417Z"
   },
   {
    "duration": 9,
    "start_time": "2022-04-20T20:11:39.494Z"
   },
   {
    "duration": 8,
    "start_time": "2022-04-20T20:12:19.621Z"
   },
   {
    "duration": 1761,
    "start_time": "2022-04-20T20:13:42.777Z"
   },
   {
    "duration": 20,
    "start_time": "2022-04-20T20:14:36.461Z"
   },
   {
    "duration": 54,
    "start_time": "2022-04-20T20:15:17.365Z"
   },
   {
    "duration": 1714,
    "start_time": "2022-04-20T20:16:39.593Z"
   },
   {
    "duration": 51,
    "start_time": "2022-04-20T20:16:45.713Z"
   },
   {
    "duration": 2,
    "start_time": "2022-04-20T20:16:59.609Z"
   },
   {
    "duration": 79,
    "start_time": "2022-04-20T20:16:59.614Z"
   },
   {
    "duration": 4,
    "start_time": "2022-04-20T20:16:59.695Z"
   },
   {
    "duration": 50,
    "start_time": "2022-04-20T20:16:59.700Z"
   },
   {
    "duration": 14,
    "start_time": "2022-04-20T20:16:59.853Z"
   },
   {
    "duration": 15,
    "start_time": "2022-04-20T20:16:59.870Z"
   },
   {
    "duration": 11,
    "start_time": "2022-04-20T20:16:59.887Z"
   },
   {
    "duration": 25,
    "start_time": "2022-04-20T20:16:59.900Z"
   },
   {
    "duration": 45,
    "start_time": "2022-04-20T20:16:59.926Z"
   },
   {
    "duration": 14,
    "start_time": "2022-04-20T20:16:59.973Z"
   },
   {
    "duration": 21,
    "start_time": "2022-04-20T20:16:59.988Z"
   },
   {
    "duration": 41,
    "start_time": "2022-04-20T20:17:00.011Z"
   },
   {
    "duration": 11,
    "start_time": "2022-04-20T20:17:00.053Z"
   },
   {
    "duration": 34,
    "start_time": "2022-04-20T20:17:00.065Z"
   },
   {
    "duration": 16,
    "start_time": "2022-04-20T20:17:00.101Z"
   },
   {
    "duration": 13,
    "start_time": "2022-04-20T20:17:00.119Z"
   },
   {
    "duration": 18,
    "start_time": "2022-04-20T20:17:00.133Z"
   },
   {
    "duration": 1641,
    "start_time": "2022-04-20T20:17:00.152Z"
   },
   {
    "duration": 55,
    "start_time": "2022-04-20T20:17:01.795Z"
   },
   {
    "duration": 12,
    "start_time": "2022-04-20T20:17:01.851Z"
   },
   {
    "duration": 7,
    "start_time": "2022-04-20T20:17:01.864Z"
   },
   {
    "duration": 87,
    "start_time": "2022-04-20T20:17:01.872Z"
   },
   {
    "duration": 8,
    "start_time": "2022-04-20T20:17:01.960Z"
   },
   {
    "duration": 65,
    "start_time": "2022-04-20T20:17:01.970Z"
   },
   {
    "duration": 5,
    "start_time": "2022-04-20T20:22:05.017Z"
   },
   {
    "duration": 53,
    "start_time": "2022-04-20T20:22:17.798Z"
   },
   {
    "duration": 8,
    "start_time": "2022-04-20T20:22:26.500Z"
   },
   {
    "duration": 2,
    "start_time": "2022-04-20T20:25:13.774Z"
   },
   {
    "duration": 78,
    "start_time": "2022-04-20T20:25:13.780Z"
   },
   {
    "duration": 3,
    "start_time": "2022-04-20T20:25:13.860Z"
   },
   {
    "duration": 38,
    "start_time": "2022-04-20T20:25:13.865Z"
   },
   {
    "duration": 13,
    "start_time": "2022-04-20T20:25:13.905Z"
   },
   {
    "duration": 7,
    "start_time": "2022-04-20T20:25:13.920Z"
   },
   {
    "duration": 10,
    "start_time": "2022-04-20T20:25:13.928Z"
   },
   {
    "duration": 4,
    "start_time": "2022-04-20T20:25:13.940Z"
   },
   {
    "duration": 10,
    "start_time": "2022-04-20T20:25:13.945Z"
   },
   {
    "duration": 6,
    "start_time": "2022-04-20T20:25:13.957Z"
   },
   {
    "duration": 6,
    "start_time": "2022-04-20T20:25:14.002Z"
   },
   {
    "duration": 7,
    "start_time": "2022-04-20T20:25:14.010Z"
   },
   {
    "duration": 3,
    "start_time": "2022-04-20T20:25:14.019Z"
   },
   {
    "duration": 9,
    "start_time": "2022-04-20T20:25:14.023Z"
   },
   {
    "duration": 5,
    "start_time": "2022-04-20T20:25:14.033Z"
   },
   {
    "duration": 2,
    "start_time": "2022-04-20T20:25:14.040Z"
   },
   {
    "duration": 10,
    "start_time": "2022-04-20T20:25:14.044Z"
   },
   {
    "duration": 5,
    "start_time": "2022-04-20T20:25:14.055Z"
   },
   {
    "duration": 90,
    "start_time": "2022-04-20T20:25:14.061Z"
   },
   {
    "duration": 8,
    "start_time": "2022-04-20T20:25:14.153Z"
   },
   {
    "duration": 8,
    "start_time": "2022-04-20T20:25:14.162Z"
   },
   {
    "duration": 84,
    "start_time": "2022-04-20T20:25:14.172Z"
   },
   {
    "duration": 8,
    "start_time": "2022-04-20T20:25:14.258Z"
   },
   {
    "duration": 64,
    "start_time": "2022-04-20T20:25:14.267Z"
   },
   {
    "duration": 6,
    "start_time": "2022-04-20T20:27:08.913Z"
   },
   {
    "duration": 52,
    "start_time": "2022-04-20T20:27:30.693Z"
   },
   {
    "duration": 6,
    "start_time": "2022-04-20T20:47:49.347Z"
   },
   {
    "duration": 6,
    "start_time": "2022-04-20T20:48:43.474Z"
   },
   {
    "duration": 5,
    "start_time": "2022-04-20T20:48:58.130Z"
   },
   {
    "duration": 54,
    "start_time": "2022-04-20T20:49:04.652Z"
   },
   {
    "duration": 62,
    "start_time": "2022-04-20T20:50:23.001Z"
   },
   {
    "duration": 21,
    "start_time": "2022-04-20T20:57:22.655Z"
   },
   {
    "duration": 10,
    "start_time": "2022-04-20T21:14:42.630Z"
   },
   {
    "duration": 3,
    "start_time": "2022-04-20T21:14:47.495Z"
   },
   {
    "duration": 4,
    "start_time": "2022-04-20T21:14:55.542Z"
   },
   {
    "duration": 12,
    "start_time": "2022-04-20T21:14:59.753Z"
   },
   {
    "duration": 6,
    "start_time": "2022-04-20T21:19:04.810Z"
   },
   {
    "duration": 19,
    "start_time": "2022-04-20T21:21:44.400Z"
   },
   {
    "duration": 30,
    "start_time": "2022-04-20T21:23:56.809Z"
   },
   {
    "duration": 7,
    "start_time": "2022-04-20T21:29:18.197Z"
   },
   {
    "duration": 6,
    "start_time": "2022-04-20T21:29:56.443Z"
   },
   {
    "duration": 8,
    "start_time": "2022-04-20T21:31:55.683Z"
   },
   {
    "duration": 15,
    "start_time": "2022-04-20T21:40:17.947Z"
   },
   {
    "duration": 20,
    "start_time": "2022-04-20T21:41:08.773Z"
   },
   {
    "duration": 20,
    "start_time": "2022-04-20T21:41:55.210Z"
   },
   {
    "duration": 10,
    "start_time": "2022-04-20T21:46:53.651Z"
   },
   {
    "duration": 4,
    "start_time": "2022-04-20T21:48:37.144Z"
   },
   {
    "duration": 4,
    "start_time": "2022-04-20T21:49:01.745Z"
   },
   {
    "duration": 16,
    "start_time": "2022-04-20T21:49:26.297Z"
   },
   {
    "duration": 4,
    "start_time": "2022-04-20T21:50:37.544Z"
   },
   {
    "duration": 17,
    "start_time": "2022-04-20T21:50:41.754Z"
   },
   {
    "duration": 23,
    "start_time": "2022-04-20T21:51:09.125Z"
   },
   {
    "duration": 23,
    "start_time": "2022-04-20T21:51:59.613Z"
   },
   {
    "duration": 8,
    "start_time": "2022-04-20T21:54:34.011Z"
   },
   {
    "duration": 7,
    "start_time": "2022-04-20T21:59:07.693Z"
   },
   {
    "duration": 8,
    "start_time": "2022-04-20T21:59:24.563Z"
   },
   {
    "duration": 6,
    "start_time": "2022-04-20T21:59:46.049Z"
   },
   {
    "duration": 4,
    "start_time": "2022-04-20T22:00:13.275Z"
   },
   {
    "duration": 5,
    "start_time": "2022-04-20T22:00:18.112Z"
   },
   {
    "duration": 2305,
    "start_time": "2022-04-20T22:00:33.487Z"
   },
   {
    "duration": 5,
    "start_time": "2022-04-20T22:00:36.839Z"
   },
   {
    "duration": 7,
    "start_time": "2022-04-20T22:03:17.121Z"
   },
   {
    "duration": 7,
    "start_time": "2022-04-20T22:04:53.108Z"
   },
   {
    "duration": 6,
    "start_time": "2022-04-20T22:11:33.578Z"
   },
   {
    "duration": 6,
    "start_time": "2022-04-20T22:12:17.156Z"
   },
   {
    "duration": 9,
    "start_time": "2022-04-20T22:13:02.388Z"
   },
   {
    "duration": 2,
    "start_time": "2022-04-20T22:13:52.685Z"
   },
   {
    "duration": 80,
    "start_time": "2022-04-20T22:13:52.688Z"
   },
   {
    "duration": 3,
    "start_time": "2022-04-20T22:13:52.770Z"
   },
   {
    "duration": 21,
    "start_time": "2022-04-20T22:13:52.775Z"
   },
   {
    "duration": 13,
    "start_time": "2022-04-20T22:13:52.863Z"
   },
   {
    "duration": 8,
    "start_time": "2022-04-20T22:13:52.878Z"
   },
   {
    "duration": 11,
    "start_time": "2022-04-20T22:13:52.887Z"
   },
   {
    "duration": 4,
    "start_time": "2022-04-20T22:13:52.899Z"
   },
   {
    "duration": 9,
    "start_time": "2022-04-20T22:13:52.904Z"
   },
   {
    "duration": 6,
    "start_time": "2022-04-20T22:13:52.914Z"
   },
   {
    "duration": 6,
    "start_time": "2022-04-20T22:13:52.922Z"
   },
   {
    "duration": 7,
    "start_time": "2022-04-20T22:13:52.930Z"
   },
   {
    "duration": 3,
    "start_time": "2022-04-20T22:13:52.939Z"
   },
   {
    "duration": 8,
    "start_time": "2022-04-20T22:13:52.944Z"
   },
   {
    "duration": 5,
    "start_time": "2022-04-20T22:13:52.954Z"
   },
   {
    "duration": 3,
    "start_time": "2022-04-20T22:13:53.001Z"
   },
   {
    "duration": 17,
    "start_time": "2022-04-20T22:13:53.005Z"
   },
   {
    "duration": 4,
    "start_time": "2022-04-20T22:13:53.023Z"
   },
   {
    "duration": 22,
    "start_time": "2022-04-20T22:13:53.028Z"
   },
   {
    "duration": 3,
    "start_time": "2022-04-20T22:13:53.052Z"
   },
   {
    "duration": 11,
    "start_time": "2022-04-20T22:13:53.056Z"
   },
   {
    "duration": 10,
    "start_time": "2022-04-20T22:13:53.068Z"
   },
   {
    "duration": 37,
    "start_time": "2022-04-20T22:13:53.079Z"
   },
   {
    "duration": 36,
    "start_time": "2022-04-20T22:13:53.117Z"
   },
   {
    "duration": 8,
    "start_time": "2022-04-20T22:13:53.154Z"
   },
   {
    "duration": 7,
    "start_time": "2022-04-20T22:13:53.163Z"
   },
   {
    "duration": 91,
    "start_time": "2022-04-20T22:13:53.172Z"
   },
   {
    "duration": 8,
    "start_time": "2022-04-20T22:13:53.265Z"
   },
   {
    "duration": 64,
    "start_time": "2022-04-20T22:13:53.275Z"
   },
   {
    "duration": 8,
    "start_time": "2022-04-20T22:14:29.205Z"
   },
   {
    "duration": 8,
    "start_time": "2022-04-20T22:14:38.614Z"
   },
   {
    "duration": 46,
    "start_time": "2022-04-21T06:51:57.338Z"
   },
   {
    "duration": 501,
    "start_time": "2022-04-21T06:52:04.031Z"
   },
   {
    "duration": 112,
    "start_time": "2022-04-21T06:52:04.534Z"
   },
   {
    "duration": 7,
    "start_time": "2022-04-21T06:52:04.648Z"
   },
   {
    "duration": 42,
    "start_time": "2022-04-21T06:52:04.657Z"
   },
   {
    "duration": 15,
    "start_time": "2022-04-21T06:52:04.701Z"
   },
   {
    "duration": 12,
    "start_time": "2022-04-21T06:52:04.717Z"
   },
   {
    "duration": 34,
    "start_time": "2022-04-21T06:52:04.730Z"
   },
   {
    "duration": 7,
    "start_time": "2022-04-21T06:52:04.765Z"
   },
   {
    "duration": 10,
    "start_time": "2022-04-21T06:52:04.774Z"
   },
   {
    "duration": 6,
    "start_time": "2022-04-21T06:52:04.787Z"
   },
   {
    "duration": 13,
    "start_time": "2022-04-21T06:52:04.794Z"
   },
   {
    "duration": 9,
    "start_time": "2022-04-21T06:52:04.809Z"
   },
   {
    "duration": 5,
    "start_time": "2022-04-21T06:52:04.855Z"
   },
   {
    "duration": 11,
    "start_time": "2022-04-21T06:52:04.862Z"
   },
   {
    "duration": 6,
    "start_time": "2022-04-21T06:52:04.875Z"
   },
   {
    "duration": 4,
    "start_time": "2022-04-21T06:52:04.883Z"
   },
   {
    "duration": 10,
    "start_time": "2022-04-21T06:52:04.889Z"
   },
   {
    "duration": 5,
    "start_time": "2022-04-21T06:52:04.901Z"
   },
   {
    "duration": 57,
    "start_time": "2022-04-21T06:52:04.908Z"
   },
   {
    "duration": 4,
    "start_time": "2022-04-21T06:52:04.967Z"
   },
   {
    "duration": 22,
    "start_time": "2022-04-21T06:52:04.974Z"
   },
   {
    "duration": 19,
    "start_time": "2022-04-21T06:52:04.998Z"
   },
   {
    "duration": 22,
    "start_time": "2022-04-21T06:52:05.018Z"
   },
   {
    "duration": 2313,
    "start_time": "2022-04-21T06:52:05.041Z"
   },
   {
    "duration": 0,
    "start_time": "2022-04-21T06:52:07.357Z"
   },
   {
    "duration": 0,
    "start_time": "2022-04-21T06:52:07.358Z"
   },
   {
    "duration": 0,
    "start_time": "2022-04-21T06:52:07.360Z"
   },
   {
    "duration": 0,
    "start_time": "2022-04-21T06:52:07.362Z"
   },
   {
    "duration": 0,
    "start_time": "2022-04-21T06:52:07.363Z"
   },
   {
    "duration": 0,
    "start_time": "2022-04-21T06:52:07.365Z"
   },
   {
    "duration": 2323,
    "start_time": "2022-04-21T06:52:31.155Z"
   },
   {
    "duration": 2125,
    "start_time": "2022-04-21T06:52:42.224Z"
   },
   {
    "duration": 5,
    "start_time": "2022-04-21T06:56:31.789Z"
   },
   {
    "duration": 3510,
    "start_time": "2022-04-21T06:56:51.497Z"
   },
   {
    "duration": 2508,
    "start_time": "2022-04-21T06:57:28.886Z"
   },
   {
    "duration": 9,
    "start_time": "2022-04-21T07:08:00.208Z"
   },
   {
    "duration": 8,
    "start_time": "2022-04-21T07:09:32.921Z"
   },
   {
    "duration": 8,
    "start_time": "2022-04-21T07:09:48.847Z"
   },
   {
    "duration": 8,
    "start_time": "2022-04-21T07:10:03.422Z"
   },
   {
    "duration": 8,
    "start_time": "2022-04-21T07:10:36.437Z"
   },
   {
    "duration": 5,
    "start_time": "2022-04-21T07:11:24.037Z"
   },
   {
    "duration": 7,
    "start_time": "2022-04-21T07:21:40.626Z"
   },
   {
    "duration": 21,
    "start_time": "2022-04-21T07:23:28.896Z"
   },
   {
    "duration": 8,
    "start_time": "2022-04-21T07:24:01.208Z"
   },
   {
    "duration": 14,
    "start_time": "2022-04-21T07:24:18.113Z"
   },
   {
    "duration": 13,
    "start_time": "2022-04-21T07:24:32.922Z"
   },
   {
    "duration": 4,
    "start_time": "2022-04-21T07:25:45.744Z"
   },
   {
    "duration": 52,
    "start_time": "2022-04-21T07:26:47.471Z"
   },
   {
    "duration": 7,
    "start_time": "2022-04-21T07:27:08.134Z"
   },
   {
    "duration": 25,
    "start_time": "2022-04-21T07:27:19.822Z"
   },
   {
    "duration": 10,
    "start_time": "2022-04-21T07:50:33.186Z"
   },
   {
    "duration": 5,
    "start_time": "2022-04-21T07:50:34.562Z"
   },
   {
    "duration": 7,
    "start_time": "2022-04-21T07:50:45.382Z"
   },
   {
    "duration": 7,
    "start_time": "2022-04-21T07:51:00.704Z"
   },
   {
    "duration": 4,
    "start_time": "2022-04-21T07:51:08.458Z"
   },
   {
    "duration": 24,
    "start_time": "2022-04-21T07:51:14.709Z"
   },
   {
    "duration": 24,
    "start_time": "2022-04-21T07:51:24.954Z"
   },
   {
    "duration": 4,
    "start_time": "2022-04-21T07:51:26.413Z"
   },
   {
    "duration": 12,
    "start_time": "2022-04-21T07:51:28.881Z"
   },
   {
    "duration": 8,
    "start_time": "2022-04-21T07:55:27.693Z"
   },
   {
    "duration": 7,
    "start_time": "2022-04-21T07:55:34.522Z"
   },
   {
    "duration": 4,
    "start_time": "2022-04-21T07:55:36.345Z"
   },
   {
    "duration": 6,
    "start_time": "2022-04-21T07:55:37.655Z"
   },
   {
    "duration": 4,
    "start_time": "2022-04-21T07:55:39.841Z"
   },
   {
    "duration": 24,
    "start_time": "2022-04-21T07:55:42.131Z"
   },
   {
    "duration": 3,
    "start_time": "2022-04-21T07:55:46.196Z"
   },
   {
    "duration": 13,
    "start_time": "2022-04-21T07:55:48.224Z"
   },
   {
    "duration": 3,
    "start_time": "2022-04-21T07:56:06.430Z"
   },
   {
    "duration": 114,
    "start_time": "2022-04-21T07:56:06.435Z"
   },
   {
    "duration": 3,
    "start_time": "2022-04-21T07:56:06.551Z"
   },
   {
    "duration": 31,
    "start_time": "2022-04-21T07:56:06.556Z"
   },
   {
    "duration": 28,
    "start_time": "2022-04-21T07:56:06.589Z"
   },
   {
    "duration": 18,
    "start_time": "2022-04-21T07:56:06.619Z"
   },
   {
    "duration": 16,
    "start_time": "2022-04-21T07:56:06.639Z"
   },
   {
    "duration": 10,
    "start_time": "2022-04-21T07:56:06.656Z"
   },
   {
    "duration": 20,
    "start_time": "2022-04-21T07:56:06.667Z"
   },
   {
    "duration": 18,
    "start_time": "2022-04-21T07:56:06.688Z"
   },
   {
    "duration": 27,
    "start_time": "2022-04-21T07:56:06.708Z"
   },
   {
    "duration": 20,
    "start_time": "2022-04-21T07:56:06.737Z"
   },
   {
    "duration": 18,
    "start_time": "2022-04-21T07:56:06.758Z"
   },
   {
    "duration": 14,
    "start_time": "2022-04-21T07:56:06.778Z"
   },
   {
    "duration": 19,
    "start_time": "2022-04-21T07:56:06.794Z"
   },
   {
    "duration": 17,
    "start_time": "2022-04-21T07:56:06.814Z"
   },
   {
    "duration": 36,
    "start_time": "2022-04-21T07:56:06.833Z"
   },
   {
    "duration": 14,
    "start_time": "2022-04-21T07:56:06.871Z"
   },
   {
    "duration": 34,
    "start_time": "2022-04-21T07:56:06.887Z"
   },
   {
    "duration": 18,
    "start_time": "2022-04-21T07:56:06.923Z"
   },
   {
    "duration": 9,
    "start_time": "2022-04-21T07:56:06.942Z"
   },
   {
    "duration": 24,
    "start_time": "2022-04-21T07:56:06.953Z"
   },
   {
    "duration": 36,
    "start_time": "2022-04-21T07:56:06.978Z"
   },
   {
    "duration": 10,
    "start_time": "2022-04-21T07:56:07.016Z"
   },
   {
    "duration": 8,
    "start_time": "2022-04-21T07:56:07.028Z"
   },
   {
    "duration": 25,
    "start_time": "2022-04-21T07:56:07.037Z"
   },
   {
    "duration": 18,
    "start_time": "2022-04-21T07:56:07.063Z"
   },
   {
    "duration": 52,
    "start_time": "2022-04-21T07:56:07.083Z"
   },
   {
    "duration": 17,
    "start_time": "2022-04-21T07:56:07.138Z"
   },
   {
    "duration": 36,
    "start_time": "2022-04-21T07:56:07.157Z"
   },
   {
    "duration": 18,
    "start_time": "2022-04-21T07:56:07.194Z"
   },
   {
    "duration": 21,
    "start_time": "2022-04-21T07:56:07.214Z"
   },
   {
    "duration": 16,
    "start_time": "2022-04-21T07:56:07.237Z"
   },
   {
    "duration": 19,
    "start_time": "2022-04-21T07:56:07.255Z"
   },
   {
    "duration": 32,
    "start_time": "2022-04-21T07:56:07.276Z"
   },
   {
    "duration": 65,
    "start_time": "2022-04-21T07:56:07.310Z"
   },
   {
    "duration": 9,
    "start_time": "2022-04-21T07:57:15.508Z"
   },
   {
    "duration": 2,
    "start_time": "2022-04-21T07:57:32.164Z"
   },
   {
    "duration": 99,
    "start_time": "2022-04-21T07:57:32.170Z"
   },
   {
    "duration": 5,
    "start_time": "2022-04-21T07:57:32.272Z"
   },
   {
    "duration": 27,
    "start_time": "2022-04-21T07:57:32.279Z"
   },
   {
    "duration": 23,
    "start_time": "2022-04-21T07:57:32.308Z"
   },
   {
    "duration": 29,
    "start_time": "2022-04-21T07:57:32.333Z"
   },
   {
    "duration": 13,
    "start_time": "2022-04-21T07:57:32.364Z"
   },
   {
    "duration": 22,
    "start_time": "2022-04-21T07:57:32.378Z"
   },
   {
    "duration": 15,
    "start_time": "2022-04-21T07:57:32.402Z"
   },
   {
    "duration": 6,
    "start_time": "2022-04-21T07:57:32.418Z"
   },
   {
    "duration": 12,
    "start_time": "2022-04-21T07:57:32.427Z"
   },
   {
    "duration": 22,
    "start_time": "2022-04-21T07:57:32.440Z"
   },
   {
    "duration": 5,
    "start_time": "2022-04-21T07:57:32.463Z"
   },
   {
    "duration": 15,
    "start_time": "2022-04-21T07:57:32.470Z"
   },
   {
    "duration": 10,
    "start_time": "2022-04-21T07:57:32.487Z"
   },
   {
    "duration": 5,
    "start_time": "2022-04-21T07:57:32.499Z"
   },
   {
    "duration": 11,
    "start_time": "2022-04-21T07:57:32.505Z"
   },
   {
    "duration": 6,
    "start_time": "2022-04-21T07:57:32.518Z"
   },
   {
    "duration": 51,
    "start_time": "2022-04-21T07:57:32.525Z"
   },
   {
    "duration": 3,
    "start_time": "2022-04-21T07:57:32.578Z"
   },
   {
    "duration": 7,
    "start_time": "2022-04-21T07:57:32.582Z"
   },
   {
    "duration": 5,
    "start_time": "2022-04-21T07:57:32.591Z"
   },
   {
    "duration": 15,
    "start_time": "2022-04-21T07:57:32.598Z"
   },
   {
    "duration": 8,
    "start_time": "2022-04-21T07:57:32.615Z"
   },
   {
    "duration": 35,
    "start_time": "2022-04-21T07:57:32.624Z"
   },
   {
    "duration": 4,
    "start_time": "2022-04-21T07:57:32.661Z"
   },
   {
    "duration": 10,
    "start_time": "2022-04-21T07:57:32.667Z"
   },
   {
    "duration": 7,
    "start_time": "2022-04-21T07:57:32.678Z"
   },
   {
    "duration": 25,
    "start_time": "2022-04-21T07:57:32.688Z"
   },
   {
    "duration": 4,
    "start_time": "2022-04-21T07:57:32.714Z"
   },
   {
    "duration": 49,
    "start_time": "2022-04-21T07:57:32.720Z"
   },
   {
    "duration": 7,
    "start_time": "2022-04-21T07:57:32.771Z"
   },
   {
    "duration": 4,
    "start_time": "2022-04-21T07:57:32.780Z"
   },
   {
    "duration": 5,
    "start_time": "2022-04-21T07:57:32.786Z"
   },
   {
    "duration": 5,
    "start_time": "2022-04-21T07:57:32.792Z"
   },
   {
    "duration": 10,
    "start_time": "2022-04-21T07:57:32.798Z"
   },
   {
    "duration": 74,
    "start_time": "2022-04-21T07:57:32.810Z"
   },
   {
    "duration": 6,
    "start_time": "2022-04-21T08:00:34.744Z"
   },
   {
    "duration": 3,
    "start_time": "2022-04-21T08:00:43.370Z"
   },
   {
    "duration": 77,
    "start_time": "2022-04-21T08:00:43.375Z"
   },
   {
    "duration": 4,
    "start_time": "2022-04-21T08:00:43.454Z"
   },
   {
    "duration": 25,
    "start_time": "2022-04-21T08:00:43.460Z"
   },
   {
    "duration": 17,
    "start_time": "2022-04-21T08:00:43.488Z"
   },
   {
    "duration": 10,
    "start_time": "2022-04-21T08:00:43.506Z"
   },
   {
    "duration": 44,
    "start_time": "2022-04-21T08:00:43.517Z"
   },
   {
    "duration": 4,
    "start_time": "2022-04-21T08:00:43.563Z"
   },
   {
    "duration": 11,
    "start_time": "2022-04-21T08:00:43.570Z"
   },
   {
    "duration": 7,
    "start_time": "2022-04-21T08:00:43.583Z"
   },
   {
    "duration": 9,
    "start_time": "2022-04-21T08:00:43.592Z"
   },
   {
    "duration": 9,
    "start_time": "2022-04-21T08:00:43.603Z"
   },
   {
    "duration": 4,
    "start_time": "2022-04-21T08:00:43.613Z"
   },
   {
    "duration": 9,
    "start_time": "2022-04-21T08:00:43.654Z"
   },
   {
    "duration": 6,
    "start_time": "2022-04-21T08:00:43.664Z"
   },
   {
    "duration": 3,
    "start_time": "2022-04-21T08:00:43.672Z"
   },
   {
    "duration": 13,
    "start_time": "2022-04-21T08:00:43.677Z"
   },
   {
    "duration": 5,
    "start_time": "2022-04-21T08:00:43.691Z"
   },
   {
    "duration": 26,
    "start_time": "2022-04-21T08:00:43.697Z"
   },
   {
    "duration": 31,
    "start_time": "2022-04-21T08:00:43.725Z"
   },
   {
    "duration": 10,
    "start_time": "2022-04-21T08:00:43.758Z"
   },
   {
    "duration": 7,
    "start_time": "2022-04-21T08:00:43.770Z"
   },
   {
    "duration": 14,
    "start_time": "2022-04-21T08:00:43.779Z"
   },
   {
    "duration": 9,
    "start_time": "2022-04-21T08:00:43.795Z"
   },
   {
    "duration": 10,
    "start_time": "2022-04-21T08:00:43.806Z"
   },
   {
    "duration": 7,
    "start_time": "2022-04-21T08:00:43.818Z"
   },
   {
    "duration": 32,
    "start_time": "2022-04-21T08:00:43.826Z"
   },
   {
    "duration": 14,
    "start_time": "2022-04-21T08:00:43.860Z"
   },
   {
    "duration": 17,
    "start_time": "2022-04-21T08:00:43.877Z"
   },
   {
    "duration": 10,
    "start_time": "2022-04-21T08:00:43.896Z"
   },
   {
    "duration": 29,
    "start_time": "2022-04-21T08:00:43.907Z"
   },
   {
    "duration": 9,
    "start_time": "2022-04-21T08:00:43.938Z"
   },
   {
    "duration": 13,
    "start_time": "2022-04-21T08:00:43.949Z"
   },
   {
    "duration": 8,
    "start_time": "2022-04-21T08:00:43.963Z"
   },
   {
    "duration": 10,
    "start_time": "2022-04-21T08:00:43.973Z"
   },
   {
    "duration": 7,
    "start_time": "2022-04-21T08:00:43.985Z"
   },
   {
    "duration": 60,
    "start_time": "2022-04-21T08:00:43.994Z"
   },
   {
    "duration": 23,
    "start_time": "2022-04-21T08:01:11.202Z"
   },
   {
    "duration": 7,
    "start_time": "2022-04-21T08:16:28.592Z"
   },
   {
    "duration": 25,
    "start_time": "2022-04-21T08:16:47.648Z"
   },
   {
    "duration": 402,
    "start_time": "2022-04-21T08:29:37.096Z"
   },
   {
    "duration": 372,
    "start_time": "2022-04-21T08:30:04.637Z"
   },
   {
    "duration": 39,
    "start_time": "2022-04-21T08:31:14.332Z"
   },
   {
    "duration": 15,
    "start_time": "2022-04-21T08:34:39.712Z"
   },
   {
    "duration": 17,
    "start_time": "2022-04-21T09:34:30.927Z"
   },
   {
    "duration": 49,
    "start_time": "2022-04-21T15:25:39.512Z"
   },
   {
    "duration": 7,
    "start_time": "2022-04-21T15:26:06.302Z"
   },
   {
    "duration": 392,
    "start_time": "2022-04-21T15:26:10.420Z"
   },
   {
    "duration": 82,
    "start_time": "2022-04-21T15:26:10.814Z"
   },
   {
    "duration": 4,
    "start_time": "2022-04-21T15:26:10.897Z"
   },
   {
    "duration": 30,
    "start_time": "2022-04-21T15:26:10.902Z"
   },
   {
    "duration": 15,
    "start_time": "2022-04-21T15:26:10.934Z"
   },
   {
    "duration": 8,
    "start_time": "2022-04-21T15:26:10.950Z"
   },
   {
    "duration": 40,
    "start_time": "2022-04-21T15:26:10.959Z"
   },
   {
    "duration": 5,
    "start_time": "2022-04-21T15:26:11.000Z"
   },
   {
    "duration": 9,
    "start_time": "2022-04-21T15:26:11.007Z"
   },
   {
    "duration": 6,
    "start_time": "2022-04-21T15:26:11.018Z"
   },
   {
    "duration": 10,
    "start_time": "2022-04-21T15:26:11.026Z"
   },
   {
    "duration": 8,
    "start_time": "2022-04-21T15:26:11.038Z"
   },
   {
    "duration": 3,
    "start_time": "2022-04-21T15:26:11.048Z"
   },
   {
    "duration": 44,
    "start_time": "2022-04-21T15:26:11.053Z"
   },
   {
    "duration": 7,
    "start_time": "2022-04-21T15:26:11.098Z"
   },
   {
    "duration": 3,
    "start_time": "2022-04-21T15:26:11.106Z"
   },
   {
    "duration": 10,
    "start_time": "2022-04-21T15:26:11.111Z"
   },
   {
    "duration": 6,
    "start_time": "2022-04-21T15:26:11.122Z"
   },
   {
    "duration": 24,
    "start_time": "2022-04-21T15:26:11.129Z"
   },
   {
    "duration": 3,
    "start_time": "2022-04-21T15:26:11.155Z"
   },
   {
    "duration": 6,
    "start_time": "2022-04-21T15:26:11.192Z"
   },
   {
    "duration": 7,
    "start_time": "2022-04-21T15:26:11.200Z"
   },
   {
    "duration": 21,
    "start_time": "2022-04-21T15:26:11.208Z"
   },
   {
    "duration": 11,
    "start_time": "2022-04-21T15:26:11.231Z"
   },
   {
    "duration": 8,
    "start_time": "2022-04-21T15:26:11.244Z"
   },
   {
    "duration": 5,
    "start_time": "2022-04-21T15:26:11.253Z"
   },
   {
    "duration": 38,
    "start_time": "2022-04-21T15:26:11.259Z"
   },
   {
    "duration": 5,
    "start_time": "2022-04-21T15:26:11.301Z"
   },
   {
    "duration": 25,
    "start_time": "2022-04-21T15:26:11.307Z"
   },
   {
    "duration": 24,
    "start_time": "2022-04-21T15:26:11.334Z"
   },
   {
    "duration": 1163,
    "start_time": "2022-04-21T15:26:11.360Z"
   },
   {
    "duration": 0,
    "start_time": "2022-04-21T15:26:12.525Z"
   },
   {
    "duration": 0,
    "start_time": "2022-04-21T15:26:12.526Z"
   },
   {
    "duration": 0,
    "start_time": "2022-04-21T15:26:12.528Z"
   },
   {
    "duration": 0,
    "start_time": "2022-04-21T15:26:12.528Z"
   },
   {
    "duration": 0,
    "start_time": "2022-04-21T15:26:12.530Z"
   },
   {
    "duration": 0,
    "start_time": "2022-04-21T15:26:12.531Z"
   },
   {
    "duration": 0,
    "start_time": "2022-04-21T15:26:12.532Z"
   },
   {
    "duration": 0,
    "start_time": "2022-04-21T15:26:12.533Z"
   },
   {
    "duration": 5,
    "start_time": "2022-04-21T15:27:32.212Z"
   },
   {
    "duration": 15,
    "start_time": "2022-04-21T15:28:34.257Z"
   },
   {
    "duration": 26,
    "start_time": "2022-04-21T15:28:47.120Z"
   },
   {
    "duration": 3,
    "start_time": "2022-04-21T15:28:47.248Z"
   },
   {
    "duration": 4,
    "start_time": "2022-04-21T16:09:18.562Z"
   },
   {
    "duration": 25,
    "start_time": "2022-04-21T16:09:48.111Z"
   },
   {
    "duration": 3,
    "start_time": "2022-04-21T16:38:27.722Z"
   },
   {
    "duration": 82,
    "start_time": "2022-04-21T16:38:27.726Z"
   },
   {
    "duration": 3,
    "start_time": "2022-04-21T16:38:27.810Z"
   },
   {
    "duration": 26,
    "start_time": "2022-04-21T16:38:27.815Z"
   },
   {
    "duration": 14,
    "start_time": "2022-04-21T16:38:27.842Z"
   },
   {
    "duration": 9,
    "start_time": "2022-04-21T16:38:27.858Z"
   },
   {
    "duration": 10,
    "start_time": "2022-04-21T16:38:27.893Z"
   },
   {
    "duration": 4,
    "start_time": "2022-04-21T16:38:27.905Z"
   },
   {
    "duration": 9,
    "start_time": "2022-04-21T16:38:27.912Z"
   },
   {
    "duration": 7,
    "start_time": "2022-04-21T16:38:27.923Z"
   },
   {
    "duration": 10,
    "start_time": "2022-04-21T16:38:27.931Z"
   },
   {
    "duration": 9,
    "start_time": "2022-04-21T16:38:27.942Z"
   },
   {
    "duration": 40,
    "start_time": "2022-04-21T16:38:27.952Z"
   },
   {
    "duration": 10,
    "start_time": "2022-04-21T16:38:27.994Z"
   },
   {
    "duration": 10,
    "start_time": "2022-04-21T16:38:28.005Z"
   },
   {
    "duration": 5,
    "start_time": "2022-04-21T16:38:28.017Z"
   },
   {
    "duration": 13,
    "start_time": "2022-04-21T16:38:28.023Z"
   },
   {
    "duration": 5,
    "start_time": "2022-04-21T16:38:28.037Z"
   },
   {
    "duration": 50,
    "start_time": "2022-04-21T16:38:28.043Z"
   },
   {
    "duration": 3,
    "start_time": "2022-04-21T16:38:28.095Z"
   },
   {
    "duration": 8,
    "start_time": "2022-04-21T16:38:28.100Z"
   },
   {
    "duration": 7,
    "start_time": "2022-04-21T16:38:28.109Z"
   },
   {
    "duration": 17,
    "start_time": "2022-04-21T16:38:28.117Z"
   },
   {
    "duration": 11,
    "start_time": "2022-04-21T16:38:28.137Z"
   },
   {
    "duration": 8,
    "start_time": "2022-04-21T16:38:28.149Z"
   },
   {
    "duration": 35,
    "start_time": "2022-04-21T16:38:28.159Z"
   },
   {
    "duration": 25,
    "start_time": "2022-04-21T16:38:28.196Z"
   },
   {
    "duration": 18,
    "start_time": "2022-04-21T16:44:31.246Z"
   },
   {
    "duration": 10,
    "start_time": "2022-04-21T16:44:56.860Z"
   },
   {
    "duration": 10,
    "start_time": "2022-04-21T16:45:43.050Z"
   },
   {
    "duration": 7,
    "start_time": "2022-04-21T16:46:03.834Z"
   },
   {
    "duration": 7,
    "start_time": "2022-04-21T16:46:09.114Z"
   },
   {
    "duration": 3,
    "start_time": "2022-04-21T16:48:42.134Z"
   },
   {
    "duration": 80,
    "start_time": "2022-04-21T16:48:42.139Z"
   },
   {
    "duration": 4,
    "start_time": "2022-04-21T16:48:42.221Z"
   },
   {
    "duration": 24,
    "start_time": "2022-04-21T16:48:42.227Z"
   },
   {
    "duration": 44,
    "start_time": "2022-04-21T16:48:42.253Z"
   },
   {
    "duration": 9,
    "start_time": "2022-04-21T16:48:42.299Z"
   },
   {
    "duration": 11,
    "start_time": "2022-04-21T16:48:42.309Z"
   },
   {
    "duration": 4,
    "start_time": "2022-04-21T16:48:42.321Z"
   },
   {
    "duration": 10,
    "start_time": "2022-04-21T16:48:42.327Z"
   },
   {
    "duration": 5,
    "start_time": "2022-04-21T16:48:42.339Z"
   },
   {
    "duration": 6,
    "start_time": "2022-04-21T16:48:42.347Z"
   },
   {
    "duration": 9,
    "start_time": "2022-04-21T16:48:42.393Z"
   },
   {
    "duration": 22,
    "start_time": "2022-04-21T16:48:42.404Z"
   },
   {
    "duration": 15,
    "start_time": "2022-04-21T16:48:42.428Z"
   },
   {
    "duration": 10,
    "start_time": "2022-04-21T16:48:42.445Z"
   },
   {
    "duration": 5,
    "start_time": "2022-04-21T16:48:42.456Z"
   },
   {
    "duration": 19,
    "start_time": "2022-04-21T16:48:42.463Z"
   },
   {
    "duration": 8,
    "start_time": "2022-04-21T16:48:42.484Z"
   },
   {
    "duration": 25,
    "start_time": "2022-04-21T16:48:42.494Z"
   },
   {
    "duration": 5,
    "start_time": "2022-04-21T16:48:42.521Z"
   },
   {
    "duration": 10,
    "start_time": "2022-04-21T16:48:42.528Z"
   },
   {
    "duration": 8,
    "start_time": "2022-04-21T16:48:42.540Z"
   },
   {
    "duration": 18,
    "start_time": "2022-04-21T16:48:42.549Z"
   },
   {
    "duration": 31,
    "start_time": "2022-04-21T16:48:42.569Z"
   },
   {
    "duration": 8,
    "start_time": "2022-04-21T16:48:42.602Z"
   },
   {
    "duration": 9,
    "start_time": "2022-04-21T16:48:42.612Z"
   },
   {
    "duration": 8,
    "start_time": "2022-04-21T16:48:42.622Z"
   },
   {
    "duration": 30,
    "start_time": "2022-04-21T16:48:42.632Z"
   },
   {
    "duration": 11,
    "start_time": "2022-04-21T16:49:55.485Z"
   },
   {
    "duration": 5,
    "start_time": "2022-04-21T16:55:36.474Z"
   },
   {
    "duration": 4,
    "start_time": "2022-04-21T17:10:12.087Z"
   },
   {
    "duration": 6,
    "start_time": "2022-04-21T17:14:14.261Z"
   },
   {
    "duration": 8,
    "start_time": "2022-04-21T17:18:39.566Z"
   },
   {
    "duration": 2,
    "start_time": "2022-04-21T17:21:34.935Z"
   },
   {
    "duration": 85,
    "start_time": "2022-04-21T17:21:34.941Z"
   },
   {
    "duration": 4,
    "start_time": "2022-04-21T17:21:35.028Z"
   },
   {
    "duration": 24,
    "start_time": "2022-04-21T17:21:35.067Z"
   },
   {
    "duration": 14,
    "start_time": "2022-04-21T17:21:35.093Z"
   },
   {
    "duration": 9,
    "start_time": "2022-04-21T17:21:35.109Z"
   },
   {
    "duration": 10,
    "start_time": "2022-04-21T17:21:35.120Z"
   },
   {
    "duration": 4,
    "start_time": "2022-04-21T17:21:35.133Z"
   },
   {
    "duration": 10,
    "start_time": "2022-04-21T17:21:35.138Z"
   },
   {
    "duration": 47,
    "start_time": "2022-04-21T17:21:35.150Z"
   },
   {
    "duration": 9,
    "start_time": "2022-04-21T17:21:35.199Z"
   },
   {
    "duration": 9,
    "start_time": "2022-04-21T17:21:35.209Z"
   },
   {
    "duration": 5,
    "start_time": "2022-04-21T17:21:35.219Z"
   },
   {
    "duration": 12,
    "start_time": "2022-04-21T17:21:35.226Z"
   },
   {
    "duration": 6,
    "start_time": "2022-04-21T17:21:35.240Z"
   },
   {
    "duration": 9,
    "start_time": "2022-04-21T17:21:35.248Z"
   },
   {
    "duration": 47,
    "start_time": "2022-04-21T17:21:35.260Z"
   },
   {
    "duration": 5,
    "start_time": "2022-04-21T17:21:35.309Z"
   },
   {
    "duration": 13,
    "start_time": "2022-04-21T17:21:35.315Z"
   },
   {
    "duration": 15,
    "start_time": "2022-04-21T17:21:35.330Z"
   },
   {
    "duration": 13,
    "start_time": "2022-04-21T17:21:35.347Z"
   },
   {
    "duration": 17,
    "start_time": "2022-04-21T17:21:35.362Z"
   },
   {
    "duration": 14,
    "start_time": "2022-04-21T17:21:35.381Z"
   },
   {
    "duration": 7,
    "start_time": "2022-04-21T17:21:35.396Z"
   },
   {
    "duration": 10,
    "start_time": "2022-04-21T17:21:35.405Z"
   },
   {
    "duration": 13,
    "start_time": "2022-04-21T17:21:35.417Z"
   },
   {
    "duration": 33,
    "start_time": "2022-04-21T17:21:35.431Z"
   },
   {
    "duration": 3,
    "start_time": "2022-04-21T17:22:55.123Z"
   },
   {
    "duration": 84,
    "start_time": "2022-04-21T17:22:55.128Z"
   },
   {
    "duration": 5,
    "start_time": "2022-04-21T17:22:55.214Z"
   },
   {
    "duration": 25,
    "start_time": "2022-04-21T17:22:55.221Z"
   },
   {
    "duration": 45,
    "start_time": "2022-04-21T17:22:55.248Z"
   },
   {
    "duration": 11,
    "start_time": "2022-04-21T17:22:55.295Z"
   },
   {
    "duration": 12,
    "start_time": "2022-04-21T17:22:55.307Z"
   },
   {
    "duration": 5,
    "start_time": "2022-04-21T17:22:55.320Z"
   },
   {
    "duration": 11,
    "start_time": "2022-04-21T17:22:55.327Z"
   },
   {
    "duration": 6,
    "start_time": "2022-04-21T17:22:55.340Z"
   },
   {
    "duration": 48,
    "start_time": "2022-04-21T17:22:55.348Z"
   },
   {
    "duration": 11,
    "start_time": "2022-04-21T17:22:55.398Z"
   },
   {
    "duration": 5,
    "start_time": "2022-04-21T17:22:55.411Z"
   },
   {
    "duration": 10,
    "start_time": "2022-04-21T17:22:55.418Z"
   },
   {
    "duration": 7,
    "start_time": "2022-04-21T17:22:55.430Z"
   },
   {
    "duration": 7,
    "start_time": "2022-04-21T17:22:55.439Z"
   },
   {
    "duration": 59,
    "start_time": "2022-04-21T17:22:55.448Z"
   },
   {
    "duration": 5,
    "start_time": "2022-04-21T17:22:55.509Z"
   },
   {
    "duration": 7,
    "start_time": "2022-04-21T17:22:55.516Z"
   },
   {
    "duration": 11,
    "start_time": "2022-04-21T17:22:55.525Z"
   },
   {
    "duration": 9,
    "start_time": "2022-04-21T17:22:55.538Z"
   },
   {
    "duration": 14,
    "start_time": "2022-04-21T17:22:55.549Z"
   },
   {
    "duration": 8,
    "start_time": "2022-04-21T17:22:55.592Z"
   },
   {
    "duration": 9,
    "start_time": "2022-04-21T17:22:55.602Z"
   },
   {
    "duration": 10,
    "start_time": "2022-04-21T17:22:55.613Z"
   },
   {
    "duration": 5,
    "start_time": "2022-04-21T17:22:55.625Z"
   },
   {
    "duration": 29,
    "start_time": "2022-04-21T17:22:55.631Z"
   },
   {
    "duration": 4,
    "start_time": "2022-04-21T17:26:17.972Z"
   },
   {
    "duration": 5,
    "start_time": "2022-04-21T17:26:34.682Z"
   },
   {
    "duration": 24,
    "start_time": "2022-04-21T17:27:49.845Z"
   },
   {
    "duration": 5,
    "start_time": "2022-04-21T17:29:36.021Z"
   },
   {
    "duration": 5,
    "start_time": "2022-04-21T17:29:59.117Z"
   },
   {
    "duration": 9,
    "start_time": "2022-04-21T17:30:00.700Z"
   },
   {
    "duration": 3,
    "start_time": "2022-04-21T17:30:05.570Z"
   },
   {
    "duration": 80,
    "start_time": "2022-04-21T17:30:05.577Z"
   },
   {
    "duration": 4,
    "start_time": "2022-04-21T17:30:05.659Z"
   },
   {
    "duration": 46,
    "start_time": "2022-04-21T17:30:05.665Z"
   },
   {
    "duration": 15,
    "start_time": "2022-04-21T17:30:05.714Z"
   },
   {
    "duration": 11,
    "start_time": "2022-04-21T17:30:05.730Z"
   },
   {
    "duration": 11,
    "start_time": "2022-04-21T17:30:05.743Z"
   },
   {
    "duration": 6,
    "start_time": "2022-04-21T17:30:05.792Z"
   },
   {
    "duration": 10,
    "start_time": "2022-04-21T17:30:05.800Z"
   },
   {
    "duration": 7,
    "start_time": "2022-04-21T17:30:05.812Z"
   },
   {
    "duration": 10,
    "start_time": "2022-04-21T17:30:05.823Z"
   },
   {
    "duration": 10,
    "start_time": "2022-04-21T17:30:05.835Z"
   },
   {
    "duration": 46,
    "start_time": "2022-04-21T17:30:05.847Z"
   },
   {
    "duration": 10,
    "start_time": "2022-04-21T17:30:05.895Z"
   },
   {
    "duration": 8,
    "start_time": "2022-04-21T17:30:05.907Z"
   },
   {
    "duration": 4,
    "start_time": "2022-04-21T17:30:05.916Z"
   },
   {
    "duration": 6,
    "start_time": "2022-04-21T17:30:05.922Z"
   },
   {
    "duration": 28,
    "start_time": "2022-04-21T17:30:05.930Z"
   },
   {
    "duration": 34,
    "start_time": "2022-04-21T17:30:05.960Z"
   },
   {
    "duration": 7,
    "start_time": "2022-04-21T17:30:05.996Z"
   },
   {
    "duration": 6,
    "start_time": "2022-04-21T17:30:06.005Z"
   },
   {
    "duration": 20,
    "start_time": "2022-04-21T17:30:06.013Z"
   },
   {
    "duration": 13,
    "start_time": "2022-04-21T17:30:06.034Z"
   },
   {
    "duration": 11,
    "start_time": "2022-04-21T17:30:06.048Z"
   },
   {
    "duration": 40,
    "start_time": "2022-04-21T17:30:06.060Z"
   },
   {
    "duration": 7,
    "start_time": "2022-04-21T17:30:06.102Z"
   },
   {
    "duration": 46,
    "start_time": "2022-04-21T17:30:06.111Z"
   },
   {
    "duration": 4,
    "start_time": "2022-04-21T17:30:06.159Z"
   },
   {
    "duration": 26,
    "start_time": "2022-04-21T17:30:06.194Z"
   },
   {
    "duration": 5,
    "start_time": "2022-04-21T17:30:27.200Z"
   },
   {
    "duration": 7,
    "start_time": "2022-04-21T17:36:03.794Z"
   },
   {
    "duration": 7,
    "start_time": "2022-04-21T17:36:05.649Z"
   },
   {
    "duration": 2318,
    "start_time": "2022-04-21T18:11:02.256Z"
   },
   {
    "duration": 6,
    "start_time": "2022-04-21T18:11:47.595Z"
   },
   {
    "duration": 6,
    "start_time": "2022-04-21T18:13:14.601Z"
   },
   {
    "duration": 8,
    "start_time": "2022-04-21T18:15:42.671Z"
   },
   {
    "duration": 25,
    "start_time": "2022-04-21T18:19:47.758Z"
   },
   {
    "duration": 24,
    "start_time": "2022-04-21T18:20:19.245Z"
   },
   {
    "duration": 26,
    "start_time": "2022-04-21T18:20:33.096Z"
   },
   {
    "duration": 1105,
    "start_time": "2022-04-21T18:26:54.521Z"
   },
   {
    "duration": 2236,
    "start_time": "2022-04-21T18:28:23.867Z"
   },
   {
    "duration": 1035,
    "start_time": "2022-04-21T18:29:42.936Z"
   },
   {
    "duration": 1114,
    "start_time": "2022-04-21T18:30:06.185Z"
   },
   {
    "duration": 5,
    "start_time": "2022-04-21T18:32:56.195Z"
   },
   {
    "duration": 25,
    "start_time": "2022-04-21T18:33:12.964Z"
   },
   {
    "duration": 4,
    "start_time": "2022-04-21T18:35:06.917Z"
   },
   {
    "duration": 25,
    "start_time": "2022-04-21T18:35:11.366Z"
   },
   {
    "duration": 2,
    "start_time": "2022-04-21T18:35:26.252Z"
   },
   {
    "duration": 81,
    "start_time": "2022-04-21T18:35:26.257Z"
   },
   {
    "duration": 4,
    "start_time": "2022-04-21T18:35:26.340Z"
   },
   {
    "duration": 25,
    "start_time": "2022-04-21T18:35:26.345Z"
   },
   {
    "duration": 15,
    "start_time": "2022-04-21T18:35:26.393Z"
   },
   {
    "duration": 11,
    "start_time": "2022-04-21T18:35:26.410Z"
   },
   {
    "duration": 11,
    "start_time": "2022-04-21T18:35:26.423Z"
   },
   {
    "duration": 5,
    "start_time": "2022-04-21T18:35:26.436Z"
   },
   {
    "duration": 10,
    "start_time": "2022-04-21T18:35:26.442Z"
   },
   {
    "duration": 43,
    "start_time": "2022-04-21T18:35:26.454Z"
   },
   {
    "duration": 11,
    "start_time": "2022-04-21T18:35:26.499Z"
   },
   {
    "duration": 10,
    "start_time": "2022-04-21T18:35:26.511Z"
   },
   {
    "duration": 4,
    "start_time": "2022-04-21T18:35:26.523Z"
   },
   {
    "duration": 12,
    "start_time": "2022-04-21T18:35:26.529Z"
   },
   {
    "duration": 7,
    "start_time": "2022-04-21T18:35:26.542Z"
   },
   {
    "duration": 6,
    "start_time": "2022-04-21T18:35:26.550Z"
   },
   {
    "duration": 35,
    "start_time": "2022-04-21T18:35:26.558Z"
   },
   {
    "duration": 25,
    "start_time": "2022-04-21T18:35:26.594Z"
   },
   {
    "duration": 4,
    "start_time": "2022-04-21T18:35:26.621Z"
   },
   {
    "duration": 8,
    "start_time": "2022-04-21T18:35:26.626Z"
   },
   {
    "duration": 11,
    "start_time": "2022-04-21T18:35:26.635Z"
   },
   {
    "duration": 19,
    "start_time": "2022-04-21T18:35:26.647Z"
   },
   {
    "duration": 26,
    "start_time": "2022-04-21T18:35:26.667Z"
   },
   {
    "duration": 9,
    "start_time": "2022-04-21T18:35:26.695Z"
   },
   {
    "duration": 9,
    "start_time": "2022-04-21T18:35:26.705Z"
   },
   {
    "duration": 16,
    "start_time": "2022-04-21T18:35:26.716Z"
   },
   {
    "duration": 5,
    "start_time": "2022-04-21T18:35:26.733Z"
   },
   {
    "duration": 12,
    "start_time": "2022-04-21T18:35:26.739Z"
   },
   {
    "duration": 9,
    "start_time": "2022-04-21T18:35:26.754Z"
   },
   {
    "duration": 32,
    "start_time": "2022-04-21T18:35:26.764Z"
   },
   {
    "duration": 6,
    "start_time": "2022-04-21T18:35:26.798Z"
   },
   {
    "duration": 29,
    "start_time": "2022-04-21T18:35:26.806Z"
   },
   {
    "duration": 13,
    "start_time": "2022-04-21T18:37:19.070Z"
   },
   {
    "duration": 5,
    "start_time": "2022-04-21T18:37:55.098Z"
   },
   {
    "duration": 5,
    "start_time": "2022-04-21T18:38:01.696Z"
   },
   {
    "duration": 5,
    "start_time": "2022-04-21T18:38:02.534Z"
   },
   {
    "duration": 6,
    "start_time": "2022-04-21T18:38:04.025Z"
   },
   {
    "duration": 6,
    "start_time": "2022-04-21T18:39:52.927Z"
   },
   {
    "duration": 5,
    "start_time": "2022-04-21T18:40:13.393Z"
   },
   {
    "duration": 5,
    "start_time": "2022-04-21T18:40:16.176Z"
   },
   {
    "duration": 6,
    "start_time": "2022-04-21T18:40:18.774Z"
   },
   {
    "duration": 5,
    "start_time": "2022-04-21T18:40:22.123Z"
   },
   {
    "duration": 7,
    "start_time": "2022-04-21T18:40:27.797Z"
   },
   {
    "duration": 2,
    "start_time": "2022-04-21T18:41:27.996Z"
   },
   {
    "duration": 81,
    "start_time": "2022-04-21T18:41:28.000Z"
   },
   {
    "duration": 11,
    "start_time": "2022-04-21T18:41:28.083Z"
   },
   {
    "duration": 26,
    "start_time": "2022-04-21T18:41:28.096Z"
   },
   {
    "duration": 16,
    "start_time": "2022-04-21T18:41:28.123Z"
   },
   {
    "duration": 11,
    "start_time": "2022-04-21T18:41:28.141Z"
   },
   {
    "duration": 46,
    "start_time": "2022-04-21T18:41:28.154Z"
   },
   {
    "duration": 4,
    "start_time": "2022-04-21T18:41:28.201Z"
   },
   {
    "duration": 10,
    "start_time": "2022-04-21T18:41:28.208Z"
   },
   {
    "duration": 6,
    "start_time": "2022-04-21T18:41:28.219Z"
   },
   {
    "duration": 7,
    "start_time": "2022-04-21T18:41:28.227Z"
   },
   {
    "duration": 9,
    "start_time": "2022-04-21T18:41:28.235Z"
   },
   {
    "duration": 48,
    "start_time": "2022-04-21T18:41:28.246Z"
   },
   {
    "duration": 9,
    "start_time": "2022-04-21T18:41:28.296Z"
   },
   {
    "duration": 7,
    "start_time": "2022-04-21T18:41:28.307Z"
   },
   {
    "duration": 4,
    "start_time": "2022-04-21T18:41:28.315Z"
   },
   {
    "duration": 10,
    "start_time": "2022-04-21T18:41:28.320Z"
   },
   {
    "duration": 28,
    "start_time": "2022-04-21T18:41:28.331Z"
   },
   {
    "duration": 4,
    "start_time": "2022-04-21T18:41:28.360Z"
   },
   {
    "duration": 6,
    "start_time": "2022-04-21T18:41:28.393Z"
   },
   {
    "duration": 6,
    "start_time": "2022-04-21T18:41:28.401Z"
   },
   {
    "duration": 20,
    "start_time": "2022-04-21T18:41:28.409Z"
   },
   {
    "duration": 9,
    "start_time": "2022-04-21T18:41:28.430Z"
   },
   {
    "duration": 10,
    "start_time": "2022-04-21T18:41:28.442Z"
   },
   {
    "duration": 43,
    "start_time": "2022-04-21T18:41:28.454Z"
   },
   {
    "duration": 12,
    "start_time": "2022-04-21T18:41:28.499Z"
   },
   {
    "duration": 4,
    "start_time": "2022-04-21T18:41:28.513Z"
   },
   {
    "duration": 12,
    "start_time": "2022-04-21T18:41:28.519Z"
   },
   {
    "duration": 11,
    "start_time": "2022-04-21T18:41:28.532Z"
   },
   {
    "duration": 11,
    "start_time": "2022-04-21T18:41:28.545Z"
   },
   {
    "duration": 39,
    "start_time": "2022-04-21T18:41:28.559Z"
   },
   {
    "duration": 6,
    "start_time": "2022-04-21T18:41:28.600Z"
   },
   {
    "duration": 13,
    "start_time": "2022-04-21T18:41:28.608Z"
   },
   {
    "duration": 27,
    "start_time": "2022-04-21T18:41:28.623Z"
   },
   {
    "duration": 7,
    "start_time": "2022-04-21T18:45:17.925Z"
   },
   {
    "duration": 6,
    "start_time": "2022-04-21T18:45:29.726Z"
   },
   {
    "duration": 2,
    "start_time": "2022-04-21T18:55:59.725Z"
   },
   {
    "duration": 78,
    "start_time": "2022-04-21T18:55:59.731Z"
   },
   {
    "duration": 5,
    "start_time": "2022-04-21T18:55:59.811Z"
   },
   {
    "duration": 23,
    "start_time": "2022-04-21T18:55:59.817Z"
   },
   {
    "duration": 15,
    "start_time": "2022-04-21T18:55:59.842Z"
   },
   {
    "duration": 34,
    "start_time": "2022-04-21T18:55:59.859Z"
   },
   {
    "duration": 10,
    "start_time": "2022-04-21T18:55:59.894Z"
   },
   {
    "duration": 4,
    "start_time": "2022-04-21T18:55:59.906Z"
   },
   {
    "duration": 10,
    "start_time": "2022-04-21T18:55:59.911Z"
   },
   {
    "duration": 7,
    "start_time": "2022-04-21T18:55:59.922Z"
   },
   {
    "duration": 6,
    "start_time": "2022-04-21T18:55:59.931Z"
   },
   {
    "duration": 8,
    "start_time": "2022-04-21T18:55:59.938Z"
   },
   {
    "duration": 47,
    "start_time": "2022-04-21T18:55:59.948Z"
   },
   {
    "duration": 21,
    "start_time": "2022-04-21T18:55:59.997Z"
   },
   {
    "duration": 9,
    "start_time": "2022-04-21T18:56:00.020Z"
   },
   {
    "duration": 8,
    "start_time": "2022-04-21T18:56:00.031Z"
   },
   {
    "duration": 11,
    "start_time": "2022-04-21T18:56:00.040Z"
   },
   {
    "duration": 26,
    "start_time": "2022-04-21T18:56:00.052Z"
   },
   {
    "duration": 3,
    "start_time": "2022-04-21T18:56:00.080Z"
   },
   {
    "duration": 11,
    "start_time": "2022-04-21T18:56:00.084Z"
   },
   {
    "duration": 6,
    "start_time": "2022-04-21T18:56:00.097Z"
   },
   {
    "duration": 17,
    "start_time": "2022-04-21T18:56:00.105Z"
   },
   {
    "duration": 13,
    "start_time": "2022-04-21T18:56:00.123Z"
   },
   {
    "duration": 10,
    "start_time": "2022-04-21T18:56:00.137Z"
   },
   {
    "duration": 16,
    "start_time": "2022-04-21T18:56:00.149Z"
   },
   {
    "duration": 17,
    "start_time": "2022-04-21T18:56:00.167Z"
   },
   {
    "duration": 4,
    "start_time": "2022-04-21T18:56:00.193Z"
   },
   {
    "duration": 10,
    "start_time": "2022-04-21T18:56:00.199Z"
   },
   {
    "duration": 11,
    "start_time": "2022-04-21T18:56:00.212Z"
   },
   {
    "duration": 9,
    "start_time": "2022-04-21T18:56:00.225Z"
   },
   {
    "duration": 10,
    "start_time": "2022-04-21T18:56:00.235Z"
   },
   {
    "duration": 16,
    "start_time": "2022-04-21T18:56:00.246Z"
   },
   {
    "duration": 23,
    "start_time": "2022-04-21T18:56:00.263Z"
   },
   {
    "duration": 25,
    "start_time": "2022-04-21T18:56:00.292Z"
   },
   {
    "duration": 349,
    "start_time": "2022-04-22T07:09:10.652Z"
   },
   {
    "duration": 75,
    "start_time": "2022-04-22T07:09:11.003Z"
   },
   {
    "duration": 3,
    "start_time": "2022-04-22T07:09:11.080Z"
   },
   {
    "duration": 27,
    "start_time": "2022-04-22T07:09:11.085Z"
   },
   {
    "duration": 24,
    "start_time": "2022-04-22T07:09:11.114Z"
   },
   {
    "duration": 12,
    "start_time": "2022-04-22T07:09:11.139Z"
   },
   {
    "duration": 8,
    "start_time": "2022-04-22T07:09:11.152Z"
   },
   {
    "duration": 5,
    "start_time": "2022-04-22T07:09:11.161Z"
   },
   {
    "duration": 18,
    "start_time": "2022-04-22T07:09:11.167Z"
   },
   {
    "duration": 6,
    "start_time": "2022-04-22T07:09:11.188Z"
   },
   {
    "duration": 35,
    "start_time": "2022-04-22T07:09:11.195Z"
   },
   {
    "duration": 9,
    "start_time": "2022-04-22T07:09:11.232Z"
   },
   {
    "duration": 4,
    "start_time": "2022-04-22T07:09:11.242Z"
   },
   {
    "duration": 8,
    "start_time": "2022-04-22T07:09:11.248Z"
   },
   {
    "duration": 6,
    "start_time": "2022-04-22T07:09:11.257Z"
   },
   {
    "duration": 4,
    "start_time": "2022-04-22T07:09:11.264Z"
   },
   {
    "duration": 5,
    "start_time": "2022-04-22T07:09:11.269Z"
   },
   {
    "duration": 22,
    "start_time": "2022-04-22T07:09:11.275Z"
   },
   {
    "duration": 28,
    "start_time": "2022-04-22T07:09:11.299Z"
   },
   {
    "duration": 22,
    "start_time": "2022-04-22T07:09:11.329Z"
   },
   {
    "duration": 7,
    "start_time": "2022-04-22T07:09:11.352Z"
   },
   {
    "duration": 14,
    "start_time": "2022-04-22T07:09:11.360Z"
   },
   {
    "duration": 7,
    "start_time": "2022-04-22T07:09:11.376Z"
   },
   {
    "duration": 23,
    "start_time": "2022-04-22T07:09:11.384Z"
   },
   {
    "duration": 9,
    "start_time": "2022-04-22T07:09:11.408Z"
   },
   {
    "duration": 13,
    "start_time": "2022-04-22T07:09:11.418Z"
   },
   {
    "duration": 6,
    "start_time": "2022-04-22T07:09:11.433Z"
   },
   {
    "duration": 4,
    "start_time": "2022-04-22T07:09:11.442Z"
   },
   {
    "duration": 6,
    "start_time": "2022-04-22T07:09:11.448Z"
   },
   {
    "duration": 6,
    "start_time": "2022-04-22T07:09:11.456Z"
   },
   {
    "duration": 11,
    "start_time": "2022-04-22T07:09:11.463Z"
   },
   {
    "duration": 10,
    "start_time": "2022-04-22T07:09:11.475Z"
   },
   {
    "duration": 13,
    "start_time": "2022-04-22T07:09:11.487Z"
   },
   {
    "duration": 47,
    "start_time": "2022-04-22T07:09:11.501Z"
   },
   {
    "duration": 160,
    "start_time": "2022-04-22T07:33:03.392Z"
   },
   {
    "duration": 1218,
    "start_time": "2022-04-22T07:33:28.000Z"
   },
   {
    "duration": 4,
    "start_time": "2022-04-22T07:42:44.370Z"
   },
   {
    "duration": 23,
    "start_time": "2022-04-22T07:43:11.936Z"
   },
   {
    "duration": 24,
    "start_time": "2022-04-22T07:48:32.634Z"
   },
   {
    "duration": 2,
    "start_time": "2022-04-22T07:48:47.976Z"
   },
   {
    "duration": 78,
    "start_time": "2022-04-22T07:48:47.980Z"
   },
   {
    "duration": 3,
    "start_time": "2022-04-22T07:48:48.060Z"
   },
   {
    "duration": 22,
    "start_time": "2022-04-22T07:48:48.065Z"
   },
   {
    "duration": 35,
    "start_time": "2022-04-22T07:48:48.089Z"
   },
   {
    "duration": 13,
    "start_time": "2022-04-22T07:48:48.126Z"
   },
   {
    "duration": 14,
    "start_time": "2022-04-22T07:48:48.140Z"
   },
   {
    "duration": 4,
    "start_time": "2022-04-22T07:48:48.156Z"
   },
   {
    "duration": 9,
    "start_time": "2022-04-22T07:48:48.162Z"
   },
   {
    "duration": 6,
    "start_time": "2022-04-22T07:48:48.172Z"
   },
   {
    "duration": 10,
    "start_time": "2022-04-22T07:48:48.180Z"
   },
   {
    "duration": 37,
    "start_time": "2022-04-22T07:48:48.192Z"
   },
   {
    "duration": 6,
    "start_time": "2022-04-22T07:48:48.231Z"
   },
   {
    "duration": 15,
    "start_time": "2022-04-22T07:48:48.238Z"
   },
   {
    "duration": 6,
    "start_time": "2022-04-22T07:48:48.254Z"
   },
   {
    "duration": 3,
    "start_time": "2022-04-22T07:48:48.262Z"
   },
   {
    "duration": 8,
    "start_time": "2022-04-22T07:48:48.266Z"
   },
   {
    "duration": 34,
    "start_time": "2022-04-22T07:48:48.275Z"
   },
   {
    "duration": 16,
    "start_time": "2022-04-22T07:48:48.310Z"
   },
   {
    "duration": 18,
    "start_time": "2022-04-22T07:48:48.329Z"
   },
   {
    "duration": 4,
    "start_time": "2022-04-22T07:48:48.349Z"
   },
   {
    "duration": 15,
    "start_time": "2022-04-22T07:48:48.355Z"
   },
   {
    "duration": 7,
    "start_time": "2022-04-22T07:48:48.372Z"
   },
   {
    "duration": 7,
    "start_time": "2022-04-22T07:48:48.381Z"
   },
   {
    "duration": 6,
    "start_time": "2022-04-22T07:48:48.389Z"
   },
   {
    "duration": 39,
    "start_time": "2022-04-22T07:48:48.396Z"
   },
   {
    "duration": 4,
    "start_time": "2022-04-22T07:48:48.437Z"
   },
   {
    "duration": 10,
    "start_time": "2022-04-22T07:48:48.443Z"
   },
   {
    "duration": 5,
    "start_time": "2022-04-22T07:48:48.455Z"
   },
   {
    "duration": 6,
    "start_time": "2022-04-22T07:48:48.461Z"
   },
   {
    "duration": 7,
    "start_time": "2022-04-22T07:48:48.468Z"
   },
   {
    "duration": 6,
    "start_time": "2022-04-22T07:48:48.476Z"
   },
   {
    "duration": 14,
    "start_time": "2022-04-22T07:48:48.483Z"
   },
   {
    "duration": 43,
    "start_time": "2022-04-22T07:48:48.498Z"
   },
   {
    "duration": 25,
    "start_time": "2022-04-22T07:48:48.543Z"
   },
   {
    "duration": 2,
    "start_time": "2022-04-22T07:50:31.706Z"
   },
   {
    "duration": 94,
    "start_time": "2022-04-22T07:50:31.710Z"
   },
   {
    "duration": 4,
    "start_time": "2022-04-22T07:50:31.806Z"
   },
   {
    "duration": 32,
    "start_time": "2022-04-22T07:50:31.811Z"
   },
   {
    "duration": 11,
    "start_time": "2022-04-22T07:50:31.845Z"
   },
   {
    "duration": 8,
    "start_time": "2022-04-22T07:50:31.857Z"
   },
   {
    "duration": 9,
    "start_time": "2022-04-22T07:50:31.867Z"
   },
   {
    "duration": 3,
    "start_time": "2022-04-22T07:50:31.878Z"
   },
   {
    "duration": 41,
    "start_time": "2022-04-22T07:50:31.884Z"
   },
   {
    "duration": 12,
    "start_time": "2022-04-22T07:50:31.926Z"
   },
   {
    "duration": 9,
    "start_time": "2022-04-22T07:50:31.939Z"
   },
   {
    "duration": 11,
    "start_time": "2022-04-22T07:50:31.950Z"
   },
   {
    "duration": 4,
    "start_time": "2022-04-22T07:50:31.962Z"
   },
   {
    "duration": 12,
    "start_time": "2022-04-22T07:50:31.968Z"
   },
   {
    "duration": 7,
    "start_time": "2022-04-22T07:50:31.981Z"
   },
   {
    "duration": 6,
    "start_time": "2022-04-22T07:50:31.989Z"
   },
   {
    "duration": 10,
    "start_time": "2022-04-22T07:50:31.996Z"
   },
   {
    "duration": 37,
    "start_time": "2022-04-22T07:50:32.007Z"
   },
   {
    "duration": 3,
    "start_time": "2022-04-22T07:50:32.046Z"
   },
   {
    "duration": 8,
    "start_time": "2022-04-22T07:50:32.050Z"
   },
   {
    "duration": 5,
    "start_time": "2022-04-22T07:50:32.060Z"
   },
   {
    "duration": 14,
    "start_time": "2022-04-22T07:50:32.066Z"
   },
   {
    "duration": 7,
    "start_time": "2022-04-22T07:50:32.081Z"
   },
   {
    "duration": 10,
    "start_time": "2022-04-22T07:50:32.091Z"
   },
   {
    "duration": 24,
    "start_time": "2022-04-22T07:50:32.102Z"
   },
   {
    "duration": 26,
    "start_time": "2022-04-22T07:50:32.128Z"
   },
   {
    "duration": 14,
    "start_time": "2022-04-22T07:50:32.155Z"
   },
   {
    "duration": 8,
    "start_time": "2022-04-22T07:50:32.170Z"
   },
   {
    "duration": 12,
    "start_time": "2022-04-22T07:50:32.180Z"
   },
   {
    "duration": 14,
    "start_time": "2022-04-22T07:50:32.193Z"
   },
   {
    "duration": 11,
    "start_time": "2022-04-22T07:50:32.209Z"
   },
   {
    "duration": 19,
    "start_time": "2022-04-22T07:50:32.221Z"
   },
   {
    "duration": 19,
    "start_time": "2022-04-22T07:50:32.241Z"
   },
   {
    "duration": 26,
    "start_time": "2022-04-22T07:50:32.262Z"
   },
   {
    "duration": 8,
    "start_time": "2022-04-22T07:50:32.290Z"
   },
   {
    "duration": 26,
    "start_time": "2022-04-22T07:52:34.380Z"
   },
   {
    "duration": 7,
    "start_time": "2022-04-22T08:05:39.334Z"
   },
   {
    "duration": 22,
    "start_time": "2022-04-22T08:06:11.769Z"
   },
   {
    "duration": 8,
    "start_time": "2022-04-22T08:06:36.483Z"
   },
   {
    "duration": 37,
    "start_time": "2022-04-22T08:06:54.936Z"
   },
   {
    "duration": 98,
    "start_time": "2022-04-22T08:31:43.007Z"
   },
   {
    "duration": 82,
    "start_time": "2022-04-22T08:32:23.410Z"
   },
   {
    "duration": 8,
    "start_time": "2022-04-22T08:41:32.012Z"
   },
   {
    "duration": 24,
    "start_time": "2022-04-22T08:42:32.345Z"
   },
   {
    "duration": 54,
    "start_time": "2022-04-22T08:42:56.890Z"
   },
   {
    "duration": 7,
    "start_time": "2022-04-22T08:56:40.662Z"
   },
   {
    "duration": 24,
    "start_time": "2022-04-22T09:07:47.535Z"
   },
   {
    "duration": 7,
    "start_time": "2022-04-22T09:08:04.684Z"
   },
   {
    "duration": 8,
    "start_time": "2022-04-22T09:09:25.320Z"
   },
   {
    "duration": 8,
    "start_time": "2022-04-22T09:10:23.360Z"
   },
   {
    "duration": 5,
    "start_time": "2022-04-22T09:13:35.242Z"
   },
   {
    "duration": 3,
    "start_time": "2022-04-22T09:14:18.730Z"
   },
   {
    "duration": 74,
    "start_time": "2022-04-22T09:14:18.734Z"
   },
   {
    "duration": 4,
    "start_time": "2022-04-22T09:14:18.809Z"
   },
   {
    "duration": 26,
    "start_time": "2022-04-22T09:14:18.815Z"
   },
   {
    "duration": 12,
    "start_time": "2022-04-22T09:14:18.843Z"
   },
   {
    "duration": 7,
    "start_time": "2022-04-22T09:14:18.856Z"
   },
   {
    "duration": 8,
    "start_time": "2022-04-22T09:14:18.865Z"
   },
   {
    "duration": 4,
    "start_time": "2022-04-22T09:14:18.875Z"
   },
   {
    "duration": 49,
    "start_time": "2022-04-22T09:14:18.880Z"
   },
   {
    "duration": 6,
    "start_time": "2022-04-22T09:14:18.931Z"
   },
   {
    "duration": 7,
    "start_time": "2022-04-22T09:14:18.939Z"
   },
   {
    "duration": 6,
    "start_time": "2022-04-22T09:14:18.948Z"
   },
   {
    "duration": 3,
    "start_time": "2022-04-22T09:14:18.956Z"
   },
   {
    "duration": 8,
    "start_time": "2022-04-22T09:14:18.961Z"
   },
   {
    "duration": 8,
    "start_time": "2022-04-22T09:14:18.970Z"
   },
   {
    "duration": 6,
    "start_time": "2022-04-22T09:14:18.979Z"
   },
   {
    "duration": 38,
    "start_time": "2022-04-22T09:14:18.986Z"
   },
   {
    "duration": 5,
    "start_time": "2022-04-22T09:14:19.026Z"
   },
   {
    "duration": 23,
    "start_time": "2022-04-22T09:14:19.033Z"
   },
   {
    "duration": 3,
    "start_time": "2022-04-22T09:14:19.057Z"
   },
   {
    "duration": 6,
    "start_time": "2022-04-22T09:14:19.062Z"
   },
   {
    "duration": 4,
    "start_time": "2022-04-22T09:14:19.069Z"
   },
   {
    "duration": 13,
    "start_time": "2022-04-22T09:14:19.075Z"
   },
   {
    "duration": 38,
    "start_time": "2022-04-22T09:14:19.089Z"
   },
   {
    "duration": 8,
    "start_time": "2022-04-22T09:14:19.129Z"
   },
   {
    "duration": 6,
    "start_time": "2022-04-22T09:14:19.138Z"
   },
   {
    "duration": 9,
    "start_time": "2022-04-22T09:14:19.145Z"
   },
   {
    "duration": 3,
    "start_time": "2022-04-22T09:14:19.156Z"
   },
   {
    "duration": 6,
    "start_time": "2022-04-22T09:14:19.162Z"
   },
   {
    "duration": 6,
    "start_time": "2022-04-22T09:14:19.169Z"
   },
   {
    "duration": 7,
    "start_time": "2022-04-22T09:14:19.176Z"
   },
   {
    "duration": 43,
    "start_time": "2022-04-22T09:14:19.184Z"
   },
   {
    "duration": 7,
    "start_time": "2022-04-22T09:14:19.228Z"
   },
   {
    "duration": 15,
    "start_time": "2022-04-22T09:14:19.236Z"
   },
   {
    "duration": 24,
    "start_time": "2022-04-22T09:14:19.252Z"
   },
   {
    "duration": 48,
    "start_time": "2022-04-22T09:14:19.277Z"
   },
   {
    "duration": 71,
    "start_time": "2022-04-22T09:14:19.326Z"
   },
   {
    "duration": 37,
    "start_time": "2022-04-22T09:14:19.399Z"
   },
   {
    "duration": 10,
    "start_time": "2022-04-22T09:14:19.438Z"
   },
   {
    "duration": 7,
    "start_time": "2022-04-22T09:14:19.449Z"
   },
   {
    "duration": 7,
    "start_time": "2022-04-22T09:14:19.457Z"
   },
   {
    "duration": 7,
    "start_time": "2022-04-22T09:14:19.465Z"
   },
   {
    "duration": 1637,
    "start_time": "2022-04-22T09:44:07.238Z"
   },
   {
    "duration": 17,
    "start_time": "2022-04-22T09:45:04.774Z"
   },
   {
    "duration": 8,
    "start_time": "2022-04-22T09:45:38.348Z"
   },
   {
    "duration": 3,
    "start_time": "2022-04-22T09:47:26.881Z"
   },
   {
    "duration": 76,
    "start_time": "2022-04-22T09:47:26.886Z"
   },
   {
    "duration": 6,
    "start_time": "2022-04-22T09:47:26.964Z"
   },
   {
    "duration": 26,
    "start_time": "2022-04-22T09:47:26.971Z"
   },
   {
    "duration": 21,
    "start_time": "2022-04-22T09:47:27.023Z"
   },
   {
    "duration": 11,
    "start_time": "2022-04-22T09:47:27.045Z"
   },
   {
    "duration": 11,
    "start_time": "2022-04-22T09:47:27.058Z"
   },
   {
    "duration": 6,
    "start_time": "2022-04-22T09:47:27.071Z"
   },
   {
    "duration": 8,
    "start_time": "2022-04-22T09:47:27.079Z"
   },
   {
    "duration": 49,
    "start_time": "2022-04-22T09:47:27.088Z"
   },
   {
    "duration": 9,
    "start_time": "2022-04-22T09:47:27.140Z"
   },
   {
    "duration": 6,
    "start_time": "2022-04-22T09:47:27.151Z"
   },
   {
    "duration": 4,
    "start_time": "2022-04-22T09:47:27.159Z"
   },
   {
    "duration": 6,
    "start_time": "2022-04-22T09:47:27.164Z"
   },
   {
    "duration": 7,
    "start_time": "2022-04-22T09:47:27.171Z"
   },
   {
    "duration": 5,
    "start_time": "2022-04-22T09:47:27.179Z"
   },
   {
    "duration": 43,
    "start_time": "2022-04-22T09:47:27.186Z"
   },
   {
    "duration": 10,
    "start_time": "2022-04-22T09:47:27.231Z"
   },
   {
    "duration": 24,
    "start_time": "2022-04-22T09:47:27.243Z"
   },
   {
    "duration": 4,
    "start_time": "2022-04-22T09:47:27.268Z"
   },
   {
    "duration": 8,
    "start_time": "2022-04-22T09:47:27.274Z"
   },
   {
    "duration": 5,
    "start_time": "2022-04-22T09:47:27.283Z"
   },
   {
    "duration": 13,
    "start_time": "2022-04-22T09:47:27.290Z"
   },
   {
    "duration": 33,
    "start_time": "2022-04-22T09:47:27.305Z"
   },
   {
    "duration": 8,
    "start_time": "2022-04-22T09:47:27.340Z"
   },
   {
    "duration": 7,
    "start_time": "2022-04-22T09:47:27.350Z"
   },
   {
    "duration": 11,
    "start_time": "2022-04-22T09:47:27.358Z"
   },
   {
    "duration": 4,
    "start_time": "2022-04-22T09:47:27.371Z"
   },
   {
    "duration": 5,
    "start_time": "2022-04-22T09:47:27.378Z"
   },
   {
    "duration": 6,
    "start_time": "2022-04-22T09:47:27.384Z"
   },
   {
    "duration": 40,
    "start_time": "2022-04-22T09:47:27.392Z"
   },
   {
    "duration": 5,
    "start_time": "2022-04-22T09:47:27.436Z"
   },
   {
    "duration": 8,
    "start_time": "2022-04-22T09:47:27.443Z"
   },
   {
    "duration": 15,
    "start_time": "2022-04-22T09:47:27.453Z"
   },
   {
    "duration": 31,
    "start_time": "2022-04-22T09:47:27.470Z"
   },
   {
    "duration": 54,
    "start_time": "2022-04-22T09:47:27.503Z"
   },
   {
    "duration": 118,
    "start_time": "2022-04-22T09:47:27.559Z"
   },
   {
    "duration": 24,
    "start_time": "2022-04-22T09:47:27.679Z"
   },
   {
    "duration": 24,
    "start_time": "2022-04-22T09:47:27.705Z"
   },
   {
    "duration": 12,
    "start_time": "2022-04-22T09:47:27.730Z"
   },
   {
    "duration": 9,
    "start_time": "2022-04-22T09:47:27.743Z"
   },
   {
    "duration": 6,
    "start_time": "2022-04-22T09:47:27.754Z"
   },
   {
    "duration": 9,
    "start_time": "2022-04-22T09:47:27.761Z"
   },
   {
    "duration": 10,
    "start_time": "2022-04-22T09:48:02.382Z"
   },
   {
    "duration": 896,
    "start_time": "2022-04-22T09:48:53.998Z"
   },
   {
    "duration": 7,
    "start_time": "2022-04-22T10:38:28.164Z"
   },
   {
    "duration": 7,
    "start_time": "2022-04-22T10:38:44.239Z"
   },
   {
    "duration": 7,
    "start_time": "2022-04-22T10:39:08.282Z"
   },
   {
    "duration": 7,
    "start_time": "2022-04-22T11:05:33.385Z"
   },
   {
    "duration": 10,
    "start_time": "2022-04-22T11:05:53.815Z"
   },
   {
    "duration": 12,
    "start_time": "2022-04-22T11:06:38.607Z"
   },
   {
    "duration": 11,
    "start_time": "2022-04-22T11:06:55.660Z"
   },
   {
    "duration": 7,
    "start_time": "2022-04-22T11:07:50.285Z"
   },
   {
    "duration": 6,
    "start_time": "2022-04-22T11:12:28.145Z"
   },
   {
    "duration": 10,
    "start_time": "2022-04-22T11:12:57.653Z"
   },
   {
    "duration": 8,
    "start_time": "2022-04-22T11:13:05.740Z"
   },
   {
    "duration": 12,
    "start_time": "2022-04-22T11:13:15.629Z"
   },
   {
    "duration": 8,
    "start_time": "2022-04-22T11:16:47.917Z"
   },
   {
    "duration": 165,
    "start_time": "2022-04-22T11:18:33.314Z"
   },
   {
    "duration": 147,
    "start_time": "2022-04-22T11:18:50.371Z"
   },
   {
    "duration": 80,
    "start_time": "2022-04-22T11:22:41.640Z"
   },
   {
    "duration": 18,
    "start_time": "2022-04-22T11:23:04.255Z"
   },
   {
    "duration": 142,
    "start_time": "2022-04-22T11:55:40.485Z"
   },
   {
    "duration": 6,
    "start_time": "2022-04-22T11:57:17.881Z"
   },
   {
    "duration": 10,
    "start_time": "2022-04-22T11:57:52.030Z"
   },
   {
    "duration": 7,
    "start_time": "2022-04-22T11:58:19.123Z"
   },
   {
    "duration": 10,
    "start_time": "2022-04-22T12:07:03.137Z"
   },
   {
    "duration": 7,
    "start_time": "2022-04-22T12:07:54.548Z"
   },
   {
    "duration": 5,
    "start_time": "2022-04-22T12:09:00.573Z"
   },
   {
    "duration": 166,
    "start_time": "2022-04-22T12:09:31.596Z"
   },
   {
    "duration": 126,
    "start_time": "2022-04-22T12:10:06.195Z"
   },
   {
    "duration": 2,
    "start_time": "2022-04-22T12:10:49.871Z"
   },
   {
    "duration": 87,
    "start_time": "2022-04-22T12:10:49.878Z"
   },
   {
    "duration": 4,
    "start_time": "2022-04-22T12:10:49.968Z"
   },
   {
    "duration": 24,
    "start_time": "2022-04-22T12:10:49.974Z"
   },
   {
    "duration": 34,
    "start_time": "2022-04-22T12:10:50.000Z"
   },
   {
    "duration": 13,
    "start_time": "2022-04-22T12:10:50.036Z"
   },
   {
    "duration": 30,
    "start_time": "2022-04-22T12:10:50.051Z"
   },
   {
    "duration": 5,
    "start_time": "2022-04-22T12:10:50.083Z"
   },
   {
    "duration": 32,
    "start_time": "2022-04-22T12:10:50.090Z"
   },
   {
    "duration": 31,
    "start_time": "2022-04-22T12:10:50.133Z"
   },
   {
    "duration": 29,
    "start_time": "2022-04-22T12:10:50.166Z"
   },
   {
    "duration": 20,
    "start_time": "2022-04-22T12:10:50.196Z"
   },
   {
    "duration": 18,
    "start_time": "2022-04-22T12:10:50.218Z"
   },
   {
    "duration": 26,
    "start_time": "2022-04-22T12:10:50.238Z"
   },
   {
    "duration": 10,
    "start_time": "2022-04-22T12:10:50.266Z"
   },
   {
    "duration": 6,
    "start_time": "2022-04-22T12:10:50.278Z"
   },
   {
    "duration": 8,
    "start_time": "2022-04-22T12:10:50.285Z"
   },
   {
    "duration": 9,
    "start_time": "2022-04-22T12:10:50.294Z"
   },
   {
    "duration": 41,
    "start_time": "2022-04-22T12:10:50.304Z"
   },
   {
    "duration": 8,
    "start_time": "2022-04-22T12:10:50.347Z"
   },
   {
    "duration": 13,
    "start_time": "2022-04-22T12:10:50.356Z"
   },
   {
    "duration": 5,
    "start_time": "2022-04-22T12:10:50.371Z"
   },
   {
    "duration": 16,
    "start_time": "2022-04-22T12:10:50.377Z"
   },
   {
    "duration": 8,
    "start_time": "2022-04-22T12:10:50.395Z"
   },
   {
    "duration": 10,
    "start_time": "2022-04-22T12:10:50.405Z"
   },
   {
    "duration": 11,
    "start_time": "2022-04-22T12:10:50.417Z"
   },
   {
    "duration": 17,
    "start_time": "2022-04-22T12:10:50.436Z"
   },
   {
    "duration": 11,
    "start_time": "2022-04-22T12:10:50.454Z"
   },
   {
    "duration": 8,
    "start_time": "2022-04-22T12:10:50.468Z"
   },
   {
    "duration": 9,
    "start_time": "2022-04-22T12:10:50.477Z"
   },
   {
    "duration": 7,
    "start_time": "2022-04-22T12:10:50.488Z"
   },
   {
    "duration": 35,
    "start_time": "2022-04-22T12:10:50.496Z"
   },
   {
    "duration": 6,
    "start_time": "2022-04-22T12:10:50.532Z"
   },
   {
    "duration": 25,
    "start_time": "2022-04-22T12:10:50.540Z"
   },
   {
    "duration": 27,
    "start_time": "2022-04-22T12:10:50.567Z"
   },
   {
    "duration": 36,
    "start_time": "2022-04-22T12:10:50.596Z"
   },
   {
    "duration": 94,
    "start_time": "2022-04-22T12:10:50.635Z"
   },
   {
    "duration": 29,
    "start_time": "2022-04-22T12:10:50.731Z"
   },
   {
    "duration": 14,
    "start_time": "2022-04-22T12:10:50.762Z"
   },
   {
    "duration": 10,
    "start_time": "2022-04-22T12:10:50.777Z"
   },
   {
    "duration": 10,
    "start_time": "2022-04-22T12:10:50.789Z"
   },
   {
    "duration": 16,
    "start_time": "2022-04-22T12:10:50.826Z"
   },
   {
    "duration": 20,
    "start_time": "2022-04-22T12:10:50.844Z"
   },
   {
    "duration": 136,
    "start_time": "2022-04-22T12:10:50.866Z"
   },
   {
    "duration": 8,
    "start_time": "2022-04-22T12:10:51.003Z"
   },
   {
    "duration": 20,
    "start_time": "2022-04-22T12:10:51.012Z"
   },
   {
    "duration": 24,
    "start_time": "2022-04-22T12:10:51.035Z"
   },
   {
    "duration": 4,
    "start_time": "2022-04-22T12:10:51.061Z"
   },
   {
    "duration": 119,
    "start_time": "2022-04-22T12:11:27.172Z"
   },
   {
    "duration": 128,
    "start_time": "2022-04-22T12:11:46.936Z"
   },
   {
    "duration": 122,
    "start_time": "2022-04-22T12:11:59.898Z"
   },
   {
    "duration": 185,
    "start_time": "2022-04-22T12:13:04.050Z"
   },
   {
    "duration": 136,
    "start_time": "2022-04-22T12:13:14.178Z"
   },
   {
    "duration": 114,
    "start_time": "2022-04-22T12:13:25.245Z"
   },
   {
    "duration": 114,
    "start_time": "2022-04-22T12:13:45.569Z"
   },
   {
    "duration": 110,
    "start_time": "2022-04-22T12:13:56.513Z"
   },
   {
    "duration": 8,
    "start_time": "2022-04-22T12:17:51.545Z"
   },
   {
    "duration": 5,
    "start_time": "2022-04-22T12:18:17.639Z"
   },
   {
    "duration": 5,
    "start_time": "2022-04-22T12:18:29.517Z"
   },
   {
    "duration": 223,
    "start_time": "2022-04-22T12:19:04.078Z"
   },
   {
    "duration": 122,
    "start_time": "2022-04-22T12:19:35.121Z"
   },
   {
    "duration": 127,
    "start_time": "2022-04-22T12:19:45.799Z"
   },
   {
    "duration": 110,
    "start_time": "2022-04-22T12:19:55.237Z"
   },
   {
    "duration": 115,
    "start_time": "2022-04-22T12:20:06.645Z"
   },
   {
    "duration": 137,
    "start_time": "2022-04-22T12:20:29.721Z"
   },
   {
    "duration": 197,
    "start_time": "2022-04-22T12:20:40.559Z"
   },
   {
    "duration": 7,
    "start_time": "2022-04-22T12:23:08.282Z"
   },
   {
    "duration": 5,
    "start_time": "2022-04-22T12:23:48.553Z"
   },
   {
    "duration": 145,
    "start_time": "2022-04-22T12:24:16.434Z"
   },
   {
    "duration": 240,
    "start_time": "2022-04-22T12:24:30.462Z"
   },
   {
    "duration": 7,
    "start_time": "2022-04-22T12:45:42.869Z"
   },
   {
    "duration": 11,
    "start_time": "2022-04-22T12:46:35.819Z"
   },
   {
    "duration": 107,
    "start_time": "2022-04-22T12:46:40.253Z"
   },
   {
    "duration": 215,
    "start_time": "2022-04-22T12:46:46.412Z"
   },
   {
    "duration": 225,
    "start_time": "2022-04-22T12:50:02.833Z"
   },
   {
    "duration": 218,
    "start_time": "2022-04-22T12:50:20.327Z"
   },
   {
    "duration": 230,
    "start_time": "2022-04-22T12:50:30.839Z"
   },
   {
    "duration": 257,
    "start_time": "2022-04-22T12:50:49.805Z"
   },
   {
    "duration": 4,
    "start_time": "2022-04-22T12:56:52.457Z"
   },
   {
    "duration": 141,
    "start_time": "2022-04-22T12:57:33.347Z"
   },
   {
    "duration": 5,
    "start_time": "2022-04-22T12:58:04.212Z"
   },
   {
    "duration": 5,
    "start_time": "2022-04-22T12:58:42.151Z"
   },
   {
    "duration": 5,
    "start_time": "2022-04-22T12:59:13.511Z"
   },
   {
    "duration": 4,
    "start_time": "2022-04-22T12:59:37.992Z"
   },
   {
    "duration": 8,
    "start_time": "2022-04-22T13:08:47.949Z"
   },
   {
    "duration": 91,
    "start_time": "2022-04-22T13:09:14.685Z"
   },
   {
    "duration": 177,
    "start_time": "2022-04-22T13:14:56.309Z"
   },
   {
    "duration": 91,
    "start_time": "2022-04-22T13:15:22.492Z"
   },
   {
    "duration": 8,
    "start_time": "2022-04-22T14:01:50.256Z"
   },
   {
    "duration": 3,
    "start_time": "2022-04-22T14:02:24.873Z"
   },
   {
    "duration": 67,
    "start_time": "2022-04-22T14:02:24.878Z"
   },
   {
    "duration": 5,
    "start_time": "2022-04-22T14:02:24.946Z"
   },
   {
    "duration": 23,
    "start_time": "2022-04-22T14:02:24.952Z"
   },
   {
    "duration": 14,
    "start_time": "2022-04-22T14:02:24.977Z"
   },
   {
    "duration": 37,
    "start_time": "2022-04-22T14:02:24.992Z"
   },
   {
    "duration": 9,
    "start_time": "2022-04-22T14:02:25.031Z"
   },
   {
    "duration": 4,
    "start_time": "2022-04-22T14:02:25.042Z"
   },
   {
    "duration": 11,
    "start_time": "2022-04-22T14:02:25.048Z"
   },
   {
    "duration": 8,
    "start_time": "2022-04-22T14:02:25.060Z"
   },
   {
    "duration": 8,
    "start_time": "2022-04-22T14:02:25.071Z"
   },
   {
    "duration": 48,
    "start_time": "2022-04-22T14:02:25.081Z"
   },
   {
    "duration": 5,
    "start_time": "2022-04-22T14:02:25.131Z"
   },
   {
    "duration": 8,
    "start_time": "2022-04-22T14:02:25.137Z"
   },
   {
    "duration": 9,
    "start_time": "2022-04-22T14:02:25.147Z"
   },
   {
    "duration": 7,
    "start_time": "2022-04-22T14:02:25.158Z"
   },
   {
    "duration": 3,
    "start_time": "2022-04-22T14:02:25.167Z"
   },
   {
    "duration": 6,
    "start_time": "2022-04-22T14:02:25.172Z"
   },
   {
    "duration": 64,
    "start_time": "2022-04-22T14:02:25.180Z"
   },
   {
    "duration": 3,
    "start_time": "2022-04-22T14:02:25.246Z"
   },
   {
    "duration": 8,
    "start_time": "2022-04-22T14:02:25.250Z"
   },
   {
    "duration": 8,
    "start_time": "2022-04-22T14:02:25.260Z"
   },
   {
    "duration": 15,
    "start_time": "2022-04-22T14:02:25.269Z"
   },
   {
    "duration": 7,
    "start_time": "2022-04-22T14:02:25.286Z"
   },
   {
    "duration": 35,
    "start_time": "2022-04-22T14:02:25.295Z"
   },
   {
    "duration": 6,
    "start_time": "2022-04-22T14:02:25.332Z"
   },
   {
    "duration": 12,
    "start_time": "2022-04-22T14:02:25.340Z"
   },
   {
    "duration": 4,
    "start_time": "2022-04-22T14:02:25.353Z"
   },
   {
    "duration": 5,
    "start_time": "2022-04-22T14:02:25.360Z"
   },
   {
    "duration": 7,
    "start_time": "2022-04-22T14:02:25.367Z"
   },
   {
    "duration": 8,
    "start_time": "2022-04-22T14:02:25.375Z"
   },
   {
    "duration": 7,
    "start_time": "2022-04-22T14:02:25.384Z"
   },
   {
    "duration": 35,
    "start_time": "2022-04-22T14:02:25.392Z"
   },
   {
    "duration": 16,
    "start_time": "2022-04-22T14:02:25.429Z"
   },
   {
    "duration": 23,
    "start_time": "2022-04-22T14:02:25.447Z"
   },
   {
    "duration": 24,
    "start_time": "2022-04-22T14:02:25.472Z"
   },
   {
    "duration": 94,
    "start_time": "2022-04-22T14:02:25.498Z"
   },
   {
    "duration": 31,
    "start_time": "2022-04-22T14:02:25.593Z"
   },
   {
    "duration": 7,
    "start_time": "2022-04-22T14:02:25.626Z"
   },
   {
    "duration": 9,
    "start_time": "2022-04-22T14:02:25.634Z"
   },
   {
    "duration": 4,
    "start_time": "2022-04-22T14:02:25.644Z"
   },
   {
    "duration": 134,
    "start_time": "2022-04-22T14:02:25.649Z"
   },
   {
    "duration": 8,
    "start_time": "2022-04-22T14:02:25.784Z"
   },
   {
    "duration": 7,
    "start_time": "2022-04-22T14:02:25.793Z"
   },
   {
    "duration": 23,
    "start_time": "2022-04-22T14:02:25.802Z"
   },
   {
    "duration": 208,
    "start_time": "2022-04-22T14:02:25.827Z"
   },
   {
    "duration": 8,
    "start_time": "2022-04-22T14:02:26.037Z"
   },
   {
    "duration": 6,
    "start_time": "2022-04-22T14:02:26.047Z"
   },
   {
    "duration": 8,
    "start_time": "2022-04-22T14:02:26.054Z"
   },
   {
    "duration": 137,
    "start_time": "2022-04-22T14:02:26.064Z"
   },
   {
    "duration": 8,
    "start_time": "2022-04-22T14:02:26.203Z"
   },
   {
    "duration": 7,
    "start_time": "2022-04-22T14:02:26.224Z"
   },
   {
    "duration": 7,
    "start_time": "2022-04-22T14:02:26.232Z"
   },
   {
    "duration": 210,
    "start_time": "2022-04-22T14:02:26.240Z"
   },
   {
    "duration": 206,
    "start_time": "2022-04-22T14:02:26.452Z"
   },
   {
    "duration": 7,
    "start_time": "2022-04-22T14:02:26.660Z"
   },
   {
    "duration": 22,
    "start_time": "2022-04-22T14:02:26.668Z"
   },
   {
    "duration": 96,
    "start_time": "2022-04-22T14:02:26.692Z"
   },
   {
    "duration": 198,
    "start_time": "2022-04-22T14:02:26.789Z"
   },
   {
    "duration": 3,
    "start_time": "2022-04-22T14:02:26.989Z"
   },
   {
    "duration": 13,
    "start_time": "2022-04-22T14:02:26.994Z"
   },
   {
    "duration": 103,
    "start_time": "2022-04-22T14:02:27.008Z"
   },
   {
    "duration": 81,
    "start_time": "2022-04-22T14:03:37.504Z"
   },
   {
    "duration": 89,
    "start_time": "2022-04-22T14:03:55.735Z"
   },
   {
    "duration": 76,
    "start_time": "2022-04-22T14:06:48.139Z"
   },
   {
    "duration": 126,
    "start_time": "2022-04-22T14:09:57.234Z"
   },
   {
    "duration": 82,
    "start_time": "2022-04-22T14:10:18.418Z"
   },
   {
    "duration": 80,
    "start_time": "2022-04-22T14:10:35.723Z"
   },
   {
    "duration": 79,
    "start_time": "2022-04-22T14:11:12.695Z"
   },
   {
    "duration": 79,
    "start_time": "2022-04-22T14:11:25.495Z"
   },
   {
    "duration": 87,
    "start_time": "2022-04-22T14:11:34.441Z"
   },
   {
    "duration": 88,
    "start_time": "2022-04-22T14:14:17.189Z"
   },
   {
    "duration": 103,
    "start_time": "2022-04-22T14:14:48.003Z"
   },
   {
    "duration": 171,
    "start_time": "2022-04-22T14:14:58.537Z"
   },
   {
    "duration": 88,
    "start_time": "2022-04-22T14:15:09.689Z"
   },
   {
    "duration": 81,
    "start_time": "2022-04-22T14:15:41.894Z"
   },
   {
    "duration": 91,
    "start_time": "2022-04-22T14:16:02.175Z"
   },
   {
    "duration": 79,
    "start_time": "2022-04-22T14:16:43.618Z"
   },
   {
    "duration": 96,
    "start_time": "2022-04-22T14:17:08.250Z"
   },
   {
    "duration": 88,
    "start_time": "2022-04-22T14:20:01.771Z"
   },
   {
    "duration": 75,
    "start_time": "2022-04-22T14:22:26.981Z"
   },
   {
    "duration": 83,
    "start_time": "2022-04-22T14:22:47.993Z"
   },
   {
    "duration": 155,
    "start_time": "2022-04-22T16:40:30.014Z"
   },
   {
    "duration": 150,
    "start_time": "2022-04-22T16:40:59.439Z"
   },
   {
    "duration": 144,
    "start_time": "2022-04-22T16:43:38.668Z"
   },
   {
    "duration": 138,
    "start_time": "2022-04-22T16:43:59.246Z"
   },
   {
    "duration": 152,
    "start_time": "2022-04-22T16:44:30.127Z"
   },
   {
    "duration": 49,
    "start_time": "2022-04-22T16:44:46.061Z"
   },
   {
    "duration": 14,
    "start_time": "2022-04-22T16:49:18.461Z"
   },
   {
    "duration": 28,
    "start_time": "2022-04-22T16:50:06.422Z"
   },
   {
    "duration": 38,
    "start_time": "2022-04-22T16:50:18.706Z"
   },
   {
    "duration": 18,
    "start_time": "2022-04-22T16:53:16.848Z"
   },
   {
    "duration": 34,
    "start_time": "2022-04-22T16:54:24.597Z"
   },
   {
    "duration": 11,
    "start_time": "2022-04-22T17:02:26.044Z"
   },
   {
    "duration": 62,
    "start_time": "2022-04-23T08:57:15.362Z"
   },
   {
    "duration": 935,
    "start_time": "2022-04-23T08:57:19.197Z"
   },
   {
    "duration": 94,
    "start_time": "2022-04-23T08:57:20.134Z"
   },
   {
    "duration": 5,
    "start_time": "2022-04-23T08:57:20.230Z"
   },
   {
    "duration": 38,
    "start_time": "2022-04-23T08:57:20.237Z"
   },
   {
    "duration": 18,
    "start_time": "2022-04-23T08:57:20.277Z"
   },
   {
    "duration": 10,
    "start_time": "2022-04-23T08:57:20.297Z"
   },
   {
    "duration": 37,
    "start_time": "2022-04-23T08:57:20.309Z"
   },
   {
    "duration": 7,
    "start_time": "2022-04-23T08:57:20.347Z"
   },
   {
    "duration": 10,
    "start_time": "2022-04-23T08:57:20.356Z"
   },
   {
    "duration": 7,
    "start_time": "2022-04-23T08:57:20.369Z"
   },
   {
    "duration": 12,
    "start_time": "2022-04-23T08:57:20.378Z"
   },
   {
    "duration": 49,
    "start_time": "2022-04-23T08:57:20.391Z"
   },
   {
    "duration": 6,
    "start_time": "2022-04-23T08:57:20.441Z"
   },
   {
    "duration": 10,
    "start_time": "2022-04-23T08:57:20.449Z"
   },
   {
    "duration": 14,
    "start_time": "2022-04-23T08:57:20.461Z"
   },
   {
    "duration": 16,
    "start_time": "2022-04-23T08:57:20.477Z"
   },
   {
    "duration": 11,
    "start_time": "2022-04-23T08:57:20.494Z"
   },
   {
    "duration": 26,
    "start_time": "2022-04-23T08:57:20.507Z"
   },
   {
    "duration": 27,
    "start_time": "2022-04-23T08:57:20.535Z"
   },
   {
    "duration": 12,
    "start_time": "2022-04-23T08:57:20.564Z"
   },
   {
    "duration": 8,
    "start_time": "2022-04-23T08:57:20.578Z"
   },
   {
    "duration": 9,
    "start_time": "2022-04-23T08:57:20.588Z"
   },
   {
    "duration": 21,
    "start_time": "2022-04-23T08:57:20.599Z"
   },
   {
    "duration": 18,
    "start_time": "2022-04-23T08:57:20.622Z"
   },
   {
    "duration": 12,
    "start_time": "2022-04-23T08:57:20.642Z"
   },
   {
    "duration": 6,
    "start_time": "2022-04-23T08:57:20.656Z"
   },
   {
    "duration": 13,
    "start_time": "2022-04-23T08:57:20.664Z"
   },
   {
    "duration": 4,
    "start_time": "2022-04-23T08:57:20.682Z"
   },
   {
    "duration": 11,
    "start_time": "2022-04-23T08:57:20.688Z"
   },
   {
    "duration": 7,
    "start_time": "2022-04-23T08:57:20.734Z"
   },
   {
    "duration": 9,
    "start_time": "2022-04-23T08:57:20.743Z"
   },
   {
    "duration": 15,
    "start_time": "2022-04-23T08:57:20.754Z"
   },
   {
    "duration": 8,
    "start_time": "2022-04-23T08:57:20.772Z"
   },
   {
    "duration": 17,
    "start_time": "2022-04-23T08:57:20.782Z"
   },
   {
    "duration": 47,
    "start_time": "2022-04-23T08:57:20.800Z"
   },
   {
    "duration": 30,
    "start_time": "2022-04-23T08:57:20.849Z"
   },
   {
    "duration": 106,
    "start_time": "2022-04-23T08:57:20.880Z"
   },
   {
    "duration": 30,
    "start_time": "2022-04-23T08:57:20.987Z"
   },
   {
    "duration": 22,
    "start_time": "2022-04-23T08:57:21.019Z"
   },
   {
    "duration": 7,
    "start_time": "2022-04-23T08:57:21.043Z"
   },
   {
    "duration": 8,
    "start_time": "2022-04-23T08:57:21.052Z"
   },
   {
    "duration": 187,
    "start_time": "2022-04-23T08:57:21.063Z"
   },
   {
    "duration": 9,
    "start_time": "2022-04-23T08:57:21.252Z"
   },
   {
    "duration": 9,
    "start_time": "2022-04-23T08:57:21.263Z"
   },
   {
    "duration": 9,
    "start_time": "2022-04-23T08:57:21.274Z"
   },
   {
    "duration": 282,
    "start_time": "2022-04-23T08:57:21.284Z"
   },
   {
    "duration": 9,
    "start_time": "2022-04-23T08:57:21.568Z"
   },
   {
    "duration": 16,
    "start_time": "2022-04-23T08:57:21.578Z"
   },
   {
    "duration": 12,
    "start_time": "2022-04-23T08:57:21.596Z"
   },
   {
    "duration": 220,
    "start_time": "2022-04-23T08:57:21.609Z"
   },
   {
    "duration": 9,
    "start_time": "2022-04-23T08:57:21.833Z"
   },
   {
    "duration": 7,
    "start_time": "2022-04-23T08:57:21.844Z"
   },
   {
    "duration": 10,
    "start_time": "2022-04-23T08:57:21.853Z"
   },
   {
    "duration": 268,
    "start_time": "2022-04-23T08:57:21.865Z"
   },
   {
    "duration": 266,
    "start_time": "2022-04-23T08:57:22.135Z"
   },
   {
    "duration": 9,
    "start_time": "2022-04-23T08:57:22.403Z"
   },
   {
    "duration": 23,
    "start_time": "2022-04-23T08:57:22.414Z"
   },
   {
    "duration": 12,
    "start_time": "2022-04-23T08:57:22.440Z"
   },
   {
    "duration": 265,
    "start_time": "2022-04-23T08:57:22.454Z"
   },
   {
    "duration": 12,
    "start_time": "2022-04-23T08:57:22.721Z"
   },
   {
    "duration": 6,
    "start_time": "2022-04-23T08:57:22.735Z"
   },
   {
    "duration": 173,
    "start_time": "2022-04-23T08:57:22.743Z"
   },
   {
    "duration": 0,
    "start_time": "2022-04-23T08:57:22.918Z"
   },
   {
    "duration": 0,
    "start_time": "2022-04-23T08:57:22.919Z"
   },
   {
    "duration": 0,
    "start_time": "2022-04-23T08:57:22.920Z"
   },
   {
    "duration": 0,
    "start_time": "2022-04-23T08:57:22.921Z"
   },
   {
    "duration": 0,
    "start_time": "2022-04-23T08:57:22.923Z"
   },
   {
    "duration": 0,
    "start_time": "2022-04-23T08:57:22.924Z"
   },
   {
    "duration": 0,
    "start_time": "2022-04-23T08:57:22.925Z"
   },
   {
    "duration": 0,
    "start_time": "2022-04-23T08:57:22.926Z"
   },
   {
    "duration": 0,
    "start_time": "2022-04-23T08:57:22.927Z"
   },
   {
    "duration": 0,
    "start_time": "2022-04-23T08:57:22.928Z"
   },
   {
    "duration": 0,
    "start_time": "2022-04-23T08:57:22.929Z"
   },
   {
    "duration": 3,
    "start_time": "2022-04-23T08:58:21.634Z"
   },
   {
    "duration": 104,
    "start_time": "2022-04-23T08:58:21.642Z"
   },
   {
    "duration": 4,
    "start_time": "2022-04-23T08:58:21.748Z"
   },
   {
    "duration": 44,
    "start_time": "2022-04-23T08:58:21.754Z"
   },
   {
    "duration": 50,
    "start_time": "2022-04-23T08:58:21.801Z"
   },
   {
    "duration": 13,
    "start_time": "2022-04-23T08:58:21.853Z"
   },
   {
    "duration": 12,
    "start_time": "2022-04-23T08:58:21.868Z"
   },
   {
    "duration": 15,
    "start_time": "2022-04-23T08:58:21.882Z"
   },
   {
    "duration": 41,
    "start_time": "2022-04-23T08:58:21.900Z"
   },
   {
    "duration": 12,
    "start_time": "2022-04-23T08:58:21.943Z"
   },
   {
    "duration": 9,
    "start_time": "2022-04-23T08:58:21.959Z"
   },
   {
    "duration": 10,
    "start_time": "2022-04-23T08:58:21.970Z"
   },
   {
    "duration": 11,
    "start_time": "2022-04-23T08:58:21.981Z"
   },
   {
    "duration": 45,
    "start_time": "2022-04-23T08:58:21.994Z"
   },
   {
    "duration": 10,
    "start_time": "2022-04-23T08:58:22.041Z"
   },
   {
    "duration": 8,
    "start_time": "2022-04-23T08:58:22.053Z"
   },
   {
    "duration": 8,
    "start_time": "2022-04-23T08:58:22.063Z"
   },
   {
    "duration": 7,
    "start_time": "2022-04-23T08:58:22.073Z"
   },
   {
    "duration": 67,
    "start_time": "2022-04-23T08:58:22.082Z"
   },
   {
    "duration": 4,
    "start_time": "2022-04-23T08:58:22.151Z"
   },
   {
    "duration": 11,
    "start_time": "2022-04-23T08:58:22.158Z"
   },
   {
    "duration": 5,
    "start_time": "2022-04-23T08:58:22.171Z"
   },
   {
    "duration": 21,
    "start_time": "2022-04-23T08:58:22.178Z"
   },
   {
    "duration": 35,
    "start_time": "2022-04-23T08:58:22.201Z"
   },
   {
    "duration": 11,
    "start_time": "2022-04-23T08:58:22.237Z"
   },
   {
    "duration": 7,
    "start_time": "2022-04-23T08:58:22.251Z"
   },
   {
    "duration": 17,
    "start_time": "2022-04-23T08:58:22.260Z"
   },
   {
    "duration": 6,
    "start_time": "2022-04-23T08:58:22.279Z"
   },
   {
    "duration": 7,
    "start_time": "2022-04-23T08:58:22.333Z"
   },
   {
    "duration": 11,
    "start_time": "2022-04-23T08:58:22.342Z"
   },
   {
    "duration": 12,
    "start_time": "2022-04-23T08:58:22.356Z"
   },
   {
    "duration": 11,
    "start_time": "2022-04-23T08:58:22.370Z"
   },
   {
    "duration": 9,
    "start_time": "2022-04-23T08:58:22.383Z"
   },
   {
    "duration": 41,
    "start_time": "2022-04-23T08:58:22.394Z"
   },
   {
    "duration": 31,
    "start_time": "2022-04-23T08:58:22.437Z"
   },
   {
    "duration": 31,
    "start_time": "2022-04-23T08:58:22.469Z"
   },
   {
    "duration": 116,
    "start_time": "2022-04-23T08:58:22.502Z"
   },
   {
    "duration": 40,
    "start_time": "2022-04-23T08:58:22.620Z"
   },
   {
    "duration": 8,
    "start_time": "2022-04-23T08:58:22.662Z"
   },
   {
    "duration": 7,
    "start_time": "2022-04-23T08:58:22.672Z"
   },
   {
    "duration": 7,
    "start_time": "2022-04-23T08:58:22.681Z"
   },
   {
    "duration": 184,
    "start_time": "2022-04-23T08:58:22.690Z"
   },
   {
    "duration": 10,
    "start_time": "2022-04-23T08:58:22.876Z"
   },
   {
    "duration": 7,
    "start_time": "2022-04-23T08:58:22.888Z"
   },
   {
    "duration": 5,
    "start_time": "2022-04-23T08:58:22.897Z"
   },
   {
    "duration": 290,
    "start_time": "2022-04-23T08:58:22.903Z"
   },
   {
    "duration": 8,
    "start_time": "2022-04-23T08:58:23.195Z"
   },
   {
    "duration": 8,
    "start_time": "2022-04-23T08:58:23.205Z"
   },
   {
    "duration": 22,
    "start_time": "2022-04-23T08:58:23.215Z"
   },
   {
    "duration": 239,
    "start_time": "2022-04-23T08:58:23.240Z"
   },
   {
    "duration": 10,
    "start_time": "2022-04-23T08:58:23.481Z"
   },
   {
    "duration": 11,
    "start_time": "2022-04-23T08:58:23.492Z"
   },
   {
    "duration": 10,
    "start_time": "2022-04-23T08:58:23.504Z"
   },
   {
    "duration": 269,
    "start_time": "2022-04-23T08:58:23.516Z"
   },
   {
    "duration": 256,
    "start_time": "2022-04-23T08:58:23.786Z"
   },
   {
    "duration": 9,
    "start_time": "2022-04-23T08:58:24.043Z"
   },
   {
    "duration": 7,
    "start_time": "2022-04-23T08:58:24.053Z"
   },
   {
    "duration": 9,
    "start_time": "2022-04-23T08:58:24.062Z"
   },
   {
    "duration": 263,
    "start_time": "2022-04-23T08:58:24.073Z"
   },
   {
    "duration": 4,
    "start_time": "2022-04-23T08:58:24.338Z"
   },
   {
    "duration": 6,
    "start_time": "2022-04-23T08:58:24.344Z"
   },
   {
    "duration": 122,
    "start_time": "2022-04-23T08:58:24.352Z"
   },
   {
    "duration": 115,
    "start_time": "2022-04-23T08:58:24.475Z"
   },
   {
    "duration": 125,
    "start_time": "2022-04-23T08:58:24.592Z"
   },
   {
    "duration": 166,
    "start_time": "2022-04-23T08:58:24.718Z"
   },
   {
    "duration": 0,
    "start_time": "2022-04-23T08:58:24.886Z"
   },
   {
    "duration": 0,
    "start_time": "2022-04-23T08:58:24.888Z"
   },
   {
    "duration": 0,
    "start_time": "2022-04-23T08:58:24.889Z"
   },
   {
    "duration": 0,
    "start_time": "2022-04-23T08:58:24.890Z"
   },
   {
    "duration": 0,
    "start_time": "2022-04-23T08:58:24.891Z"
   },
   {
    "duration": 0,
    "start_time": "2022-04-23T08:58:24.892Z"
   },
   {
    "duration": 0,
    "start_time": "2022-04-23T08:58:24.893Z"
   },
   {
    "duration": 3,
    "start_time": "2022-04-23T08:59:08.745Z"
   },
   {
    "duration": 84,
    "start_time": "2022-04-23T08:59:08.750Z"
   },
   {
    "duration": 5,
    "start_time": "2022-04-23T08:59:08.837Z"
   },
   {
    "duration": 32,
    "start_time": "2022-04-23T08:59:08.843Z"
   },
   {
    "duration": 21,
    "start_time": "2022-04-23T08:59:08.878Z"
   },
   {
    "duration": 35,
    "start_time": "2022-04-23T08:59:08.900Z"
   },
   {
    "duration": 11,
    "start_time": "2022-04-23T08:59:08.937Z"
   },
   {
    "duration": 5,
    "start_time": "2022-04-23T08:59:08.950Z"
   },
   {
    "duration": 13,
    "start_time": "2022-04-23T08:59:08.956Z"
   },
   {
    "duration": 8,
    "start_time": "2022-04-23T08:59:08.970Z"
   },
   {
    "duration": 13,
    "start_time": "2022-04-23T08:59:08.980Z"
   },
   {
    "duration": 15,
    "start_time": "2022-04-23T08:59:09.034Z"
   },
   {
    "duration": 5,
    "start_time": "2022-04-23T08:59:09.050Z"
   },
   {
    "duration": 16,
    "start_time": "2022-04-23T08:59:09.057Z"
   },
   {
    "duration": 10,
    "start_time": "2022-04-23T08:59:09.075Z"
   },
   {
    "duration": 8,
    "start_time": "2022-04-23T08:59:09.086Z"
   },
   {
    "duration": 38,
    "start_time": "2022-04-23T08:59:09.095Z"
   },
   {
    "duration": 6,
    "start_time": "2022-04-23T08:59:09.135Z"
   },
   {
    "duration": 31,
    "start_time": "2022-04-23T08:59:09.142Z"
   },
   {
    "duration": 4,
    "start_time": "2022-04-23T08:59:09.175Z"
   },
   {
    "duration": 12,
    "start_time": "2022-04-23T08:59:09.181Z"
   },
   {
    "duration": 11,
    "start_time": "2022-04-23T08:59:09.195Z"
   },
   {
    "duration": 37,
    "start_time": "2022-04-23T08:59:09.208Z"
   },
   {
    "duration": 9,
    "start_time": "2022-04-23T08:59:09.247Z"
   },
   {
    "duration": 11,
    "start_time": "2022-04-23T08:59:09.258Z"
   },
   {
    "duration": 8,
    "start_time": "2022-04-23T08:59:09.271Z"
   },
   {
    "duration": 11,
    "start_time": "2022-04-23T08:59:09.281Z"
   },
   {
    "duration": 8,
    "start_time": "2022-04-23T08:59:09.294Z"
   },
   {
    "duration": 6,
    "start_time": "2022-04-23T08:59:09.336Z"
   },
   {
    "duration": 8,
    "start_time": "2022-04-23T08:59:09.344Z"
   },
   {
    "duration": 9,
    "start_time": "2022-04-23T08:59:09.354Z"
   },
   {
    "duration": 8,
    "start_time": "2022-04-23T08:59:09.365Z"
   },
   {
    "duration": 7,
    "start_time": "2022-04-23T08:59:09.375Z"
   },
   {
    "duration": 16,
    "start_time": "2022-04-23T08:59:09.383Z"
   },
   {
    "duration": 60,
    "start_time": "2022-04-23T08:59:09.401Z"
   },
   {
    "duration": 28,
    "start_time": "2022-04-23T08:59:09.462Z"
   },
   {
    "duration": 104,
    "start_time": "2022-04-23T08:59:09.492Z"
   },
   {
    "duration": 43,
    "start_time": "2022-04-23T08:59:09.597Z"
   },
   {
    "duration": 9,
    "start_time": "2022-04-23T08:59:09.642Z"
   },
   {
    "duration": 7,
    "start_time": "2022-04-23T08:59:09.652Z"
   },
   {
    "duration": 8,
    "start_time": "2022-04-23T08:59:09.661Z"
   },
   {
    "duration": 243,
    "start_time": "2022-04-23T08:59:09.671Z"
   },
   {
    "duration": 18,
    "start_time": "2022-04-23T08:59:09.916Z"
   },
   {
    "duration": 7,
    "start_time": "2022-04-23T08:59:09.936Z"
   },
   {
    "duration": 4,
    "start_time": "2022-04-23T08:59:09.945Z"
   },
   {
    "duration": 277,
    "start_time": "2022-04-23T08:59:09.951Z"
   },
   {
    "duration": 11,
    "start_time": "2022-04-23T08:59:10.230Z"
   },
   {
    "duration": 6,
    "start_time": "2022-04-23T08:59:10.243Z"
   },
   {
    "duration": 5,
    "start_time": "2022-04-23T08:59:10.251Z"
   },
   {
    "duration": 176,
    "start_time": "2022-04-23T08:59:10.258Z"
   },
   {
    "duration": 9,
    "start_time": "2022-04-23T08:59:10.436Z"
   },
   {
    "duration": 9,
    "start_time": "2022-04-23T08:59:10.447Z"
   },
   {
    "duration": 8,
    "start_time": "2022-04-23T08:59:10.458Z"
   },
   {
    "duration": 259,
    "start_time": "2022-04-23T08:59:10.468Z"
   },
   {
    "duration": 278,
    "start_time": "2022-04-23T08:59:10.734Z"
   },
   {
    "duration": 23,
    "start_time": "2022-04-23T08:59:11.014Z"
   },
   {
    "duration": 8,
    "start_time": "2022-04-23T08:59:11.039Z"
   },
   {
    "duration": 11,
    "start_time": "2022-04-23T08:59:11.048Z"
   },
   {
    "duration": 260,
    "start_time": "2022-04-23T08:59:11.061Z"
   },
   {
    "duration": 12,
    "start_time": "2022-04-23T08:59:11.323Z"
   },
   {
    "duration": 7,
    "start_time": "2022-04-23T08:59:11.337Z"
   },
   {
    "duration": 131,
    "start_time": "2022-04-23T08:59:11.346Z"
   },
   {
    "duration": 195,
    "start_time": "2022-04-23T08:59:11.479Z"
   },
   {
    "duration": 128,
    "start_time": "2022-04-23T08:59:11.676Z"
   },
   {
    "duration": 123,
    "start_time": "2022-04-23T08:59:11.810Z"
   },
   {
    "duration": 122,
    "start_time": "2022-04-23T08:59:11.935Z"
   },
   {
    "duration": 43,
    "start_time": "2022-04-23T08:59:12.059Z"
   },
   {
    "duration": 36,
    "start_time": "2022-04-23T08:59:12.104Z"
   },
   {
    "duration": 40,
    "start_time": "2022-04-23T08:59:12.142Z"
   },
   {
    "duration": 6,
    "start_time": "2022-04-23T08:59:53.339Z"
   },
   {
    "duration": 6,
    "start_time": "2022-04-23T09:01:16.900Z"
   },
   {
    "duration": 5,
    "start_time": "2022-04-23T09:03:16.757Z"
   },
   {
    "duration": 90,
    "start_time": "2022-04-23T09:07:37.667Z"
   },
   {
    "duration": 28,
    "start_time": "2022-04-23T09:07:42.233Z"
   },
   {
    "duration": 8,
    "start_time": "2022-04-23T09:07:48.503Z"
   },
   {
    "duration": 7,
    "start_time": "2022-04-23T09:07:49.718Z"
   },
   {
    "duration": 5,
    "start_time": "2022-04-23T09:07:50.582Z"
   },
   {
    "duration": 145,
    "start_time": "2022-04-23T09:07:51.455Z"
   },
   {
    "duration": 9,
    "start_time": "2022-04-23T09:07:52.281Z"
   },
   {
    "duration": 7,
    "start_time": "2022-04-23T09:07:53.039Z"
   },
   {
    "duration": 5,
    "start_time": "2022-04-23T09:07:53.758Z"
   },
   {
    "duration": 258,
    "start_time": "2022-04-23T09:07:54.570Z"
   },
   {
    "duration": 9,
    "start_time": "2022-04-23T09:07:55.206Z"
   },
   {
    "duration": 6,
    "start_time": "2022-04-23T09:07:55.929Z"
   },
   {
    "duration": 5,
    "start_time": "2022-04-23T09:07:56.597Z"
   },
   {
    "duration": 144,
    "start_time": "2022-04-23T09:07:57.475Z"
   },
   {
    "duration": 10,
    "start_time": "2022-04-23T09:07:58.163Z"
   },
   {
    "duration": 8,
    "start_time": "2022-04-23T09:07:58.894Z"
   },
   {
    "duration": 5,
    "start_time": "2022-04-23T09:07:59.621Z"
   },
   {
    "duration": 243,
    "start_time": "2022-04-23T09:08:00.543Z"
   },
   {
    "duration": 344,
    "start_time": "2022-04-23T09:08:01.466Z"
   },
   {
    "duration": 10,
    "start_time": "2022-04-23T09:08:02.519Z"
   },
   {
    "duration": 8,
    "start_time": "2022-04-23T09:08:03.420Z"
   },
   {
    "duration": 11,
    "start_time": "2022-04-23T09:08:04.289Z"
   },
   {
    "duration": 238,
    "start_time": "2022-04-23T09:08:05.191Z"
   },
   {
    "duration": 5,
    "start_time": "2022-04-23T09:08:08.643Z"
   },
   {
    "duration": 5,
    "start_time": "2022-04-23T09:08:10.874Z"
   },
   {
    "duration": 99,
    "start_time": "2022-04-23T09:08:12.390Z"
   },
   {
    "duration": 106,
    "start_time": "2022-04-23T09:08:13.970Z"
   },
   {
    "duration": 124,
    "start_time": "2022-04-23T09:08:16.845Z"
   },
   {
    "duration": 113,
    "start_time": "2022-04-23T09:08:18.781Z"
   },
   {
    "duration": 129,
    "start_time": "2022-04-23T09:08:20.632Z"
   },
   {
    "duration": 50,
    "start_time": "2022-04-23T09:08:24.294Z"
   },
   {
    "duration": 16,
    "start_time": "2022-04-23T09:08:25.471Z"
   },
   {
    "duration": 7,
    "start_time": "2022-04-23T09:08:26.262Z"
   },
   {
    "duration": 5,
    "start_time": "2022-04-23T09:08:27.326Z"
   },
   {
    "duration": 5,
    "start_time": "2022-04-23T09:08:27.994Z"
   },
   {
    "duration": 77,
    "start_time": "2022-04-23T09:13:48.803Z"
   },
   {
    "duration": 86,
    "start_time": "2022-04-23T09:15:04.566Z"
   },
   {
    "duration": 74,
    "start_time": "2022-04-23T09:15:42.000Z"
   },
   {
    "duration": 66,
    "start_time": "2022-04-23T09:16:49.270Z"
   },
   {
    "duration": 3,
    "start_time": "2022-04-23T09:18:34.021Z"
   },
   {
    "duration": 96,
    "start_time": "2022-04-23T09:18:34.026Z"
   },
   {
    "duration": 4,
    "start_time": "2022-04-23T09:18:34.124Z"
   },
   {
    "duration": 28,
    "start_time": "2022-04-23T09:18:34.133Z"
   },
   {
    "duration": 16,
    "start_time": "2022-04-23T09:18:34.163Z"
   },
   {
    "duration": 10,
    "start_time": "2022-04-23T09:18:34.181Z"
   },
   {
    "duration": 46,
    "start_time": "2022-04-23T09:18:34.192Z"
   },
   {
    "duration": 5,
    "start_time": "2022-04-23T09:18:34.240Z"
   },
   {
    "duration": 12,
    "start_time": "2022-04-23T09:18:34.247Z"
   },
   {
    "duration": 9,
    "start_time": "2022-04-23T09:18:34.261Z"
   },
   {
    "duration": 9,
    "start_time": "2022-04-23T09:18:34.273Z"
   },
   {
    "duration": 55,
    "start_time": "2022-04-23T09:18:34.284Z"
   },
   {
    "duration": 5,
    "start_time": "2022-04-23T09:18:34.340Z"
   },
   {
    "duration": 8,
    "start_time": "2022-04-23T09:18:34.347Z"
   },
   {
    "duration": 9,
    "start_time": "2022-04-23T09:18:34.357Z"
   },
   {
    "duration": 6,
    "start_time": "2022-04-23T09:18:34.368Z"
   },
   {
    "duration": 4,
    "start_time": "2022-04-23T09:18:34.376Z"
   },
   {
    "duration": 55,
    "start_time": "2022-04-23T09:18:34.381Z"
   },
   {
    "duration": 27,
    "start_time": "2022-04-23T09:18:34.438Z"
   },
   {
    "duration": 5,
    "start_time": "2022-04-23T09:18:34.467Z"
   },
   {
    "duration": 10,
    "start_time": "2022-04-23T09:18:34.474Z"
   },
   {
    "duration": 7,
    "start_time": "2022-04-23T09:18:34.486Z"
   },
   {
    "duration": 46,
    "start_time": "2022-04-23T09:18:34.494Z"
   },
   {
    "duration": 11,
    "start_time": "2022-04-23T09:18:34.542Z"
   },
   {
    "duration": 11,
    "start_time": "2022-04-23T09:18:34.555Z"
   },
   {
    "duration": 9,
    "start_time": "2022-04-23T09:18:34.568Z"
   },
   {
    "duration": 13,
    "start_time": "2022-04-23T09:18:34.578Z"
   },
   {
    "duration": 5,
    "start_time": "2022-04-23T09:18:34.592Z"
   },
   {
    "duration": 7,
    "start_time": "2022-04-23T09:18:34.634Z"
   },
   {
    "duration": 7,
    "start_time": "2022-04-23T09:18:34.643Z"
   },
   {
    "duration": 8,
    "start_time": "2022-04-23T09:18:34.652Z"
   },
   {
    "duration": 9,
    "start_time": "2022-04-23T09:18:34.662Z"
   },
   {
    "duration": 7,
    "start_time": "2022-04-23T09:18:34.672Z"
   },
   {
    "duration": 53,
    "start_time": "2022-04-23T09:18:34.681Z"
   },
   {
    "duration": 30,
    "start_time": "2022-04-23T09:18:34.736Z"
   },
   {
    "duration": 27,
    "start_time": "2022-04-23T09:18:34.768Z"
   },
   {
    "duration": 179,
    "start_time": "2022-04-23T09:18:34.797Z"
   },
   {
    "duration": 29,
    "start_time": "2022-04-23T09:18:34.978Z"
   },
   {
    "duration": 9,
    "start_time": "2022-04-23T09:18:35.033Z"
   },
   {
    "duration": 8,
    "start_time": "2022-04-23T09:18:35.044Z"
   },
   {
    "duration": 6,
    "start_time": "2022-04-23T09:18:35.054Z"
   },
   {
    "duration": 180,
    "start_time": "2022-04-23T09:18:35.062Z"
   },
   {
    "duration": 8,
    "start_time": "2022-04-23T09:18:35.244Z"
   },
   {
    "duration": 7,
    "start_time": "2022-04-23T09:18:35.254Z"
   },
   {
    "duration": 7,
    "start_time": "2022-04-23T09:18:35.262Z"
   },
   {
    "duration": 282,
    "start_time": "2022-04-23T09:18:35.271Z"
   },
   {
    "duration": 9,
    "start_time": "2022-04-23T09:18:35.554Z"
   },
   {
    "duration": 7,
    "start_time": "2022-04-23T09:18:35.565Z"
   },
   {
    "duration": 7,
    "start_time": "2022-04-23T09:18:35.574Z"
   },
   {
    "duration": 173,
    "start_time": "2022-04-23T09:18:35.583Z"
   },
   {
    "duration": 9,
    "start_time": "2022-04-23T09:18:35.757Z"
   },
   {
    "duration": 17,
    "start_time": "2022-04-23T09:18:35.767Z"
   },
   {
    "duration": 6,
    "start_time": "2022-04-23T09:18:35.786Z"
   },
   {
    "duration": 262,
    "start_time": "2022-04-23T09:18:35.794Z"
   },
   {
    "duration": 261,
    "start_time": "2022-04-23T09:18:36.058Z"
   },
   {
    "duration": 17,
    "start_time": "2022-04-23T09:18:36.321Z"
   },
   {
    "duration": 16,
    "start_time": "2022-04-23T09:18:36.339Z"
   },
   {
    "duration": 16,
    "start_time": "2022-04-23T09:18:36.357Z"
   },
   {
    "duration": 249,
    "start_time": "2022-04-23T09:18:36.375Z"
   },
   {
    "duration": 7,
    "start_time": "2022-04-23T09:18:36.626Z"
   },
   {
    "duration": 5,
    "start_time": "2022-04-23T09:18:36.635Z"
   },
   {
    "duration": 123,
    "start_time": "2022-04-23T09:18:36.642Z"
   },
   {
    "duration": 199,
    "start_time": "2022-04-23T09:18:36.767Z"
   },
   {
    "duration": 127,
    "start_time": "2022-04-23T09:18:36.968Z"
   },
   {
    "duration": 125,
    "start_time": "2022-04-23T09:18:37.097Z"
   },
   {
    "duration": 125,
    "start_time": "2022-04-23T09:18:37.223Z"
   },
   {
    "duration": 42,
    "start_time": "2022-04-23T09:18:37.350Z"
   },
   {
    "duration": 13,
    "start_time": "2022-04-23T09:18:37.393Z"
   },
   {
    "duration": 28,
    "start_time": "2022-04-23T09:18:37.408Z"
   },
   {
    "duration": 15,
    "start_time": "2022-04-23T09:18:37.438Z"
   },
   {
    "duration": 10,
    "start_time": "2022-04-23T09:18:37.455Z"
   },
   {
    "duration": 83,
    "start_time": "2022-04-23T09:18:37.467Z"
   },
   {
    "duration": 5,
    "start_time": "2022-04-23T09:18:37.552Z"
   },
   {
    "duration": 76,
    "start_time": "2022-04-23T09:24:00.371Z"
   },
   {
    "duration": 42,
    "start_time": "2022-04-23T09:26:37.332Z"
   },
   {
    "duration": 65,
    "start_time": "2022-04-23T09:27:35.437Z"
   },
   {
    "duration": 3,
    "start_time": "2022-04-23T09:27:40.070Z"
   },
   {
    "duration": 103,
    "start_time": "2022-04-23T09:27:40.076Z"
   },
   {
    "duration": 4,
    "start_time": "2022-04-23T09:27:40.182Z"
   },
   {
    "duration": 47,
    "start_time": "2022-04-23T09:27:40.187Z"
   },
   {
    "duration": 16,
    "start_time": "2022-04-23T09:27:40.236Z"
   },
   {
    "duration": 10,
    "start_time": "2022-04-23T09:27:40.254Z"
   },
   {
    "duration": 12,
    "start_time": "2022-04-23T09:27:40.266Z"
   },
   {
    "duration": 5,
    "start_time": "2022-04-23T09:27:40.279Z"
   },
   {
    "duration": 52,
    "start_time": "2022-04-23T09:27:40.286Z"
   },
   {
    "duration": 9,
    "start_time": "2022-04-23T09:27:40.340Z"
   },
   {
    "duration": 10,
    "start_time": "2022-04-23T09:27:40.352Z"
   },
   {
    "duration": 9,
    "start_time": "2022-04-23T09:27:40.364Z"
   },
   {
    "duration": 8,
    "start_time": "2022-04-23T09:27:40.375Z"
   },
   {
    "duration": 49,
    "start_time": "2022-04-23T09:27:40.385Z"
   },
   {
    "duration": 10,
    "start_time": "2022-04-23T09:27:40.436Z"
   },
   {
    "duration": 8,
    "start_time": "2022-04-23T09:27:40.447Z"
   },
   {
    "duration": 5,
    "start_time": "2022-04-23T09:27:40.456Z"
   },
   {
    "duration": 10,
    "start_time": "2022-04-23T09:27:40.463Z"
   },
   {
    "duration": 64,
    "start_time": "2022-04-23T09:27:40.475Z"
   },
   {
    "duration": 3,
    "start_time": "2022-04-23T09:27:40.541Z"
   },
   {
    "duration": 8,
    "start_time": "2022-04-23T09:27:40.546Z"
   },
   {
    "duration": 5,
    "start_time": "2022-04-23T09:27:40.556Z"
   },
   {
    "duration": 15,
    "start_time": "2022-04-23T09:27:40.563Z"
   },
   {
    "duration": 9,
    "start_time": "2022-04-23T09:27:40.580Z"
   },
   {
    "duration": 9,
    "start_time": "2022-04-23T09:27:40.634Z"
   },
   {
    "duration": 8,
    "start_time": "2022-04-23T09:27:40.645Z"
   },
   {
    "duration": 11,
    "start_time": "2022-04-23T09:27:40.655Z"
   },
   {
    "duration": 4,
    "start_time": "2022-04-23T09:27:40.668Z"
   },
   {
    "duration": 6,
    "start_time": "2022-04-23T09:27:40.677Z"
   },
   {
    "duration": 56,
    "start_time": "2022-04-23T09:27:40.684Z"
   },
   {
    "duration": 9,
    "start_time": "2022-04-23T09:27:40.742Z"
   },
   {
    "duration": 10,
    "start_time": "2022-04-23T09:27:40.753Z"
   },
   {
    "duration": 7,
    "start_time": "2022-04-23T09:27:40.765Z"
   },
   {
    "duration": 15,
    "start_time": "2022-04-23T09:27:40.773Z"
   },
   {
    "duration": 57,
    "start_time": "2022-04-23T09:27:40.790Z"
   },
   {
    "duration": 28,
    "start_time": "2022-04-23T09:27:40.849Z"
   },
   {
    "duration": 103,
    "start_time": "2022-04-23T09:27:40.878Z"
   },
   {
    "duration": 30,
    "start_time": "2022-04-23T09:27:40.982Z"
   },
   {
    "duration": 21,
    "start_time": "2022-04-23T09:27:41.014Z"
   },
   {
    "duration": 7,
    "start_time": "2022-04-23T09:27:41.037Z"
   },
   {
    "duration": 8,
    "start_time": "2022-04-23T09:27:41.046Z"
   },
   {
    "duration": 181,
    "start_time": "2022-04-23T09:27:41.056Z"
   },
   {
    "duration": 9,
    "start_time": "2022-04-23T09:27:41.239Z"
   },
   {
    "duration": 7,
    "start_time": "2022-04-23T09:27:41.249Z"
   },
   {
    "duration": 4,
    "start_time": "2022-04-23T09:27:41.258Z"
   },
   {
    "duration": 289,
    "start_time": "2022-04-23T09:27:41.264Z"
   },
   {
    "duration": 9,
    "start_time": "2022-04-23T09:27:41.555Z"
   },
   {
    "duration": 9,
    "start_time": "2022-04-23T09:27:41.565Z"
   },
   {
    "duration": 6,
    "start_time": "2022-04-23T09:27:41.576Z"
   },
   {
    "duration": 170,
    "start_time": "2022-04-23T09:27:41.584Z"
   },
   {
    "duration": 8,
    "start_time": "2022-04-23T09:27:41.756Z"
   },
   {
    "duration": 9,
    "start_time": "2022-04-23T09:27:41.766Z"
   },
   {
    "duration": 8,
    "start_time": "2022-04-23T09:27:41.777Z"
   },
   {
    "duration": 351,
    "start_time": "2022-04-23T09:27:41.786Z"
   },
   {
    "duration": 253,
    "start_time": "2022-04-23T09:27:42.138Z"
   },
   {
    "duration": 8,
    "start_time": "2022-04-23T09:27:42.393Z"
   },
   {
    "duration": 8,
    "start_time": "2022-04-23T09:27:42.403Z"
   },
   {
    "duration": 10,
    "start_time": "2022-04-23T09:27:42.413Z"
   },
   {
    "duration": 255,
    "start_time": "2022-04-23T09:27:42.425Z"
   },
   {
    "duration": 6,
    "start_time": "2022-04-23T09:27:42.682Z"
   },
   {
    "duration": 9,
    "start_time": "2022-04-23T09:27:42.690Z"
   },
   {
    "duration": 144,
    "start_time": "2022-04-23T09:27:42.701Z"
   },
   {
    "duration": 135,
    "start_time": "2022-04-23T09:27:42.846Z"
   },
   {
    "duration": 184,
    "start_time": "2022-04-23T09:27:42.983Z"
   },
   {
    "duration": 115,
    "start_time": "2022-04-23T09:27:43.168Z"
   },
   {
    "duration": 120,
    "start_time": "2022-04-23T09:27:43.284Z"
   },
   {
    "duration": 50,
    "start_time": "2022-04-23T09:27:43.406Z"
   },
   {
    "duration": 13,
    "start_time": "2022-04-23T09:27:43.458Z"
   },
   {
    "duration": 5,
    "start_time": "2022-04-23T09:27:43.473Z"
   },
   {
    "duration": 6,
    "start_time": "2022-04-23T09:27:43.480Z"
   },
   {
    "duration": 7,
    "start_time": "2022-04-23T09:27:43.488Z"
   },
   {
    "duration": 94,
    "start_time": "2022-04-23T09:27:43.497Z"
   },
   {
    "duration": 6,
    "start_time": "2022-04-23T09:27:43.593Z"
   },
   {
    "duration": 6,
    "start_time": "2022-04-23T09:28:41.231Z"
   },
   {
    "duration": 6,
    "start_time": "2022-04-23T09:31:25.576Z"
   },
   {
    "duration": 7,
    "start_time": "2022-04-23T09:32:08.138Z"
   },
   {
    "duration": 6,
    "start_time": "2022-04-23T09:32:39.813Z"
   },
   {
    "duration": 12,
    "start_time": "2022-04-23T09:33:24.604Z"
   },
   {
    "duration": 3,
    "start_time": "2022-04-23T09:34:04.705Z"
   },
   {
    "duration": 91,
    "start_time": "2022-04-23T09:34:04.712Z"
   },
   {
    "duration": 4,
    "start_time": "2022-04-23T09:34:04.806Z"
   },
   {
    "duration": 47,
    "start_time": "2022-04-23T09:34:04.812Z"
   },
   {
    "duration": 19,
    "start_time": "2022-04-23T09:34:04.862Z"
   },
   {
    "duration": 10,
    "start_time": "2022-04-23T09:34:04.883Z"
   },
   {
    "duration": 13,
    "start_time": "2022-04-23T09:34:04.935Z"
   },
   {
    "duration": 5,
    "start_time": "2022-04-23T09:34:04.950Z"
   },
   {
    "duration": 13,
    "start_time": "2022-04-23T09:34:04.957Z"
   },
   {
    "duration": 7,
    "start_time": "2022-04-23T09:34:04.972Z"
   },
   {
    "duration": 53,
    "start_time": "2022-04-23T09:34:04.983Z"
   },
   {
    "duration": 9,
    "start_time": "2022-04-23T09:34:05.038Z"
   },
   {
    "duration": 10,
    "start_time": "2022-04-23T09:34:05.049Z"
   },
   {
    "duration": 9,
    "start_time": "2022-04-23T09:34:05.061Z"
   },
   {
    "duration": 10,
    "start_time": "2022-04-23T09:34:05.071Z"
   },
   {
    "duration": 9,
    "start_time": "2022-04-23T09:34:05.083Z"
   },
   {
    "duration": 42,
    "start_time": "2022-04-23T09:34:05.093Z"
   },
   {
    "duration": 10,
    "start_time": "2022-04-23T09:34:05.137Z"
   },
   {
    "duration": 28,
    "start_time": "2022-04-23T09:34:05.148Z"
   },
   {
    "duration": 3,
    "start_time": "2022-04-23T09:34:05.178Z"
   },
   {
    "duration": 11,
    "start_time": "2022-04-23T09:34:05.183Z"
   },
   {
    "duration": 7,
    "start_time": "2022-04-23T09:34:05.196Z"
   },
   {
    "duration": 41,
    "start_time": "2022-04-23T09:34:05.205Z"
   },
   {
    "duration": 10,
    "start_time": "2022-04-23T09:34:05.247Z"
   },
   {
    "duration": 10,
    "start_time": "2022-04-23T09:34:05.258Z"
   },
   {
    "duration": 9,
    "start_time": "2022-04-23T09:34:05.270Z"
   },
   {
    "duration": 13,
    "start_time": "2022-04-23T09:34:05.281Z"
   },
   {
    "duration": 39,
    "start_time": "2022-04-23T09:34:05.296Z"
   },
   {
    "duration": 11,
    "start_time": "2022-04-23T09:34:05.340Z"
   },
   {
    "duration": 10,
    "start_time": "2022-04-23T09:34:05.353Z"
   },
   {
    "duration": 10,
    "start_time": "2022-04-23T09:34:05.365Z"
   },
   {
    "duration": 11,
    "start_time": "2022-04-23T09:34:05.377Z"
   },
   {
    "duration": 9,
    "start_time": "2022-04-23T09:34:05.390Z"
   },
   {
    "duration": 33,
    "start_time": "2022-04-23T09:34:05.401Z"
   },
   {
    "duration": 32,
    "start_time": "2022-04-23T09:34:05.436Z"
   },
   {
    "duration": 31,
    "start_time": "2022-04-23T09:34:05.469Z"
   },
   {
    "duration": 200,
    "start_time": "2022-04-23T09:34:05.502Z"
   },
   {
    "duration": 40,
    "start_time": "2022-04-23T09:34:05.704Z"
   },
   {
    "duration": 9,
    "start_time": "2022-04-23T09:34:05.746Z"
   },
   {
    "duration": 9,
    "start_time": "2022-04-23T09:34:05.757Z"
   },
   {
    "duration": 5,
    "start_time": "2022-04-23T09:34:05.768Z"
   },
   {
    "duration": 187,
    "start_time": "2022-04-23T09:34:05.775Z"
   },
   {
    "duration": 10,
    "start_time": "2022-04-23T09:34:05.963Z"
   },
   {
    "duration": 7,
    "start_time": "2022-04-23T09:34:05.975Z"
   },
   {
    "duration": 11,
    "start_time": "2022-04-23T09:34:05.984Z"
   },
   {
    "duration": 319,
    "start_time": "2022-04-23T09:34:05.998Z"
   },
   {
    "duration": 15,
    "start_time": "2022-04-23T09:34:06.319Z"
   },
   {
    "duration": 5,
    "start_time": "2022-04-23T09:34:06.336Z"
   },
   {
    "duration": 7,
    "start_time": "2022-04-23T09:34:06.343Z"
   },
   {
    "duration": 166,
    "start_time": "2022-04-23T09:34:06.351Z"
   },
   {
    "duration": 17,
    "start_time": "2022-04-23T09:34:06.519Z"
   },
   {
    "duration": 13,
    "start_time": "2022-04-23T09:34:06.538Z"
   },
   {
    "duration": 11,
    "start_time": "2022-04-23T09:34:06.552Z"
   },
   {
    "duration": 256,
    "start_time": "2022-04-23T09:34:06.565Z"
   },
   {
    "duration": 256,
    "start_time": "2022-04-23T09:34:06.823Z"
   },
   {
    "duration": 9,
    "start_time": "2022-04-23T09:34:07.082Z"
   },
   {
    "duration": 7,
    "start_time": "2022-04-23T09:34:07.093Z"
   },
   {
    "duration": 33,
    "start_time": "2022-04-23T09:34:07.102Z"
   },
   {
    "duration": 250,
    "start_time": "2022-04-23T09:34:07.137Z"
   },
   {
    "duration": 4,
    "start_time": "2022-04-23T09:34:07.389Z"
   },
   {
    "duration": 7,
    "start_time": "2022-04-23T09:34:07.395Z"
   },
   {
    "duration": 118,
    "start_time": "2022-04-23T09:34:07.404Z"
   },
   {
    "duration": 204,
    "start_time": "2022-04-23T09:34:07.524Z"
   },
   {
    "duration": 121,
    "start_time": "2022-04-23T09:34:07.733Z"
   },
   {
    "duration": 117,
    "start_time": "2022-04-23T09:34:07.855Z"
   },
   {
    "duration": 124,
    "start_time": "2022-04-23T09:34:07.973Z"
   },
   {
    "duration": 51,
    "start_time": "2022-04-23T09:34:08.099Z"
   },
   {
    "duration": 13,
    "start_time": "2022-04-23T09:34:08.153Z"
   },
   {
    "duration": 5,
    "start_time": "2022-04-23T09:34:08.168Z"
   },
   {
    "duration": 7,
    "start_time": "2022-04-23T09:34:08.175Z"
   },
   {
    "duration": 7,
    "start_time": "2022-04-23T09:34:08.183Z"
   },
   {
    "duration": 100,
    "start_time": "2022-04-23T09:34:08.192Z"
   },
   {
    "duration": 6,
    "start_time": "2022-04-23T09:34:08.294Z"
   },
   {
    "duration": 6,
    "start_time": "2022-04-23T09:34:08.302Z"
   },
   {
    "duration": 25,
    "start_time": "2022-04-23T09:34:08.310Z"
   },
   {
    "duration": 6,
    "start_time": "2022-04-23T09:34:08.337Z"
   },
   {
    "duration": 5,
    "start_time": "2022-04-23T09:51:55.833Z"
   },
   {
    "duration": 10,
    "start_time": "2022-04-23T10:07:10.296Z"
   },
   {
    "duration": 13,
    "start_time": "2022-04-23T10:07:42.171Z"
   },
   {
    "duration": 17,
    "start_time": "2022-04-23T10:08:23.510Z"
   },
   {
    "duration": 14,
    "start_time": "2022-04-23T10:10:57.414Z"
   },
   {
    "duration": 16,
    "start_time": "2022-04-23T10:11:31.591Z"
   },
   {
    "duration": 17,
    "start_time": "2022-04-23T10:11:40.629Z"
   },
   {
    "duration": 13,
    "start_time": "2022-04-23T10:12:15.120Z"
   },
   {
    "duration": 19,
    "start_time": "2022-04-23T10:14:58.846Z"
   },
   {
    "duration": 15,
    "start_time": "2022-04-23T10:15:30.416Z"
   },
   {
    "duration": 14,
    "start_time": "2022-04-23T10:16:11.052Z"
   },
   {
    "duration": 15,
    "start_time": "2022-04-23T10:19:54.982Z"
   },
   {
    "duration": 14,
    "start_time": "2022-04-23T10:23:15.250Z"
   },
   {
    "duration": 11,
    "start_time": "2022-04-23T10:42:36.846Z"
   },
   {
    "duration": 10,
    "start_time": "2022-04-23T10:43:19.183Z"
   },
   {
    "duration": 9,
    "start_time": "2022-04-23T10:43:51.050Z"
   },
   {
    "duration": 44,
    "start_time": "2022-04-23T10:46:02.803Z"
   },
   {
    "duration": 63,
    "start_time": "2022-04-23T10:46:48.932Z"
   },
   {
    "duration": 64,
    "start_time": "2022-04-23T10:47:23.905Z"
   },
   {
    "duration": 36,
    "start_time": "2022-04-23T10:48:26.055Z"
   },
   {
    "duration": 11,
    "start_time": "2022-04-23T10:50:57.450Z"
   },
   {
    "duration": 51,
    "start_time": "2022-04-23T10:51:45.559Z"
   },
   {
    "duration": 17,
    "start_time": "2022-04-23T10:51:48.983Z"
   },
   {
    "duration": 3,
    "start_time": "2022-04-23T16:14:12.274Z"
   },
   {
    "duration": 3,
    "start_time": "2022-04-23T16:19:16.279Z"
   },
   {
    "duration": 103,
    "start_time": "2022-04-23T16:19:16.287Z"
   },
   {
    "duration": 6,
    "start_time": "2022-04-23T16:19:16.392Z"
   },
   {
    "duration": 57,
    "start_time": "2022-04-23T16:19:16.401Z"
   },
   {
    "duration": 20,
    "start_time": "2022-04-23T16:19:16.462Z"
   },
   {
    "duration": 49,
    "start_time": "2022-04-23T16:19:16.484Z"
   },
   {
    "duration": 15,
    "start_time": "2022-04-23T16:19:16.535Z"
   },
   {
    "duration": 10,
    "start_time": "2022-04-23T16:19:16.553Z"
   },
   {
    "duration": 14,
    "start_time": "2022-04-23T16:19:16.565Z"
   },
   {
    "duration": 7,
    "start_time": "2022-04-23T16:19:16.581Z"
   },
   {
    "duration": 43,
    "start_time": "2022-04-23T16:19:16.592Z"
   },
   {
    "duration": 13,
    "start_time": "2022-04-23T16:19:16.638Z"
   },
   {
    "duration": 5,
    "start_time": "2022-04-23T16:19:16.653Z"
   },
   {
    "duration": 10,
    "start_time": "2022-04-23T16:19:16.659Z"
   },
   {
    "duration": 9,
    "start_time": "2022-04-23T16:19:16.670Z"
   },
   {
    "duration": 6,
    "start_time": "2022-04-23T16:19:16.681Z"
   },
   {
    "duration": 4,
    "start_time": "2022-04-23T16:19:16.734Z"
   },
   {
    "duration": 8,
    "start_time": "2022-04-23T16:19:16.739Z"
   },
   {
    "duration": 28,
    "start_time": "2022-04-23T16:19:16.748Z"
   },
   {
    "duration": 4,
    "start_time": "2022-04-23T16:19:16.778Z"
   },
   {
    "duration": 8,
    "start_time": "2022-04-23T16:19:16.783Z"
   },
   {
    "duration": 5,
    "start_time": "2022-04-23T16:19:16.793Z"
   },
   {
    "duration": 16,
    "start_time": "2022-04-23T16:19:16.834Z"
   },
   {
    "duration": 13,
    "start_time": "2022-04-23T16:19:16.852Z"
   },
   {
    "duration": 10,
    "start_time": "2022-04-23T16:19:16.866Z"
   },
   {
    "duration": 7,
    "start_time": "2022-04-23T16:19:16.877Z"
   },
   {
    "duration": 49,
    "start_time": "2022-04-23T16:19:16.885Z"
   },
   {
    "duration": 5,
    "start_time": "2022-04-23T16:19:16.936Z"
   },
   {
    "duration": 6,
    "start_time": "2022-04-23T16:19:16.947Z"
   },
   {
    "duration": 13,
    "start_time": "2022-04-23T16:19:16.955Z"
   },
   {
    "duration": 35,
    "start_time": "2022-04-23T16:19:16.969Z"
   },
   {
    "duration": 12,
    "start_time": "2022-04-23T16:19:17.006Z"
   },
   {
    "duration": 9,
    "start_time": "2022-04-23T16:19:17.019Z"
   },
   {
    "duration": 14,
    "start_time": "2022-04-23T16:19:17.034Z"
   },
   {
    "duration": 30,
    "start_time": "2022-04-23T16:19:17.049Z"
   },
   {
    "duration": 53,
    "start_time": "2022-04-23T16:19:17.080Z"
   },
   {
    "duration": 89,
    "start_time": "2022-04-23T16:19:17.135Z"
   },
   {
    "duration": 39,
    "start_time": "2022-04-23T16:19:17.234Z"
   },
   {
    "duration": 10,
    "start_time": "2022-04-23T16:19:17.275Z"
   },
   {
    "duration": 8,
    "start_time": "2022-04-23T16:19:17.287Z"
   },
   {
    "duration": 39,
    "start_time": "2022-04-23T16:19:17.296Z"
   },
   {
    "duration": 240,
    "start_time": "2022-04-23T16:19:17.337Z"
   },
   {
    "duration": 8,
    "start_time": "2022-04-23T16:19:17.579Z"
   },
   {
    "duration": 6,
    "start_time": "2022-04-23T16:19:17.589Z"
   },
   {
    "duration": 4,
    "start_time": "2022-04-23T16:19:17.597Z"
   },
   {
    "duration": 298,
    "start_time": "2022-04-23T16:19:17.602Z"
   },
   {
    "duration": 9,
    "start_time": "2022-04-23T16:19:17.901Z"
   },
   {
    "duration": 22,
    "start_time": "2022-04-23T16:19:17.912Z"
   },
   {
    "duration": 5,
    "start_time": "2022-04-23T16:19:17.936Z"
   },
   {
    "duration": 176,
    "start_time": "2022-04-23T16:19:17.943Z"
   },
   {
    "duration": 17,
    "start_time": "2022-04-23T16:19:18.121Z"
   },
   {
    "duration": 6,
    "start_time": "2022-04-23T16:19:18.140Z"
   },
   {
    "duration": 9,
    "start_time": "2022-04-23T16:19:18.148Z"
   },
   {
    "duration": 257,
    "start_time": "2022-04-23T16:19:18.158Z"
   },
   {
    "duration": 326,
    "start_time": "2022-04-23T16:19:18.417Z"
   },
   {
    "duration": 8,
    "start_time": "2022-04-23T16:19:18.745Z"
   },
   {
    "duration": 7,
    "start_time": "2022-04-23T16:19:18.755Z"
   },
   {
    "duration": 10,
    "start_time": "2022-04-23T16:19:18.763Z"
   },
   {
    "duration": 261,
    "start_time": "2022-04-23T16:19:18.775Z"
   },
   {
    "duration": 4,
    "start_time": "2022-04-23T16:19:19.038Z"
   },
   {
    "duration": 11,
    "start_time": "2022-04-23T16:19:19.043Z"
   },
   {
    "duration": 107,
    "start_time": "2022-04-23T16:19:19.056Z"
   },
   {
    "duration": 119,
    "start_time": "2022-04-23T16:19:19.165Z"
   },
   {
    "duration": 120,
    "start_time": "2022-04-23T16:19:19.286Z"
   },
   {
    "duration": 120,
    "start_time": "2022-04-23T16:19:19.408Z"
   },
   {
    "duration": 120,
    "start_time": "2022-04-23T16:19:19.530Z"
   },
   {
    "duration": 39,
    "start_time": "2022-04-23T16:19:19.652Z"
   },
   {
    "duration": 12,
    "start_time": "2022-04-23T16:19:19.693Z"
   },
   {
    "duration": 27,
    "start_time": "2022-04-23T16:19:19.707Z"
   },
   {
    "duration": 5,
    "start_time": "2022-04-23T16:19:19.736Z"
   },
   {
    "duration": 160,
    "start_time": "2022-04-23T16:19:19.743Z"
   },
   {
    "duration": 0,
    "start_time": "2022-04-23T16:19:19.906Z"
   },
   {
    "duration": 0,
    "start_time": "2022-04-23T16:19:19.908Z"
   },
   {
    "duration": 0,
    "start_time": "2022-04-23T16:19:19.909Z"
   },
   {
    "duration": 0,
    "start_time": "2022-04-23T16:19:19.911Z"
   },
   {
    "duration": 0,
    "start_time": "2022-04-23T16:19:19.913Z"
   },
   {
    "duration": 0,
    "start_time": "2022-04-23T16:19:19.914Z"
   },
   {
    "duration": 0,
    "start_time": "2022-04-23T16:19:19.915Z"
   },
   {
    "duration": 0,
    "start_time": "2022-04-23T16:19:19.916Z"
   },
   {
    "duration": 0,
    "start_time": "2022-04-23T16:19:19.918Z"
   },
   {
    "duration": 0,
    "start_time": "2022-04-23T16:19:19.919Z"
   },
   {
    "duration": 0,
    "start_time": "2022-04-23T16:19:19.920Z"
   },
   {
    "duration": 0,
    "start_time": "2022-04-23T16:19:19.922Z"
   },
   {
    "duration": 0,
    "start_time": "2022-04-23T16:19:19.923Z"
   },
   {
    "duration": 0,
    "start_time": "2022-04-23T16:19:19.924Z"
   },
   {
    "duration": 0,
    "start_time": "2022-04-23T16:19:19.925Z"
   },
   {
    "duration": 0,
    "start_time": "2022-04-23T16:19:19.926Z"
   },
   {
    "duration": 14,
    "start_time": "2022-04-23T16:19:53.383Z"
   },
   {
    "duration": 3,
    "start_time": "2022-04-23T16:19:59.501Z"
   },
   {
    "duration": 88,
    "start_time": "2022-04-23T16:19:59.508Z"
   },
   {
    "duration": 6,
    "start_time": "2022-04-23T16:19:59.599Z"
   },
   {
    "duration": 49,
    "start_time": "2022-04-23T16:19:59.606Z"
   },
   {
    "duration": 19,
    "start_time": "2022-04-23T16:19:59.658Z"
   },
   {
    "duration": 10,
    "start_time": "2022-04-23T16:19:59.679Z"
   },
   {
    "duration": 44,
    "start_time": "2022-04-23T16:19:59.691Z"
   },
   {
    "duration": 5,
    "start_time": "2022-04-23T16:19:59.737Z"
   },
   {
    "duration": 12,
    "start_time": "2022-04-23T16:19:59.744Z"
   },
   {
    "duration": 7,
    "start_time": "2022-04-23T16:19:59.757Z"
   },
   {
    "duration": 8,
    "start_time": "2022-04-23T16:19:59.767Z"
   },
   {
    "duration": 10,
    "start_time": "2022-04-23T16:19:59.777Z"
   },
   {
    "duration": 45,
    "start_time": "2022-04-23T16:19:59.789Z"
   },
   {
    "duration": 7,
    "start_time": "2022-04-23T16:19:59.836Z"
   },
   {
    "duration": 11,
    "start_time": "2022-04-23T16:19:59.845Z"
   },
   {
    "duration": 6,
    "start_time": "2022-04-23T16:19:59.858Z"
   },
   {
    "duration": 4,
    "start_time": "2022-04-23T16:19:59.866Z"
   },
   {
    "duration": 8,
    "start_time": "2022-04-23T16:19:59.872Z"
   },
   {
    "duration": 80,
    "start_time": "2022-04-23T16:19:59.883Z"
   },
   {
    "duration": 4,
    "start_time": "2022-04-23T16:19:59.964Z"
   },
   {
    "duration": 9,
    "start_time": "2022-04-23T16:19:59.970Z"
   },
   {
    "duration": 10,
    "start_time": "2022-04-23T16:19:59.981Z"
   },
   {
    "duration": 42,
    "start_time": "2022-04-23T16:19:59.993Z"
   },
   {
    "duration": 11,
    "start_time": "2022-04-23T16:20:00.036Z"
   },
   {
    "duration": 18,
    "start_time": "2022-04-23T16:20:00.049Z"
   },
   {
    "duration": 22,
    "start_time": "2022-04-23T16:20:00.068Z"
   },
   {
    "duration": 18,
    "start_time": "2022-04-23T16:20:00.091Z"
   },
   {
    "duration": 26,
    "start_time": "2022-04-23T16:20:00.110Z"
   },
   {
    "duration": 7,
    "start_time": "2022-04-23T16:20:00.142Z"
   },
   {
    "duration": 11,
    "start_time": "2022-04-23T16:20:00.151Z"
   },
   {
    "duration": 14,
    "start_time": "2022-04-23T16:20:00.163Z"
   },
   {
    "duration": 10,
    "start_time": "2022-04-23T16:20:00.179Z"
   },
   {
    "duration": 17,
    "start_time": "2022-04-23T16:20:00.191Z"
   },
   {
    "duration": 26,
    "start_time": "2022-04-23T16:20:00.209Z"
   },
   {
    "duration": 30,
    "start_time": "2022-04-23T16:20:00.237Z"
   },
   {
    "duration": 28,
    "start_time": "2022-04-23T16:20:00.269Z"
   },
   {
    "duration": 115,
    "start_time": "2022-04-23T16:20:00.299Z"
   },
   {
    "duration": 39,
    "start_time": "2022-04-23T16:20:00.415Z"
   },
   {
    "duration": 9,
    "start_time": "2022-04-23T16:20:00.455Z"
   },
   {
    "duration": 22,
    "start_time": "2022-04-23T16:20:00.466Z"
   },
   {
    "duration": 25,
    "start_time": "2022-04-23T16:20:00.490Z"
   },
   {
    "duration": 163,
    "start_time": "2022-04-23T16:20:00.517Z"
   },
   {
    "duration": 10,
    "start_time": "2022-04-23T16:20:00.681Z"
   },
   {
    "duration": 12,
    "start_time": "2022-04-23T16:20:00.693Z"
   },
   {
    "duration": 8,
    "start_time": "2022-04-23T16:20:00.707Z"
   },
   {
    "duration": 343,
    "start_time": "2022-04-23T16:20:00.734Z"
   },
   {
    "duration": 9,
    "start_time": "2022-04-23T16:20:01.079Z"
   },
   {
    "duration": 19,
    "start_time": "2022-04-23T16:20:01.090Z"
   },
   {
    "duration": 15,
    "start_time": "2022-04-23T16:20:01.111Z"
   },
   {
    "duration": 156,
    "start_time": "2022-04-23T16:20:01.128Z"
   },
   {
    "duration": 9,
    "start_time": "2022-04-23T16:20:01.286Z"
   },
   {
    "duration": 21,
    "start_time": "2022-04-23T16:20:01.296Z"
   },
   {
    "duration": 19,
    "start_time": "2022-04-23T16:20:01.319Z"
   },
   {
    "duration": 253,
    "start_time": "2022-04-23T16:20:01.339Z"
   },
   {
    "duration": 262,
    "start_time": "2022-04-23T16:20:01.594Z"
   },
   {
    "duration": 10,
    "start_time": "2022-04-23T16:20:01.857Z"
   },
   {
    "duration": 9,
    "start_time": "2022-04-23T16:20:01.868Z"
   },
   {
    "duration": 21,
    "start_time": "2022-04-23T16:20:01.878Z"
   },
   {
    "duration": 263,
    "start_time": "2022-04-23T16:20:01.900Z"
   },
   {
    "duration": 4,
    "start_time": "2022-04-23T16:20:02.165Z"
   },
   {
    "duration": 13,
    "start_time": "2022-04-23T16:20:02.171Z"
   },
   {
    "duration": 119,
    "start_time": "2022-04-23T16:20:02.186Z"
   },
   {
    "duration": 126,
    "start_time": "2022-04-23T16:20:02.307Z"
   },
   {
    "duration": 223,
    "start_time": "2022-04-23T16:20:02.435Z"
   },
   {
    "duration": 121,
    "start_time": "2022-04-23T16:20:02.660Z"
   },
   {
    "duration": 115,
    "start_time": "2022-04-23T16:20:02.782Z"
   },
   {
    "duration": 50,
    "start_time": "2022-04-23T16:20:02.899Z"
   },
   {
    "duration": 14,
    "start_time": "2022-04-23T16:20:02.951Z"
   },
   {
    "duration": 5,
    "start_time": "2022-04-23T16:20:02.967Z"
   },
   {
    "duration": 7,
    "start_time": "2022-04-23T16:20:02.974Z"
   },
   {
    "duration": 315,
    "start_time": "2022-04-23T16:20:02.983Z"
   },
   {
    "duration": 0,
    "start_time": "2022-04-23T16:20:03.300Z"
   },
   {
    "duration": 0,
    "start_time": "2022-04-23T16:20:03.301Z"
   },
   {
    "duration": 0,
    "start_time": "2022-04-23T16:20:03.302Z"
   },
   {
    "duration": 0,
    "start_time": "2022-04-23T16:20:03.303Z"
   },
   {
    "duration": 0,
    "start_time": "2022-04-23T16:20:03.305Z"
   },
   {
    "duration": 0,
    "start_time": "2022-04-23T16:20:03.306Z"
   },
   {
    "duration": 0,
    "start_time": "2022-04-23T16:20:03.306Z"
   },
   {
    "duration": 0,
    "start_time": "2022-04-23T16:20:03.307Z"
   },
   {
    "duration": 0,
    "start_time": "2022-04-23T16:20:03.309Z"
   },
   {
    "duration": 0,
    "start_time": "2022-04-23T16:20:03.309Z"
   },
   {
    "duration": 0,
    "start_time": "2022-04-23T16:20:03.310Z"
   },
   {
    "duration": 0,
    "start_time": "2022-04-23T16:20:03.311Z"
   },
   {
    "duration": 0,
    "start_time": "2022-04-23T16:20:03.312Z"
   },
   {
    "duration": 0,
    "start_time": "2022-04-23T16:20:03.313Z"
   },
   {
    "duration": 0,
    "start_time": "2022-04-23T16:20:03.314Z"
   },
   {
    "duration": 0,
    "start_time": "2022-04-23T16:20:03.315Z"
   },
   {
    "duration": 3,
    "start_time": "2022-04-23T16:21:07.191Z"
   },
   {
    "duration": 101,
    "start_time": "2022-04-23T16:21:07.197Z"
   },
   {
    "duration": 6,
    "start_time": "2022-04-23T16:21:07.300Z"
   },
   {
    "duration": 51,
    "start_time": "2022-04-23T16:21:07.307Z"
   },
   {
    "duration": 23,
    "start_time": "2022-04-23T16:21:07.361Z"
   },
   {
    "duration": 12,
    "start_time": "2022-04-23T16:21:07.386Z"
   },
   {
    "duration": 44,
    "start_time": "2022-04-23T16:21:07.400Z"
   },
   {
    "duration": 7,
    "start_time": "2022-04-23T16:21:07.447Z"
   },
   {
    "duration": 12,
    "start_time": "2022-04-23T16:21:07.456Z"
   },
   {
    "duration": 8,
    "start_time": "2022-04-23T16:21:07.469Z"
   },
   {
    "duration": 18,
    "start_time": "2022-04-23T16:21:07.480Z"
   },
   {
    "duration": 11,
    "start_time": "2022-04-23T16:21:07.533Z"
   },
   {
    "duration": 11,
    "start_time": "2022-04-23T16:21:07.545Z"
   },
   {
    "duration": 11,
    "start_time": "2022-04-23T16:21:07.558Z"
   },
   {
    "duration": 22,
    "start_time": "2022-04-23T16:21:07.571Z"
   },
   {
    "duration": 7,
    "start_time": "2022-04-23T16:21:07.595Z"
   },
   {
    "duration": 32,
    "start_time": "2022-04-23T16:21:07.603Z"
   },
   {
    "duration": 15,
    "start_time": "2022-04-23T16:21:07.637Z"
   },
   {
    "duration": 29,
    "start_time": "2022-04-23T16:21:07.653Z"
   },
   {
    "duration": 4,
    "start_time": "2022-04-23T16:21:07.684Z"
   },
   {
    "duration": 25,
    "start_time": "2022-04-23T16:21:07.690Z"
   },
   {
    "duration": 4,
    "start_time": "2022-04-23T16:21:07.717Z"
   },
   {
    "duration": 26,
    "start_time": "2022-04-23T16:21:07.723Z"
   },
   {
    "duration": 11,
    "start_time": "2022-04-23T16:21:07.750Z"
   },
   {
    "duration": 8,
    "start_time": "2022-04-23T16:21:07.763Z"
   },
   {
    "duration": 13,
    "start_time": "2022-04-23T16:21:07.773Z"
   },
   {
    "duration": 14,
    "start_time": "2022-04-23T16:21:07.788Z"
   },
   {
    "duration": 9,
    "start_time": "2022-04-23T16:21:07.804Z"
   },
   {
    "duration": 17,
    "start_time": "2022-04-23T16:21:07.817Z"
   },
   {
    "duration": 11,
    "start_time": "2022-04-23T16:21:07.836Z"
   },
   {
    "duration": 25,
    "start_time": "2022-04-23T16:21:07.849Z"
   },
   {
    "duration": 13,
    "start_time": "2022-04-23T16:21:07.875Z"
   },
   {
    "duration": 12,
    "start_time": "2022-04-23T16:21:07.889Z"
   },
   {
    "duration": 23,
    "start_time": "2022-04-23T16:21:07.903Z"
   },
   {
    "duration": 29,
    "start_time": "2022-04-23T16:21:07.928Z"
   },
   {
    "duration": 27,
    "start_time": "2022-04-23T16:21:07.959Z"
   },
   {
    "duration": 97,
    "start_time": "2022-04-23T16:21:07.987Z"
   },
   {
    "duration": 28,
    "start_time": "2022-04-23T16:21:08.086Z"
   },
   {
    "duration": 30,
    "start_time": "2022-04-23T16:21:08.133Z"
   },
   {
    "duration": 35,
    "start_time": "2022-04-23T16:21:08.165Z"
   },
   {
    "duration": 19,
    "start_time": "2022-04-23T16:21:08.201Z"
   },
   {
    "duration": 165,
    "start_time": "2022-04-23T16:21:08.221Z"
   },
   {
    "duration": 10,
    "start_time": "2022-04-23T16:21:08.387Z"
   },
   {
    "duration": 12,
    "start_time": "2022-04-23T16:21:08.398Z"
   },
   {
    "duration": 14,
    "start_time": "2022-04-23T16:21:08.411Z"
   },
   {
    "duration": 260,
    "start_time": "2022-04-23T16:21:08.427Z"
   },
   {
    "duration": 9,
    "start_time": "2022-04-23T16:21:08.688Z"
   },
   {
    "duration": 14,
    "start_time": "2022-04-23T16:21:08.698Z"
   },
   {
    "duration": 9,
    "start_time": "2022-04-23T16:21:08.714Z"
   },
   {
    "duration": 145,
    "start_time": "2022-04-23T16:21:08.734Z"
   },
   {
    "duration": 8,
    "start_time": "2022-04-23T16:21:08.881Z"
   },
   {
    "duration": 14,
    "start_time": "2022-04-23T16:21:08.890Z"
   },
   {
    "duration": 17,
    "start_time": "2022-04-23T16:21:08.906Z"
   },
   {
    "duration": 250,
    "start_time": "2022-04-23T16:21:08.925Z"
   },
   {
    "duration": 309,
    "start_time": "2022-04-23T16:21:09.177Z"
   },
   {
    "duration": 8,
    "start_time": "2022-04-23T16:21:09.487Z"
   },
   {
    "duration": 6,
    "start_time": "2022-04-23T16:21:09.497Z"
   },
   {
    "duration": 30,
    "start_time": "2022-04-23T16:21:09.504Z"
   },
   {
    "duration": 231,
    "start_time": "2022-04-23T16:21:09.536Z"
   },
   {
    "duration": 4,
    "start_time": "2022-04-23T16:21:09.769Z"
   },
   {
    "duration": 8,
    "start_time": "2022-04-23T16:21:09.774Z"
   },
   {
    "duration": 115,
    "start_time": "2022-04-23T16:21:09.784Z"
   },
   {
    "duration": 109,
    "start_time": "2022-04-23T16:21:09.901Z"
   },
   {
    "duration": 123,
    "start_time": "2022-04-23T16:21:10.012Z"
   },
   {
    "duration": 111,
    "start_time": "2022-04-23T16:21:10.137Z"
   },
   {
    "duration": 108,
    "start_time": "2022-04-23T16:21:10.250Z"
   },
   {
    "duration": 39,
    "start_time": "2022-04-23T16:21:10.360Z"
   },
   {
    "duration": 12,
    "start_time": "2022-04-23T16:21:10.401Z"
   },
   {
    "duration": 23,
    "start_time": "2022-04-23T16:21:10.414Z"
   },
   {
    "duration": 10,
    "start_time": "2022-04-23T16:21:10.438Z"
   },
   {
    "duration": 5,
    "start_time": "2022-04-23T16:21:10.453Z"
   },
   {
    "duration": 89,
    "start_time": "2022-04-23T16:21:10.460Z"
   },
   {
    "duration": 5,
    "start_time": "2022-04-23T16:21:10.551Z"
   },
   {
    "duration": 6,
    "start_time": "2022-04-23T16:21:10.558Z"
   },
   {
    "duration": 5,
    "start_time": "2022-04-23T16:21:10.566Z"
   },
   {
    "duration": 5,
    "start_time": "2022-04-23T16:21:10.572Z"
   },
   {
    "duration": 10,
    "start_time": "2022-04-23T16:21:10.579Z"
   },
   {
    "duration": 42,
    "start_time": "2022-04-23T16:21:10.592Z"
   },
   {
    "duration": 3,
    "start_time": "2022-04-23T16:21:10.636Z"
   },
   {
    "duration": 6,
    "start_time": "2022-04-23T16:21:10.641Z"
   },
   {
    "duration": 189,
    "start_time": "2022-04-23T16:21:10.649Z"
   },
   {
    "duration": 89,
    "start_time": "2022-04-23T16:30:27.042Z"
   },
   {
    "duration": 91,
    "start_time": "2022-04-23T16:31:10.029Z"
   },
   {
    "duration": 164,
    "start_time": "2022-04-23T16:31:23.860Z"
   },
   {
    "duration": 8,
    "start_time": "2022-04-23T16:33:04.738Z"
   },
   {
    "duration": 82,
    "start_time": "2022-04-23T16:33:25.773Z"
   },
   {
    "duration": 8,
    "start_time": "2022-04-23T16:33:40.248Z"
   },
   {
    "duration": 171,
    "start_time": "2022-04-23T16:43:49.419Z"
   },
   {
    "duration": 2606,
    "start_time": "2022-04-23T16:44:05.110Z"
   },
   {
    "duration": 2556,
    "start_time": "2022-04-23T16:44:57.720Z"
   },
   {
    "duration": 9,
    "start_time": "2022-04-23T16:46:43.037Z"
   },
   {
    "duration": 2611,
    "start_time": "2022-04-23T16:48:05.377Z"
   },
   {
    "duration": 2927,
    "start_time": "2022-04-23T16:48:24.993Z"
   },
   {
    "duration": 2564,
    "start_time": "2022-04-23T16:51:28.047Z"
   },
   {
    "duration": 2,
    "start_time": "2022-04-23T16:53:50.723Z"
   },
   {
    "duration": 5,
    "start_time": "2022-04-23T16:54:16.817Z"
   },
   {
    "duration": 59,
    "start_time": "2022-04-23T16:55:02.292Z"
   },
   {
    "duration": 27,
    "start_time": "2022-04-23T16:55:22.184Z"
   },
   {
    "duration": 10,
    "start_time": "2022-04-23T16:57:40.501Z"
   },
   {
    "duration": 14,
    "start_time": "2022-04-23T16:58:12.178Z"
   },
   {
    "duration": 13,
    "start_time": "2022-04-23T17:11:09.876Z"
   },
   {
    "duration": 29,
    "start_time": "2022-04-23T17:13:09.484Z"
   },
   {
    "duration": 3,
    "start_time": "2022-04-23T17:13:19.302Z"
   },
   {
    "duration": 88,
    "start_time": "2022-04-23T17:13:19.307Z"
   },
   {
    "duration": 5,
    "start_time": "2022-04-23T17:13:19.397Z"
   },
   {
    "duration": 41,
    "start_time": "2022-04-23T17:13:19.404Z"
   },
   {
    "duration": 16,
    "start_time": "2022-04-23T17:13:19.447Z"
   },
   {
    "duration": 10,
    "start_time": "2022-04-23T17:13:19.465Z"
   },
   {
    "duration": 13,
    "start_time": "2022-04-23T17:13:19.477Z"
   },
   {
    "duration": 44,
    "start_time": "2022-04-23T17:13:19.493Z"
   },
   {
    "duration": 13,
    "start_time": "2022-04-23T17:13:19.539Z"
   },
   {
    "duration": 7,
    "start_time": "2022-04-23T17:13:19.554Z"
   },
   {
    "duration": 7,
    "start_time": "2022-04-23T17:13:19.565Z"
   },
   {
    "duration": 11,
    "start_time": "2022-04-23T17:13:19.574Z"
   },
   {
    "duration": 46,
    "start_time": "2022-04-23T17:13:19.587Z"
   },
   {
    "duration": 9,
    "start_time": "2022-04-23T17:13:19.636Z"
   },
   {
    "duration": 8,
    "start_time": "2022-04-23T17:13:19.647Z"
   },
   {
    "duration": 6,
    "start_time": "2022-04-23T17:13:19.657Z"
   },
   {
    "duration": 3,
    "start_time": "2022-04-23T17:13:19.665Z"
   },
   {
    "duration": 7,
    "start_time": "2022-04-23T17:13:19.670Z"
   },
   {
    "duration": 74,
    "start_time": "2022-04-23T17:13:19.678Z"
   },
   {
    "duration": 3,
    "start_time": "2022-04-23T17:13:19.754Z"
   },
   {
    "duration": 8,
    "start_time": "2022-04-23T17:13:19.759Z"
   },
   {
    "duration": 5,
    "start_time": "2022-04-23T17:13:19.769Z"
   },
   {
    "duration": 19,
    "start_time": "2022-04-23T17:13:19.776Z"
   },
   {
    "duration": 9,
    "start_time": "2022-04-23T17:13:19.796Z"
   },
   {
    "duration": 10,
    "start_time": "2022-04-23T17:13:19.834Z"
   },
   {
    "duration": 8,
    "start_time": "2022-04-23T17:13:19.845Z"
   },
   {
    "duration": 12,
    "start_time": "2022-04-23T17:13:19.854Z"
   },
   {
    "duration": 4,
    "start_time": "2022-04-23T17:13:19.868Z"
   },
   {
    "duration": 6,
    "start_time": "2022-04-23T17:13:19.877Z"
   },
   {
    "duration": 12,
    "start_time": "2022-04-23T17:13:19.885Z"
   },
   {
    "duration": 38,
    "start_time": "2022-04-23T17:13:19.899Z"
   },
   {
    "duration": 5,
    "start_time": "2022-04-23T17:13:19.939Z"
   },
   {
    "duration": 6,
    "start_time": "2022-04-23T17:13:19.946Z"
   },
   {
    "duration": 14,
    "start_time": "2022-04-23T17:13:19.954Z"
   },
   {
    "duration": 27,
    "start_time": "2022-04-23T17:13:19.970Z"
   },
   {
    "duration": 58,
    "start_time": "2022-04-23T17:13:19.999Z"
   },
   {
    "duration": 100,
    "start_time": "2022-04-23T17:13:20.059Z"
   },
   {
    "duration": 30,
    "start_time": "2022-04-23T17:13:20.160Z"
   },
   {
    "duration": 8,
    "start_time": "2022-04-23T17:13:20.192Z"
   },
   {
    "duration": 6,
    "start_time": "2022-04-23T17:13:20.202Z"
   },
   {
    "duration": 5,
    "start_time": "2022-04-23T17:13:20.234Z"
   },
   {
    "duration": 153,
    "start_time": "2022-04-23T17:13:20.241Z"
   },
   {
    "duration": 8,
    "start_time": "2022-04-23T17:13:20.396Z"
   },
   {
    "duration": 7,
    "start_time": "2022-04-23T17:13:20.405Z"
   },
   {
    "duration": 21,
    "start_time": "2022-04-23T17:13:20.414Z"
   },
   {
    "duration": 327,
    "start_time": "2022-04-23T17:13:20.436Z"
   },
   {
    "duration": 8,
    "start_time": "2022-04-23T17:13:20.765Z"
   },
   {
    "duration": 6,
    "start_time": "2022-04-23T17:13:20.775Z"
   },
   {
    "duration": 5,
    "start_time": "2022-04-23T17:13:20.783Z"
   },
   {
    "duration": 165,
    "start_time": "2022-04-23T17:13:20.790Z"
   },
   {
    "duration": 8,
    "start_time": "2022-04-23T17:13:20.957Z"
   },
   {
    "duration": 6,
    "start_time": "2022-04-23T17:13:20.966Z"
   },
   {
    "duration": 8,
    "start_time": "2022-04-23T17:13:20.974Z"
   },
   {
    "duration": 252,
    "start_time": "2022-04-23T17:13:20.984Z"
   },
   {
    "duration": 241,
    "start_time": "2022-04-23T17:13:21.238Z"
   },
   {
    "duration": 9,
    "start_time": "2022-04-23T17:13:21.480Z"
   },
   {
    "duration": 6,
    "start_time": "2022-04-23T17:13:21.490Z"
   },
   {
    "duration": 12,
    "start_time": "2022-04-23T17:13:21.498Z"
   },
   {
    "duration": 250,
    "start_time": "2022-04-23T17:13:21.511Z"
   },
   {
    "duration": 5,
    "start_time": "2022-04-23T17:13:21.763Z"
   },
   {
    "duration": 7,
    "start_time": "2022-04-23T17:13:21.769Z"
   },
   {
    "duration": 116,
    "start_time": "2022-04-23T17:13:21.778Z"
   },
   {
    "duration": 103,
    "start_time": "2022-04-23T17:13:21.896Z"
   },
   {
    "duration": 121,
    "start_time": "2022-04-23T17:13:22.001Z"
   },
   {
    "duration": 189,
    "start_time": "2022-04-23T17:13:22.124Z"
   },
   {
    "duration": 110,
    "start_time": "2022-04-23T17:13:22.315Z"
   },
   {
    "duration": 40,
    "start_time": "2022-04-23T17:13:22.427Z"
   },
   {
    "duration": 13,
    "start_time": "2022-04-23T17:13:22.468Z"
   },
   {
    "duration": 5,
    "start_time": "2022-04-23T17:13:22.483Z"
   },
   {
    "duration": 10,
    "start_time": "2022-04-23T17:13:22.490Z"
   },
   {
    "duration": 33,
    "start_time": "2022-04-23T17:13:22.502Z"
   },
   {
    "duration": 58,
    "start_time": "2022-04-23T17:13:22.537Z"
   },
   {
    "duration": 5,
    "start_time": "2022-04-23T17:13:22.597Z"
   },
   {
    "duration": 9,
    "start_time": "2022-04-23T17:13:22.604Z"
   },
   {
    "duration": 8,
    "start_time": "2022-04-23T17:13:22.633Z"
   },
   {
    "duration": 6,
    "start_time": "2022-04-23T17:13:22.643Z"
   },
   {
    "duration": 7,
    "start_time": "2022-04-23T17:13:22.651Z"
   },
   {
    "duration": 15,
    "start_time": "2022-04-23T17:13:22.659Z"
   },
   {
    "duration": 8,
    "start_time": "2022-04-23T17:13:22.675Z"
   },
   {
    "duration": 4,
    "start_time": "2022-04-23T17:13:22.684Z"
   },
   {
    "duration": 58,
    "start_time": "2022-04-23T17:13:22.690Z"
   },
   {
    "duration": 29,
    "start_time": "2022-04-23T17:13:22.749Z"
   },
   {
    "duration": 0,
    "start_time": "2022-04-23T17:13:22.780Z"
   },
   {
    "duration": 0,
    "start_time": "2022-04-23T17:13:22.782Z"
   },
   {
    "duration": 0,
    "start_time": "2022-04-23T17:13:22.783Z"
   },
   {
    "duration": 0,
    "start_time": "2022-04-23T17:13:22.784Z"
   },
   {
    "duration": 87,
    "start_time": "2022-04-23T17:14:10.091Z"
   },
   {
    "duration": 8,
    "start_time": "2022-04-23T17:14:30.266Z"
   },
   {
    "duration": 38,
    "start_time": "2022-04-23T17:14:53.190Z"
   },
   {
    "duration": 7,
    "start_time": "2022-04-23T17:20:51.817Z"
   },
   {
    "duration": 43,
    "start_time": "2022-04-23T17:21:35.915Z"
   },
   {
    "duration": 55,
    "start_time": "2022-04-23T17:22:07.543Z"
   },
   {
    "duration": 30,
    "start_time": "2022-04-23T17:22:19.116Z"
   },
   {
    "duration": 8,
    "start_time": "2022-04-23T17:22:55.591Z"
   },
   {
    "duration": 176,
    "start_time": "2022-04-23T17:23:25.619Z"
   },
   {
    "duration": 165,
    "start_time": "2022-04-23T17:23:42.137Z"
   },
   {
    "duration": 3,
    "start_time": "2022-04-23T17:24:08.146Z"
   },
   {
    "duration": 6,
    "start_time": "2022-04-23T17:24:20.640Z"
   },
   {
    "duration": 6,
    "start_time": "2022-04-23T17:24:41.714Z"
   },
   {
    "duration": 4,
    "start_time": "2022-04-23T17:24:47.947Z"
   },
   {
    "duration": 3,
    "start_time": "2022-04-23T17:25:16.969Z"
   },
   {
    "duration": 87,
    "start_time": "2022-04-23T17:25:16.976Z"
   },
   {
    "duration": 5,
    "start_time": "2022-04-23T17:25:17.065Z"
   },
   {
    "duration": 29,
    "start_time": "2022-04-23T17:25:17.071Z"
   },
   {
    "duration": 37,
    "start_time": "2022-04-23T17:25:17.102Z"
   },
   {
    "duration": 9,
    "start_time": "2022-04-23T17:25:17.141Z"
   },
   {
    "duration": 11,
    "start_time": "2022-04-23T17:25:17.151Z"
   },
   {
    "duration": 5,
    "start_time": "2022-04-23T17:25:17.164Z"
   },
   {
    "duration": 9,
    "start_time": "2022-04-23T17:25:17.171Z"
   },
   {
    "duration": 7,
    "start_time": "2022-04-23T17:25:17.181Z"
   },
   {
    "duration": 7,
    "start_time": "2022-04-23T17:25:17.235Z"
   },
   {
    "duration": 13,
    "start_time": "2022-04-23T17:25:17.244Z"
   },
   {
    "duration": 6,
    "start_time": "2022-04-23T17:25:17.258Z"
   },
   {
    "duration": 7,
    "start_time": "2022-04-23T17:25:17.266Z"
   },
   {
    "duration": 10,
    "start_time": "2022-04-23T17:25:17.274Z"
   },
   {
    "duration": 6,
    "start_time": "2022-04-23T17:25:17.286Z"
   },
   {
    "duration": 41,
    "start_time": "2022-04-23T17:25:17.293Z"
   },
   {
    "duration": 8,
    "start_time": "2022-04-23T17:25:17.336Z"
   },
   {
    "duration": 26,
    "start_time": "2022-04-23T17:25:17.345Z"
   },
   {
    "duration": 4,
    "start_time": "2022-04-23T17:25:17.372Z"
   },
   {
    "duration": 7,
    "start_time": "2022-04-23T17:25:17.378Z"
   },
   {
    "duration": 5,
    "start_time": "2022-04-23T17:25:17.387Z"
   },
   {
    "duration": 51,
    "start_time": "2022-04-23T17:25:17.393Z"
   },
   {
    "duration": 9,
    "start_time": "2022-04-23T17:25:17.445Z"
   },
   {
    "duration": 13,
    "start_time": "2022-04-23T17:25:17.456Z"
   },
   {
    "duration": 8,
    "start_time": "2022-04-23T17:25:17.470Z"
   },
   {
    "duration": 11,
    "start_time": "2022-04-23T17:25:17.480Z"
   },
   {
    "duration": 40,
    "start_time": "2022-04-23T17:25:17.493Z"
   },
   {
    "duration": 7,
    "start_time": "2022-04-23T17:25:17.540Z"
   },
   {
    "duration": 8,
    "start_time": "2022-04-23T17:25:17.549Z"
   },
   {
    "duration": 10,
    "start_time": "2022-04-23T17:25:17.560Z"
   },
   {
    "duration": 12,
    "start_time": "2022-04-23T17:25:17.572Z"
   },
   {
    "duration": 7,
    "start_time": "2022-04-23T17:25:17.586Z"
   },
   {
    "duration": 15,
    "start_time": "2022-04-23T17:25:17.634Z"
   },
   {
    "duration": 29,
    "start_time": "2022-04-23T17:25:17.651Z"
   },
   {
    "duration": 60,
    "start_time": "2022-04-23T17:25:17.683Z"
   },
   {
    "duration": 100,
    "start_time": "2022-04-23T17:25:17.745Z"
   },
   {
    "duration": 30,
    "start_time": "2022-04-23T17:25:17.847Z"
   },
   {
    "duration": 8,
    "start_time": "2022-04-23T17:25:17.878Z"
   },
   {
    "duration": 9,
    "start_time": "2022-04-23T17:25:17.888Z"
   },
   {
    "duration": 35,
    "start_time": "2022-04-23T17:25:17.899Z"
   },
   {
    "duration": 155,
    "start_time": "2022-04-23T17:25:17.936Z"
   },
   {
    "duration": 9,
    "start_time": "2022-04-23T17:25:18.093Z"
   },
   {
    "duration": 18,
    "start_time": "2022-04-23T17:25:18.103Z"
   },
   {
    "duration": 15,
    "start_time": "2022-04-23T17:25:18.123Z"
   },
   {
    "duration": 287,
    "start_time": "2022-04-23T17:25:18.140Z"
   },
   {
    "duration": 8,
    "start_time": "2022-04-23T17:25:18.433Z"
   },
   {
    "duration": 19,
    "start_time": "2022-04-23T17:25:18.443Z"
   },
   {
    "duration": 38,
    "start_time": "2022-04-23T17:25:18.463Z"
   },
   {
    "duration": 160,
    "start_time": "2022-04-23T17:25:18.503Z"
   },
   {
    "duration": 9,
    "start_time": "2022-04-23T17:25:18.664Z"
   },
   {
    "duration": 19,
    "start_time": "2022-04-23T17:25:18.674Z"
   },
   {
    "duration": 31,
    "start_time": "2022-04-23T17:25:18.695Z"
   },
   {
    "duration": 257,
    "start_time": "2022-04-23T17:25:18.727Z"
   },
   {
    "duration": 316,
    "start_time": "2022-04-23T17:25:18.986Z"
   },
   {
    "duration": 8,
    "start_time": "2022-04-23T17:25:19.305Z"
   },
   {
    "duration": 29,
    "start_time": "2022-04-23T17:25:19.315Z"
   },
   {
    "duration": 22,
    "start_time": "2022-04-23T17:25:19.346Z"
   },
   {
    "duration": 232,
    "start_time": "2022-04-23T17:25:19.369Z"
   },
   {
    "duration": 4,
    "start_time": "2022-04-23T17:25:19.602Z"
   },
   {
    "duration": 21,
    "start_time": "2022-04-23T17:25:19.607Z"
   },
   {
    "duration": 117,
    "start_time": "2022-04-23T17:25:19.629Z"
   },
   {
    "duration": 107,
    "start_time": "2022-04-23T17:25:19.747Z"
   },
   {
    "duration": 120,
    "start_time": "2022-04-23T17:25:19.856Z"
   },
   {
    "duration": 119,
    "start_time": "2022-04-23T17:25:19.978Z"
   },
   {
    "duration": 110,
    "start_time": "2022-04-23T17:25:20.098Z"
   },
   {
    "duration": 49,
    "start_time": "2022-04-23T17:25:20.210Z"
   },
   {
    "duration": 13,
    "start_time": "2022-04-23T17:25:20.260Z"
   },
   {
    "duration": 5,
    "start_time": "2022-04-23T17:25:20.275Z"
   },
   {
    "duration": 7,
    "start_time": "2022-04-23T17:25:20.282Z"
   },
   {
    "duration": 5,
    "start_time": "2022-04-23T17:25:20.290Z"
   },
   {
    "duration": 92,
    "start_time": "2022-04-23T17:25:20.297Z"
   },
   {
    "duration": 5,
    "start_time": "2022-04-23T17:25:20.391Z"
   },
   {
    "duration": 8,
    "start_time": "2022-04-23T17:25:20.398Z"
   },
   {
    "duration": 26,
    "start_time": "2022-04-23T17:25:20.408Z"
   },
   {
    "duration": 5,
    "start_time": "2022-04-23T17:25:20.436Z"
   },
   {
    "duration": 7,
    "start_time": "2022-04-23T17:25:20.443Z"
   },
   {
    "duration": 15,
    "start_time": "2022-04-23T17:25:20.452Z"
   },
   {
    "duration": 8,
    "start_time": "2022-04-23T17:25:20.469Z"
   },
   {
    "duration": 5,
    "start_time": "2022-04-23T17:25:20.478Z"
   },
   {
    "duration": 54,
    "start_time": "2022-04-23T17:25:20.485Z"
   },
   {
    "duration": 30,
    "start_time": "2022-04-23T17:25:20.544Z"
   },
   {
    "duration": 4,
    "start_time": "2022-04-23T17:25:20.576Z"
   },
   {
    "duration": 16,
    "start_time": "2022-04-23T17:25:20.582Z"
   },
   {
    "duration": 12,
    "start_time": "2022-04-23T17:25:20.600Z"
   },
   {
    "duration": 2,
    "start_time": "2022-04-23T17:25:20.633Z"
   },
   {
    "duration": 163,
    "start_time": "2022-04-23T17:25:20.637Z"
   },
   {
    "duration": 30,
    "start_time": "2022-04-23T17:26:30.208Z"
   },
   {
    "duration": 5,
    "start_time": "2022-04-23T17:26:34.068Z"
   },
   {
    "duration": 57,
    "start_time": "2022-04-23T17:27:12.328Z"
   },
   {
    "duration": 26,
    "start_time": "2022-04-23T17:27:43.666Z"
   },
   {
    "duration": 60,
    "start_time": "2022-04-23T17:27:47.906Z"
   },
   {
    "duration": 5,
    "start_time": "2022-04-23T17:27:53.696Z"
   },
   {
    "duration": 8,
    "start_time": "2022-04-23T17:28:47.567Z"
   },
   {
    "duration": 28,
    "start_time": "2022-04-23T17:28:53.883Z"
   },
   {
    "duration": 67,
    "start_time": "2022-04-23T17:29:01.403Z"
   },
   {
    "duration": 5,
    "start_time": "2022-04-23T17:29:33.678Z"
   },
   {
    "duration": 14,
    "start_time": "2022-04-23T17:30:26.972Z"
   },
   {
    "duration": 100,
    "start_time": "2022-04-23T17:33:13.338Z"
   },
   {
    "duration": 107,
    "start_time": "2022-04-23T17:33:27.166Z"
   },
   {
    "duration": 115,
    "start_time": "2022-04-23T17:33:46.505Z"
   },
   {
    "duration": 169,
    "start_time": "2022-04-23T17:34:16.802Z"
   },
   {
    "duration": 104,
    "start_time": "2022-04-23T17:34:30.307Z"
   },
   {
    "duration": 110,
    "start_time": "2022-04-23T17:34:39.437Z"
   },
   {
    "duration": 113,
    "start_time": "2022-04-23T17:35:15.039Z"
   },
   {
    "duration": 96,
    "start_time": "2022-04-23T17:35:31.661Z"
   },
   {
    "duration": 97,
    "start_time": "2022-04-23T17:35:58.702Z"
   },
   {
    "duration": 95,
    "start_time": "2022-04-23T17:36:23.466Z"
   },
   {
    "duration": 3,
    "start_time": "2022-04-23T17:36:29.254Z"
   },
   {
    "duration": 100,
    "start_time": "2022-04-23T17:36:29.261Z"
   },
   {
    "duration": 5,
    "start_time": "2022-04-23T17:36:29.363Z"
   },
   {
    "duration": 30,
    "start_time": "2022-04-23T17:36:29.369Z"
   },
   {
    "duration": 34,
    "start_time": "2022-04-23T17:36:29.401Z"
   },
   {
    "duration": 10,
    "start_time": "2022-04-23T17:36:29.437Z"
   },
   {
    "duration": 12,
    "start_time": "2022-04-23T17:36:29.449Z"
   },
   {
    "duration": 4,
    "start_time": "2022-04-23T17:36:29.463Z"
   },
   {
    "duration": 11,
    "start_time": "2022-04-23T17:36:29.469Z"
   },
   {
    "duration": 7,
    "start_time": "2022-04-23T17:36:29.482Z"
   },
   {
    "duration": 45,
    "start_time": "2022-04-23T17:36:29.492Z"
   },
   {
    "duration": 11,
    "start_time": "2022-04-23T17:36:29.539Z"
   },
   {
    "duration": 4,
    "start_time": "2022-04-23T17:36:29.552Z"
   },
   {
    "duration": 8,
    "start_time": "2022-04-23T17:36:29.558Z"
   },
   {
    "duration": 9,
    "start_time": "2022-04-23T17:36:29.568Z"
   },
   {
    "duration": 7,
    "start_time": "2022-04-23T17:36:29.578Z"
   },
   {
    "duration": 4,
    "start_time": "2022-04-23T17:36:29.586Z"
   },
   {
    "duration": 6,
    "start_time": "2022-04-23T17:36:29.634Z"
   },
   {
    "duration": 28,
    "start_time": "2022-04-23T17:36:29.641Z"
   },
   {
    "duration": 6,
    "start_time": "2022-04-23T17:36:29.670Z"
   },
   {
    "duration": 10,
    "start_time": "2022-04-23T17:36:29.677Z"
   },
   {
    "duration": 5,
    "start_time": "2022-04-23T17:36:29.689Z"
   },
   {
    "duration": 43,
    "start_time": "2022-04-23T17:36:29.696Z"
   },
   {
    "duration": 8,
    "start_time": "2022-04-23T17:36:29.741Z"
   },
   {
    "duration": 9,
    "start_time": "2022-04-23T17:36:29.751Z"
   },
   {
    "duration": 9,
    "start_time": "2022-04-23T17:36:29.762Z"
   },
   {
    "duration": 15,
    "start_time": "2022-04-23T17:36:29.773Z"
   },
   {
    "duration": 4,
    "start_time": "2022-04-23T17:36:29.790Z"
   },
   {
    "duration": 37,
    "start_time": "2022-04-23T17:36:29.798Z"
   },
   {
    "duration": 6,
    "start_time": "2022-04-23T17:36:29.836Z"
   },
   {
    "duration": 8,
    "start_time": "2022-04-23T17:36:29.844Z"
   },
   {
    "duration": 10,
    "start_time": "2022-04-23T17:36:29.854Z"
   },
   {
    "duration": 7,
    "start_time": "2022-04-23T17:36:29.865Z"
   },
   {
    "duration": 15,
    "start_time": "2022-04-23T17:36:29.873Z"
   },
   {
    "duration": 55,
    "start_time": "2022-04-23T17:36:29.890Z"
   },
   {
    "duration": 29,
    "start_time": "2022-04-23T17:36:29.946Z"
   },
   {
    "duration": 101,
    "start_time": "2022-04-23T17:36:29.976Z"
   },
   {
    "duration": 30,
    "start_time": "2022-04-23T17:36:30.079Z"
   },
   {
    "duration": 27,
    "start_time": "2022-04-23T17:36:30.111Z"
   },
   {
    "duration": 7,
    "start_time": "2022-04-23T17:36:30.139Z"
   },
   {
    "duration": 10,
    "start_time": "2022-04-23T17:36:30.147Z"
   },
   {
    "duration": 164,
    "start_time": "2022-04-23T17:36:30.159Z"
   },
   {
    "duration": 15,
    "start_time": "2022-04-23T17:36:30.324Z"
   },
   {
    "duration": 6,
    "start_time": "2022-04-23T17:36:30.341Z"
   },
   {
    "duration": 19,
    "start_time": "2022-04-23T17:36:30.349Z"
   },
   {
    "duration": 288,
    "start_time": "2022-04-23T17:36:30.369Z"
   },
   {
    "duration": 8,
    "start_time": "2022-04-23T17:36:30.659Z"
   },
   {
    "duration": 12,
    "start_time": "2022-04-23T17:36:30.669Z"
   },
   {
    "duration": 14,
    "start_time": "2022-04-23T17:36:30.683Z"
   },
   {
    "duration": 229,
    "start_time": "2022-04-23T17:36:30.699Z"
   },
   {
    "duration": 9,
    "start_time": "2022-04-23T17:36:30.930Z"
   },
   {
    "duration": 12,
    "start_time": "2022-04-23T17:36:30.940Z"
   },
   {
    "duration": 12,
    "start_time": "2022-04-23T17:36:30.953Z"
   },
   {
    "duration": 253,
    "start_time": "2022-04-23T17:36:30.966Z"
   },
   {
    "duration": 253,
    "start_time": "2022-04-23T17:36:31.221Z"
   },
   {
    "duration": 9,
    "start_time": "2022-04-23T17:36:31.476Z"
   },
   {
    "duration": 9,
    "start_time": "2022-04-23T17:36:31.487Z"
   },
   {
    "duration": 23,
    "start_time": "2022-04-23T17:36:31.497Z"
   },
   {
    "duration": 256,
    "start_time": "2022-04-23T17:36:31.521Z"
   },
   {
    "duration": 4,
    "start_time": "2022-04-23T17:36:31.779Z"
   },
   {
    "duration": 12,
    "start_time": "2022-04-23T17:36:31.785Z"
   },
   {
    "duration": 114,
    "start_time": "2022-04-23T17:36:31.798Z"
   },
   {
    "duration": 121,
    "start_time": "2022-04-23T17:36:31.917Z"
   },
   {
    "duration": 129,
    "start_time": "2022-04-23T17:36:32.039Z"
   },
   {
    "duration": 113,
    "start_time": "2022-04-23T17:36:32.169Z"
   },
   {
    "duration": 194,
    "start_time": "2022-04-23T17:36:32.283Z"
   },
   {
    "duration": 38,
    "start_time": "2022-04-23T17:36:32.479Z"
   },
   {
    "duration": 25,
    "start_time": "2022-04-23T17:36:32.518Z"
   },
   {
    "duration": 5,
    "start_time": "2022-04-23T17:36:32.545Z"
   },
   {
    "duration": 34,
    "start_time": "2022-04-23T17:36:32.551Z"
   },
   {
    "duration": 14,
    "start_time": "2022-04-23T17:36:32.587Z"
   },
   {
    "duration": 69,
    "start_time": "2022-04-23T17:36:32.603Z"
   },
   {
    "duration": 5,
    "start_time": "2022-04-23T17:36:32.674Z"
   },
   {
    "duration": 18,
    "start_time": "2022-04-23T17:36:32.680Z"
   },
   {
    "duration": 5,
    "start_time": "2022-04-23T17:36:32.700Z"
   },
   {
    "duration": 7,
    "start_time": "2022-04-23T17:36:32.707Z"
   },
   {
    "duration": 18,
    "start_time": "2022-04-23T17:36:32.716Z"
   },
   {
    "duration": 13,
    "start_time": "2022-04-23T17:36:32.736Z"
   },
   {
    "duration": 8,
    "start_time": "2022-04-23T17:36:32.750Z"
   },
   {
    "duration": 4,
    "start_time": "2022-04-23T17:36:32.760Z"
   },
   {
    "duration": 30,
    "start_time": "2022-04-23T17:36:32.766Z"
   },
   {
    "duration": 80,
    "start_time": "2022-04-23T17:36:32.797Z"
   },
   {
    "duration": 4,
    "start_time": "2022-04-23T17:36:32.879Z"
   },
   {
    "duration": 21,
    "start_time": "2022-04-23T17:36:32.884Z"
   },
   {
    "duration": 4,
    "start_time": "2022-04-23T17:36:32.907Z"
   },
   {
    "duration": 7,
    "start_time": "2022-04-23T17:36:32.912Z"
   },
   {
    "duration": 187,
    "start_time": "2022-04-23T17:36:32.934Z"
   },
   {
    "duration": 39,
    "start_time": "2022-04-23T17:37:21.193Z"
   },
   {
    "duration": 14,
    "start_time": "2022-04-23T17:37:23.343Z"
   },
   {
    "duration": 6,
    "start_time": "2022-04-23T17:37:24.770Z"
   },
   {
    "duration": 6,
    "start_time": "2022-04-23T17:37:26.588Z"
   },
   {
    "duration": 5,
    "start_time": "2022-04-23T17:37:29.875Z"
   },
   {
    "duration": 61,
    "start_time": "2022-04-23T17:37:35.069Z"
   },
   {
    "duration": 5,
    "start_time": "2022-04-23T17:37:35.957Z"
   },
   {
    "duration": 6,
    "start_time": "2022-04-23T17:37:37.537Z"
   },
   {
    "duration": 6,
    "start_time": "2022-04-23T17:37:38.977Z"
   },
   {
    "duration": 6,
    "start_time": "2022-04-23T17:37:42.054Z"
   },
   {
    "duration": 5,
    "start_time": "2022-04-23T17:37:51.914Z"
   },
   {
    "duration": 15,
    "start_time": "2022-04-23T17:38:03.991Z"
   },
   {
    "duration": 3,
    "start_time": "2022-04-23T17:38:10.516Z"
   },
   {
    "duration": 91,
    "start_time": "2022-04-23T17:38:10.522Z"
   },
   {
    "duration": 4,
    "start_time": "2022-04-23T17:38:10.615Z"
   },
   {
    "duration": 39,
    "start_time": "2022-04-23T17:38:10.620Z"
   },
   {
    "duration": 14,
    "start_time": "2022-04-23T17:38:10.661Z"
   },
   {
    "duration": 14,
    "start_time": "2022-04-23T17:38:10.677Z"
   },
   {
    "duration": 11,
    "start_time": "2022-04-23T17:38:10.693Z"
   },
   {
    "duration": 30,
    "start_time": "2022-04-23T17:38:10.706Z"
   },
   {
    "duration": 10,
    "start_time": "2022-04-23T17:38:10.737Z"
   },
   {
    "duration": 6,
    "start_time": "2022-04-23T17:38:10.749Z"
   },
   {
    "duration": 12,
    "start_time": "2022-04-23T17:38:10.758Z"
   },
   {
    "duration": 10,
    "start_time": "2022-04-23T17:38:10.772Z"
   },
   {
    "duration": 6,
    "start_time": "2022-04-23T17:38:10.783Z"
   },
   {
    "duration": 23,
    "start_time": "2022-04-23T17:38:10.790Z"
   },
   {
    "duration": 9,
    "start_time": "2022-04-23T17:38:10.834Z"
   },
   {
    "duration": 11,
    "start_time": "2022-04-23T17:38:10.844Z"
   },
   {
    "duration": 15,
    "start_time": "2022-04-23T17:38:10.856Z"
   },
   {
    "duration": 13,
    "start_time": "2022-04-23T17:38:10.872Z"
   },
   {
    "duration": 46,
    "start_time": "2022-04-23T17:38:10.887Z"
   },
   {
    "duration": 4,
    "start_time": "2022-04-23T17:38:10.935Z"
   },
   {
    "duration": 18,
    "start_time": "2022-04-23T17:38:10.941Z"
   },
   {
    "duration": 21,
    "start_time": "2022-04-23T17:38:10.961Z"
   },
   {
    "duration": 20,
    "start_time": "2022-04-23T17:38:10.984Z"
   },
   {
    "duration": 15,
    "start_time": "2022-04-23T17:38:11.006Z"
   },
   {
    "duration": 19,
    "start_time": "2022-04-23T17:38:11.023Z"
   },
   {
    "duration": 13,
    "start_time": "2022-04-23T17:38:11.043Z"
   },
   {
    "duration": 27,
    "start_time": "2022-04-23T17:38:11.058Z"
   },
   {
    "duration": 4,
    "start_time": "2022-04-23T17:38:11.087Z"
   },
   {
    "duration": 13,
    "start_time": "2022-04-23T17:38:11.096Z"
   },
   {
    "duration": 23,
    "start_time": "2022-04-23T17:38:11.111Z"
   },
   {
    "duration": 15,
    "start_time": "2022-04-23T17:38:11.136Z"
   },
   {
    "duration": 21,
    "start_time": "2022-04-23T17:38:11.152Z"
   },
   {
    "duration": 17,
    "start_time": "2022-04-23T17:38:11.174Z"
   },
   {
    "duration": 21,
    "start_time": "2022-04-23T17:38:11.193Z"
   },
   {
    "duration": 35,
    "start_time": "2022-04-23T17:38:11.216Z"
   },
   {
    "duration": 27,
    "start_time": "2022-04-23T17:38:11.252Z"
   },
   {
    "duration": 90,
    "start_time": "2022-04-23T17:38:11.281Z"
   },
   {
    "duration": 27,
    "start_time": "2022-04-23T17:38:11.372Z"
   },
   {
    "duration": 8,
    "start_time": "2022-04-23T17:38:11.401Z"
   },
   {
    "duration": 31,
    "start_time": "2022-04-23T17:38:11.411Z"
   },
   {
    "duration": 13,
    "start_time": "2022-04-23T17:38:11.443Z"
   },
   {
    "duration": 142,
    "start_time": "2022-04-23T17:38:11.458Z"
   },
   {
    "duration": 9,
    "start_time": "2022-04-23T17:38:11.602Z"
   },
   {
    "duration": 24,
    "start_time": "2022-04-23T17:38:11.613Z"
   },
   {
    "duration": 5,
    "start_time": "2022-04-23T17:38:11.639Z"
   },
   {
    "duration": 263,
    "start_time": "2022-04-23T17:38:11.646Z"
   },
   {
    "duration": 9,
    "start_time": "2022-04-23T17:38:11.911Z"
   },
   {
    "duration": 10,
    "start_time": "2022-04-23T17:38:11.934Z"
   },
   {
    "duration": 9,
    "start_time": "2022-04-23T17:38:11.946Z"
   },
   {
    "duration": 149,
    "start_time": "2022-04-23T17:38:11.957Z"
   },
   {
    "duration": 9,
    "start_time": "2022-04-23T17:38:12.107Z"
   },
   {
    "duration": 19,
    "start_time": "2022-04-23T17:38:12.117Z"
   },
   {
    "duration": 5,
    "start_time": "2022-04-23T17:38:12.138Z"
   },
   {
    "duration": 254,
    "start_time": "2022-04-23T17:38:12.145Z"
   },
   {
    "duration": 245,
    "start_time": "2022-04-23T17:38:12.401Z"
   },
   {
    "duration": 9,
    "start_time": "2022-04-23T17:38:12.648Z"
   },
   {
    "duration": 6,
    "start_time": "2022-04-23T17:38:12.659Z"
   },
   {
    "duration": 104,
    "start_time": "2022-04-23T17:38:12.666Z"
   },
   {
    "duration": 235,
    "start_time": "2022-04-23T17:38:12.771Z"
   },
   {
    "duration": 5,
    "start_time": "2022-04-23T17:38:13.007Z"
   },
   {
    "duration": 8,
    "start_time": "2022-04-23T17:38:13.013Z"
   },
   {
    "duration": 107,
    "start_time": "2022-04-23T17:38:13.034Z"
   },
   {
    "duration": 116,
    "start_time": "2022-04-23T17:38:13.142Z"
   },
   {
    "duration": 112,
    "start_time": "2022-04-23T17:38:13.259Z"
   },
   {
    "duration": 112,
    "start_time": "2022-04-23T17:38:13.372Z"
   },
   {
    "duration": 107,
    "start_time": "2022-04-23T17:38:13.486Z"
   },
   {
    "duration": 47,
    "start_time": "2022-04-23T17:38:13.595Z"
   },
   {
    "duration": 13,
    "start_time": "2022-04-23T17:38:13.643Z"
   },
   {
    "duration": 8,
    "start_time": "2022-04-23T17:38:13.658Z"
   },
   {
    "duration": 6,
    "start_time": "2022-04-23T17:38:13.668Z"
   },
   {
    "duration": 10,
    "start_time": "2022-04-23T17:38:13.675Z"
   },
   {
    "duration": 84,
    "start_time": "2022-04-23T17:38:13.686Z"
   },
   {
    "duration": 6,
    "start_time": "2022-04-23T17:38:13.772Z"
   },
   {
    "duration": 15,
    "start_time": "2022-04-23T17:38:13.780Z"
   },
   {
    "duration": 8,
    "start_time": "2022-04-23T17:38:13.797Z"
   },
   {
    "duration": 11,
    "start_time": "2022-04-23T17:38:13.806Z"
   },
   {
    "duration": 19,
    "start_time": "2022-04-23T17:38:13.818Z"
   },
   {
    "duration": 15,
    "start_time": "2022-04-23T17:38:13.839Z"
   },
   {
    "duration": 8,
    "start_time": "2022-04-23T17:38:13.856Z"
   },
   {
    "duration": 5,
    "start_time": "2022-04-23T17:38:13.866Z"
   },
   {
    "duration": 33,
    "start_time": "2022-04-23T17:38:13.872Z"
   },
   {
    "duration": 78,
    "start_time": "2022-04-23T17:38:13.907Z"
   },
   {
    "duration": 7,
    "start_time": "2022-04-23T17:38:13.992Z"
   },
   {
    "duration": 43,
    "start_time": "2022-04-23T17:38:14.001Z"
   },
   {
    "duration": 13,
    "start_time": "2022-04-23T17:38:14.045Z"
   },
   {
    "duration": 6,
    "start_time": "2022-04-23T17:38:14.060Z"
   },
   {
    "duration": 168,
    "start_time": "2022-04-23T17:38:14.067Z"
   },
   {
    "duration": 8,
    "start_time": "2022-04-23T17:38:48.513Z"
   },
   {
    "duration": 26,
    "start_time": "2022-04-23T17:39:06.605Z"
   },
   {
    "duration": 58,
    "start_time": "2022-04-23T17:39:15.156Z"
   },
   {
    "duration": 4,
    "start_time": "2022-04-23T17:39:27.497Z"
   },
   {
    "duration": 14,
    "start_time": "2022-04-23T17:39:40.746Z"
   },
   {
    "duration": 14,
    "start_time": "2022-04-23T17:40:22.534Z"
   },
   {
    "duration": 14,
    "start_time": "2022-04-23T17:40:29.249Z"
   },
   {
    "duration": 14,
    "start_time": "2022-04-23T17:40:37.236Z"
   },
   {
    "duration": 294,
    "start_time": "2022-04-23T17:40:42.861Z"
   },
   {
    "duration": 12,
    "start_time": "2022-04-23T17:40:52.577Z"
   },
   {
    "duration": 13,
    "start_time": "2022-04-23T17:42:16.218Z"
   },
   {
    "duration": 2740,
    "start_time": "2022-04-23T17:48:25.790Z"
   },
   {
    "duration": 8,
    "start_time": "2022-04-23T17:50:37.874Z"
   },
   {
    "duration": 2,
    "start_time": "2022-04-23T17:51:04.780Z"
   },
   {
    "duration": 100,
    "start_time": "2022-04-23T17:51:04.786Z"
   },
   {
    "duration": 5,
    "start_time": "2022-04-23T17:51:04.887Z"
   },
   {
    "duration": 48,
    "start_time": "2022-04-23T17:51:04.894Z"
   },
   {
    "duration": 15,
    "start_time": "2022-04-23T17:51:04.944Z"
   },
   {
    "duration": 9,
    "start_time": "2022-04-23T17:51:04.961Z"
   },
   {
    "duration": 13,
    "start_time": "2022-04-23T17:51:04.972Z"
   },
   {
    "duration": 4,
    "start_time": "2022-04-23T17:51:04.987Z"
   },
   {
    "duration": 45,
    "start_time": "2022-04-23T17:51:04.993Z"
   },
   {
    "duration": 11,
    "start_time": "2022-04-23T17:51:05.039Z"
   },
   {
    "duration": 22,
    "start_time": "2022-04-23T17:51:05.053Z"
   },
   {
    "duration": 10,
    "start_time": "2022-04-23T17:51:05.077Z"
   },
   {
    "duration": 5,
    "start_time": "2022-04-23T17:51:05.089Z"
   },
   {
    "duration": 16,
    "start_time": "2022-04-23T17:51:05.095Z"
   },
   {
    "duration": 9,
    "start_time": "2022-04-23T17:51:05.134Z"
   },
   {
    "duration": 8,
    "start_time": "2022-04-23T17:51:05.145Z"
   },
   {
    "duration": 3,
    "start_time": "2022-04-23T17:51:05.155Z"
   },
   {
    "duration": 8,
    "start_time": "2022-04-23T17:51:05.160Z"
   },
   {
    "duration": 27,
    "start_time": "2022-04-23T17:51:05.170Z"
   },
   {
    "duration": 38,
    "start_time": "2022-04-23T17:51:05.198Z"
   },
   {
    "duration": 14,
    "start_time": "2022-04-23T17:51:05.238Z"
   },
   {
    "duration": 10,
    "start_time": "2022-04-23T17:51:05.254Z"
   },
   {
    "duration": 16,
    "start_time": "2022-04-23T17:51:05.266Z"
   },
   {
    "duration": 9,
    "start_time": "2022-04-23T17:51:05.283Z"
   },
   {
    "duration": 9,
    "start_time": "2022-04-23T17:51:05.294Z"
   },
   {
    "duration": 8,
    "start_time": "2022-04-23T17:51:05.334Z"
   },
   {
    "duration": 15,
    "start_time": "2022-04-23T17:51:05.344Z"
   },
   {
    "duration": 5,
    "start_time": "2022-04-23T17:51:05.361Z"
   },
   {
    "duration": 6,
    "start_time": "2022-04-23T17:51:05.370Z"
   },
   {
    "duration": 10,
    "start_time": "2022-04-23T17:51:05.378Z"
   },
   {
    "duration": 10,
    "start_time": "2022-04-23T17:51:05.390Z"
   },
   {
    "duration": 37,
    "start_time": "2022-04-23T17:51:05.401Z"
   },
   {
    "duration": 7,
    "start_time": "2022-04-23T17:51:05.440Z"
   },
   {
    "duration": 19,
    "start_time": "2022-04-23T17:51:05.448Z"
   },
   {
    "duration": 28,
    "start_time": "2022-04-23T17:51:05.469Z"
   },
   {
    "duration": 49,
    "start_time": "2022-04-23T17:51:05.499Z"
   },
   {
    "duration": 89,
    "start_time": "2022-04-23T17:51:05.550Z"
   },
   {
    "duration": 29,
    "start_time": "2022-04-23T17:51:05.640Z"
   },
   {
    "duration": 8,
    "start_time": "2022-04-23T17:51:05.670Z"
   },
   {
    "duration": 6,
    "start_time": "2022-04-23T17:51:05.680Z"
   },
   {
    "duration": 5,
    "start_time": "2022-04-23T17:51:05.687Z"
   },
   {
    "duration": 178,
    "start_time": "2022-04-23T17:51:05.693Z"
   },
   {
    "duration": 10,
    "start_time": "2022-04-23T17:51:05.872Z"
   },
   {
    "duration": 7,
    "start_time": "2022-04-23T17:51:05.883Z"
   },
   {
    "duration": 5,
    "start_time": "2022-04-23T17:51:05.891Z"
   },
   {
    "duration": 276,
    "start_time": "2022-04-23T17:51:05.897Z"
   },
   {
    "duration": 8,
    "start_time": "2022-04-23T17:51:06.175Z"
   },
   {
    "duration": 5,
    "start_time": "2022-04-23T17:51:06.185Z"
   },
   {
    "duration": 6,
    "start_time": "2022-04-23T17:51:06.191Z"
   },
   {
    "duration": 243,
    "start_time": "2022-04-23T17:51:06.198Z"
   },
   {
    "duration": 8,
    "start_time": "2022-04-23T17:51:06.443Z"
   },
   {
    "duration": 7,
    "start_time": "2022-04-23T17:51:06.453Z"
   },
   {
    "duration": 5,
    "start_time": "2022-04-23T17:51:06.462Z"
   },
   {
    "duration": 266,
    "start_time": "2022-04-23T17:51:06.469Z"
   },
   {
    "duration": 250,
    "start_time": "2022-04-23T17:51:06.737Z"
   },
   {
    "duration": 9,
    "start_time": "2022-04-23T17:51:06.988Z"
   },
   {
    "duration": 8,
    "start_time": "2022-04-23T17:51:06.998Z"
   },
   {
    "duration": 30,
    "start_time": "2022-04-23T17:51:07.007Z"
   },
   {
    "duration": 239,
    "start_time": "2022-04-23T17:51:07.039Z"
   },
   {
    "duration": 4,
    "start_time": "2022-04-23T17:51:07.280Z"
   },
   {
    "duration": 12,
    "start_time": "2022-04-23T17:51:07.286Z"
   },
   {
    "duration": 110,
    "start_time": "2022-04-23T17:51:07.300Z"
   },
   {
    "duration": 123,
    "start_time": "2022-04-23T17:51:07.412Z"
   },
   {
    "duration": 115,
    "start_time": "2022-04-23T17:51:07.537Z"
   },
   {
    "duration": 110,
    "start_time": "2022-04-23T17:51:07.654Z"
   },
   {
    "duration": 193,
    "start_time": "2022-04-23T17:51:07.765Z"
   },
   {
    "duration": 39,
    "start_time": "2022-04-23T17:51:07.961Z"
   },
   {
    "duration": 32,
    "start_time": "2022-04-23T17:51:08.002Z"
   },
   {
    "duration": 6,
    "start_time": "2022-04-23T17:51:08.036Z"
   },
   {
    "duration": 13,
    "start_time": "2022-04-23T17:51:08.044Z"
   },
   {
    "duration": 22,
    "start_time": "2022-04-23T17:51:08.059Z"
   },
   {
    "duration": 76,
    "start_time": "2022-04-23T17:51:08.083Z"
   },
   {
    "duration": 6,
    "start_time": "2022-04-23T17:51:08.161Z"
   },
   {
    "duration": 15,
    "start_time": "2022-04-23T17:51:08.169Z"
   },
   {
    "duration": 14,
    "start_time": "2022-04-23T17:51:08.186Z"
   },
   {
    "duration": 17,
    "start_time": "2022-04-23T17:51:08.202Z"
   },
   {
    "duration": 19,
    "start_time": "2022-04-23T17:51:08.221Z"
   },
   {
    "duration": 23,
    "start_time": "2022-04-23T17:51:08.241Z"
   },
   {
    "duration": 17,
    "start_time": "2022-04-23T17:51:08.266Z"
   },
   {
    "duration": 33,
    "start_time": "2022-04-23T17:51:08.285Z"
   },
   {
    "duration": 62,
    "start_time": "2022-04-23T17:51:08.320Z"
   },
   {
    "duration": 5,
    "start_time": "2022-04-23T17:51:08.384Z"
   },
   {
    "duration": 18,
    "start_time": "2022-04-23T17:51:08.395Z"
   },
   {
    "duration": 24,
    "start_time": "2022-04-23T17:51:08.415Z"
   },
   {
    "duration": 0,
    "start_time": "2022-04-23T17:51:08.440Z"
   },
   {
    "duration": 6,
    "start_time": "2022-04-23T17:51:53.958Z"
   },
   {
    "duration": 6,
    "start_time": "2022-04-23T17:52:59.616Z"
   },
   {
    "duration": 6,
    "start_time": "2022-04-23T17:53:15.250Z"
   },
   {
    "duration": 15,
    "start_time": "2022-04-23T18:10:19.894Z"
   },
   {
    "duration": 6,
    "start_time": "2022-04-23T18:10:28.135Z"
   },
   {
    "duration": 6,
    "start_time": "2022-04-23T18:10:33.704Z"
   },
   {
    "duration": 13,
    "start_time": "2022-04-23T18:13:34.240Z"
   },
   {
    "duration": 28,
    "start_time": "2022-04-23T18:14:19.144Z"
   },
   {
    "duration": 5,
    "start_time": "2022-04-23T18:15:08.653Z"
   },
   {
    "duration": 6,
    "start_time": "2022-04-23T18:15:31.434Z"
   },
   {
    "duration": 4,
    "start_time": "2022-04-23T18:15:48.611Z"
   },
   {
    "duration": 5,
    "start_time": "2022-04-23T18:18:58.723Z"
   },
   {
    "duration": 28,
    "start_time": "2022-04-23T18:21:58.190Z"
   },
   {
    "duration": 6,
    "start_time": "2022-04-23T18:22:04.414Z"
   },
   {
    "duration": 5,
    "start_time": "2022-04-23T18:22:05.618Z"
   },
   {
    "duration": 29,
    "start_time": "2022-04-23T18:23:33.634Z"
   },
   {
    "duration": 15,
    "start_time": "2022-04-23T18:33:20.346Z"
   },
   {
    "duration": 11,
    "start_time": "2022-04-23T18:34:15.062Z"
   },
   {
    "duration": 17,
    "start_time": "2022-04-23T18:34:45.082Z"
   },
   {
    "duration": 8,
    "start_time": "2022-04-23T18:36:39.948Z"
   },
   {
    "duration": 4,
    "start_time": "2022-04-23T18:38:12.784Z"
   },
   {
    "duration": 92,
    "start_time": "2022-04-23T18:38:12.790Z"
   },
   {
    "duration": 4,
    "start_time": "2022-04-23T18:38:12.883Z"
   },
   {
    "duration": 50,
    "start_time": "2022-04-23T18:38:12.889Z"
   },
   {
    "duration": 19,
    "start_time": "2022-04-23T18:38:12.942Z"
   },
   {
    "duration": 10,
    "start_time": "2022-04-23T18:38:12.963Z"
   },
   {
    "duration": 20,
    "start_time": "2022-04-23T18:38:12.975Z"
   },
   {
    "duration": 5,
    "start_time": "2022-04-23T18:38:12.997Z"
   },
   {
    "duration": 44,
    "start_time": "2022-04-23T18:38:13.003Z"
   },
   {
    "duration": 9,
    "start_time": "2022-04-23T18:38:13.049Z"
   },
   {
    "duration": 13,
    "start_time": "2022-04-23T18:38:13.061Z"
   },
   {
    "duration": 13,
    "start_time": "2022-04-23T18:38:13.076Z"
   },
   {
    "duration": 5,
    "start_time": "2022-04-23T18:38:13.091Z"
   },
   {
    "duration": 15,
    "start_time": "2022-04-23T18:38:13.098Z"
   },
   {
    "duration": 20,
    "start_time": "2022-04-23T18:38:13.138Z"
   },
   {
    "duration": 7,
    "start_time": "2022-04-23T18:38:13.160Z"
   },
   {
    "duration": 4,
    "start_time": "2022-04-23T18:38:13.168Z"
   },
   {
    "duration": 9,
    "start_time": "2022-04-23T18:38:13.174Z"
   },
   {
    "duration": 58,
    "start_time": "2022-04-23T18:38:13.185Z"
   },
   {
    "duration": 12,
    "start_time": "2022-04-23T18:38:13.245Z"
   },
   {
    "duration": 7,
    "start_time": "2022-04-23T18:38:13.258Z"
   },
   {
    "duration": 6,
    "start_time": "2022-04-23T18:38:13.266Z"
   },
   {
    "duration": 20,
    "start_time": "2022-04-23T18:38:13.274Z"
   },
   {
    "duration": 9,
    "start_time": "2022-04-23T18:38:13.296Z"
   },
   {
    "duration": 40,
    "start_time": "2022-04-23T18:38:13.307Z"
   },
   {
    "duration": 8,
    "start_time": "2022-04-23T18:38:13.349Z"
   },
   {
    "duration": 16,
    "start_time": "2022-04-23T18:38:13.358Z"
   },
   {
    "duration": 4,
    "start_time": "2022-04-23T18:38:13.376Z"
   },
   {
    "duration": 6,
    "start_time": "2022-04-23T18:38:13.385Z"
   },
   {
    "duration": 9,
    "start_time": "2022-04-23T18:38:13.392Z"
   },
   {
    "duration": 12,
    "start_time": "2022-04-23T18:38:13.434Z"
   },
   {
    "duration": 9,
    "start_time": "2022-04-23T18:38:13.448Z"
   },
   {
    "duration": 8,
    "start_time": "2022-04-23T18:38:13.458Z"
   },
   {
    "duration": 16,
    "start_time": "2022-04-23T18:38:13.467Z"
   },
   {
    "duration": 62,
    "start_time": "2022-04-23T18:38:13.485Z"
   },
   {
    "duration": 28,
    "start_time": "2022-04-23T18:38:13.548Z"
   },
   {
    "duration": 101,
    "start_time": "2022-04-23T18:38:13.577Z"
   },
   {
    "duration": 26,
    "start_time": "2022-04-23T18:38:13.680Z"
   },
   {
    "duration": 8,
    "start_time": "2022-04-23T18:38:13.707Z"
   },
   {
    "duration": 27,
    "start_time": "2022-04-23T18:38:13.716Z"
   },
   {
    "duration": 56,
    "start_time": "2022-04-23T18:38:13.745Z"
   },
   {
    "duration": 145,
    "start_time": "2022-04-23T18:38:13.803Z"
   },
   {
    "duration": 9,
    "start_time": "2022-04-23T18:38:13.950Z"
   },
   {
    "duration": 14,
    "start_time": "2022-04-23T18:38:13.960Z"
   },
   {
    "duration": 8,
    "start_time": "2022-04-23T18:38:13.976Z"
   },
   {
    "duration": 300,
    "start_time": "2022-04-23T18:38:13.986Z"
   },
   {
    "duration": 9,
    "start_time": "2022-04-23T18:38:14.288Z"
   },
   {
    "duration": 10,
    "start_time": "2022-04-23T18:38:14.299Z"
   },
   {
    "duration": 7,
    "start_time": "2022-04-23T18:38:14.311Z"
   },
   {
    "duration": 158,
    "start_time": "2022-04-23T18:38:14.333Z"
   },
   {
    "duration": 8,
    "start_time": "2022-04-23T18:38:14.493Z"
   },
   {
    "duration": 6,
    "start_time": "2022-04-23T18:38:14.503Z"
   },
   {
    "duration": 27,
    "start_time": "2022-04-23T18:38:14.510Z"
   },
   {
    "duration": 284,
    "start_time": "2022-04-23T18:38:14.539Z"
   },
   {
    "duration": 289,
    "start_time": "2022-04-23T18:38:14.825Z"
   },
   {
    "duration": 8,
    "start_time": "2022-04-23T18:38:15.116Z"
   },
   {
    "duration": 173,
    "start_time": "2022-04-23T18:38:15.137Z"
   },
   {
    "duration": 10,
    "start_time": "2022-04-23T18:38:15.312Z"
   },
   {
    "duration": 348,
    "start_time": "2022-04-23T18:38:15.324Z"
   },
   {
    "duration": 5,
    "start_time": "2022-04-23T18:38:15.674Z"
   },
   {
    "duration": 6,
    "start_time": "2022-04-23T18:38:15.681Z"
   },
   {
    "duration": 124,
    "start_time": "2022-04-23T18:38:15.689Z"
   },
   {
    "duration": 122,
    "start_time": "2022-04-23T18:38:15.815Z"
   },
   {
    "duration": 136,
    "start_time": "2022-04-23T18:38:15.941Z"
   },
   {
    "duration": 120,
    "start_time": "2022-04-23T18:38:16.079Z"
   },
   {
    "duration": 118,
    "start_time": "2022-04-23T18:38:16.201Z"
   },
   {
    "duration": 44,
    "start_time": "2022-04-23T18:38:16.320Z"
   },
   {
    "duration": 13,
    "start_time": "2022-04-23T18:38:16.366Z"
   },
   {
    "duration": 5,
    "start_time": "2022-04-23T18:38:16.380Z"
   },
   {
    "duration": 7,
    "start_time": "2022-04-23T18:38:16.387Z"
   },
   {
    "duration": 5,
    "start_time": "2022-04-23T18:38:16.396Z"
   },
   {
    "duration": 99,
    "start_time": "2022-04-23T18:38:16.402Z"
   },
   {
    "duration": 6,
    "start_time": "2022-04-23T18:38:16.502Z"
   },
   {
    "duration": 28,
    "start_time": "2022-04-23T18:38:16.510Z"
   },
   {
    "duration": 6,
    "start_time": "2022-04-23T18:38:16.540Z"
   },
   {
    "duration": 9,
    "start_time": "2022-04-23T18:38:16.548Z"
   },
   {
    "duration": 6,
    "start_time": "2022-04-23T18:38:16.558Z"
   },
   {
    "duration": 14,
    "start_time": "2022-04-23T18:38:16.566Z"
   },
   {
    "duration": 8,
    "start_time": "2022-04-23T18:38:16.582Z"
   },
   {
    "duration": 69,
    "start_time": "2022-04-23T18:38:16.591Z"
   },
   {
    "duration": 56,
    "start_time": "2022-04-23T18:38:16.666Z"
   },
   {
    "duration": 9,
    "start_time": "2022-04-23T18:38:16.735Z"
   },
   {
    "duration": 19,
    "start_time": "2022-04-23T18:38:16.745Z"
   },
   {
    "duration": 8,
    "start_time": "2022-04-23T18:38:16.766Z"
   },
   {
    "duration": 7,
    "start_time": "2022-04-23T18:38:16.776Z"
   },
   {
    "duration": 57,
    "start_time": "2022-04-23T18:38:16.785Z"
   },
   {
    "duration": 6,
    "start_time": "2022-04-23T18:38:16.844Z"
   },
   {
    "duration": 27,
    "start_time": "2022-04-23T18:38:16.852Z"
   },
   {
    "duration": 15,
    "start_time": "2022-04-23T18:38:16.881Z"
   },
   {
    "duration": 14,
    "start_time": "2022-04-23T18:40:21.613Z"
   },
   {
    "duration": 22,
    "start_time": "2022-04-23T18:46:22.227Z"
   },
   {
    "duration": 267,
    "start_time": "2022-04-23T18:49:35.185Z"
   },
   {
    "duration": 263,
    "start_time": "2022-04-23T19:01:16.046Z"
   },
   {
    "duration": 67,
    "start_time": "2022-04-23T19:16:07.076Z"
   },
   {
    "duration": 33,
    "start_time": "2022-04-23T19:18:57.928Z"
   },
   {
    "duration": 10,
    "start_time": "2022-04-23T19:20:08.590Z"
   },
   {
    "duration": 7,
    "start_time": "2022-04-23T19:20:15.115Z"
   },
   {
    "duration": 7,
    "start_time": "2022-04-23T19:21:36.145Z"
   },
   {
    "duration": 7,
    "start_time": "2022-04-23T19:21:52.414Z"
   },
   {
    "duration": 7,
    "start_time": "2022-04-23T19:23:09.387Z"
   },
   {
    "duration": 127,
    "start_time": "2022-04-23T19:23:32.452Z"
   },
   {
    "duration": 163,
    "start_time": "2022-04-23T19:33:17.234Z"
   },
   {
    "duration": 250,
    "start_time": "2022-04-23T19:37:50.320Z"
   },
   {
    "duration": 180,
    "start_time": "2022-04-23T19:40:52.194Z"
   },
   {
    "duration": 2,
    "start_time": "2022-04-23T20:02:27.552Z"
   },
   {
    "duration": 99,
    "start_time": "2022-04-23T20:02:27.559Z"
   },
   {
    "duration": 5,
    "start_time": "2022-04-23T20:02:27.660Z"
   },
   {
    "duration": 29,
    "start_time": "2022-04-23T20:02:27.666Z"
   },
   {
    "duration": 39,
    "start_time": "2022-04-23T20:02:27.698Z"
   },
   {
    "duration": 10,
    "start_time": "2022-04-23T20:02:27.738Z"
   },
   {
    "duration": 11,
    "start_time": "2022-04-23T20:02:27.750Z"
   },
   {
    "duration": 5,
    "start_time": "2022-04-23T20:02:27.763Z"
   },
   {
    "duration": 13,
    "start_time": "2022-04-23T20:02:27.770Z"
   },
   {
    "duration": 7,
    "start_time": "2022-04-23T20:02:27.785Z"
   },
   {
    "duration": 7,
    "start_time": "2022-04-23T20:02:27.835Z"
   },
   {
    "duration": 10,
    "start_time": "2022-04-23T20:02:27.843Z"
   },
   {
    "duration": 5,
    "start_time": "2022-04-23T20:02:27.854Z"
   },
   {
    "duration": 8,
    "start_time": "2022-04-23T20:02:27.861Z"
   },
   {
    "duration": 10,
    "start_time": "2022-04-23T20:02:27.870Z"
   },
   {
    "duration": 7,
    "start_time": "2022-04-23T20:02:27.881Z"
   },
   {
    "duration": 47,
    "start_time": "2022-04-23T20:02:27.890Z"
   },
   {
    "duration": 9,
    "start_time": "2022-04-23T20:02:27.938Z"
   },
   {
    "duration": 28,
    "start_time": "2022-04-23T20:02:27.949Z"
   },
   {
    "duration": 4,
    "start_time": "2022-04-23T20:02:27.978Z"
   },
   {
    "duration": 12,
    "start_time": "2022-04-23T20:02:27.983Z"
   },
   {
    "duration": 5,
    "start_time": "2022-04-23T20:02:27.997Z"
   },
   {
    "duration": 16,
    "start_time": "2022-04-23T20:02:28.033Z"
   },
   {
    "duration": 10,
    "start_time": "2022-04-23T20:02:28.050Z"
   },
   {
    "duration": 9,
    "start_time": "2022-04-23T20:02:28.061Z"
   },
   {
    "duration": 7,
    "start_time": "2022-04-23T20:02:28.072Z"
   },
   {
    "duration": 12,
    "start_time": "2022-04-23T20:02:28.080Z"
   },
   {
    "duration": 5,
    "start_time": "2022-04-23T20:02:28.134Z"
   },
   {
    "duration": 9,
    "start_time": "2022-04-23T20:02:28.144Z"
   },
   {
    "duration": 7,
    "start_time": "2022-04-23T20:02:28.155Z"
   },
   {
    "duration": 8,
    "start_time": "2022-04-23T20:02:28.164Z"
   },
   {
    "duration": 10,
    "start_time": "2022-04-23T20:02:28.173Z"
   },
   {
    "duration": 8,
    "start_time": "2022-04-23T20:02:28.185Z"
   },
   {
    "duration": 45,
    "start_time": "2022-04-23T20:02:28.195Z"
   },
   {
    "duration": 30,
    "start_time": "2022-04-23T20:02:28.242Z"
   },
   {
    "duration": 28,
    "start_time": "2022-04-23T20:02:28.273Z"
   },
   {
    "duration": 111,
    "start_time": "2022-04-23T20:02:28.303Z"
   },
   {
    "duration": 35,
    "start_time": "2022-04-23T20:02:28.416Z"
   },
   {
    "duration": 8,
    "start_time": "2022-04-23T20:02:28.452Z"
   },
   {
    "duration": 7,
    "start_time": "2022-04-23T20:02:28.462Z"
   },
   {
    "duration": 7,
    "start_time": "2022-04-23T20:02:28.470Z"
   },
   {
    "duration": 167,
    "start_time": "2022-04-23T20:02:28.479Z"
   },
   {
    "duration": 9,
    "start_time": "2022-04-23T20:02:28.647Z"
   },
   {
    "duration": 7,
    "start_time": "2022-04-23T20:02:28.657Z"
   },
   {
    "duration": 5,
    "start_time": "2022-04-23T20:02:28.665Z"
   },
   {
    "duration": 269,
    "start_time": "2022-04-23T20:02:28.671Z"
   },
   {
    "duration": 8,
    "start_time": "2022-04-23T20:02:28.941Z"
   },
   {
    "duration": 8,
    "start_time": "2022-04-23T20:02:28.951Z"
   },
   {
    "duration": 9,
    "start_time": "2022-04-23T20:02:28.960Z"
   },
   {
    "duration": 153,
    "start_time": "2022-04-23T20:02:28.970Z"
   },
   {
    "duration": 14,
    "start_time": "2022-04-23T20:02:29.125Z"
   },
   {
    "duration": 6,
    "start_time": "2022-04-23T20:02:29.141Z"
   },
   {
    "duration": 10,
    "start_time": "2022-04-23T20:02:29.149Z"
   },
   {
    "duration": 248,
    "start_time": "2022-04-23T20:02:29.160Z"
   },
   {
    "duration": 241,
    "start_time": "2022-04-23T20:02:29.409Z"
   },
   {
    "duration": 8,
    "start_time": "2022-04-23T20:02:29.652Z"
   },
   {
    "duration": 8,
    "start_time": "2022-04-23T20:02:29.661Z"
   },
   {
    "duration": 108,
    "start_time": "2022-04-23T20:02:29.670Z"
   },
   {
    "duration": 245,
    "start_time": "2022-04-23T20:02:29.780Z"
   },
   {
    "duration": 7,
    "start_time": "2022-04-23T20:02:30.028Z"
   },
   {
    "duration": 13,
    "start_time": "2022-04-23T20:02:30.037Z"
   },
   {
    "duration": 123,
    "start_time": "2022-04-23T20:02:30.052Z"
   },
   {
    "duration": 122,
    "start_time": "2022-04-23T20:02:30.177Z"
   },
   {
    "duration": 124,
    "start_time": "2022-04-23T20:02:30.301Z"
   },
   {
    "duration": 119,
    "start_time": "2022-04-23T20:02:30.427Z"
   },
   {
    "duration": 118,
    "start_time": "2022-04-23T20:02:30.548Z"
   },
   {
    "duration": 39,
    "start_time": "2022-04-23T20:02:30.668Z"
   },
   {
    "duration": 28,
    "start_time": "2022-04-23T20:02:30.708Z"
   },
   {
    "duration": 6,
    "start_time": "2022-04-23T20:02:30.738Z"
   },
   {
    "duration": 9,
    "start_time": "2022-04-23T20:02:30.746Z"
   },
   {
    "duration": 9,
    "start_time": "2022-04-23T20:02:30.757Z"
   },
   {
    "duration": 90,
    "start_time": "2022-04-23T20:02:30.768Z"
   },
   {
    "duration": 6,
    "start_time": "2022-04-23T20:02:30.860Z"
   },
   {
    "duration": 8,
    "start_time": "2022-04-23T20:02:30.868Z"
   },
   {
    "duration": 9,
    "start_time": "2022-04-23T20:02:30.878Z"
   },
   {
    "duration": 12,
    "start_time": "2022-04-23T20:02:30.889Z"
   },
   {
    "duration": 6,
    "start_time": "2022-04-23T20:02:30.903Z"
   },
   {
    "duration": 16,
    "start_time": "2022-04-23T20:02:30.934Z"
   },
   {
    "duration": 10,
    "start_time": "2022-04-23T20:02:30.952Z"
   },
   {
    "duration": 29,
    "start_time": "2022-04-23T20:02:30.969Z"
   },
   {
    "duration": 90,
    "start_time": "2022-04-23T20:02:31.001Z"
   },
   {
    "duration": 6,
    "start_time": "2022-04-23T20:02:31.093Z"
   },
   {
    "duration": 44,
    "start_time": "2022-04-23T20:02:31.101Z"
   },
   {
    "duration": 11,
    "start_time": "2022-04-23T20:02:31.147Z"
   },
   {
    "duration": 11,
    "start_time": "2022-04-23T20:02:31.160Z"
   },
   {
    "duration": 33,
    "start_time": "2022-04-23T20:02:31.174Z"
   },
   {
    "duration": 6,
    "start_time": "2022-04-23T20:02:31.233Z"
   },
   {
    "duration": 30,
    "start_time": "2022-04-23T20:02:31.241Z"
   },
   {
    "duration": 19,
    "start_time": "2022-04-23T20:02:31.273Z"
   },
   {
    "duration": 298,
    "start_time": "2022-04-23T20:02:31.294Z"
   },
   {
    "duration": 45,
    "start_time": "2022-04-23T20:02:31.594Z"
   },
   {
    "duration": 10,
    "start_time": "2022-04-23T20:02:31.641Z"
   },
   {
    "duration": 9,
    "start_time": "2022-04-23T20:02:31.653Z"
   },
   {
    "duration": 13,
    "start_time": "2022-04-23T20:02:31.664Z"
   },
   {
    "duration": 153,
    "start_time": "2022-04-23T20:02:31.679Z"
   },
   {
    "duration": 170,
    "start_time": "2022-04-23T20:02:31.834Z"
   },
   {
    "duration": 9,
    "start_time": "2022-04-23T20:02:32.005Z"
   },
   {
    "duration": 22,
    "start_time": "2022-04-23T20:02:32.016Z"
   },
   {
    "duration": 95,
    "start_time": "2022-04-23T20:02:32.040Z"
   },
   {
    "duration": 154,
    "start_time": "2022-04-23T20:02:32.137Z"
   },
   {
    "duration": 172,
    "start_time": "2022-04-23T20:02:32.292Z"
   },
   {
    "duration": 8,
    "start_time": "2022-04-23T20:02:32.468Z"
   },
   {
    "duration": 11,
    "start_time": "2022-04-23T20:02:32.477Z"
   },
   {
    "duration": 9,
    "start_time": "2022-04-23T20:02:32.490Z"
   },
   {
    "duration": 158,
    "start_time": "2022-04-23T20:02:32.501Z"
   },
   {
    "duration": 164,
    "start_time": "2022-04-23T20:02:32.661Z"
   },
   {
    "duration": 13,
    "start_time": "2022-04-23T20:02:32.827Z"
   },
   {
    "duration": 13,
    "start_time": "2022-04-23T20:02:32.841Z"
   },
   {
    "duration": 8,
    "start_time": "2022-04-23T20:02:32.855Z"
   },
   {
    "duration": 151,
    "start_time": "2022-04-23T20:02:32.864Z"
   },
   {
    "duration": 168,
    "start_time": "2022-04-23T20:02:33.016Z"
   },
   {
    "duration": 128,
    "start_time": "2022-04-23T20:03:42.468Z"
   },
   {
    "duration": 155,
    "start_time": "2022-04-23T20:03:59.169Z"
   },
   {
    "duration": 150,
    "start_time": "2022-04-23T20:04:18.972Z"
   },
   {
    "duration": 175,
    "start_time": "2022-04-23T20:06:48.921Z"
   },
   {
    "duration": 1156,
    "start_time": "2022-04-24T17:22:39.977Z"
   },
   {
    "duration": 105,
    "start_time": "2022-04-24T17:22:41.136Z"
   },
   {
    "duration": 5,
    "start_time": "2022-04-24T17:22:41.245Z"
   },
   {
    "duration": 42,
    "start_time": "2022-04-24T17:22:41.253Z"
   },
   {
    "duration": 37,
    "start_time": "2022-04-24T17:22:41.297Z"
   },
   {
    "duration": 10,
    "start_time": "2022-04-24T17:22:41.337Z"
   },
   {
    "duration": 11,
    "start_time": "2022-04-24T17:22:41.349Z"
   },
   {
    "duration": 9,
    "start_time": "2022-04-24T17:22:41.361Z"
   },
   {
    "duration": 8,
    "start_time": "2022-04-24T17:22:41.372Z"
   },
   {
    "duration": 39,
    "start_time": "2022-04-24T17:22:41.384Z"
   },
   {
    "duration": 12,
    "start_time": "2022-04-24T17:22:41.428Z"
   },
   {
    "duration": 21,
    "start_time": "2022-04-24T17:22:41.443Z"
   },
   {
    "duration": 6,
    "start_time": "2022-04-24T17:22:41.466Z"
   },
   {
    "duration": 10,
    "start_time": "2022-04-24T17:22:41.474Z"
   },
   {
    "duration": 11,
    "start_time": "2022-04-24T17:22:41.486Z"
   },
   {
    "duration": 36,
    "start_time": "2022-04-24T17:22:41.499Z"
   },
   {
    "duration": 4,
    "start_time": "2022-04-24T17:22:41.537Z"
   },
   {
    "duration": 8,
    "start_time": "2022-04-24T17:22:41.543Z"
   },
   {
    "duration": 32,
    "start_time": "2022-04-24T17:22:41.553Z"
   },
   {
    "duration": 5,
    "start_time": "2022-04-24T17:22:41.587Z"
   },
   {
    "duration": 10,
    "start_time": "2022-04-24T17:22:41.593Z"
   },
   {
    "duration": 6,
    "start_time": "2022-04-24T17:22:41.604Z"
   },
   {
    "duration": 24,
    "start_time": "2022-04-24T17:22:41.623Z"
   },
   {
    "duration": 10,
    "start_time": "2022-04-24T17:22:41.649Z"
   },
   {
    "duration": 9,
    "start_time": "2022-04-24T17:22:41.660Z"
   },
   {
    "duration": 9,
    "start_time": "2022-04-24T17:22:41.672Z"
   },
   {
    "duration": 16,
    "start_time": "2022-04-24T17:22:41.683Z"
   },
   {
    "duration": 6,
    "start_time": "2022-04-24T17:22:41.728Z"
   },
   {
    "duration": 15,
    "start_time": "2022-04-24T17:22:41.735Z"
   },
   {
    "duration": 8,
    "start_time": "2022-04-24T17:22:41.752Z"
   },
   {
    "duration": 9,
    "start_time": "2022-04-24T17:22:41.763Z"
   },
   {
    "duration": 7,
    "start_time": "2022-04-24T17:22:41.774Z"
   },
   {
    "duration": 7,
    "start_time": "2022-04-24T17:22:41.783Z"
   },
   {
    "duration": 44,
    "start_time": "2022-04-24T17:22:41.792Z"
   },
   {
    "duration": 35,
    "start_time": "2022-04-24T17:22:41.840Z"
   },
   {
    "duration": 48,
    "start_time": "2022-04-24T17:22:41.878Z"
   },
   {
    "duration": 138,
    "start_time": "2022-04-24T17:22:41.928Z"
   },
   {
    "duration": 38,
    "start_time": "2022-04-24T17:22:42.068Z"
   },
   {
    "duration": 20,
    "start_time": "2022-04-24T17:22:42.108Z"
   },
   {
    "duration": 9,
    "start_time": "2022-04-24T17:22:42.130Z"
   },
   {
    "duration": 8,
    "start_time": "2022-04-24T17:22:42.142Z"
   },
   {
    "duration": 196,
    "start_time": "2022-04-24T17:22:42.152Z"
   },
   {
    "duration": 11,
    "start_time": "2022-04-24T17:22:42.350Z"
   },
   {
    "duration": 12,
    "start_time": "2022-04-24T17:22:42.363Z"
   },
   {
    "duration": 7,
    "start_time": "2022-04-24T17:22:42.377Z"
   },
   {
    "duration": 264,
    "start_time": "2022-04-24T17:22:42.386Z"
   },
   {
    "duration": 9,
    "start_time": "2022-04-24T17:22:42.651Z"
   },
   {
    "duration": 5,
    "start_time": "2022-04-24T17:22:42.662Z"
   },
   {
    "duration": 6,
    "start_time": "2022-04-24T17:22:42.669Z"
   },
   {
    "duration": 215,
    "start_time": "2022-04-24T17:22:42.676Z"
   },
   {
    "duration": 9,
    "start_time": "2022-04-24T17:22:42.893Z"
   },
   {
    "duration": 24,
    "start_time": "2022-04-24T17:22:42.904Z"
   },
   {
    "duration": 10,
    "start_time": "2022-04-24T17:22:42.930Z"
   },
   {
    "duration": 388,
    "start_time": "2022-04-24T17:22:42.944Z"
   },
   {
    "duration": 303,
    "start_time": "2022-04-24T17:22:43.334Z"
   },
   {
    "duration": 11,
    "start_time": "2022-04-24T17:22:43.639Z"
   },
   {
    "duration": 10,
    "start_time": "2022-04-24T17:22:43.652Z"
   },
   {
    "duration": 11,
    "start_time": "2022-04-24T17:22:43.664Z"
   },
   {
    "duration": 253,
    "start_time": "2022-04-24T17:22:43.677Z"
   },
   {
    "duration": 6,
    "start_time": "2022-04-24T17:22:43.934Z"
   },
   {
    "duration": 28,
    "start_time": "2022-04-24T17:22:43.941Z"
   },
   {
    "duration": 91,
    "start_time": "2022-04-24T17:22:43.971Z"
   },
   {
    "duration": 148,
    "start_time": "2022-04-24T17:22:44.064Z"
   },
   {
    "duration": 154,
    "start_time": "2022-04-24T17:22:44.215Z"
   },
   {
    "duration": 146,
    "start_time": "2022-04-24T17:22:44.371Z"
   },
   {
    "duration": 184,
    "start_time": "2022-04-24T17:22:44.519Z"
   },
   {
    "duration": 48,
    "start_time": "2022-04-24T17:22:44.705Z"
   },
   {
    "duration": 11,
    "start_time": "2022-04-24T17:22:44.755Z"
   },
   {
    "duration": 6,
    "start_time": "2022-04-24T17:22:44.767Z"
   },
   {
    "duration": 9,
    "start_time": "2022-04-24T17:22:44.775Z"
   },
   {
    "duration": 7,
    "start_time": "2022-04-24T17:22:44.786Z"
   },
   {
    "duration": 84,
    "start_time": "2022-04-24T17:22:44.794Z"
   },
   {
    "duration": 5,
    "start_time": "2022-04-24T17:22:44.880Z"
   },
   {
    "duration": 5,
    "start_time": "2022-04-24T17:22:44.887Z"
   },
   {
    "duration": 8,
    "start_time": "2022-04-24T17:22:44.893Z"
   },
   {
    "duration": 6,
    "start_time": "2022-04-24T17:22:44.923Z"
   },
   {
    "duration": 11,
    "start_time": "2022-04-24T17:22:44.931Z"
   },
   {
    "duration": 25,
    "start_time": "2022-04-24T17:22:44.943Z"
   },
   {
    "duration": 7,
    "start_time": "2022-04-24T17:22:44.970Z"
   },
   {
    "duration": 26,
    "start_time": "2022-04-24T17:22:44.979Z"
   },
   {
    "duration": 70,
    "start_time": "2022-04-24T17:22:45.008Z"
   },
   {
    "duration": 5,
    "start_time": "2022-04-24T17:22:45.084Z"
   },
   {
    "duration": 15,
    "start_time": "2022-04-24T17:22:45.091Z"
   },
   {
    "duration": 12,
    "start_time": "2022-04-24T17:22:45.128Z"
   },
   {
    "duration": 12,
    "start_time": "2022-04-24T17:22:45.145Z"
   },
   {
    "duration": 33,
    "start_time": "2022-04-24T17:22:45.159Z"
   },
   {
    "duration": 5,
    "start_time": "2022-04-24T17:22:45.194Z"
   },
   {
    "duration": 37,
    "start_time": "2022-04-24T17:22:45.201Z"
   },
   {
    "duration": 27,
    "start_time": "2022-04-24T17:22:45.244Z"
   },
   {
    "duration": 239,
    "start_time": "2022-04-24T17:22:45.273Z"
   },
   {
    "duration": 34,
    "start_time": "2022-04-24T17:22:45.514Z"
   },
   {
    "duration": 7,
    "start_time": "2022-04-24T17:22:45.549Z"
   },
   {
    "duration": 7,
    "start_time": "2022-04-24T17:22:45.558Z"
   },
   {
    "duration": 7,
    "start_time": "2022-04-24T17:22:45.567Z"
   },
   {
    "duration": 130,
    "start_time": "2022-04-24T17:22:45.576Z"
   },
   {
    "duration": 216,
    "start_time": "2022-04-24T17:22:45.707Z"
   },
   {
    "duration": 17,
    "start_time": "2022-04-24T17:22:45.925Z"
   },
   {
    "duration": 18,
    "start_time": "2022-04-24T17:22:45.943Z"
   },
   {
    "duration": 10,
    "start_time": "2022-04-24T17:22:45.964Z"
   },
   {
    "duration": 201,
    "start_time": "2022-04-24T17:22:45.976Z"
   },
   {
    "duration": 213,
    "start_time": "2022-04-24T17:22:46.179Z"
   },
   {
    "duration": 9,
    "start_time": "2022-04-24T17:22:46.395Z"
   },
   {
    "duration": 18,
    "start_time": "2022-04-24T17:22:46.405Z"
   },
   {
    "duration": 5,
    "start_time": "2022-04-24T17:22:46.425Z"
   },
   {
    "duration": 195,
    "start_time": "2022-04-24T17:22:46.431Z"
   },
   {
    "duration": 192,
    "start_time": "2022-04-24T17:22:46.628Z"
   },
   {
    "duration": 11,
    "start_time": "2022-04-24T17:22:46.821Z"
   },
   {
    "duration": 15,
    "start_time": "2022-04-24T17:22:46.834Z"
   },
   {
    "duration": 7,
    "start_time": "2022-04-24T17:22:46.851Z"
   },
   {
    "duration": 118,
    "start_time": "2022-04-24T17:22:46.859Z"
   },
   {
    "duration": 153,
    "start_time": "2022-04-24T17:22:46.979Z"
   },
   {
    "duration": 166,
    "start_time": "2022-04-24T17:56:49.837Z"
   },
   {
    "duration": 47,
    "start_time": "2022-04-24T18:09:58.521Z"
   },
   {
    "duration": 18,
    "start_time": "2022-04-24T18:10:50.561Z"
   },
   {
    "duration": 4,
    "start_time": "2022-04-24T18:14:40.517Z"
   },
   {
    "duration": 134,
    "start_time": "2022-04-24T18:14:40.524Z"
   },
   {
    "duration": 22,
    "start_time": "2022-04-24T18:14:40.661Z"
   },
   {
    "duration": 14,
    "start_time": "2022-04-24T18:14:41.071Z"
   },
   {
    "duration": 17,
    "start_time": "2022-04-24T18:14:41.718Z"
   },
   {
    "duration": 33,
    "start_time": "2022-04-24T18:14:41.738Z"
   },
   {
    "duration": 7,
    "start_time": "2022-04-24T18:14:41.774Z"
   },
   {
    "duration": 13,
    "start_time": "2022-04-24T18:14:41.784Z"
   },
   {
    "duration": 10,
    "start_time": "2022-04-24T18:14:41.799Z"
   },
   {
    "duration": 21,
    "start_time": "2022-04-24T18:14:41.811Z"
   },
   {
    "duration": 39,
    "start_time": "2022-04-24T18:14:41.835Z"
   },
   {
    "duration": 4,
    "start_time": "2022-04-24T18:14:41.876Z"
   },
   {
    "duration": 7,
    "start_time": "2022-04-24T18:14:41.883Z"
   },
   {
    "duration": 11,
    "start_time": "2022-04-24T18:14:41.891Z"
   },
   {
    "duration": 6,
    "start_time": "2022-04-24T18:14:41.903Z"
   },
   {
    "duration": 4,
    "start_time": "2022-04-24T18:14:41.911Z"
   },
   {
    "duration": 10,
    "start_time": "2022-04-24T18:14:41.930Z"
   },
   {
    "duration": 41,
    "start_time": "2022-04-24T18:14:41.942Z"
   },
   {
    "duration": 6,
    "start_time": "2022-04-24T18:14:41.984Z"
   },
   {
    "duration": 7,
    "start_time": "2022-04-24T18:14:41.991Z"
   },
   {
    "duration": 5,
    "start_time": "2022-04-24T18:14:42.000Z"
   },
   {
    "duration": 17,
    "start_time": "2022-04-24T18:14:42.007Z"
   },
   {
    "duration": 37,
    "start_time": "2022-04-24T18:14:42.025Z"
   },
   {
    "duration": 9,
    "start_time": "2022-04-24T18:14:42.064Z"
   },
   {
    "duration": 8,
    "start_time": "2022-04-24T18:14:42.076Z"
   },
   {
    "duration": 18,
    "start_time": "2022-04-24T18:14:42.086Z"
   },
   {
    "duration": 5,
    "start_time": "2022-04-24T18:14:42.105Z"
   },
   {
    "duration": 20,
    "start_time": "2022-04-24T18:14:42.126Z"
   },
   {
    "duration": 24,
    "start_time": "2022-04-24T18:14:42.148Z"
   },
   {
    "duration": 7,
    "start_time": "2022-04-24T18:14:42.174Z"
   },
   {
    "duration": 9,
    "start_time": "2022-04-24T18:14:42.183Z"
   },
   {
    "duration": 7,
    "start_time": "2022-04-24T18:14:42.194Z"
   },
   {
    "duration": 23,
    "start_time": "2022-04-24T18:14:42.203Z"
   },
   {
    "duration": 34,
    "start_time": "2022-04-24T18:14:42.231Z"
   },
   {
    "duration": 61,
    "start_time": "2022-04-24T18:14:42.267Z"
   },
   {
    "duration": 132,
    "start_time": "2022-04-24T18:14:42.337Z"
   },
   {
    "duration": 29,
    "start_time": "2022-04-24T18:14:42.471Z"
   },
   {
    "duration": 40,
    "start_time": "2022-04-24T18:14:42.502Z"
   },
   {
    "duration": 26,
    "start_time": "2022-04-24T18:14:42.544Z"
   },
   {
    "duration": 5,
    "start_time": "2022-04-24T18:14:42.572Z"
   },
   {
    "duration": 137,
    "start_time": "2022-04-24T18:14:42.578Z"
   },
   {
    "duration": 18,
    "start_time": "2022-04-24T18:14:42.717Z"
   },
   {
    "duration": 28,
    "start_time": "2022-04-24T18:14:42.740Z"
   },
   {
    "duration": 5,
    "start_time": "2022-04-24T18:14:42.770Z"
   },
   {
    "duration": 236,
    "start_time": "2022-04-24T18:14:42.777Z"
   },
   {
    "duration": 16,
    "start_time": "2022-04-24T18:14:43.014Z"
   },
   {
    "duration": 32,
    "start_time": "2022-04-24T18:14:43.032Z"
   },
   {
    "duration": 5,
    "start_time": "2022-04-24T18:14:43.065Z"
   },
   {
    "duration": 131,
    "start_time": "2022-04-24T18:14:43.072Z"
   },
   {
    "duration": 23,
    "start_time": "2022-04-24T18:14:43.205Z"
   },
   {
    "duration": 24,
    "start_time": "2022-04-24T18:14:43.231Z"
   },
   {
    "duration": 14,
    "start_time": "2022-04-24T18:14:43.257Z"
   },
   {
    "duration": 339,
    "start_time": "2022-04-24T18:14:43.273Z"
   },
   {
    "duration": 389,
    "start_time": "2022-04-24T18:14:43.614Z"
   },
   {
    "duration": 9,
    "start_time": "2022-04-24T18:14:44.006Z"
   },
   {
    "duration": 16,
    "start_time": "2022-04-24T18:14:44.024Z"
   },
   {
    "duration": 27,
    "start_time": "2022-04-24T18:14:44.042Z"
   },
   {
    "duration": 430,
    "start_time": "2022-04-24T18:14:44.071Z"
   },
   {
    "duration": 5,
    "start_time": "2022-04-24T18:14:44.503Z"
   },
   {
    "duration": 16,
    "start_time": "2022-04-24T18:14:44.510Z"
   },
   {
    "duration": 120,
    "start_time": "2022-04-24T18:14:44.528Z"
   },
   {
    "duration": 104,
    "start_time": "2022-04-24T18:14:44.651Z"
   },
   {
    "duration": 110,
    "start_time": "2022-04-24T18:14:44.757Z"
   },
   {
    "duration": 112,
    "start_time": "2022-04-24T18:14:44.869Z"
   },
   {
    "duration": 124,
    "start_time": "2022-04-24T18:14:44.983Z"
   },
   {
    "duration": 56,
    "start_time": "2022-04-24T18:14:45.109Z"
   },
   {
    "duration": 12,
    "start_time": "2022-04-24T18:14:45.167Z"
   },
   {
    "duration": 5,
    "start_time": "2022-04-24T18:14:45.180Z"
   },
   {
    "duration": 8,
    "start_time": "2022-04-24T18:14:45.187Z"
   },
   {
    "duration": 37,
    "start_time": "2022-04-24T18:14:45.196Z"
   },
   {
    "duration": 71,
    "start_time": "2022-04-24T18:14:45.240Z"
   },
   {
    "duration": 7,
    "start_time": "2022-04-24T18:14:45.313Z"
   },
   {
    "duration": 11,
    "start_time": "2022-04-24T18:14:45.322Z"
   },
   {
    "duration": 29,
    "start_time": "2022-04-24T18:14:45.338Z"
   },
   {
    "duration": 5,
    "start_time": "2022-04-24T18:14:45.369Z"
   },
   {
    "duration": 7,
    "start_time": "2022-04-24T18:14:45.375Z"
   },
   {
    "duration": 14,
    "start_time": "2022-04-24T18:14:45.383Z"
   },
   {
    "duration": 7,
    "start_time": "2022-04-24T18:14:45.398Z"
   },
   {
    "duration": 43,
    "start_time": "2022-04-24T18:14:45.407Z"
   },
   {
    "duration": 85,
    "start_time": "2022-04-24T18:14:45.451Z"
   },
   {
    "duration": 5,
    "start_time": "2022-04-24T18:14:45.543Z"
   },
   {
    "duration": 30,
    "start_time": "2022-04-24T18:14:45.550Z"
   },
   {
    "duration": 7,
    "start_time": "2022-04-24T18:14:45.582Z"
   },
   {
    "duration": 8,
    "start_time": "2022-04-24T18:14:45.590Z"
   },
   {
    "duration": 48,
    "start_time": "2022-04-24T18:14:45.599Z"
   },
   {
    "duration": 11,
    "start_time": "2022-04-24T18:14:45.649Z"
   },
   {
    "duration": 34,
    "start_time": "2022-04-24T18:14:45.664Z"
   },
   {
    "duration": 16,
    "start_time": "2022-04-24T18:14:45.700Z"
   },
   {
    "duration": 258,
    "start_time": "2022-04-24T18:14:45.718Z"
   },
   {
    "duration": 30,
    "start_time": "2022-04-24T18:14:45.978Z"
   },
   {
    "duration": 35,
    "start_time": "2022-04-24T18:14:46.009Z"
   },
   {
    "duration": 23,
    "start_time": "2022-04-24T18:14:46.046Z"
   },
   {
    "duration": 7,
    "start_time": "2022-04-24T18:14:46.074Z"
   },
   {
    "duration": 113,
    "start_time": "2022-04-24T18:14:46.083Z"
   },
   {
    "duration": 172,
    "start_time": "2022-04-24T18:14:46.198Z"
   },
   {
    "duration": 9,
    "start_time": "2022-04-24T18:14:46.371Z"
   },
   {
    "duration": 7,
    "start_time": "2022-04-24T18:14:46.381Z"
   },
   {
    "duration": 6,
    "start_time": "2022-04-24T18:14:46.390Z"
   },
   {
    "duration": 195,
    "start_time": "2022-04-24T18:14:46.397Z"
   },
   {
    "duration": 288,
    "start_time": "2022-04-24T18:14:46.594Z"
   },
   {
    "duration": 8,
    "start_time": "2022-04-24T18:14:46.883Z"
   },
   {
    "duration": 16,
    "start_time": "2022-04-24T18:14:46.893Z"
   },
   {
    "duration": 21,
    "start_time": "2022-04-24T18:14:46.911Z"
   },
   {
    "duration": 149,
    "start_time": "2022-04-24T18:14:46.935Z"
   },
   {
    "duration": 189,
    "start_time": "2022-04-24T18:14:47.086Z"
   },
   {
    "duration": 11,
    "start_time": "2022-04-24T18:14:47.277Z"
   },
   {
    "duration": 13,
    "start_time": "2022-04-24T18:14:47.289Z"
   },
   {
    "duration": 27,
    "start_time": "2022-04-24T18:14:47.303Z"
   },
   {
    "duration": 129,
    "start_time": "2022-04-24T18:14:47.336Z"
   },
   {
    "duration": 143,
    "start_time": "2022-04-24T18:14:47.467Z"
   },
   {
    "duration": 10,
    "start_time": "2022-04-24T18:25:34.119Z"
   },
   {
    "duration": 3,
    "start_time": "2022-04-24T18:25:47.128Z"
   },
   {
    "duration": 85,
    "start_time": "2022-04-24T18:25:47.136Z"
   },
   {
    "duration": 27,
    "start_time": "2022-04-24T18:25:47.223Z"
   },
   {
    "duration": 28,
    "start_time": "2022-04-24T18:25:47.252Z"
   },
   {
    "duration": 13,
    "start_time": "2022-04-24T18:25:47.751Z"
   },
   {
    "duration": 10,
    "start_time": "2022-04-24T18:25:47.766Z"
   },
   {
    "duration": 9,
    "start_time": "2022-04-24T18:25:47.778Z"
   },
   {
    "duration": 7,
    "start_time": "2022-04-24T18:25:47.789Z"
   },
   {
    "duration": 10,
    "start_time": "2022-04-24T18:25:47.798Z"
   },
   {
    "duration": 9,
    "start_time": "2022-04-24T18:25:47.810Z"
   },
   {
    "duration": 12,
    "start_time": "2022-04-24T18:25:47.835Z"
   },
   {
    "duration": 24,
    "start_time": "2022-04-24T18:25:47.848Z"
   },
   {
    "duration": 11,
    "start_time": "2022-04-24T18:25:47.874Z"
   },
   {
    "duration": 7,
    "start_time": "2022-04-24T18:25:47.887Z"
   },
   {
    "duration": 6,
    "start_time": "2022-04-24T18:25:47.895Z"
   },
   {
    "duration": 7,
    "start_time": "2022-04-24T18:25:47.902Z"
   },
   {
    "duration": 41,
    "start_time": "2022-04-24T18:25:47.911Z"
   },
   {
    "duration": 4,
    "start_time": "2022-04-24T18:25:47.963Z"
   },
   {
    "duration": 10,
    "start_time": "2022-04-24T18:25:47.969Z"
   },
   {
    "duration": 6,
    "start_time": "2022-04-24T18:25:47.982Z"
   },
   {
    "duration": 20,
    "start_time": "2022-04-24T18:25:47.992Z"
   },
   {
    "duration": 17,
    "start_time": "2022-04-24T18:25:48.024Z"
   },
   {
    "duration": 29,
    "start_time": "2022-04-24T18:25:48.047Z"
   },
   {
    "duration": 8,
    "start_time": "2022-04-24T18:25:48.078Z"
   },
   {
    "duration": 11,
    "start_time": "2022-04-24T18:25:48.088Z"
   },
   {
    "duration": 4,
    "start_time": "2022-04-24T18:25:48.101Z"
   },
   {
    "duration": 40,
    "start_time": "2022-04-24T18:25:48.107Z"
   },
   {
    "duration": 34,
    "start_time": "2022-04-24T18:25:48.149Z"
   },
   {
    "duration": 9,
    "start_time": "2022-04-24T18:25:48.184Z"
   },
   {
    "duration": 8,
    "start_time": "2022-04-24T18:25:48.195Z"
   },
   {
    "duration": 7,
    "start_time": "2022-04-24T18:25:48.205Z"
   },
   {
    "duration": 22,
    "start_time": "2022-04-24T18:25:48.215Z"
   },
   {
    "duration": 49,
    "start_time": "2022-04-24T18:25:48.240Z"
   },
   {
    "duration": 28,
    "start_time": "2022-04-24T18:25:48.291Z"
   },
   {
    "duration": 99,
    "start_time": "2022-04-24T18:25:48.321Z"
   },
   {
    "duration": 36,
    "start_time": "2022-04-24T18:25:48.422Z"
   },
   {
    "duration": 14,
    "start_time": "2022-04-24T18:25:48.461Z"
   },
   {
    "duration": 8,
    "start_time": "2022-04-24T18:25:48.477Z"
   },
   {
    "duration": 7,
    "start_time": "2022-04-24T18:25:48.486Z"
   },
   {
    "duration": 169,
    "start_time": "2022-04-24T18:25:48.495Z"
   },
   {
    "duration": 8,
    "start_time": "2022-04-24T18:25:48.666Z"
   },
   {
    "duration": 7,
    "start_time": "2022-04-24T18:25:48.677Z"
   },
   {
    "duration": 6,
    "start_time": "2022-04-24T18:25:48.685Z"
   },
   {
    "duration": 266,
    "start_time": "2022-04-24T18:25:48.693Z"
   },
   {
    "duration": 10,
    "start_time": "2022-04-24T18:25:48.961Z"
   },
   {
    "duration": 6,
    "start_time": "2022-04-24T18:25:48.973Z"
   },
   {
    "duration": 6,
    "start_time": "2022-04-24T18:25:48.981Z"
   },
   {
    "duration": 150,
    "start_time": "2022-04-24T18:25:48.989Z"
   },
   {
    "duration": 12,
    "start_time": "2022-04-24T18:25:49.141Z"
   },
   {
    "duration": 16,
    "start_time": "2022-04-24T18:25:49.155Z"
   },
   {
    "duration": 6,
    "start_time": "2022-04-24T18:25:49.173Z"
   },
   {
    "duration": 321,
    "start_time": "2022-04-24T18:25:49.180Z"
   },
   {
    "duration": 239,
    "start_time": "2022-04-24T18:25:49.503Z"
   },
   {
    "duration": 12,
    "start_time": "2022-04-24T18:25:49.744Z"
   },
   {
    "duration": 17,
    "start_time": "2022-04-24T18:25:49.758Z"
   },
   {
    "duration": 12,
    "start_time": "2022-04-24T18:25:49.777Z"
   },
   {
    "duration": 219,
    "start_time": "2022-04-24T18:25:49.790Z"
   },
   {
    "duration": 15,
    "start_time": "2022-04-24T18:25:50.010Z"
   },
   {
    "duration": 5,
    "start_time": "2022-04-24T18:25:50.029Z"
   },
   {
    "duration": 123,
    "start_time": "2022-04-24T18:25:50.036Z"
   },
   {
    "duration": 107,
    "start_time": "2022-04-24T18:25:50.161Z"
   },
   {
    "duration": 120,
    "start_time": "2022-04-24T18:25:50.270Z"
   },
   {
    "duration": 112,
    "start_time": "2022-04-24T18:25:50.395Z"
   },
   {
    "duration": 107,
    "start_time": "2022-04-24T18:25:50.509Z"
   },
   {
    "duration": 52,
    "start_time": "2022-04-24T18:25:50.623Z"
   },
   {
    "duration": 11,
    "start_time": "2022-04-24T18:25:50.677Z"
   },
   {
    "duration": 7,
    "start_time": "2022-04-24T18:25:50.690Z"
   },
   {
    "duration": 36,
    "start_time": "2022-04-24T18:25:50.699Z"
   },
   {
    "duration": 16,
    "start_time": "2022-04-24T18:25:50.740Z"
   },
   {
    "duration": 64,
    "start_time": "2022-04-24T18:25:50.757Z"
   },
   {
    "duration": 13,
    "start_time": "2022-04-24T18:25:50.823Z"
   },
   {
    "duration": 28,
    "start_time": "2022-04-24T18:25:50.838Z"
   },
   {
    "duration": 5,
    "start_time": "2022-04-24T18:25:50.868Z"
   },
   {
    "duration": 6,
    "start_time": "2022-04-24T18:25:50.874Z"
   },
   {
    "duration": 9,
    "start_time": "2022-04-24T18:25:50.882Z"
   },
   {
    "duration": 23,
    "start_time": "2022-04-24T18:25:50.893Z"
   },
   {
    "duration": 19,
    "start_time": "2022-04-24T18:25:50.917Z"
   },
   {
    "duration": 45,
    "start_time": "2022-04-24T18:25:50.938Z"
   },
   {
    "duration": 88,
    "start_time": "2022-04-24T18:25:50.984Z"
   },
   {
    "duration": 6,
    "start_time": "2022-04-24T18:25:51.073Z"
   },
   {
    "duration": 18,
    "start_time": "2022-04-24T18:25:51.080Z"
   },
   {
    "duration": 9,
    "start_time": "2022-04-24T18:25:51.099Z"
   },
   {
    "duration": 24,
    "start_time": "2022-04-24T18:25:51.109Z"
   },
   {
    "duration": 59,
    "start_time": "2022-04-24T18:25:51.137Z"
   },
   {
    "duration": 7,
    "start_time": "2022-04-24T18:25:51.198Z"
   },
   {
    "duration": 36,
    "start_time": "2022-04-24T18:25:51.207Z"
   },
   {
    "duration": 49,
    "start_time": "2022-04-24T18:25:51.244Z"
   },
   {
    "duration": 366,
    "start_time": "2022-04-24T18:25:51.295Z"
   },
   {
    "duration": 29,
    "start_time": "2022-04-24T18:25:51.663Z"
   },
   {
    "duration": 16,
    "start_time": "2022-04-24T18:25:51.694Z"
   },
   {
    "duration": 25,
    "start_time": "2022-04-24T18:25:51.712Z"
   },
   {
    "duration": 31,
    "start_time": "2022-04-24T18:25:51.738Z"
   },
   {
    "duration": 119,
    "start_time": "2022-04-24T18:25:51.771Z"
   },
   {
    "duration": 157,
    "start_time": "2022-04-24T18:25:51.892Z"
   },
   {
    "duration": 10,
    "start_time": "2022-04-24T18:25:52.050Z"
   },
   {
    "duration": 17,
    "start_time": "2022-04-24T18:25:52.061Z"
   },
   {
    "duration": 8,
    "start_time": "2022-04-24T18:25:52.079Z"
   },
   {
    "duration": 151,
    "start_time": "2022-04-24T18:25:52.088Z"
   },
   {
    "duration": 154,
    "start_time": "2022-04-24T18:25:52.241Z"
   },
   {
    "duration": 8,
    "start_time": "2022-04-24T18:25:52.397Z"
   },
   {
    "duration": 27,
    "start_time": "2022-04-24T18:25:52.407Z"
   },
   {
    "duration": 36,
    "start_time": "2022-04-24T18:25:52.436Z"
   },
   {
    "duration": 144,
    "start_time": "2022-04-24T18:25:52.474Z"
   },
   {
    "duration": 156,
    "start_time": "2022-04-24T18:25:52.620Z"
   },
   {
    "duration": 8,
    "start_time": "2022-04-24T18:25:52.777Z"
   },
   {
    "duration": 9,
    "start_time": "2022-04-24T18:25:52.786Z"
   },
   {
    "duration": 6,
    "start_time": "2022-04-24T18:25:52.797Z"
   },
   {
    "duration": 157,
    "start_time": "2022-04-24T18:25:52.805Z"
   },
   {
    "duration": 254,
    "start_time": "2022-04-24T18:25:52.964Z"
   },
   {
    "duration": 3,
    "start_time": "2022-04-24T18:29:04.050Z"
   },
   {
    "duration": 82,
    "start_time": "2022-04-24T18:29:04.056Z"
   },
   {
    "duration": 25,
    "start_time": "2022-04-24T18:29:04.140Z"
   },
   {
    "duration": 16,
    "start_time": "2022-04-24T18:29:04.166Z"
   },
   {
    "duration": 9,
    "start_time": "2022-04-24T18:29:04.184Z"
   },
   {
    "duration": 51,
    "start_time": "2022-04-24T18:29:04.194Z"
   },
   {
    "duration": 20,
    "start_time": "2022-04-24T18:29:04.247Z"
   },
   {
    "duration": 8,
    "start_time": "2022-04-24T18:29:04.269Z"
   },
   {
    "duration": 10,
    "start_time": "2022-04-24T18:29:04.279Z"
   },
   {
    "duration": 6,
    "start_time": "2022-04-24T18:29:04.291Z"
   },
   {
    "duration": 12,
    "start_time": "2022-04-24T18:29:04.300Z"
   },
   {
    "duration": 11,
    "start_time": "2022-04-24T18:29:04.325Z"
   },
   {
    "duration": 20,
    "start_time": "2022-04-24T18:29:04.338Z"
   },
   {
    "duration": 15,
    "start_time": "2022-04-24T18:29:04.361Z"
   },
   {
    "duration": 32,
    "start_time": "2022-04-24T18:29:04.378Z"
   },
   {
    "duration": 14,
    "start_time": "2022-04-24T18:29:04.411Z"
   },
   {
    "duration": 14,
    "start_time": "2022-04-24T18:29:04.428Z"
   },
   {
    "duration": 24,
    "start_time": "2022-04-24T18:29:04.444Z"
   },
   {
    "duration": 20,
    "start_time": "2022-04-24T18:29:04.470Z"
   },
   {
    "duration": 12,
    "start_time": "2022-04-24T18:29:04.492Z"
   },
   {
    "duration": 25,
    "start_time": "2022-04-24T18:29:04.506Z"
   },
   {
    "duration": 14,
    "start_time": "2022-04-24T18:29:04.535Z"
   },
   {
    "duration": 26,
    "start_time": "2022-04-24T18:29:04.551Z"
   },
   {
    "duration": 5,
    "start_time": "2022-04-24T18:29:04.580Z"
   },
   {
    "duration": 7,
    "start_time": "2022-04-24T18:29:04.587Z"
   },
   {
    "duration": 8,
    "start_time": "2022-04-24T18:29:04.596Z"
   },
   {
    "duration": 26,
    "start_time": "2022-04-24T18:29:04.605Z"
   },
   {
    "duration": 10,
    "start_time": "2022-04-24T18:29:04.632Z"
   },
   {
    "duration": 17,
    "start_time": "2022-04-24T18:29:04.647Z"
   },
   {
    "duration": 16,
    "start_time": "2022-04-24T18:29:04.666Z"
   },
   {
    "duration": 31,
    "start_time": "2022-04-24T18:29:04.684Z"
   },
   {
    "duration": 41,
    "start_time": "2022-04-24T18:29:04.724Z"
   },
   {
    "duration": 104,
    "start_time": "2022-04-24T18:29:04.767Z"
   },
   {
    "duration": 28,
    "start_time": "2022-04-24T18:29:04.873Z"
   },
   {
    "duration": 38,
    "start_time": "2022-04-24T18:29:04.903Z"
   },
   {
    "duration": 25,
    "start_time": "2022-04-24T18:29:04.945Z"
   },
   {
    "duration": 5,
    "start_time": "2022-04-24T18:29:04.972Z"
   },
   {
    "duration": 124,
    "start_time": "2022-04-24T18:29:04.978Z"
   },
   {
    "duration": 8,
    "start_time": "2022-04-24T18:29:05.103Z"
   },
   {
    "duration": 24,
    "start_time": "2022-04-24T18:29:05.112Z"
   },
   {
    "duration": 11,
    "start_time": "2022-04-24T18:29:05.138Z"
   },
   {
    "duration": 353,
    "start_time": "2022-04-24T18:29:05.151Z"
   },
   {
    "duration": 9,
    "start_time": "2022-04-24T18:29:05.506Z"
   },
   {
    "duration": 6,
    "start_time": "2022-04-24T18:29:05.524Z"
   },
   {
    "duration": 31,
    "start_time": "2022-04-24T18:29:05.532Z"
   },
   {
    "duration": 130,
    "start_time": "2022-04-24T18:29:05.565Z"
   },
   {
    "duration": 9,
    "start_time": "2022-04-24T18:29:05.696Z"
   },
   {
    "duration": 26,
    "start_time": "2022-04-24T18:29:05.707Z"
   },
   {
    "duration": 22,
    "start_time": "2022-04-24T18:29:05.738Z"
   },
   {
    "duration": 318,
    "start_time": "2022-04-24T18:29:05.762Z"
   },
   {
    "duration": 394,
    "start_time": "2022-04-24T18:29:06.082Z"
   },
   {
    "duration": 11,
    "start_time": "2022-04-24T18:29:06.479Z"
   },
   {
    "duration": 8,
    "start_time": "2022-04-24T18:29:06.493Z"
   },
   {
    "duration": 42,
    "start_time": "2022-04-24T18:29:06.503Z"
   },
   {
    "duration": 221,
    "start_time": "2022-04-24T18:29:06.548Z"
   },
   {
    "duration": 4,
    "start_time": "2022-04-24T18:29:06.771Z"
   },
   {
    "duration": 7,
    "start_time": "2022-04-24T18:29:06.776Z"
   },
   {
    "duration": 113,
    "start_time": "2022-04-24T18:29:06.784Z"
   },
   {
    "duration": 104,
    "start_time": "2022-04-24T18:29:06.899Z"
   },
   {
    "duration": 108,
    "start_time": "2022-04-24T18:29:07.004Z"
   },
   {
    "duration": 294,
    "start_time": "2022-04-24T18:29:07.113Z"
   },
   {
    "duration": 147,
    "start_time": "2022-04-24T18:29:07.409Z"
   },
   {
    "duration": 42,
    "start_time": "2022-04-24T18:29:07.558Z"
   },
   {
    "duration": 28,
    "start_time": "2022-04-24T18:29:07.601Z"
   },
   {
    "duration": 6,
    "start_time": "2022-04-24T18:29:07.634Z"
   },
   {
    "duration": 21,
    "start_time": "2022-04-24T18:29:07.642Z"
   },
   {
    "duration": 6,
    "start_time": "2022-04-24T18:29:07.664Z"
   },
   {
    "duration": 60,
    "start_time": "2022-04-24T18:29:07.672Z"
   },
   {
    "duration": 12,
    "start_time": "2022-04-24T18:29:07.733Z"
   },
   {
    "duration": 20,
    "start_time": "2022-04-24T18:29:07.747Z"
   },
   {
    "duration": 6,
    "start_time": "2022-04-24T18:29:07.768Z"
   },
   {
    "duration": 6,
    "start_time": "2022-04-24T18:29:07.779Z"
   },
   {
    "duration": 5,
    "start_time": "2022-04-24T18:29:07.786Z"
   },
   {
    "duration": 47,
    "start_time": "2022-04-24T18:29:07.792Z"
   },
   {
    "duration": 14,
    "start_time": "2022-04-24T18:29:07.841Z"
   },
   {
    "duration": 29,
    "start_time": "2022-04-24T18:29:07.856Z"
   },
   {
    "duration": 87,
    "start_time": "2022-04-24T18:29:07.886Z"
   },
   {
    "duration": 4,
    "start_time": "2022-04-24T18:29:07.975Z"
   },
   {
    "duration": 15,
    "start_time": "2022-04-24T18:29:07.981Z"
   },
   {
    "duration": 5,
    "start_time": "2022-04-24T18:29:07.998Z"
   },
   {
    "duration": 9,
    "start_time": "2022-04-24T18:29:08.028Z"
   },
   {
    "duration": 45,
    "start_time": "2022-04-24T18:29:08.038Z"
   },
   {
    "duration": 5,
    "start_time": "2022-04-24T18:29:08.085Z"
   },
   {
    "duration": 28,
    "start_time": "2022-04-24T18:29:08.092Z"
   },
   {
    "duration": 52,
    "start_time": "2022-04-24T18:29:08.125Z"
   },
   {
    "duration": 228,
    "start_time": "2022-04-24T18:29:08.178Z"
   },
   {
    "duration": 40,
    "start_time": "2022-04-24T18:29:08.407Z"
   },
   {
    "duration": 17,
    "start_time": "2022-04-24T18:29:08.449Z"
   },
   {
    "duration": 8,
    "start_time": "2022-04-24T18:29:08.467Z"
   },
   {
    "duration": 9,
    "start_time": "2022-04-24T18:29:08.477Z"
   },
   {
    "duration": 123,
    "start_time": "2022-04-24T18:29:08.488Z"
   },
   {
    "duration": 170,
    "start_time": "2022-04-24T18:29:08.612Z"
   },
   {
    "duration": 7,
    "start_time": "2022-04-24T18:29:08.784Z"
   },
   {
    "duration": 8,
    "start_time": "2022-04-24T18:29:08.793Z"
   },
   {
    "duration": 25,
    "start_time": "2022-04-24T18:29:08.802Z"
   },
   {
    "duration": 133,
    "start_time": "2022-04-24T18:29:08.829Z"
   },
   {
    "duration": 154,
    "start_time": "2022-04-24T18:29:08.964Z"
   },
   {
    "duration": 14,
    "start_time": "2022-04-24T18:29:09.119Z"
   },
   {
    "duration": 27,
    "start_time": "2022-04-24T18:29:09.138Z"
   },
   {
    "duration": 6,
    "start_time": "2022-04-24T18:29:09.166Z"
   },
   {
    "duration": 132,
    "start_time": "2022-04-24T18:29:09.174Z"
   },
   {
    "duration": 172,
    "start_time": "2022-04-24T18:29:09.308Z"
   },
   {
    "duration": 8,
    "start_time": "2022-04-24T18:29:09.482Z"
   },
   {
    "duration": 6,
    "start_time": "2022-04-24T18:29:09.492Z"
   },
   {
    "duration": 30,
    "start_time": "2022-04-24T18:29:09.500Z"
   },
   {
    "duration": 144,
    "start_time": "2022-04-24T18:29:09.532Z"
   },
   {
    "duration": 139,
    "start_time": "2022-04-24T18:29:09.677Z"
   },
   {
    "duration": 8,
    "start_time": "2022-04-24T18:45:07.286Z"
   },
   {
    "duration": 4,
    "start_time": "2022-04-24T18:45:15.147Z"
   },
   {
    "duration": 136,
    "start_time": "2022-04-24T18:45:15.153Z"
   },
   {
    "duration": 45,
    "start_time": "2022-04-24T18:45:15.297Z"
   },
   {
    "duration": 42,
    "start_time": "2022-04-24T18:45:15.346Z"
   },
   {
    "duration": 23,
    "start_time": "2022-04-24T18:45:15.391Z"
   },
   {
    "duration": 33,
    "start_time": "2022-04-24T18:45:15.416Z"
   },
   {
    "duration": 51,
    "start_time": "2022-04-24T18:45:15.451Z"
   },
   {
    "duration": 10,
    "start_time": "2022-04-24T18:45:15.504Z"
   },
   {
    "duration": 9,
    "start_time": "2022-04-24T18:45:15.516Z"
   },
   {
    "duration": 38,
    "start_time": "2022-04-24T18:45:15.527Z"
   },
   {
    "duration": 39,
    "start_time": "2022-04-24T18:45:15.568Z"
   },
   {
    "duration": 139,
    "start_time": "2022-04-24T18:45:15.609Z"
   },
   {
    "duration": 54,
    "start_time": "2022-04-24T18:45:15.750Z"
   },
   {
    "duration": 6,
    "start_time": "2022-04-24T18:45:15.806Z"
   },
   {
    "duration": 4,
    "start_time": "2022-04-24T18:45:15.814Z"
   },
   {
    "duration": 54,
    "start_time": "2022-04-24T18:45:15.820Z"
   },
   {
    "duration": 26,
    "start_time": "2022-04-24T18:45:15.878Z"
   },
   {
    "duration": 14,
    "start_time": "2022-04-24T18:45:15.906Z"
   },
   {
    "duration": 42,
    "start_time": "2022-04-24T18:45:15.922Z"
   },
   {
    "duration": 36,
    "start_time": "2022-04-24T18:45:15.966Z"
   },
   {
    "duration": 14,
    "start_time": "2022-04-24T18:45:16.004Z"
   },
   {
    "duration": 19,
    "start_time": "2022-04-24T18:45:16.020Z"
   },
   {
    "duration": 58,
    "start_time": "2022-04-24T18:45:16.042Z"
   },
   {
    "duration": 6,
    "start_time": "2022-04-24T18:45:16.102Z"
   },
   {
    "duration": 7,
    "start_time": "2022-04-24T18:45:16.109Z"
   },
   {
    "duration": 8,
    "start_time": "2022-04-24T18:45:16.117Z"
   },
   {
    "duration": 75,
    "start_time": "2022-04-24T18:45:16.130Z"
   },
   {
    "duration": 26,
    "start_time": "2022-04-24T18:45:16.207Z"
   },
   {
    "duration": 83,
    "start_time": "2022-04-24T18:45:16.238Z"
   },
   {
    "duration": 116,
    "start_time": "2022-04-24T18:45:16.323Z"
   },
   {
    "duration": 31,
    "start_time": "2022-04-24T18:45:16.441Z"
   },
   {
    "duration": 36,
    "start_time": "2022-04-24T18:45:16.475Z"
   },
   {
    "duration": 6,
    "start_time": "2022-04-24T18:45:16.514Z"
   },
   {
    "duration": 11,
    "start_time": "2022-04-24T18:45:16.521Z"
   },
   {
    "duration": 209,
    "start_time": "2022-04-24T18:45:16.534Z"
   },
   {
    "duration": 18,
    "start_time": "2022-04-24T18:45:16.752Z"
   },
   {
    "duration": 35,
    "start_time": "2022-04-24T18:45:16.777Z"
   },
   {
    "duration": 6,
    "start_time": "2022-04-24T18:45:16.814Z"
   },
   {
    "duration": 321,
    "start_time": "2022-04-24T18:45:16.822Z"
   },
   {
    "duration": 21,
    "start_time": "2022-04-24T18:45:17.145Z"
   },
   {
    "duration": 38,
    "start_time": "2022-04-24T18:45:17.168Z"
   },
   {
    "duration": 8,
    "start_time": "2022-04-24T18:45:17.207Z"
   },
   {
    "duration": 153,
    "start_time": "2022-04-24T18:45:17.216Z"
   },
   {
    "duration": 12,
    "start_time": "2022-04-24T18:45:17.370Z"
   },
   {
    "duration": 24,
    "start_time": "2022-04-24T18:45:17.384Z"
   },
   {
    "duration": 8,
    "start_time": "2022-04-24T18:45:17.409Z"
   },
   {
    "duration": 364,
    "start_time": "2022-04-24T18:45:17.418Z"
   },
   {
    "duration": 372,
    "start_time": "2022-04-24T18:45:17.785Z"
   },
   {
    "duration": 12,
    "start_time": "2022-04-24T18:45:18.167Z"
   },
   {
    "duration": 29,
    "start_time": "2022-04-24T18:45:18.182Z"
   },
   {
    "duration": 9,
    "start_time": "2022-04-24T18:45:18.213Z"
   },
   {
    "duration": 312,
    "start_time": "2022-04-24T18:45:18.233Z"
   },
   {
    "duration": 9,
    "start_time": "2022-04-24T18:45:18.548Z"
   },
   {
    "duration": 44,
    "start_time": "2022-04-24T18:45:18.559Z"
   },
   {
    "duration": 259,
    "start_time": "2022-04-24T18:45:18.604Z"
   },
   {
    "duration": 126,
    "start_time": "2022-04-24T18:45:18.872Z"
   },
   {
    "duration": 131,
    "start_time": "2022-04-24T18:45:19.000Z"
   },
   {
    "duration": 119,
    "start_time": "2022-04-24T18:45:19.133Z"
   },
   {
    "duration": 144,
    "start_time": "2022-04-24T18:45:19.255Z"
   },
   {
    "duration": 79,
    "start_time": "2022-04-24T18:45:19.404Z"
   },
   {
    "duration": 17,
    "start_time": "2022-04-24T18:45:19.486Z"
   },
   {
    "duration": 18,
    "start_time": "2022-04-24T18:45:19.505Z"
   },
   {
    "duration": 73,
    "start_time": "2022-04-24T18:45:19.525Z"
   },
   {
    "duration": 8,
    "start_time": "2022-04-24T18:45:19.600Z"
   },
   {
    "duration": 92,
    "start_time": "2022-04-24T18:45:19.610Z"
   },
   {
    "duration": 10,
    "start_time": "2022-04-24T18:45:19.704Z"
   },
   {
    "duration": 14,
    "start_time": "2022-04-24T18:45:19.716Z"
   },
   {
    "duration": 70,
    "start_time": "2022-04-24T18:45:19.732Z"
   },
   {
    "duration": 7,
    "start_time": "2022-04-24T18:45:19.804Z"
   },
   {
    "duration": 5,
    "start_time": "2022-04-24T18:45:19.812Z"
   },
   {
    "duration": 43,
    "start_time": "2022-04-24T18:45:19.819Z"
   },
   {
    "duration": 22,
    "start_time": "2022-04-24T18:45:19.865Z"
   },
   {
    "duration": 62,
    "start_time": "2022-04-24T18:45:19.892Z"
   },
   {
    "duration": 153,
    "start_time": "2022-04-24T18:45:19.955Z"
   },
   {
    "duration": 5,
    "start_time": "2022-04-24T18:45:20.110Z"
   },
   {
    "duration": 45,
    "start_time": "2022-04-24T18:45:20.123Z"
   },
   {
    "duration": 37,
    "start_time": "2022-04-24T18:45:20.169Z"
   },
   {
    "duration": 8,
    "start_time": "2022-04-24T18:45:20.208Z"
   },
   {
    "duration": 57,
    "start_time": "2022-04-24T18:45:20.218Z"
   },
   {
    "duration": 18,
    "start_time": "2022-04-24T18:45:20.282Z"
   },
   {
    "duration": 46,
    "start_time": "2022-04-24T18:45:20.302Z"
   },
   {
    "duration": 70,
    "start_time": "2022-04-24T18:45:20.352Z"
   },
   {
    "duration": 295,
    "start_time": "2022-04-24T18:45:20.435Z"
   },
   {
    "duration": 67,
    "start_time": "2022-04-24T18:45:20.732Z"
   },
   {
    "duration": 19,
    "start_time": "2022-04-24T18:45:20.801Z"
   },
   {
    "duration": 13,
    "start_time": "2022-04-24T18:45:20.823Z"
   },
   {
    "duration": 63,
    "start_time": "2022-04-24T18:45:20.838Z"
   },
   {
    "duration": 150,
    "start_time": "2022-04-24T18:45:20.903Z"
   },
   {
    "duration": 179,
    "start_time": "2022-04-24T18:45:21.061Z"
   },
   {
    "duration": 8,
    "start_time": "2022-04-24T18:45:21.242Z"
   },
   {
    "duration": 61,
    "start_time": "2022-04-24T18:45:21.252Z"
   },
   {
    "duration": 28,
    "start_time": "2022-04-24T18:45:21.315Z"
   },
   {
    "duration": 210,
    "start_time": "2022-04-24T18:45:21.346Z"
   },
   {
    "duration": 175,
    "start_time": "2022-04-24T18:45:21.561Z"
   },
   {
    "duration": 7,
    "start_time": "2022-04-24T18:45:21.738Z"
   },
   {
    "duration": 59,
    "start_time": "2022-04-24T18:45:21.747Z"
   },
   {
    "duration": 43,
    "start_time": "2022-04-24T18:45:21.809Z"
   },
   {
    "duration": 196,
    "start_time": "2022-04-24T18:45:21.854Z"
   },
   {
    "duration": 159,
    "start_time": "2022-04-24T18:45:22.053Z"
   },
   {
    "duration": 28,
    "start_time": "2022-04-24T18:45:22.214Z"
   },
   {
    "duration": 62,
    "start_time": "2022-04-24T18:45:22.244Z"
   },
   {
    "duration": 6,
    "start_time": "2022-04-24T18:45:22.308Z"
   },
   {
    "duration": 186,
    "start_time": "2022-04-24T18:45:22.316Z"
   },
   {
    "duration": 292,
    "start_time": "2022-04-24T18:45:22.504Z"
   },
   {
    "duration": 6,
    "start_time": "2022-04-24T18:48:06.385Z"
   },
   {
    "duration": 15,
    "start_time": "2022-04-24T18:48:09.326Z"
   },
   {
    "duration": 6,
    "start_time": "2022-04-24T18:48:11.310Z"
   },
   {
    "duration": 27,
    "start_time": "2022-04-24T18:48:12.817Z"
   },
   {
    "duration": 192,
    "start_time": "2022-04-24T18:52:19.908Z"
   },
   {
    "duration": 4,
    "start_time": "2022-04-24T18:54:28.455Z"
   },
   {
    "duration": 116,
    "start_time": "2022-04-24T18:54:28.461Z"
   },
   {
    "duration": 33,
    "start_time": "2022-04-24T18:54:28.581Z"
   },
   {
    "duration": 26,
    "start_time": "2022-04-24T18:54:28.617Z"
   },
   {
    "duration": 52,
    "start_time": "2022-04-24T18:54:28.647Z"
   },
   {
    "duration": 16,
    "start_time": "2022-04-24T18:54:28.701Z"
   },
   {
    "duration": 13,
    "start_time": "2022-04-24T18:54:28.719Z"
   },
   {
    "duration": 53,
    "start_time": "2022-04-24T18:54:28.735Z"
   },
   {
    "duration": 8,
    "start_time": "2022-04-24T18:54:28.792Z"
   },
   {
    "duration": 6,
    "start_time": "2022-04-24T18:54:28.802Z"
   },
   {
    "duration": 30,
    "start_time": "2022-04-24T18:54:28.810Z"
   },
   {
    "duration": 54,
    "start_time": "2022-04-24T18:54:28.848Z"
   },
   {
    "duration": 3,
    "start_time": "2022-04-24T18:54:28.905Z"
   },
   {
    "duration": 24,
    "start_time": "2022-04-24T18:54:28.910Z"
   },
   {
    "duration": 59,
    "start_time": "2022-04-24T18:54:28.936Z"
   },
   {
    "duration": 7,
    "start_time": "2022-04-24T18:54:28.997Z"
   },
   {
    "duration": 16,
    "start_time": "2022-04-24T18:54:29.006Z"
   },
   {
    "duration": 54,
    "start_time": "2022-04-24T18:54:29.034Z"
   },
   {
    "duration": 12,
    "start_time": "2022-04-24T18:54:29.090Z"
   },
   {
    "duration": 17,
    "start_time": "2022-04-24T18:54:29.105Z"
   },
   {
    "duration": 30,
    "start_time": "2022-04-24T18:54:29.125Z"
   },
   {
    "duration": 35,
    "start_time": "2022-04-24T18:54:29.158Z"
   },
   {
    "duration": 14,
    "start_time": "2022-04-24T18:54:29.195Z"
   },
   {
    "duration": 10,
    "start_time": "2022-04-24T18:54:29.213Z"
   },
   {
    "duration": 64,
    "start_time": "2022-04-24T18:54:29.224Z"
   },
   {
    "duration": 18,
    "start_time": "2022-04-24T18:54:29.289Z"
   },
   {
    "duration": 30,
    "start_time": "2022-04-24T18:54:29.309Z"
   },
   {
    "duration": 62,
    "start_time": "2022-04-24T18:54:29.341Z"
   },
   {
    "duration": 32,
    "start_time": "2022-04-24T18:54:29.405Z"
   },
   {
    "duration": 106,
    "start_time": "2022-04-24T18:54:29.441Z"
   },
   {
    "duration": 34,
    "start_time": "2022-04-24T18:54:29.548Z"
   },
   {
    "duration": 13,
    "start_time": "2022-04-24T18:54:29.584Z"
   },
   {
    "duration": 5,
    "start_time": "2022-04-24T18:54:29.599Z"
   },
   {
    "duration": 21,
    "start_time": "2022-04-24T18:54:29.606Z"
   },
   {
    "duration": 152,
    "start_time": "2022-04-24T18:54:29.632Z"
   },
   {
    "duration": 10,
    "start_time": "2022-04-24T18:54:29.786Z"
   },
   {
    "duration": 6,
    "start_time": "2022-04-24T18:54:29.798Z"
   },
   {
    "duration": 27,
    "start_time": "2022-04-24T18:54:29.805Z"
   },
   {
    "duration": 262,
    "start_time": "2022-04-24T18:54:29.834Z"
   },
   {
    "duration": 8,
    "start_time": "2022-04-24T18:54:30.097Z"
   },
   {
    "duration": 33,
    "start_time": "2022-04-24T18:54:30.107Z"
   },
   {
    "duration": 46,
    "start_time": "2022-04-24T18:54:30.142Z"
   },
   {
    "duration": 153,
    "start_time": "2022-04-24T18:54:30.190Z"
   },
   {
    "duration": 19,
    "start_time": "2022-04-24T18:54:30.347Z"
   },
   {
    "duration": 30,
    "start_time": "2022-04-24T18:54:30.370Z"
   },
   {
    "duration": 9,
    "start_time": "2022-04-24T18:54:30.403Z"
   },
   {
    "duration": 279,
    "start_time": "2022-04-24T18:54:30.414Z"
   },
   {
    "duration": 263,
    "start_time": "2022-04-24T18:54:30.695Z"
   },
   {
    "duration": 25,
    "start_time": "2022-04-24T18:54:30.960Z"
   },
   {
    "duration": 34,
    "start_time": "2022-04-24T18:54:30.987Z"
   },
   {
    "duration": 73,
    "start_time": "2022-04-24T18:54:31.024Z"
   },
   {
    "duration": 553,
    "start_time": "2022-04-24T18:54:31.098Z"
   },
   {
    "duration": 17,
    "start_time": "2022-04-24T18:54:31.657Z"
   },
   {
    "duration": 28,
    "start_time": "2022-04-24T18:54:31.682Z"
   },
   {
    "duration": 176,
    "start_time": "2022-04-24T18:54:31.712Z"
   },
   {
    "duration": 120,
    "start_time": "2022-04-24T18:54:31.891Z"
   },
   {
    "duration": 127,
    "start_time": "2022-04-24T18:54:32.013Z"
   },
   {
    "duration": 104,
    "start_time": "2022-04-24T18:54:32.142Z"
   },
   {
    "duration": 113,
    "start_time": "2022-04-24T18:54:32.247Z"
   },
   {
    "duration": 48,
    "start_time": "2022-04-24T18:54:32.361Z"
   },
   {
    "duration": 33,
    "start_time": "2022-04-24T18:54:32.411Z"
   },
   {
    "duration": 51,
    "start_time": "2022-04-24T18:54:32.449Z"
   },
   {
    "duration": 7,
    "start_time": "2022-04-24T18:54:32.502Z"
   },
   {
    "duration": 10,
    "start_time": "2022-04-24T18:54:32.510Z"
   },
   {
    "duration": 119,
    "start_time": "2022-04-24T18:54:32.522Z"
   },
   {
    "duration": 12,
    "start_time": "2022-04-24T18:54:32.645Z"
   },
   {
    "duration": 30,
    "start_time": "2022-04-24T18:54:32.662Z"
   },
   {
    "duration": 5,
    "start_time": "2022-04-24T18:54:32.694Z"
   },
   {
    "duration": 5,
    "start_time": "2022-04-24T18:54:32.705Z"
   },
   {
    "duration": 6,
    "start_time": "2022-04-24T18:54:32.711Z"
   },
   {
    "duration": 16,
    "start_time": "2022-04-24T18:54:32.718Z"
   },
   {
    "duration": 57,
    "start_time": "2022-04-24T18:54:32.735Z"
   },
   {
    "duration": 28,
    "start_time": "2022-04-24T18:54:32.794Z"
   },
   {
    "duration": 122,
    "start_time": "2022-04-24T18:54:32.823Z"
   },
   {
    "duration": 13,
    "start_time": "2022-04-24T18:54:32.947Z"
   },
   {
    "duration": 42,
    "start_time": "2022-04-24T18:54:32.962Z"
   },
   {
    "duration": 6,
    "start_time": "2022-04-24T18:54:33.006Z"
   },
   {
    "duration": 5,
    "start_time": "2022-04-24T18:54:33.014Z"
   },
   {
    "duration": 37,
    "start_time": "2022-04-24T18:54:33.021Z"
   },
   {
    "duration": 35,
    "start_time": "2022-04-24T18:54:33.061Z"
   },
   {
    "duration": 31,
    "start_time": "2022-04-24T18:54:33.097Z"
   },
   {
    "duration": 71,
    "start_time": "2022-04-24T18:54:33.133Z"
   },
   {
    "duration": 393,
    "start_time": "2022-04-24T18:54:33.206Z"
   },
   {
    "duration": 53,
    "start_time": "2022-04-24T18:54:33.601Z"
   },
   {
    "duration": 31,
    "start_time": "2022-04-24T18:54:33.656Z"
   },
   {
    "duration": 8,
    "start_time": "2022-04-24T18:54:33.690Z"
   },
   {
    "duration": 7,
    "start_time": "2022-04-24T18:54:33.700Z"
   },
   {
    "duration": 130,
    "start_time": "2022-04-24T18:54:33.708Z"
   },
   {
    "duration": 165,
    "start_time": "2022-04-24T18:54:33.839Z"
   },
   {
    "duration": 8,
    "start_time": "2022-04-24T18:54:34.005Z"
   },
   {
    "duration": 20,
    "start_time": "2022-04-24T18:54:34.023Z"
   },
   {
    "duration": 46,
    "start_time": "2022-04-24T18:54:34.046Z"
   },
   {
    "duration": 146,
    "start_time": "2022-04-24T18:54:34.093Z"
   },
   {
    "duration": 230,
    "start_time": "2022-04-24T18:54:34.242Z"
   },
   {
    "duration": 9,
    "start_time": "2022-04-24T18:54:34.475Z"
   },
   {
    "duration": 12,
    "start_time": "2022-04-24T18:54:34.486Z"
   },
   {
    "duration": 6,
    "start_time": "2022-04-24T18:54:34.499Z"
   },
   {
    "duration": 163,
    "start_time": "2022-04-24T18:54:34.506Z"
   },
   {
    "duration": 210,
    "start_time": "2022-04-24T18:54:34.673Z"
   },
   {
    "duration": 8,
    "start_time": "2022-04-24T18:54:34.888Z"
   },
   {
    "duration": 8,
    "start_time": "2022-04-24T18:54:34.897Z"
   },
   {
    "duration": 5,
    "start_time": "2022-04-24T18:54:34.906Z"
   },
   {
    "duration": 259,
    "start_time": "2022-04-24T18:54:34.928Z"
   },
   {
    "duration": 221,
    "start_time": "2022-04-24T18:54:35.190Z"
   },
   {
    "duration": 273,
    "start_time": "2022-04-24T19:05:28.145Z"
   },
   {
    "duration": 330,
    "start_time": "2022-04-24T19:06:11.205Z"
   },
   {
    "duration": 3,
    "start_time": "2022-04-24T19:10:27.192Z"
   },
   {
    "duration": 112,
    "start_time": "2022-04-24T19:10:27.197Z"
   },
   {
    "duration": 55,
    "start_time": "2022-04-24T19:10:27.312Z"
   },
   {
    "duration": 27,
    "start_time": "2022-04-24T19:10:27.369Z"
   },
   {
    "duration": 13,
    "start_time": "2022-04-24T19:10:27.399Z"
   },
   {
    "duration": 21,
    "start_time": "2022-04-24T19:10:27.414Z"
   },
   {
    "duration": 39,
    "start_time": "2022-04-24T19:10:27.437Z"
   },
   {
    "duration": 10,
    "start_time": "2022-04-24T19:10:27.477Z"
   },
   {
    "duration": 7,
    "start_time": "2022-04-24T19:10:27.488Z"
   },
   {
    "duration": 4,
    "start_time": "2022-04-24T19:10:27.497Z"
   },
   {
    "duration": 7,
    "start_time": "2022-04-24T19:10:27.503Z"
   },
   {
    "duration": 6,
    "start_time": "2022-04-24T19:10:27.512Z"
   },
   {
    "duration": 8,
    "start_time": "2022-04-24T19:10:27.520Z"
   },
   {
    "duration": 50,
    "start_time": "2022-04-24T19:10:27.533Z"
   },
   {
    "duration": 13,
    "start_time": "2022-04-24T19:10:27.585Z"
   },
   {
    "duration": 12,
    "start_time": "2022-04-24T19:10:27.600Z"
   },
   {
    "duration": 13,
    "start_time": "2022-04-24T19:10:27.614Z"
   },
   {
    "duration": 55,
    "start_time": "2022-04-24T19:10:27.630Z"
   },
   {
    "duration": 8,
    "start_time": "2022-04-24T19:10:27.687Z"
   },
   {
    "duration": 7,
    "start_time": "2022-04-24T19:10:27.696Z"
   },
   {
    "duration": 11,
    "start_time": "2022-04-24T19:10:27.705Z"
   },
   {
    "duration": 8,
    "start_time": "2022-04-24T19:10:27.718Z"
   },
   {
    "duration": 44,
    "start_time": "2022-04-24T19:10:27.734Z"
   },
   {
    "duration": 11,
    "start_time": "2022-04-24T19:10:27.780Z"
   },
   {
    "duration": 8,
    "start_time": "2022-04-24T19:10:27.793Z"
   },
   {
    "duration": 8,
    "start_time": "2022-04-24T19:10:27.804Z"
   },
   {
    "duration": 19,
    "start_time": "2022-04-24T19:10:27.815Z"
   },
   {
    "duration": 59,
    "start_time": "2022-04-24T19:10:27.837Z"
   },
   {
    "duration": 29,
    "start_time": "2022-04-24T19:10:27.901Z"
   },
   {
    "duration": 147,
    "start_time": "2022-04-24T19:10:27.932Z"
   },
   {
    "duration": 63,
    "start_time": "2022-04-24T19:10:28.081Z"
   },
   {
    "duration": 12,
    "start_time": "2022-04-24T19:10:28.150Z"
   },
   {
    "duration": 14,
    "start_time": "2022-04-24T19:10:28.165Z"
   },
   {
    "duration": 5,
    "start_time": "2022-04-24T19:10:28.181Z"
   },
   {
    "duration": 284,
    "start_time": "2022-04-24T19:10:28.187Z"
   },
   {
    "duration": 161,
    "start_time": "2022-04-24T19:10:28.473Z"
   },
   {
    "duration": 0,
    "start_time": "2022-04-24T19:10:28.636Z"
   },
   {
    "duration": 0,
    "start_time": "2022-04-24T19:10:28.637Z"
   },
   {
    "duration": 0,
    "start_time": "2022-04-24T19:10:28.638Z"
   },
   {
    "duration": 0,
    "start_time": "2022-04-24T19:10:28.639Z"
   },
   {
    "duration": 0,
    "start_time": "2022-04-24T19:10:28.640Z"
   },
   {
    "duration": 0,
    "start_time": "2022-04-24T19:10:28.644Z"
   },
   {
    "duration": 0,
    "start_time": "2022-04-24T19:10:28.645Z"
   },
   {
    "duration": 0,
    "start_time": "2022-04-24T19:10:28.647Z"
   },
   {
    "duration": 0,
    "start_time": "2022-04-24T19:10:28.648Z"
   },
   {
    "duration": 0,
    "start_time": "2022-04-24T19:10:28.649Z"
   },
   {
    "duration": 0,
    "start_time": "2022-04-24T19:10:28.650Z"
   },
   {
    "duration": 0,
    "start_time": "2022-04-24T19:10:28.651Z"
   },
   {
    "duration": 0,
    "start_time": "2022-04-24T19:10:28.652Z"
   },
   {
    "duration": 0,
    "start_time": "2022-04-24T19:10:28.653Z"
   },
   {
    "duration": 0,
    "start_time": "2022-04-24T19:10:28.654Z"
   },
   {
    "duration": 0,
    "start_time": "2022-04-24T19:10:28.655Z"
   },
   {
    "duration": 0,
    "start_time": "2022-04-24T19:10:28.657Z"
   },
   {
    "duration": 0,
    "start_time": "2022-04-24T19:10:28.659Z"
   },
   {
    "duration": 0,
    "start_time": "2022-04-24T19:10:28.660Z"
   },
   {
    "duration": 0,
    "start_time": "2022-04-24T19:10:28.661Z"
   },
   {
    "duration": 0,
    "start_time": "2022-04-24T19:10:28.662Z"
   },
   {
    "duration": 0,
    "start_time": "2022-04-24T19:10:28.664Z"
   },
   {
    "duration": 0,
    "start_time": "2022-04-24T19:10:28.665Z"
   },
   {
    "duration": 0,
    "start_time": "2022-04-24T19:10:28.666Z"
   },
   {
    "duration": 0,
    "start_time": "2022-04-24T19:10:28.667Z"
   },
   {
    "duration": 0,
    "start_time": "2022-04-24T19:10:28.668Z"
   },
   {
    "duration": 0,
    "start_time": "2022-04-24T19:10:28.669Z"
   },
   {
    "duration": 0,
    "start_time": "2022-04-24T19:10:28.671Z"
   },
   {
    "duration": 0,
    "start_time": "2022-04-24T19:10:28.672Z"
   },
   {
    "duration": 0,
    "start_time": "2022-04-24T19:10:28.673Z"
   },
   {
    "duration": 0,
    "start_time": "2022-04-24T19:10:28.674Z"
   },
   {
    "duration": 0,
    "start_time": "2022-04-24T19:10:28.676Z"
   },
   {
    "duration": 0,
    "start_time": "2022-04-24T19:10:28.677Z"
   },
   {
    "duration": 0,
    "start_time": "2022-04-24T19:10:28.678Z"
   },
   {
    "duration": 0,
    "start_time": "2022-04-24T19:10:28.680Z"
   },
   {
    "duration": 0,
    "start_time": "2022-04-24T19:10:28.682Z"
   },
   {
    "duration": 0,
    "start_time": "2022-04-24T19:10:28.683Z"
   },
   {
    "duration": 0,
    "start_time": "2022-04-24T19:10:28.684Z"
   },
   {
    "duration": 0,
    "start_time": "2022-04-24T19:10:28.685Z"
   },
   {
    "duration": 0,
    "start_time": "2022-04-24T19:10:28.687Z"
   },
   {
    "duration": 0,
    "start_time": "2022-04-24T19:10:28.724Z"
   },
   {
    "duration": 0,
    "start_time": "2022-04-24T19:10:28.725Z"
   },
   {
    "duration": 0,
    "start_time": "2022-04-24T19:10:28.726Z"
   },
   {
    "duration": 0,
    "start_time": "2022-04-24T19:10:28.726Z"
   },
   {
    "duration": 0,
    "start_time": "2022-04-24T19:10:28.727Z"
   },
   {
    "duration": 0,
    "start_time": "2022-04-24T19:10:28.728Z"
   },
   {
    "duration": 0,
    "start_time": "2022-04-24T19:10:28.736Z"
   },
   {
    "duration": 0,
    "start_time": "2022-04-24T19:10:28.737Z"
   },
   {
    "duration": 0,
    "start_time": "2022-04-24T19:10:28.739Z"
   },
   {
    "duration": 0,
    "start_time": "2022-04-24T19:10:28.740Z"
   },
   {
    "duration": 0,
    "start_time": "2022-04-24T19:10:28.740Z"
   },
   {
    "duration": 0,
    "start_time": "2022-04-24T19:10:28.741Z"
   },
   {
    "duration": 0,
    "start_time": "2022-04-24T19:10:28.744Z"
   },
   {
    "duration": 0,
    "start_time": "2022-04-24T19:10:28.745Z"
   },
   {
    "duration": 0,
    "start_time": "2022-04-24T19:10:28.746Z"
   },
   {
    "duration": 0,
    "start_time": "2022-04-24T19:10:28.747Z"
   },
   {
    "duration": 0,
    "start_time": "2022-04-24T19:10:28.747Z"
   },
   {
    "duration": 0,
    "start_time": "2022-04-24T19:10:28.748Z"
   },
   {
    "duration": 0,
    "start_time": "2022-04-24T19:10:28.749Z"
   },
   {
    "duration": 0,
    "start_time": "2022-04-24T19:10:28.750Z"
   },
   {
    "duration": 0,
    "start_time": "2022-04-24T19:10:28.751Z"
   },
   {
    "duration": 0,
    "start_time": "2022-04-24T19:10:28.752Z"
   },
   {
    "duration": 0,
    "start_time": "2022-04-24T19:10:28.753Z"
   },
   {
    "duration": 0,
    "start_time": "2022-04-24T19:10:28.754Z"
   },
   {
    "duration": 0,
    "start_time": "2022-04-24T19:10:28.755Z"
   },
   {
    "duration": 0,
    "start_time": "2022-04-24T19:10:28.756Z"
   },
   {
    "duration": 0,
    "start_time": "2022-04-24T19:10:28.757Z"
   },
   {
    "duration": 0,
    "start_time": "2022-04-24T19:10:28.758Z"
   },
   {
    "duration": 0,
    "start_time": "2022-04-24T19:10:28.758Z"
   },
   {
    "duration": 0,
    "start_time": "2022-04-24T19:10:28.759Z"
   },
   {
    "duration": 6,
    "start_time": "2022-04-24T19:11:24.357Z"
   },
   {
    "duration": 807,
    "start_time": "2022-04-24T19:11:24.486Z"
   },
   {
    "duration": 5,
    "start_time": "2022-04-24T19:12:42.517Z"
   },
   {
    "duration": 1436,
    "start_time": "2022-04-24T19:12:47.561Z"
   },
   {
    "duration": 3,
    "start_time": "2022-04-24T19:13:49.236Z"
   },
   {
    "duration": 87,
    "start_time": "2022-04-24T19:13:49.252Z"
   },
   {
    "duration": 31,
    "start_time": "2022-04-24T19:13:49.344Z"
   },
   {
    "duration": 14,
    "start_time": "2022-04-24T19:13:49.376Z"
   },
   {
    "duration": 9,
    "start_time": "2022-04-24T19:13:49.392Z"
   },
   {
    "duration": 15,
    "start_time": "2022-04-24T19:13:49.439Z"
   },
   {
    "duration": 22,
    "start_time": "2022-04-24T19:13:49.456Z"
   },
   {
    "duration": 8,
    "start_time": "2022-04-24T19:13:49.481Z"
   },
   {
    "duration": 7,
    "start_time": "2022-04-24T19:13:49.492Z"
   },
   {
    "duration": 7,
    "start_time": "2022-04-24T19:13:49.501Z"
   },
   {
    "duration": 11,
    "start_time": "2022-04-24T19:13:49.510Z"
   },
   {
    "duration": 33,
    "start_time": "2022-04-24T19:13:49.528Z"
   },
   {
    "duration": 13,
    "start_time": "2022-04-24T19:13:49.563Z"
   },
   {
    "duration": 7,
    "start_time": "2022-04-24T19:13:49.578Z"
   },
   {
    "duration": 4,
    "start_time": "2022-04-24T19:13:49.589Z"
   },
   {
    "duration": 9,
    "start_time": "2022-04-24T19:13:49.595Z"
   },
   {
    "duration": 6,
    "start_time": "2022-04-24T19:13:49.605Z"
   },
   {
    "duration": 23,
    "start_time": "2022-04-24T19:13:49.613Z"
   },
   {
    "duration": 40,
    "start_time": "2022-04-24T19:13:49.639Z"
   },
   {
    "duration": 7,
    "start_time": "2022-04-24T19:13:49.680Z"
   },
   {
    "duration": 11,
    "start_time": "2022-04-24T19:13:49.688Z"
   },
   {
    "duration": 4,
    "start_time": "2022-04-24T19:13:49.700Z"
   },
   {
    "duration": 7,
    "start_time": "2022-04-24T19:13:49.705Z"
   },
   {
    "duration": 24,
    "start_time": "2022-04-24T19:13:49.714Z"
   },
   {
    "duration": 36,
    "start_time": "2022-04-24T19:13:49.740Z"
   },
   {
    "duration": 7,
    "start_time": "2022-04-24T19:13:49.777Z"
   },
   {
    "duration": 15,
    "start_time": "2022-04-24T19:13:49.786Z"
   },
   {
    "duration": 32,
    "start_time": "2022-04-24T19:13:49.803Z"
   },
   {
    "duration": 72,
    "start_time": "2022-04-24T19:13:49.839Z"
   },
   {
    "duration": 133,
    "start_time": "2022-04-24T19:13:49.913Z"
   },
   {
    "duration": 44,
    "start_time": "2022-04-24T19:13:50.047Z"
   },
   {
    "duration": 10,
    "start_time": "2022-04-24T19:13:50.093Z"
   },
   {
    "duration": 25,
    "start_time": "2022-04-24T19:13:50.104Z"
   },
   {
    "duration": 38,
    "start_time": "2022-04-24T19:13:50.135Z"
   },
   {
    "duration": 239,
    "start_time": "2022-04-24T19:13:50.175Z"
   },
   {
    "duration": 21,
    "start_time": "2022-04-24T19:13:50.416Z"
   },
   {
    "duration": 15,
    "start_time": "2022-04-24T19:13:50.438Z"
   },
   {
    "duration": 24,
    "start_time": "2022-04-24T19:13:50.455Z"
   },
   {
    "duration": 610,
    "start_time": "2022-04-24T19:13:50.481Z"
   },
   {
    "duration": 11,
    "start_time": "2022-04-24T19:13:51.093Z"
   },
   {
    "duration": 29,
    "start_time": "2022-04-24T19:13:51.107Z"
   },
   {
    "duration": 7,
    "start_time": "2022-04-24T19:13:51.150Z"
   },
   {
    "duration": 247,
    "start_time": "2022-04-24T19:13:51.159Z"
   },
   {
    "duration": 27,
    "start_time": "2022-04-24T19:13:51.409Z"
   },
   {
    "duration": 32,
    "start_time": "2022-04-24T19:13:51.439Z"
   },
   {
    "duration": 5,
    "start_time": "2022-04-24T19:13:51.473Z"
   },
   {
    "duration": 225,
    "start_time": "2022-04-24T19:13:51.480Z"
   },
   {
    "duration": 242,
    "start_time": "2022-04-24T19:13:51.707Z"
   },
   {
    "duration": 20,
    "start_time": "2022-04-24T19:13:51.951Z"
   },
   {
    "duration": 7,
    "start_time": "2022-04-24T19:13:51.972Z"
   },
   {
    "duration": 9,
    "start_time": "2022-04-24T19:13:51.981Z"
   },
   {
    "duration": 247,
    "start_time": "2022-04-24T19:13:51.992Z"
   },
   {
    "duration": 4,
    "start_time": "2022-04-24T19:13:52.241Z"
   },
   {
    "duration": 34,
    "start_time": "2022-04-24T19:13:52.247Z"
   },
   {
    "duration": 99,
    "start_time": "2022-04-24T19:13:52.283Z"
   },
   {
    "duration": 106,
    "start_time": "2022-04-24T19:13:52.383Z"
   },
   {
    "duration": 120,
    "start_time": "2022-04-24T19:13:52.490Z"
   },
   {
    "duration": 99,
    "start_time": "2022-04-24T19:13:52.612Z"
   },
   {
    "duration": 258,
    "start_time": "2022-04-24T19:13:52.713Z"
   },
   {
    "duration": 39,
    "start_time": "2022-04-24T19:13:52.973Z"
   },
   {
    "duration": 23,
    "start_time": "2022-04-24T19:13:53.014Z"
   },
   {
    "duration": 35,
    "start_time": "2022-04-24T19:13:53.039Z"
   },
   {
    "duration": 5,
    "start_time": "2022-04-24T19:13:53.076Z"
   },
   {
    "duration": 5,
    "start_time": "2022-04-24T19:13:53.083Z"
   },
   {
    "duration": 71,
    "start_time": "2022-04-24T19:13:53.090Z"
   },
   {
    "duration": 5,
    "start_time": "2022-04-24T19:13:53.163Z"
   },
   {
    "duration": 13,
    "start_time": "2022-04-24T19:13:53.169Z"
   },
   {
    "duration": 9,
    "start_time": "2022-04-24T19:13:53.183Z"
   },
   {
    "duration": 10,
    "start_time": "2022-04-24T19:13:53.194Z"
   },
   {
    "duration": 5,
    "start_time": "2022-04-24T19:13:53.206Z"
   },
   {
    "duration": 24,
    "start_time": "2022-04-24T19:13:53.213Z"
   },
   {
    "duration": 40,
    "start_time": "2022-04-24T19:13:53.239Z"
   },
   {
    "duration": 26,
    "start_time": "2022-04-24T19:13:53.281Z"
   },
   {
    "duration": 88,
    "start_time": "2022-04-24T19:13:53.308Z"
   },
   {
    "duration": 5,
    "start_time": "2022-04-24T19:13:53.397Z"
   },
   {
    "duration": 75,
    "start_time": "2022-04-24T19:13:53.403Z"
   },
   {
    "duration": 4,
    "start_time": "2022-04-24T19:13:53.480Z"
   },
   {
    "duration": 15,
    "start_time": "2022-04-24T19:13:53.486Z"
   },
   {
    "duration": 54,
    "start_time": "2022-04-24T19:13:53.503Z"
   },
   {
    "duration": 7,
    "start_time": "2022-04-24T19:13:53.559Z"
   },
   {
    "duration": 53,
    "start_time": "2022-04-24T19:13:53.568Z"
   },
   {
    "duration": 23,
    "start_time": "2022-04-24T19:13:53.623Z"
   },
   {
    "duration": 242,
    "start_time": "2022-04-24T19:13:53.649Z"
   },
   {
    "duration": 46,
    "start_time": "2022-04-24T19:13:53.892Z"
   },
   {
    "duration": 23,
    "start_time": "2022-04-24T19:13:53.939Z"
   },
   {
    "duration": 13,
    "start_time": "2022-04-24T19:13:53.965Z"
   },
   {
    "duration": 6,
    "start_time": "2022-04-24T19:13:53.980Z"
   },
   {
    "duration": 110,
    "start_time": "2022-04-24T19:13:53.988Z"
   },
   {
    "duration": 160,
    "start_time": "2022-04-24T19:13:54.099Z"
   },
   {
    "duration": 12,
    "start_time": "2022-04-24T19:13:54.261Z"
   },
   {
    "duration": 8,
    "start_time": "2022-04-24T19:13:54.275Z"
   },
   {
    "duration": 7,
    "start_time": "2022-04-24T19:13:54.284Z"
   },
   {
    "duration": 146,
    "start_time": "2022-04-24T19:13:54.293Z"
   },
   {
    "duration": 152,
    "start_time": "2022-04-24T19:13:54.441Z"
   },
   {
    "duration": 8,
    "start_time": "2022-04-24T19:13:54.595Z"
   },
   {
    "duration": 7,
    "start_time": "2022-04-24T19:13:54.605Z"
   },
   {
    "duration": 8,
    "start_time": "2022-04-24T19:13:54.624Z"
   },
   {
    "duration": 159,
    "start_time": "2022-04-24T19:13:54.635Z"
   },
   {
    "duration": 160,
    "start_time": "2022-04-24T19:13:54.796Z"
   },
   {
    "duration": 14,
    "start_time": "2022-04-24T19:13:54.957Z"
   },
   {
    "duration": 10,
    "start_time": "2022-04-24T19:13:54.973Z"
   },
   {
    "duration": 6,
    "start_time": "2022-04-24T19:13:54.985Z"
   },
   {
    "duration": 127,
    "start_time": "2022-04-24T19:13:54.992Z"
   },
   {
    "duration": 154,
    "start_time": "2022-04-24T19:13:55.121Z"
   },
   {
    "duration": 555,
    "start_time": "2022-04-24T19:15:00.048Z"
   },
   {
    "duration": 1288,
    "start_time": "2022-04-24T19:15:12.564Z"
   },
   {
    "duration": 832,
    "start_time": "2022-04-24T19:16:39.300Z"
   },
   {
    "duration": 90,
    "start_time": "2022-04-24T19:17:38.359Z"
   },
   {
    "duration": 9,
    "start_time": "2022-04-24T19:17:52.876Z"
   },
   {
    "duration": 8,
    "start_time": "2022-04-24T19:18:15.474Z"
   },
   {
    "duration": 3,
    "start_time": "2022-04-24T19:18:19.810Z"
   },
   {
    "duration": 122,
    "start_time": "2022-04-24T19:18:19.817Z"
   },
   {
    "duration": 41,
    "start_time": "2022-04-24T19:18:19.942Z"
   },
   {
    "duration": 13,
    "start_time": "2022-04-24T19:18:19.985Z"
   },
   {
    "duration": 11,
    "start_time": "2022-04-24T19:18:20.000Z"
   },
   {
    "duration": 40,
    "start_time": "2022-04-24T19:18:20.024Z"
   },
   {
    "duration": 23,
    "start_time": "2022-04-24T19:18:20.066Z"
   },
   {
    "duration": 21,
    "start_time": "2022-04-24T19:18:20.091Z"
   },
   {
    "duration": 8,
    "start_time": "2022-04-24T19:18:20.114Z"
   },
   {
    "duration": 48,
    "start_time": "2022-04-24T19:18:20.125Z"
   },
   {
    "duration": 9,
    "start_time": "2022-04-24T19:18:20.176Z"
   },
   {
    "duration": 11,
    "start_time": "2022-04-24T19:18:20.186Z"
   },
   {
    "duration": 13,
    "start_time": "2022-04-24T19:18:20.199Z"
   },
   {
    "duration": 52,
    "start_time": "2022-04-24T19:18:20.213Z"
   },
   {
    "duration": 21,
    "start_time": "2022-04-24T19:18:20.267Z"
   },
   {
    "duration": 12,
    "start_time": "2022-04-24T19:18:20.290Z"
   },
   {
    "duration": 10,
    "start_time": "2022-04-24T19:18:20.303Z"
   },
   {
    "duration": 63,
    "start_time": "2022-04-24T19:18:20.315Z"
   },
   {
    "duration": 11,
    "start_time": "2022-04-24T19:18:20.380Z"
   },
   {
    "duration": 7,
    "start_time": "2022-04-24T19:18:20.393Z"
   },
   {
    "duration": 43,
    "start_time": "2022-04-24T19:18:20.402Z"
   },
   {
    "duration": 34,
    "start_time": "2022-04-24T19:18:20.447Z"
   },
   {
    "duration": 22,
    "start_time": "2022-04-24T19:18:20.483Z"
   },
   {
    "duration": 48,
    "start_time": "2022-04-24T19:18:20.506Z"
   },
   {
    "duration": 21,
    "start_time": "2022-04-24T19:18:20.555Z"
   },
   {
    "duration": 9,
    "start_time": "2022-04-24T19:18:20.578Z"
   },
   {
    "duration": 14,
    "start_time": "2022-04-24T19:18:20.588Z"
   },
   {
    "duration": 35,
    "start_time": "2022-04-24T19:18:20.603Z"
   },
   {
    "duration": 54,
    "start_time": "2022-04-24T19:18:20.642Z"
   },
   {
    "duration": 90,
    "start_time": "2022-04-24T19:18:20.698Z"
   },
   {
    "duration": 45,
    "start_time": "2022-04-24T19:18:20.790Z"
   },
   {
    "duration": 13,
    "start_time": "2022-04-24T19:18:20.839Z"
   },
   {
    "duration": 26,
    "start_time": "2022-04-24T19:18:20.854Z"
   },
   {
    "duration": 5,
    "start_time": "2022-04-24T19:18:20.882Z"
   },
   {
    "duration": 1102,
    "start_time": "2022-04-24T19:18:20.889Z"
   },
   {
    "duration": 10,
    "start_time": "2022-04-24T19:18:21.994Z"
   },
   {
    "duration": 24,
    "start_time": "2022-04-24T19:18:22.007Z"
   },
   {
    "duration": 10,
    "start_time": "2022-04-24T19:18:22.033Z"
   },
   {
    "duration": 1219,
    "start_time": "2022-04-24T19:18:22.044Z"
   },
   {
    "duration": 15,
    "start_time": "2022-04-24T19:18:23.265Z"
   },
   {
    "duration": 26,
    "start_time": "2022-04-24T19:18:23.282Z"
   },
   {
    "duration": 23,
    "start_time": "2022-04-24T19:18:23.310Z"
   },
   {
    "duration": 244,
    "start_time": "2022-04-24T19:18:23.338Z"
   },
   {
    "duration": 9,
    "start_time": "2022-04-24T19:18:23.584Z"
   },
   {
    "duration": 8,
    "start_time": "2022-04-24T19:18:23.595Z"
   },
   {
    "duration": 32,
    "start_time": "2022-04-24T19:18:23.605Z"
   },
   {
    "duration": 267,
    "start_time": "2022-04-24T19:18:23.639Z"
   },
   {
    "duration": 247,
    "start_time": "2022-04-24T19:18:23.908Z"
   },
   {
    "duration": 15,
    "start_time": "2022-04-24T19:18:24.158Z"
   },
   {
    "duration": 8,
    "start_time": "2022-04-24T19:18:24.175Z"
   },
   {
    "duration": 18,
    "start_time": "2022-04-24T19:18:24.185Z"
   },
   {
    "duration": 346,
    "start_time": "2022-04-24T19:18:24.205Z"
   },
   {
    "duration": 10,
    "start_time": "2022-04-24T19:18:24.554Z"
   },
   {
    "duration": 15,
    "start_time": "2022-04-24T19:18:24.567Z"
   },
   {
    "duration": 102,
    "start_time": "2022-04-24T19:18:24.583Z"
   },
   {
    "duration": 304,
    "start_time": "2022-04-24T19:18:24.687Z"
   },
   {
    "duration": 121,
    "start_time": "2022-04-24T19:18:24.993Z"
   },
   {
    "duration": 110,
    "start_time": "2022-04-24T19:18:25.116Z"
   },
   {
    "duration": 107,
    "start_time": "2022-04-24T19:18:25.230Z"
   },
   {
    "duration": 53,
    "start_time": "2022-04-24T19:18:25.338Z"
   },
   {
    "duration": 12,
    "start_time": "2022-04-24T19:18:25.393Z"
   },
   {
    "duration": 5,
    "start_time": "2022-04-24T19:18:25.407Z"
   },
   {
    "duration": 5,
    "start_time": "2022-04-24T19:18:25.425Z"
   },
   {
    "duration": 43,
    "start_time": "2022-04-24T19:18:25.432Z"
   },
   {
    "duration": 61,
    "start_time": "2022-04-24T19:18:25.476Z"
   },
   {
    "duration": 5,
    "start_time": "2022-04-24T19:18:25.543Z"
   },
   {
    "duration": 31,
    "start_time": "2022-04-24T19:18:25.549Z"
   },
   {
    "duration": 6,
    "start_time": "2022-04-24T19:18:25.582Z"
   },
   {
    "duration": 5,
    "start_time": "2022-04-24T19:18:25.589Z"
   },
   {
    "duration": 12,
    "start_time": "2022-04-24T19:18:25.595Z"
   },
   {
    "duration": 29,
    "start_time": "2022-04-24T19:18:25.608Z"
   },
   {
    "duration": 38,
    "start_time": "2022-04-24T19:18:25.638Z"
   },
   {
    "duration": 25,
    "start_time": "2022-04-24T19:18:25.678Z"
   },
   {
    "duration": 88,
    "start_time": "2022-04-24T19:18:25.705Z"
   },
   {
    "duration": 5,
    "start_time": "2022-04-24T19:18:25.795Z"
   },
   {
    "duration": 35,
    "start_time": "2022-04-24T19:18:25.802Z"
   },
   {
    "duration": 36,
    "start_time": "2022-04-24T19:18:25.841Z"
   },
   {
    "duration": 9,
    "start_time": "2022-04-24T19:18:25.880Z"
   },
   {
    "duration": 56,
    "start_time": "2022-04-24T19:18:25.891Z"
   },
   {
    "duration": 6,
    "start_time": "2022-04-24T19:18:25.949Z"
   },
   {
    "duration": 43,
    "start_time": "2022-04-24T19:18:25.958Z"
   },
   {
    "duration": 19,
    "start_time": "2022-04-24T19:18:26.003Z"
   },
   {
    "duration": 362,
    "start_time": "2022-04-24T19:18:26.044Z"
   },
   {
    "duration": 47,
    "start_time": "2022-04-24T19:18:26.409Z"
   },
   {
    "duration": 15,
    "start_time": "2022-04-24T19:18:26.458Z"
   },
   {
    "duration": 8,
    "start_time": "2022-04-24T19:18:26.475Z"
   },
   {
    "duration": 11,
    "start_time": "2022-04-24T19:18:26.485Z"
   },
   {
    "duration": 138,
    "start_time": "2022-04-24T19:18:26.498Z"
   },
   {
    "duration": 158,
    "start_time": "2022-04-24T19:18:26.638Z"
   },
   {
    "duration": 8,
    "start_time": "2022-04-24T19:18:26.798Z"
   },
   {
    "duration": 20,
    "start_time": "2022-04-24T19:18:26.808Z"
   },
   {
    "duration": 8,
    "start_time": "2022-04-24T19:18:26.829Z"
   },
   {
    "duration": 173,
    "start_time": "2022-04-24T19:18:26.838Z"
   },
   {
    "duration": 163,
    "start_time": "2022-04-24T19:18:27.013Z"
   },
   {
    "duration": 7,
    "start_time": "2022-04-24T19:18:27.178Z"
   },
   {
    "duration": 9,
    "start_time": "2022-04-24T19:18:27.186Z"
   },
   {
    "duration": 6,
    "start_time": "2022-04-24T19:18:27.197Z"
   },
   {
    "duration": 219,
    "start_time": "2022-04-24T19:18:27.204Z"
   },
   {
    "duration": 221,
    "start_time": "2022-04-24T19:18:27.428Z"
   },
   {
    "duration": 13,
    "start_time": "2022-04-24T19:18:27.652Z"
   },
   {
    "duration": 17,
    "start_time": "2022-04-24T19:18:27.667Z"
   },
   {
    "duration": 6,
    "start_time": "2022-04-24T19:18:27.686Z"
   },
   {
    "duration": 127,
    "start_time": "2022-04-24T19:18:27.693Z"
   },
   {
    "duration": 162,
    "start_time": "2022-04-24T19:18:27.821Z"
   },
   {
    "duration": 232,
    "start_time": "2022-04-24T19:19:52.566Z"
   },
   {
    "duration": 382,
    "start_time": "2022-04-24T19:21:36.556Z"
   },
   {
    "duration": 168,
    "start_time": "2022-04-24T19:21:45.052Z"
   },
   {
    "duration": 152,
    "start_time": "2022-04-24T19:21:57.503Z"
   },
   {
    "duration": 181,
    "start_time": "2022-04-24T19:22:14.301Z"
   },
   {
    "duration": 563,
    "start_time": "2022-04-24T19:24:46.069Z"
   },
   {
    "duration": 812,
    "start_time": "2022-04-24T19:25:07.830Z"
   },
   {
    "duration": 72,
    "start_time": "2022-04-24T19:50:10.906Z"
   },
   {
    "duration": 8,
    "start_time": "2022-04-24T20:07:14.111Z"
   },
   {
    "duration": 15,
    "start_time": "2022-04-24T20:08:15.223Z"
   },
   {
    "duration": 158,
    "start_time": "2022-04-24T20:10:00.273Z"
   },
   {
    "duration": 226,
    "start_time": "2022-04-24T20:10:26.002Z"
   },
   {
    "duration": 159,
    "start_time": "2022-04-24T20:13:27.593Z"
   },
   {
    "duration": 234,
    "start_time": "2022-04-24T20:16:03.472Z"
   },
   {
    "duration": 3342,
    "start_time": "2022-04-24T20:18:39.110Z"
   },
   {
    "duration": 115,
    "start_time": "2022-04-24T20:20:45.361Z"
   },
   {
    "duration": 10,
    "start_time": "2022-04-24T20:20:53.070Z"
   },
   {
    "duration": 125,
    "start_time": "2022-04-24T20:20:53.084Z"
   },
   {
    "duration": 50,
    "start_time": "2022-04-24T20:20:53.214Z"
   },
   {
    "duration": 68,
    "start_time": "2022-04-24T20:20:53.266Z"
   },
   {
    "duration": 49,
    "start_time": "2022-04-24T20:20:53.337Z"
   },
   {
    "duration": 40,
    "start_time": "2022-04-24T20:20:53.388Z"
   },
   {
    "duration": 30,
    "start_time": "2022-04-24T20:20:53.430Z"
   },
   {
    "duration": 55,
    "start_time": "2022-04-24T20:20:53.462Z"
   },
   {
    "duration": 14,
    "start_time": "2022-04-24T20:20:53.519Z"
   },
   {
    "duration": 78,
    "start_time": "2022-04-24T20:20:53.535Z"
   },
   {
    "duration": 11,
    "start_time": "2022-04-24T20:20:53.617Z"
   },
   {
    "duration": 75,
    "start_time": "2022-04-24T20:20:53.632Z"
   },
   {
    "duration": 8,
    "start_time": "2022-04-24T20:20:53.710Z"
   },
   {
    "duration": 12,
    "start_time": "2022-04-24T20:20:53.720Z"
   },
   {
    "duration": 79,
    "start_time": "2022-04-24T20:20:53.735Z"
   },
   {
    "duration": 8,
    "start_time": "2022-04-24T20:20:53.816Z"
   },
   {
    "duration": 87,
    "start_time": "2022-04-24T20:20:53.826Z"
   },
   {
    "duration": 33,
    "start_time": "2022-04-24T20:20:53.915Z"
   },
   {
    "duration": 47,
    "start_time": "2022-04-24T20:20:53.950Z"
   },
   {
    "duration": 23,
    "start_time": "2022-04-24T20:20:53.999Z"
   },
   {
    "duration": 61,
    "start_time": "2022-04-24T20:20:54.029Z"
   },
   {
    "duration": 25,
    "start_time": "2022-04-24T20:20:54.091Z"
   },
   {
    "duration": 20,
    "start_time": "2022-04-24T20:20:54.118Z"
   },
   {
    "duration": 70,
    "start_time": "2022-04-24T20:20:54.140Z"
   },
   {
    "duration": 9,
    "start_time": "2022-04-24T20:20:54.213Z"
   },
   {
    "duration": 86,
    "start_time": "2022-04-24T20:20:54.224Z"
   },
   {
    "duration": 24,
    "start_time": "2022-04-24T20:20:54.312Z"
   },
   {
    "duration": 69,
    "start_time": "2022-04-24T20:20:54.338Z"
   },
   {
    "duration": 42,
    "start_time": "2022-04-24T20:20:54.413Z"
   },
   {
    "duration": 184,
    "start_time": "2022-04-24T20:20:54.457Z"
   },
   {
    "duration": 41,
    "start_time": "2022-04-24T20:20:54.644Z"
   },
   {
    "duration": 42,
    "start_time": "2022-04-24T20:20:54.686Z"
   },
   {
    "duration": 82,
    "start_time": "2022-04-24T20:20:54.731Z"
   },
   {
    "duration": 1240,
    "start_time": "2022-04-24T20:20:54.815Z"
   },
   {
    "duration": 13,
    "start_time": "2022-04-24T20:20:56.058Z"
   },
   {
    "duration": 49,
    "start_time": "2022-04-24T20:20:56.073Z"
   },
   {
    "duration": 563,
    "start_time": "2022-04-24T20:20:56.127Z"
   },
   {
    "duration": 11,
    "start_time": "2022-04-24T20:20:56.696Z"
   },
   {
    "duration": 45,
    "start_time": "2022-04-24T20:20:56.711Z"
   },
   {
    "duration": 285,
    "start_time": "2022-04-24T20:20:56.761Z"
   },
   {
    "duration": 16,
    "start_time": "2022-04-24T20:20:57.049Z"
   },
   {
    "duration": 51,
    "start_time": "2022-04-24T20:20:57.067Z"
   },
   {
    "duration": 518,
    "start_time": "2022-04-24T20:20:57.120Z"
   },
   {
    "duration": 9,
    "start_time": "2022-04-24T20:20:57.640Z"
   },
   {
    "duration": 32,
    "start_time": "2022-04-24T20:20:57.651Z"
   },
   {
    "duration": 344,
    "start_time": "2022-04-24T20:20:57.685Z"
   },
   {
    "duration": 4,
    "start_time": "2022-04-24T20:20:58.030Z"
   },
   {
    "duration": 70,
    "start_time": "2022-04-24T20:20:58.036Z"
   },
   {
    "duration": 127,
    "start_time": "2022-04-24T20:20:58.111Z"
   },
   {
    "duration": 120,
    "start_time": "2022-04-24T20:20:58.243Z"
   },
   {
    "duration": 124,
    "start_time": "2022-04-24T20:20:58.368Z"
   },
   {
    "duration": 120,
    "start_time": "2022-04-24T20:20:58.497Z"
   },
   {
    "duration": 315,
    "start_time": "2022-04-24T20:20:58.621Z"
   },
   {
    "duration": 59,
    "start_time": "2022-04-24T20:20:58.938Z"
   },
   {
    "duration": 185,
    "start_time": "2022-04-24T20:20:58.999Z"
   },
   {
    "duration": 6,
    "start_time": "2022-04-24T20:20:59.186Z"
   },
   {
    "duration": 221,
    "start_time": "2022-04-24T20:20:59.194Z"
   },
   {
    "duration": 17,
    "start_time": "2022-04-24T20:20:59.422Z"
   },
   {
    "duration": 241,
    "start_time": "2022-04-24T20:20:59.441Z"
   },
   {
    "duration": 8,
    "start_time": "2022-04-24T20:20:59.688Z"
   },
   {
    "duration": 123,
    "start_time": "2022-04-24T20:20:59.699Z"
   },
   {
    "duration": 236,
    "start_time": "2022-04-24T20:20:59.823Z"
   },
   {
    "duration": 8,
    "start_time": "2022-04-24T20:21:00.062Z"
   },
   {
    "duration": 68,
    "start_time": "2022-04-24T20:21:00.075Z"
   },
   {
    "duration": 67,
    "start_time": "2022-04-24T20:21:00.145Z"
   },
   {
    "duration": 7,
    "start_time": "2022-04-24T20:21:00.214Z"
   },
   {
    "duration": 51,
    "start_time": "2022-04-24T20:21:00.227Z"
   },
   {
    "duration": 58,
    "start_time": "2022-04-24T20:21:00.280Z"
   },
   {
    "duration": 67,
    "start_time": "2022-04-24T20:21:00.340Z"
   },
   {
    "duration": 38,
    "start_time": "2022-04-24T20:21:00.409Z"
   },
   {
    "duration": 211,
    "start_time": "2022-04-24T20:21:00.453Z"
   },
   {
    "duration": 11,
    "start_time": "2022-04-24T20:21:00.676Z"
   },
   {
    "duration": 47,
    "start_time": "2022-04-24T20:21:00.693Z"
   },
   {
    "duration": 72,
    "start_time": "2022-04-24T20:21:00.747Z"
   },
   {
    "duration": 67,
    "start_time": "2022-04-24T20:21:00.820Z"
   },
   {
    "duration": 108,
    "start_time": "2022-04-24T20:21:00.889Z"
   },
   {
    "duration": 53,
    "start_time": "2022-04-24T20:21:01.001Z"
   },
   {
    "duration": 122,
    "start_time": "2022-04-24T20:21:01.055Z"
   },
   {
    "duration": 66,
    "start_time": "2022-04-24T20:21:01.185Z"
   },
   {
    "duration": 427,
    "start_time": "2022-04-24T20:21:01.253Z"
   },
   {
    "duration": 38,
    "start_time": "2022-04-24T20:21:01.684Z"
   },
   {
    "duration": 23,
    "start_time": "2022-04-24T20:21:01.732Z"
   },
   {
    "duration": 79,
    "start_time": "2022-04-24T20:21:01.757Z"
   },
   {
    "duration": 70,
    "start_time": "2022-04-24T20:21:01.847Z"
   },
   {
    "duration": 242,
    "start_time": "2022-04-24T20:21:01.919Z"
   },
   {
    "duration": 193,
    "start_time": "2022-04-24T20:21:02.164Z"
   },
   {
    "duration": 11,
    "start_time": "2022-04-24T20:21:02.362Z"
   },
   {
    "duration": 18,
    "start_time": "2022-04-24T20:21:02.378Z"
   },
   {
    "duration": 72,
    "start_time": "2022-04-24T20:21:02.400Z"
   },
   {
    "duration": 265,
    "start_time": "2022-04-24T20:21:02.475Z"
   },
   {
    "duration": 273,
    "start_time": "2022-04-24T20:21:02.746Z"
   },
   {
    "duration": 24,
    "start_time": "2022-04-24T20:21:03.023Z"
   },
   {
    "duration": 70,
    "start_time": "2022-04-24T20:21:03.049Z"
   },
   {
    "duration": 62,
    "start_time": "2022-04-24T20:21:03.121Z"
   },
   {
    "duration": 229,
    "start_time": "2022-04-24T20:21:03.185Z"
   },
   {
    "duration": 242,
    "start_time": "2022-04-24T20:21:03.419Z"
   },
   {
    "duration": 17,
    "start_time": "2022-04-24T20:21:03.672Z"
   },
   {
    "duration": 38,
    "start_time": "2022-04-24T20:21:03.695Z"
   },
   {
    "duration": 76,
    "start_time": "2022-04-24T20:21:03.750Z"
   },
   {
    "duration": 319,
    "start_time": "2022-04-24T20:21:03.831Z"
   },
   {
    "duration": 199,
    "start_time": "2022-04-24T20:21:04.156Z"
   },
   {
    "duration": 286,
    "start_time": "2022-04-24T20:23:53.526Z"
   },
   {
    "duration": 306,
    "start_time": "2022-04-24T20:26:25.139Z"
   },
   {
    "duration": 142,
    "start_time": "2022-04-24T20:28:44.480Z"
   },
   {
    "duration": 32,
    "start_time": "2022-04-24T20:54:47.408Z"
   },
   {
    "duration": 20,
    "start_time": "2022-04-24T20:59:19.520Z"
   },
   {
    "duration": 7,
    "start_time": "2022-04-24T20:59:23.984Z"
   },
   {
    "duration": 115,
    "start_time": "2022-04-24T20:59:24.003Z"
   },
   {
    "duration": 31,
    "start_time": "2022-04-24T20:59:24.120Z"
   },
   {
    "duration": 70,
    "start_time": "2022-04-24T20:59:24.155Z"
   },
   {
    "duration": 13,
    "start_time": "2022-04-24T20:59:24.227Z"
   },
   {
    "duration": 46,
    "start_time": "2022-04-24T20:59:24.244Z"
   },
   {
    "duration": 28,
    "start_time": "2022-04-24T20:59:24.294Z"
   },
   {
    "duration": 85,
    "start_time": "2022-04-24T20:59:24.327Z"
   },
   {
    "duration": 23,
    "start_time": "2022-04-24T20:59:24.413Z"
   },
   {
    "duration": 64,
    "start_time": "2022-04-24T20:59:24.443Z"
   },
   {
    "duration": 11,
    "start_time": "2022-04-24T20:59:24.510Z"
   },
   {
    "duration": 50,
    "start_time": "2022-04-24T20:59:24.523Z"
   },
   {
    "duration": 34,
    "start_time": "2022-04-24T20:59:24.575Z"
   },
   {
    "duration": 7,
    "start_time": "2022-04-24T20:59:24.612Z"
   },
   {
    "duration": 9,
    "start_time": "2022-04-24T20:59:24.623Z"
   },
   {
    "duration": 63,
    "start_time": "2022-04-24T20:59:24.634Z"
   },
   {
    "duration": 7,
    "start_time": "2022-04-24T20:59:24.699Z"
   },
   {
    "duration": 64,
    "start_time": "2022-04-24T20:59:24.708Z"
   },
   {
    "duration": 20,
    "start_time": "2022-04-24T20:59:24.774Z"
   },
   {
    "duration": 23,
    "start_time": "2022-04-24T20:59:24.796Z"
   },
   {
    "duration": 37,
    "start_time": "2022-04-24T20:59:24.821Z"
   },
   {
    "duration": 58,
    "start_time": "2022-04-24T20:59:24.860Z"
   },
   {
    "duration": 49,
    "start_time": "2022-04-24T20:59:24.921Z"
   },
   {
    "duration": 39,
    "start_time": "2022-04-24T20:59:24.976Z"
   },
   {
    "duration": 10,
    "start_time": "2022-04-24T20:59:25.016Z"
   },
   {
    "duration": 60,
    "start_time": "2022-04-24T20:59:25.028Z"
   },
   {
    "duration": 31,
    "start_time": "2022-04-24T20:59:25.090Z"
   },
   {
    "duration": 87,
    "start_time": "2022-04-24T20:59:25.123Z"
   },
   {
    "duration": 37,
    "start_time": "2022-04-24T20:59:25.213Z"
   },
   {
    "duration": 155,
    "start_time": "2022-04-24T20:59:25.253Z"
   },
   {
    "duration": 43,
    "start_time": "2022-04-24T20:59:25.415Z"
   },
   {
    "duration": 51,
    "start_time": "2022-04-24T20:59:25.460Z"
   },
   {
    "duration": 13,
    "start_time": "2022-04-24T20:59:25.514Z"
   },
   {
    "duration": 1037,
    "start_time": "2022-04-24T20:59:25.533Z"
   },
   {
    "duration": 11,
    "start_time": "2022-04-24T20:59:26.576Z"
   },
   {
    "duration": 22,
    "start_time": "2022-04-24T20:59:26.592Z"
   },
   {
    "duration": 298,
    "start_time": "2022-04-24T20:59:26.619Z"
   },
   {
    "duration": 11,
    "start_time": "2022-04-24T20:59:26.920Z"
   },
   {
    "duration": 16,
    "start_time": "2022-04-24T20:59:26.933Z"
   },
   {
    "duration": 355,
    "start_time": "2022-04-24T20:59:26.951Z"
   },
   {
    "duration": 17,
    "start_time": "2022-04-24T20:59:27.314Z"
   },
   {
    "duration": 86,
    "start_time": "2022-04-24T20:59:27.348Z"
   },
   {
    "duration": 742,
    "start_time": "2022-04-24T20:59:27.442Z"
   },
   {
    "duration": 17,
    "start_time": "2022-04-24T20:59:28.194Z"
   },
   {
    "duration": 80,
    "start_time": "2022-04-24T20:59:28.216Z"
   },
   {
    "duration": 492,
    "start_time": "2022-04-24T20:59:28.298Z"
   },
   {
    "duration": 13,
    "start_time": "2022-04-24T20:59:28.792Z"
   },
   {
    "duration": 95,
    "start_time": "2022-04-24T20:59:28.807Z"
   },
   {
    "duration": 124,
    "start_time": "2022-04-24T20:59:28.904Z"
   },
   {
    "duration": 128,
    "start_time": "2022-04-24T20:59:29.033Z"
   },
   {
    "duration": 130,
    "start_time": "2022-04-24T20:59:29.166Z"
   },
   {
    "duration": 129,
    "start_time": "2022-04-24T20:59:29.301Z"
   },
   {
    "duration": 129,
    "start_time": "2022-04-24T20:59:29.435Z"
   },
   {
    "duration": 65,
    "start_time": "2022-04-24T20:59:29.566Z"
   },
   {
    "duration": 242,
    "start_time": "2022-04-24T20:59:29.633Z"
   },
   {
    "duration": 11,
    "start_time": "2022-04-24T20:59:29.877Z"
   },
   {
    "duration": 164,
    "start_time": "2022-04-24T20:59:29.890Z"
   },
   {
    "duration": 10,
    "start_time": "2022-04-24T20:59:30.056Z"
   },
   {
    "duration": 227,
    "start_time": "2022-04-24T20:59:30.070Z"
   },
   {
    "duration": 13,
    "start_time": "2022-04-24T20:59:30.302Z"
   },
   {
    "duration": 123,
    "start_time": "2022-04-24T20:59:30.317Z"
   },
   {
    "duration": 193,
    "start_time": "2022-04-24T20:59:30.442Z"
   },
   {
    "duration": 9,
    "start_time": "2022-04-24T20:59:30.643Z"
   },
   {
    "duration": 235,
    "start_time": "2022-04-24T20:59:30.654Z"
   },
   {
    "duration": 7,
    "start_time": "2022-04-24T20:59:30.895Z"
   },
   {
    "duration": 263,
    "start_time": "2022-04-24T20:59:30.907Z"
   },
   {
    "duration": 9,
    "start_time": "2022-04-24T20:59:31.176Z"
   },
   {
    "duration": 248,
    "start_time": "2022-04-24T20:59:31.190Z"
   },
   {
    "duration": 13,
    "start_time": "2022-04-24T20:59:31.443Z"
   },
   {
    "duration": 238,
    "start_time": "2022-04-24T20:59:31.461Z"
   },
   {
    "duration": 0,
    "start_time": "2022-04-24T20:59:31.701Z"
   },
   {
    "duration": 0,
    "start_time": "2022-04-24T20:59:31.702Z"
   },
   {
    "duration": 0,
    "start_time": "2022-04-24T20:59:31.703Z"
   },
   {
    "duration": 0,
    "start_time": "2022-04-24T20:59:31.704Z"
   },
   {
    "duration": 0,
    "start_time": "2022-04-24T20:59:31.706Z"
   },
   {
    "duration": 0,
    "start_time": "2022-04-24T20:59:31.707Z"
   },
   {
    "duration": 0,
    "start_time": "2022-04-24T20:59:31.708Z"
   },
   {
    "duration": 0,
    "start_time": "2022-04-24T20:59:31.710Z"
   },
   {
    "duration": 0,
    "start_time": "2022-04-24T20:59:31.711Z"
   },
   {
    "duration": 0,
    "start_time": "2022-04-24T20:59:31.712Z"
   },
   {
    "duration": 0,
    "start_time": "2022-04-24T20:59:31.713Z"
   },
   {
    "duration": 0,
    "start_time": "2022-04-24T20:59:31.714Z"
   },
   {
    "duration": 0,
    "start_time": "2022-04-24T20:59:31.715Z"
   },
   {
    "duration": 0,
    "start_time": "2022-04-24T20:59:31.716Z"
   },
   {
    "duration": 0,
    "start_time": "2022-04-24T20:59:31.717Z"
   },
   {
    "duration": 0,
    "start_time": "2022-04-24T20:59:31.718Z"
   },
   {
    "duration": 0,
    "start_time": "2022-04-24T20:59:31.719Z"
   },
   {
    "duration": 0,
    "start_time": "2022-04-24T20:59:31.720Z"
   },
   {
    "duration": 0,
    "start_time": "2022-04-24T20:59:31.722Z"
   },
   {
    "duration": 0,
    "start_time": "2022-04-24T20:59:31.723Z"
   },
   {
    "duration": 0,
    "start_time": "2022-04-24T20:59:31.742Z"
   },
   {
    "duration": 0,
    "start_time": "2022-04-24T20:59:31.743Z"
   },
   {
    "duration": 0,
    "start_time": "2022-04-24T20:59:31.744Z"
   },
   {
    "duration": 0,
    "start_time": "2022-04-24T20:59:31.745Z"
   },
   {
    "duration": 0,
    "start_time": "2022-04-24T20:59:31.757Z"
   },
   {
    "duration": 0,
    "start_time": "2022-04-24T20:59:31.758Z"
   },
   {
    "duration": 0,
    "start_time": "2022-04-24T20:59:31.759Z"
   },
   {
    "duration": 0,
    "start_time": "2022-04-24T20:59:31.762Z"
   },
   {
    "duration": 0,
    "start_time": "2022-04-24T20:59:31.763Z"
   },
   {
    "duration": 0,
    "start_time": "2022-04-24T20:59:31.763Z"
   },
   {
    "duration": 0,
    "start_time": "2022-04-24T20:59:31.764Z"
   },
   {
    "duration": 0,
    "start_time": "2022-04-24T20:59:31.765Z"
   },
   {
    "duration": 0,
    "start_time": "2022-04-24T20:59:31.766Z"
   },
   {
    "duration": 0,
    "start_time": "2022-04-24T20:59:31.767Z"
   },
   {
    "duration": 3,
    "start_time": "2022-04-24T21:00:06.878Z"
   },
   {
    "duration": 86,
    "start_time": "2022-04-24T21:00:06.885Z"
   },
   {
    "duration": 22,
    "start_time": "2022-04-24T21:00:06.973Z"
   },
   {
    "duration": 35,
    "start_time": "2022-04-24T21:00:06.997Z"
   },
   {
    "duration": 18,
    "start_time": "2022-04-24T21:00:07.042Z"
   },
   {
    "duration": 20,
    "start_time": "2022-04-24T21:00:07.063Z"
   },
   {
    "duration": 8,
    "start_time": "2022-04-24T21:00:07.085Z"
   },
   {
    "duration": 11,
    "start_time": "2022-04-24T21:00:07.096Z"
   },
   {
    "duration": 56,
    "start_time": "2022-04-24T21:00:07.125Z"
   },
   {
    "duration": 6,
    "start_time": "2022-04-24T21:00:07.183Z"
   },
   {
    "duration": 11,
    "start_time": "2022-04-24T21:00:07.194Z"
   },
   {
    "duration": 10,
    "start_time": "2022-04-24T21:00:07.207Z"
   },
   {
    "duration": 12,
    "start_time": "2022-04-24T21:00:07.220Z"
   },
   {
    "duration": 39,
    "start_time": "2022-04-24T21:00:07.234Z"
   },
   {
    "duration": 6,
    "start_time": "2022-04-24T21:00:07.275Z"
   },
   {
    "duration": 9,
    "start_time": "2022-04-24T21:00:07.283Z"
   },
   {
    "duration": 6,
    "start_time": "2022-04-24T21:00:07.294Z"
   },
   {
    "duration": 20,
    "start_time": "2022-04-24T21:00:07.302Z"
   },
   {
    "duration": 18,
    "start_time": "2022-04-24T21:00:07.330Z"
   },
   {
    "duration": 29,
    "start_time": "2022-04-24T21:00:07.353Z"
   },
   {
    "duration": 17,
    "start_time": "2022-04-24T21:00:07.383Z"
   },
   {
    "duration": 6,
    "start_time": "2022-04-24T21:00:07.401Z"
   },
   {
    "duration": 10,
    "start_time": "2022-04-24T21:00:07.408Z"
   },
   {
    "duration": 53,
    "start_time": "2022-04-24T21:00:07.420Z"
   },
   {
    "duration": 9,
    "start_time": "2022-04-24T21:00:07.475Z"
   },
   {
    "duration": 9,
    "start_time": "2022-04-24T21:00:07.485Z"
   },
   {
    "duration": 17,
    "start_time": "2022-04-24T21:00:07.496Z"
   },
   {
    "duration": 33,
    "start_time": "2022-04-24T21:00:07.516Z"
   },
   {
    "duration": 61,
    "start_time": "2022-04-24T21:00:07.553Z"
   },
   {
    "duration": 170,
    "start_time": "2022-04-24T21:00:07.617Z"
   },
   {
    "duration": 66,
    "start_time": "2022-04-24T21:00:07.790Z"
   },
   {
    "duration": 8,
    "start_time": "2022-04-24T21:00:07.868Z"
   },
   {
    "duration": 11,
    "start_time": "2022-04-24T21:00:07.878Z"
   },
   {
    "duration": 906,
    "start_time": "2022-04-24T21:00:07.891Z"
   },
   {
    "duration": 34,
    "start_time": "2022-04-24T21:00:08.799Z"
   },
   {
    "duration": 35,
    "start_time": "2022-04-24T21:00:08.837Z"
   },
   {
    "duration": 253,
    "start_time": "2022-04-24T21:00:08.874Z"
   },
   {
    "duration": 14,
    "start_time": "2022-04-24T21:00:09.129Z"
   },
   {
    "duration": 42,
    "start_time": "2022-04-24T21:00:09.145Z"
   },
   {
    "duration": 184,
    "start_time": "2022-04-24T21:00:09.188Z"
   },
   {
    "duration": 10,
    "start_time": "2022-04-24T21:00:09.374Z"
   },
   {
    "duration": 12,
    "start_time": "2022-04-24T21:00:09.385Z"
   },
   {
    "duration": 378,
    "start_time": "2022-04-24T21:00:09.399Z"
   },
   {
    "duration": 12,
    "start_time": "2022-04-24T21:00:09.780Z"
   },
   {
    "duration": 8,
    "start_time": "2022-04-24T21:00:09.794Z"
   },
   {
    "duration": 263,
    "start_time": "2022-04-24T21:00:09.803Z"
   },
   {
    "duration": 7,
    "start_time": "2022-04-24T21:00:10.067Z"
   },
   {
    "duration": 14,
    "start_time": "2022-04-24T21:00:10.076Z"
   },
   {
    "duration": 328,
    "start_time": "2022-04-24T21:00:10.092Z"
   },
   {
    "duration": 116,
    "start_time": "2022-04-24T21:00:10.423Z"
   },
   {
    "duration": 127,
    "start_time": "2022-04-24T21:00:10.541Z"
   },
   {
    "duration": 116,
    "start_time": "2022-04-24T21:00:10.670Z"
   },
   {
    "duration": 102,
    "start_time": "2022-04-24T21:00:10.788Z"
   },
   {
    "duration": 66,
    "start_time": "2022-04-24T21:00:10.892Z"
   },
   {
    "duration": 154,
    "start_time": "2022-04-24T21:00:10.960Z"
   },
   {
    "duration": 12,
    "start_time": "2022-04-24T21:00:11.124Z"
   },
   {
    "duration": 162,
    "start_time": "2022-04-24T21:00:11.141Z"
   },
   {
    "duration": 6,
    "start_time": "2022-04-24T21:00:11.305Z"
   },
   {
    "duration": 262,
    "start_time": "2022-04-24T21:00:11.313Z"
   },
   {
    "duration": 5,
    "start_time": "2022-04-24T21:00:11.577Z"
   },
   {
    "duration": 88,
    "start_time": "2022-04-24T21:00:11.584Z"
   },
   {
    "duration": 157,
    "start_time": "2022-04-24T21:00:11.674Z"
   },
   {
    "duration": 5,
    "start_time": "2022-04-24T21:00:11.833Z"
   },
   {
    "duration": 179,
    "start_time": "2022-04-24T21:00:11.840Z"
   },
   {
    "duration": 8,
    "start_time": "2022-04-24T21:00:12.021Z"
   },
   {
    "duration": 252,
    "start_time": "2022-04-24T21:00:12.032Z"
   },
   {
    "duration": 8,
    "start_time": "2022-04-24T21:00:12.286Z"
   },
   {
    "duration": 215,
    "start_time": "2022-04-24T21:00:12.295Z"
   },
   {
    "duration": 14,
    "start_time": "2022-04-24T21:00:12.513Z"
   },
   {
    "duration": 15,
    "start_time": "2022-04-24T21:00:12.535Z"
   },
   {
    "duration": 0,
    "start_time": "2022-04-24T21:00:12.552Z"
   },
   {
    "duration": 0,
    "start_time": "2022-04-24T21:00:12.554Z"
   },
   {
    "duration": 0,
    "start_time": "2022-04-24T21:00:12.555Z"
   },
   {
    "duration": 0,
    "start_time": "2022-04-24T21:00:12.556Z"
   },
   {
    "duration": 0,
    "start_time": "2022-04-24T21:00:12.558Z"
   },
   {
    "duration": 0,
    "start_time": "2022-04-24T21:00:12.559Z"
   },
   {
    "duration": 0,
    "start_time": "2022-04-24T21:00:12.560Z"
   },
   {
    "duration": 0,
    "start_time": "2022-04-24T21:00:12.561Z"
   },
   {
    "duration": 0,
    "start_time": "2022-04-24T21:00:12.562Z"
   },
   {
    "duration": 0,
    "start_time": "2022-04-24T21:00:12.563Z"
   },
   {
    "duration": 0,
    "start_time": "2022-04-24T21:00:12.564Z"
   },
   {
    "duration": 0,
    "start_time": "2022-04-24T21:00:12.566Z"
   },
   {
    "duration": 0,
    "start_time": "2022-04-24T21:00:12.568Z"
   },
   {
    "duration": 0,
    "start_time": "2022-04-24T21:00:12.569Z"
   },
   {
    "duration": 0,
    "start_time": "2022-04-24T21:00:12.571Z"
   },
   {
    "duration": 0,
    "start_time": "2022-04-24T21:00:12.572Z"
   },
   {
    "duration": 0,
    "start_time": "2022-04-24T21:00:12.574Z"
   },
   {
    "duration": 0,
    "start_time": "2022-04-24T21:00:12.575Z"
   },
   {
    "duration": 1,
    "start_time": "2022-04-24T21:00:12.576Z"
   },
   {
    "duration": 0,
    "start_time": "2022-04-24T21:00:12.578Z"
   },
   {
    "duration": 0,
    "start_time": "2022-04-24T21:00:12.579Z"
   },
   {
    "duration": 0,
    "start_time": "2022-04-24T21:00:12.580Z"
   },
   {
    "duration": 0,
    "start_time": "2022-04-24T21:00:12.582Z"
   },
   {
    "duration": 0,
    "start_time": "2022-04-24T21:00:12.583Z"
   },
   {
    "duration": 0,
    "start_time": "2022-04-24T21:00:12.584Z"
   },
   {
    "duration": 0,
    "start_time": "2022-04-24T21:00:12.585Z"
   },
   {
    "duration": 0,
    "start_time": "2022-04-24T21:00:12.624Z"
   },
   {
    "duration": 0,
    "start_time": "2022-04-24T21:00:12.627Z"
   },
   {
    "duration": 0,
    "start_time": "2022-04-24T21:00:12.628Z"
   },
   {
    "duration": 0,
    "start_time": "2022-04-24T21:00:12.628Z"
   },
   {
    "duration": 0,
    "start_time": "2022-04-24T21:00:12.630Z"
   },
   {
    "duration": 0,
    "start_time": "2022-04-24T21:00:12.631Z"
   },
   {
    "duration": 0,
    "start_time": "2022-04-24T21:00:12.632Z"
   },
   {
    "duration": 26,
    "start_time": "2022-04-24T21:01:07.706Z"
   }
  ],
  "kernelspec": {
   "display_name": "Python 3 (ipykernel)",
   "language": "python",
   "name": "python3"
  },
  "language_info": {
   "codemirror_mode": {
    "name": "ipython",
    "version": 3
   },
   "file_extension": ".py",
   "mimetype": "text/x-python",
   "name": "python",
   "nbconvert_exporter": "python",
   "pygments_lexer": "ipython3",
   "version": "3.9.7"
  },
  "toc": {
   "base_numbering": 1,
   "nav_menu": {},
   "number_sections": true,
   "sideBar": true,
   "skip_h1_title": true,
   "title_cell": "Содержание",
   "title_sidebar": "Contents",
   "toc_cell": true,
   "toc_position": {},
   "toc_section_display": true,
   "toc_window_display": true
  }
 },
 "nbformat": 4,
 "nbformat_minor": 4
}
